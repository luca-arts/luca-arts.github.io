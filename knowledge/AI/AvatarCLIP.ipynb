{
  "nbformat": 4,
  "nbformat_minor": 0,
  "metadata": {
    "colab": {
      "name": "AvatarCLIP.ipynb",
      "provenance": [],
      "collapsed_sections": [],
      "include_colab_link": true
    },
    "kernelspec": {
      "name": "python3",
      "display_name": "Python 3"
    },
    "language_info": {
      "name": "python"
    },
    "accelerator": "GPU"
  },
  "cells": [
    {
      "cell_type": "markdown",
      "metadata": {
        "id": "view-in-github",
        "colab_type": "text"
      },
      "source": [
        "<a href=\"https://colab.research.google.com/github/luca-arts/luca-arts.github.io/blob/main/knowledge/AI/AvatarCLIP.ipynb\" target=\"_parent\"><img src=\"https://colab.research.google.com/assets/colab-badge.svg\" alt=\"Open In Colab\"/></a>"
      ]
    },
    {
      "cell_type": "markdown",
      "source": [
        "# AvatarCLIP: Zero-Shot Text-Driven Generation and Animation of 3D Avatars\n",
        "\n",
        "Authored by Fangzhou Hong, Mingyuan Zhang, Liang Pan, Zhongang Cai, Lei Yang, Ziwei Liu\n",
        "\n",
        "This colab notebook provides a quick example of avatar shape sculpting and texture generation part described in our paper.\n",
        "\n",
        "For the coarse shape generation and motion generation, please refer to our official Github repo (https://github.com/hongfz16/AvatarCLIP).\n",
        "\n",
        "Please note that due to the GPU memory limitation, this demo cannot fully achieve the quality shown in the paper. To fit in the smaller GPU memory, we scale down the model, which harms its capacity. We also tune down the rendering resolution to reduce memory usage which will hurt the supervision from CLIP.\n",
        "\n",
        "For more information, feel free to visit our project page (https://hongfz16.github.io/projects/AvatarCLIP.html).\n",
        "\n",
        "The whole optimization process might take 4-10 hours depending on the machine you get allocated. Empirically, you can check the results after 10,000 iterations."
      ],
      "metadata": {
        "id": "WpMyzgQXY5kO"
      }
    },
    {
      "cell_type": "code",
      "execution_count": 1,
      "metadata": {
        "cellView": "form",
        "id": "PUkowKUqYy3s"
      },
      "outputs": [],
      "source": [
        "# @title Licensed under the MIT License\n",
        "\n",
        "# Copyright (c) 2021 Katherine Crowson\n",
        "\n",
        "# Permission is hereby granted, free of charge, to any person obtaining a copy\n",
        "# of this software and associated documentation files (the \"Software\"), to deal\n",
        "# in the Software without restriction, including without limitation the rights\n",
        "# to use, copy, modify, merge, publish, distribute, sublicense, and/or sell\n",
        "# copies of the Software, and to permit persons to whom the Software is\n",
        "# furnished to do so, subject to the following conditions:\n",
        "\n",
        "# The above copyright notice and this permission notice shall be included in\n",
        "# all copies or substantial portions of the Software.\n",
        "\n",
        "# THE SOFTWARE IS PROVIDED \"AS IS\", WITHOUT WARRANTY OF ANY KIND, EXPRESS OR\n",
        "# IMPLIED, INCLUDING BUT NOT LIMITED TO THE WARRANTIES OF MERCHANTABILITY,\n",
        "# FITNESS FOR A PARTICULAR PURPOSE AND NONINFRINGEMENT. IN NO EVENT SHALL THE\n",
        "# AUTHORS OR COPYRIGHT HOLDERS BE LIABLE FOR ANY CLAIM, DAMAGES OR OTHER\n",
        "# LIABILITY, WHETHER IN AN ACTION OF CONTRACT, TORT OR OTHERWISE, ARISING FROM,\n",
        "# OUT OF OR IN CONNECTION WITH THE SOFTWARE OR THE USE OR OTHER DEALINGS IN\n",
        "# THE SOFTWARE."
      ]
    },
    {
      "cell_type": "markdown",
      "source": [
        "## Setup SMPL Models\n",
        "\n",
        "Please register and download SMPL models here(https://smpl.is.tue.mpg.de/). Create folders under AvatarCLIP and put SMPL_NEUTRAL.pkl under the folder as follows.\n",
        "\n",
        "```\n",
        "./AvatarCLIP/\n",
        "├── ...\n",
        "└── smpl_models/\n",
        "    └── smpl/\n",
        "        └── SMPL_NEUTRAL.pkl\n",
        "```"
      ],
      "metadata": {
        "id": "gnP7fh6B_bd_"
      }
    },
    {
      "cell_type": "code",
      "source": [
        "# @title Setup the Environment: 1. Common Dependencies\n",
        "!nvidia-smi\n",
        "!git clone https://github.com/hongfz16/AvatarCLIP.git\n",
        "!pip install torch==1.7.1+cu101 torchvision==0.8.2+cu101 torchaudio==0.7.2 -f https://download.pytorch.org/whl/torch_stable.html\n",
        "!pip install -r AvatarCLIP/requirements.txt\n",
        "!git clone https://github.com/hongfz16/neural_renderer.git"
      ],
      "metadata": {
        "cellView": "form",
        "id": "dMsnmf-ObQPV",
        "colab": {
          "base_uri": "https://localhost:8080/"
        },
        "outputId": "ccd120d7-8ff4-4148-ae44-a8823a7cc99d"
      },
      "execution_count": 1,
      "outputs": [
        {
          "output_type": "stream",
          "name": "stdout",
          "text": [
            "Tue Jun 28 14:29:43 2022       \n",
            "+-----------------------------------------------------------------------------+\n",
            "| NVIDIA-SMI 460.32.03    Driver Version: 460.32.03    CUDA Version: 11.2     |\n",
            "|-------------------------------+----------------------+----------------------+\n",
            "| GPU  Name        Persistence-M| Bus-Id        Disp.A | Volatile Uncorr. ECC |\n",
            "| Fan  Temp  Perf  Pwr:Usage/Cap|         Memory-Usage | GPU-Util  Compute M. |\n",
            "|                               |                      |               MIG M. |\n",
            "|===============================+======================+======================|\n",
            "|   0  Tesla P100-PCIE...  Off  | 00000000:00:04.0 Off |                    0 |\n",
            "| N/A   35C    P0    27W / 250W |      0MiB / 16280MiB |      0%      Default |\n",
            "|                               |                      |                  N/A |\n",
            "+-------------------------------+----------------------+----------------------+\n",
            "                                                                               \n",
            "+-----------------------------------------------------------------------------+\n",
            "| Processes:                                                                  |\n",
            "|  GPU   GI   CI        PID   Type   Process name                  GPU Memory |\n",
            "|        ID   ID                                                   Usage      |\n",
            "|=============================================================================|\n",
            "|  No running processes found                                                 |\n",
            "+-----------------------------------------------------------------------------+\n",
            "fatal: destination path 'AvatarCLIP' already exists and is not an empty directory.\n",
            "Looking in indexes: https://pypi.org/simple, https://us-python.pkg.dev/colab-wheels/public/simple/\n",
            "Looking in links: https://download.pytorch.org/whl/torch_stable.html\n",
            "Requirement already satisfied: torch==1.7.1+cu101 in /usr/local/lib/python3.7/dist-packages (1.7.1+cu101)\n",
            "Requirement already satisfied: torchvision==0.8.2+cu101 in /usr/local/lib/python3.7/dist-packages (0.8.2+cu101)\n",
            "Requirement already satisfied: torchaudio==0.7.2 in /usr/local/lib/python3.7/dist-packages (0.7.2)\n",
            "Requirement already satisfied: numpy in /usr/local/lib/python3.7/dist-packages (from torch==1.7.1+cu101) (1.21.0)\n",
            "Requirement already satisfied: typing-extensions in /usr/local/lib/python3.7/dist-packages (from torch==1.7.1+cu101) (4.1.1)\n",
            "Requirement already satisfied: pillow>=4.1.1 in /usr/local/lib/python3.7/dist-packages (from torchvision==0.8.2+cu101) (7.1.2)\n",
            "Looking in indexes: https://pypi.org/simple, https://us-python.pkg.dev/colab-wheels/public/simple/\n",
            "Collecting git+https://github.com/openai/CLIP.git (from -r AvatarCLIP/requirements.txt (line 12))\n",
            "  Cloning https://github.com/openai/CLIP.git to /tmp/pip-req-build-shj4yh2f\n",
            "  Running command git clone -q https://github.com/openai/CLIP.git /tmp/pip-req-build-shj4yh2f\n",
            "Requirement already satisfied: trimesh==3.9.8 in /usr/local/lib/python3.7/dist-packages (from -r AvatarCLIP/requirements.txt (line 1)) (3.9.8)\n",
            "Requirement already satisfied: numpy==1.21.0 in /usr/local/lib/python3.7/dist-packages (from -r AvatarCLIP/requirements.txt (line 2)) (1.21.0)\n",
            "Requirement already satisfied: pyhocon==0.3.57 in /usr/local/lib/python3.7/dist-packages (from -r AvatarCLIP/requirements.txt (line 3)) (0.3.57)\n",
            "Requirement already satisfied: icecream==2.1.0 in /usr/local/lib/python3.7/dist-packages (from -r AvatarCLIP/requirements.txt (line 4)) (2.1.0)\n",
            "Requirement already satisfied: opencv_python==4.5.2.52 in /usr/local/lib/python3.7/dist-packages (from -r AvatarCLIP/requirements.txt (line 5)) (4.5.2.52)\n",
            "Requirement already satisfied: tqdm==4.50.2 in /usr/local/lib/python3.7/dist-packages (from -r AvatarCLIP/requirements.txt (line 6)) (4.50.2)\n",
            "Requirement already satisfied: scipy==1.7.0 in /usr/local/lib/python3.7/dist-packages (from -r AvatarCLIP/requirements.txt (line 7)) (1.7.0)\n",
            "Requirement already satisfied: PyMCubes==0.1.2 in /usr/local/lib/python3.7/dist-packages (from -r AvatarCLIP/requirements.txt (line 8)) (0.1.2)\n",
            "Requirement already satisfied: ftfy in /usr/local/lib/python3.7/dist-packages (from -r AvatarCLIP/requirements.txt (line 9)) (6.1.1)\n",
            "Requirement already satisfied: regex in /usr/local/lib/python3.7/dist-packages (from -r AvatarCLIP/requirements.txt (line 10)) (2022.6.2)\n",
            "Requirement already satisfied: smplx[all] in /usr/local/lib/python3.7/dist-packages (from -r AvatarCLIP/requirements.txt (line 13)) (0.1.28)\n",
            "Requirement already satisfied: chumpy in /usr/local/lib/python3.7/dist-packages (from -r AvatarCLIP/requirements.txt (line 14)) (0.70)\n",
            "Requirement already satisfied: torch in /usr/local/lib/python3.7/dist-packages (from clip==1.0->-r AvatarCLIP/requirements.txt (line 12)) (1.7.1+cu101)\n",
            "Requirement already satisfied: torchvision in /usr/local/lib/python3.7/dist-packages (from clip==1.0->-r AvatarCLIP/requirements.txt (line 12)) (0.8.2+cu101)\n",
            "Requirement already satisfied: setuptools in /usr/local/lib/python3.7/dist-packages (from trimesh==3.9.8->-r AvatarCLIP/requirements.txt (line 1)) (57.4.0)\n",
            "Requirement already satisfied: pyparsing>=2.0.3 in /usr/local/lib/python3.7/dist-packages (from pyhocon==0.3.57->-r AvatarCLIP/requirements.txt (line 3)) (3.0.9)\n",
            "Requirement already satisfied: pygments>=2.2.0 in /usr/local/lib/python3.7/dist-packages (from icecream==2.1.0->-r AvatarCLIP/requirements.txt (line 4)) (2.6.1)\n",
            "Requirement already satisfied: asttokens>=2.0.1 in /usr/local/lib/python3.7/dist-packages (from icecream==2.1.0->-r AvatarCLIP/requirements.txt (line 4)) (2.0.5)\n",
            "Requirement already satisfied: executing>=0.3.1 in /usr/local/lib/python3.7/dist-packages (from icecream==2.1.0->-r AvatarCLIP/requirements.txt (line 4)) (0.8.3)\n",
            "Requirement already satisfied: colorama>=0.3.9 in /usr/local/lib/python3.7/dist-packages (from icecream==2.1.0->-r AvatarCLIP/requirements.txt (line 4)) (0.4.5)\n",
            "Requirement already satisfied: six in /usr/local/lib/python3.7/dist-packages (from asttokens>=2.0.1->icecream==2.1.0->-r AvatarCLIP/requirements.txt (line 4)) (1.15.0)\n",
            "Requirement already satisfied: wcwidth>=0.2.5 in /usr/local/lib/python3.7/dist-packages (from ftfy->-r AvatarCLIP/requirements.txt (line 9)) (0.2.5)\n",
            "Requirement already satisfied: shapely in /usr/local/lib/python3.7/dist-packages (from smplx[all]->-r AvatarCLIP/requirements.txt (line 13)) (1.8.2)\n",
            "Requirement already satisfied: pyrender>=0.1.23 in /usr/local/lib/python3.7/dist-packages (from smplx[all]->-r AvatarCLIP/requirements.txt (line 13)) (0.1.45)\n",
            "Requirement already satisfied: matplotlib in /usr/local/lib/python3.7/dist-packages (from smplx[all]->-r AvatarCLIP/requirements.txt (line 13)) (3.2.2)\n",
            "Requirement already satisfied: open3d-python in /usr/local/lib/python3.7/dist-packages (from smplx[all]->-r AvatarCLIP/requirements.txt (line 13)) (0.7.0.0)\n",
            "Requirement already satisfied: Pillow in /usr/local/lib/python3.7/dist-packages (from pyrender>=0.1.23->smplx[all]->-r AvatarCLIP/requirements.txt (line 13)) (7.1.2)\n",
            "Requirement already satisfied: networkx in /usr/local/lib/python3.7/dist-packages (from pyrender>=0.1.23->smplx[all]->-r AvatarCLIP/requirements.txt (line 13)) (2.6.3)\n",
            "Requirement already satisfied: pyglet>=1.4.10 in /usr/local/lib/python3.7/dist-packages (from pyrender>=0.1.23->smplx[all]->-r AvatarCLIP/requirements.txt (line 13)) (1.5.0)\n",
            "Requirement already satisfied: imageio in /usr/local/lib/python3.7/dist-packages (from pyrender>=0.1.23->smplx[all]->-r AvatarCLIP/requirements.txt (line 13)) (2.4.1)\n",
            "Requirement already satisfied: PyOpenGL==3.1.0 in /usr/local/lib/python3.7/dist-packages (from pyrender>=0.1.23->smplx[all]->-r AvatarCLIP/requirements.txt (line 13)) (3.1.0)\n",
            "Requirement already satisfied: freetype-py in /usr/local/lib/python3.7/dist-packages (from pyrender>=0.1.23->smplx[all]->-r AvatarCLIP/requirements.txt (line 13)) (2.3.0)\n",
            "Requirement already satisfied: future in /usr/local/lib/python3.7/dist-packages (from pyglet>=1.4.10->pyrender>=0.1.23->smplx[all]->-r AvatarCLIP/requirements.txt (line 13)) (0.16.0)\n",
            "Requirement already satisfied: typing-extensions in /usr/local/lib/python3.7/dist-packages (from torch->clip==1.0->-r AvatarCLIP/requirements.txt (line 12)) (4.1.1)\n",
            "Requirement already satisfied: kiwisolver>=1.0.1 in /usr/local/lib/python3.7/dist-packages (from matplotlib->smplx[all]->-r AvatarCLIP/requirements.txt (line 13)) (1.4.3)\n",
            "Requirement already satisfied: python-dateutil>=2.1 in /usr/local/lib/python3.7/dist-packages (from matplotlib->smplx[all]->-r AvatarCLIP/requirements.txt (line 13)) (2.8.2)\n",
            "Requirement already satisfied: cycler>=0.10 in /usr/local/lib/python3.7/dist-packages (from matplotlib->smplx[all]->-r AvatarCLIP/requirements.txt (line 13)) (0.11.0)\n",
            "Requirement already satisfied: ipywidgets in /usr/local/lib/python3.7/dist-packages (from open3d-python->smplx[all]->-r AvatarCLIP/requirements.txt (line 13)) (7.7.0)\n",
            "Requirement already satisfied: notebook in /usr/local/lib/python3.7/dist-packages (from open3d-python->smplx[all]->-r AvatarCLIP/requirements.txt (line 13)) (5.3.1)\n",
            "Requirement already satisfied: widgetsnbextension in /usr/local/lib/python3.7/dist-packages (from open3d-python->smplx[all]->-r AvatarCLIP/requirements.txt (line 13)) (3.6.0)\n",
            "Requirement already satisfied: nbformat>=4.2.0 in /usr/local/lib/python3.7/dist-packages (from ipywidgets->open3d-python->smplx[all]->-r AvatarCLIP/requirements.txt (line 13)) (5.4.0)\n",
            "Requirement already satisfied: ipython>=4.0.0 in /usr/local/lib/python3.7/dist-packages (from ipywidgets->open3d-python->smplx[all]->-r AvatarCLIP/requirements.txt (line 13)) (5.5.0)\n",
            "Requirement already satisfied: ipykernel>=4.5.1 in /usr/local/lib/python3.7/dist-packages (from ipywidgets->open3d-python->smplx[all]->-r AvatarCLIP/requirements.txt (line 13)) (4.10.1)\n",
            "Requirement already satisfied: traitlets>=4.3.1 in /usr/local/lib/python3.7/dist-packages (from ipywidgets->open3d-python->smplx[all]->-r AvatarCLIP/requirements.txt (line 13)) (5.1.1)\n",
            "Requirement already satisfied: ipython-genutils~=0.2.0 in /usr/local/lib/python3.7/dist-packages (from ipywidgets->open3d-python->smplx[all]->-r AvatarCLIP/requirements.txt (line 13)) (0.2.0)\n",
            "Requirement already satisfied: jupyterlab-widgets>=1.0.0 in /usr/local/lib/python3.7/dist-packages (from ipywidgets->open3d-python->smplx[all]->-r AvatarCLIP/requirements.txt (line 13)) (1.1.0)\n",
            "Requirement already satisfied: tornado>=4.0 in /usr/local/lib/python3.7/dist-packages (from ipykernel>=4.5.1->ipywidgets->open3d-python->smplx[all]->-r AvatarCLIP/requirements.txt (line 13)) (5.1.1)\n",
            "Requirement already satisfied: jupyter-client in /usr/local/lib/python3.7/dist-packages (from ipykernel>=4.5.1->ipywidgets->open3d-python->smplx[all]->-r AvatarCLIP/requirements.txt (line 13)) (5.3.5)\n",
            "Requirement already satisfied: pexpect in /usr/local/lib/python3.7/dist-packages (from ipython>=4.0.0->ipywidgets->open3d-python->smplx[all]->-r AvatarCLIP/requirements.txt (line 13)) (4.8.0)\n",
            "Requirement already satisfied: simplegeneric>0.8 in /usr/local/lib/python3.7/dist-packages (from ipython>=4.0.0->ipywidgets->open3d-python->smplx[all]->-r AvatarCLIP/requirements.txt (line 13)) (0.8.1)\n",
            "Requirement already satisfied: pickleshare in /usr/local/lib/python3.7/dist-packages (from ipython>=4.0.0->ipywidgets->open3d-python->smplx[all]->-r AvatarCLIP/requirements.txt (line 13)) (0.7.5)\n",
            "Requirement already satisfied: decorator in /usr/local/lib/python3.7/dist-packages (from ipython>=4.0.0->ipywidgets->open3d-python->smplx[all]->-r AvatarCLIP/requirements.txt (line 13)) (4.4.2)\n",
            "Requirement already satisfied: prompt-toolkit<2.0.0,>=1.0.4 in /usr/local/lib/python3.7/dist-packages (from ipython>=4.0.0->ipywidgets->open3d-python->smplx[all]->-r AvatarCLIP/requirements.txt (line 13)) (1.0.18)\n",
            "Requirement already satisfied: fastjsonschema in /usr/local/lib/python3.7/dist-packages (from nbformat>=4.2.0->ipywidgets->open3d-python->smplx[all]->-r AvatarCLIP/requirements.txt (line 13)) (2.15.3)\n",
            "Requirement already satisfied: jsonschema>=2.6 in /usr/local/lib/python3.7/dist-packages (from nbformat>=4.2.0->ipywidgets->open3d-python->smplx[all]->-r AvatarCLIP/requirements.txt (line 13)) (4.3.3)\n",
            "Requirement already satisfied: jupyter-core in /usr/local/lib/python3.7/dist-packages (from nbformat>=4.2.0->ipywidgets->open3d-python->smplx[all]->-r AvatarCLIP/requirements.txt (line 13)) (4.10.0)\n",
            "Requirement already satisfied: pyrsistent!=0.17.0,!=0.17.1,!=0.17.2,>=0.14.0 in /usr/local/lib/python3.7/dist-packages (from jsonschema>=2.6->nbformat>=4.2.0->ipywidgets->open3d-python->smplx[all]->-r AvatarCLIP/requirements.txt (line 13)) (0.18.1)\n",
            "Requirement already satisfied: importlib-metadata in /usr/local/lib/python3.7/dist-packages (from jsonschema>=2.6->nbformat>=4.2.0->ipywidgets->open3d-python->smplx[all]->-r AvatarCLIP/requirements.txt (line 13)) (4.11.4)\n",
            "Requirement already satisfied: importlib-resources>=1.4.0 in /usr/local/lib/python3.7/dist-packages (from jsonschema>=2.6->nbformat>=4.2.0->ipywidgets->open3d-python->smplx[all]->-r AvatarCLIP/requirements.txt (line 13)) (5.7.1)\n",
            "Requirement already satisfied: attrs>=17.4.0 in /usr/local/lib/python3.7/dist-packages (from jsonschema>=2.6->nbformat>=4.2.0->ipywidgets->open3d-python->smplx[all]->-r AvatarCLIP/requirements.txt (line 13)) (21.4.0)\n",
            "Requirement already satisfied: zipp>=3.1.0 in /usr/local/lib/python3.7/dist-packages (from importlib-resources>=1.4.0->jsonschema>=2.6->nbformat>=4.2.0->ipywidgets->open3d-python->smplx[all]->-r AvatarCLIP/requirements.txt (line 13)) (3.8.0)\n",
            "Requirement already satisfied: Send2Trash in /usr/local/lib/python3.7/dist-packages (from notebook->open3d-python->smplx[all]->-r AvatarCLIP/requirements.txt (line 13)) (1.8.0)\n",
            "Requirement already satisfied: nbconvert in /usr/local/lib/python3.7/dist-packages (from notebook->open3d-python->smplx[all]->-r AvatarCLIP/requirements.txt (line 13)) (5.6.1)\n",
            "Requirement already satisfied: terminado>=0.8.1 in /usr/local/lib/python3.7/dist-packages (from notebook->open3d-python->smplx[all]->-r AvatarCLIP/requirements.txt (line 13)) (0.13.3)\n",
            "Requirement already satisfied: jinja2 in /usr/local/lib/python3.7/dist-packages (from notebook->open3d-python->smplx[all]->-r AvatarCLIP/requirements.txt (line 13)) (2.11.3)\n",
            "Requirement already satisfied: pyzmq>=13 in /usr/local/lib/python3.7/dist-packages (from jupyter-client->ipykernel>=4.5.1->ipywidgets->open3d-python->smplx[all]->-r AvatarCLIP/requirements.txt (line 13)) (23.1.0)\n",
            "Requirement already satisfied: ptyprocess in /usr/local/lib/python3.7/dist-packages (from terminado>=0.8.1->notebook->open3d-python->smplx[all]->-r AvatarCLIP/requirements.txt (line 13)) (0.7.0)\n",
            "Requirement already satisfied: MarkupSafe>=0.23 in /usr/local/lib/python3.7/dist-packages (from jinja2->notebook->open3d-python->smplx[all]->-r AvatarCLIP/requirements.txt (line 13)) (2.0.1)\n",
            "Requirement already satisfied: entrypoints>=0.2.2 in /usr/local/lib/python3.7/dist-packages (from nbconvert->notebook->open3d-python->smplx[all]->-r AvatarCLIP/requirements.txt (line 13)) (0.4)\n",
            "Requirement already satisfied: defusedxml in /usr/local/lib/python3.7/dist-packages (from nbconvert->notebook->open3d-python->smplx[all]->-r AvatarCLIP/requirements.txt (line 13)) (0.7.1)\n",
            "Requirement already satisfied: mistune<2,>=0.8.1 in /usr/local/lib/python3.7/dist-packages (from nbconvert->notebook->open3d-python->smplx[all]->-r AvatarCLIP/requirements.txt (line 13)) (0.8.4)\n",
            "Requirement already satisfied: bleach in /usr/local/lib/python3.7/dist-packages (from nbconvert->notebook->open3d-python->smplx[all]->-r AvatarCLIP/requirements.txt (line 13)) (5.0.0)\n",
            "Requirement already satisfied: pandocfilters>=1.4.1 in /usr/local/lib/python3.7/dist-packages (from nbconvert->notebook->open3d-python->smplx[all]->-r AvatarCLIP/requirements.txt (line 13)) (1.5.0)\n",
            "Requirement already satisfied: testpath in /usr/local/lib/python3.7/dist-packages (from nbconvert->notebook->open3d-python->smplx[all]->-r AvatarCLIP/requirements.txt (line 13)) (0.6.0)\n",
            "Requirement already satisfied: webencodings in /usr/local/lib/python3.7/dist-packages (from bleach->nbconvert->notebook->open3d-python->smplx[all]->-r AvatarCLIP/requirements.txt (line 13)) (0.5.1)\n",
            "fatal: destination path 'neural_renderer' already exists and is not an empty directory.\n"
          ]
        }
      ]
    },
    {
      "cell_type": "code",
      "source": [
        "# @title Setup the Environment: 2. Modify neural_renderer\n",
        "with open('neural_renderer/neural_renderer/perspective.py', 'r') as f:\n",
        "  lines = f.readlines()\n",
        "lines.insert(19, '    x[z<=0] = 0\\n')\n",
        "lines.insert(20, '    y[z<=0] = 0\\n')\n",
        "lines.insert(21, '    z[z<=0] = 0\\n')\n",
        "with open('neural_renderer/neural_renderer/perspective.py', 'w') as f:\n",
        "  for l in lines:\n",
        "    f.write(l)"
      ],
      "metadata": {
        "cellView": "form",
        "id": "2lQATO--fCpY"
      },
      "execution_count": 2,
      "outputs": []
    },
    {
      "cell_type": "code",
      "source": [
        "# @title Setup the Environment: 3. Compile neural_renderer\n",
        "%cd /content\n",
        "%cd neural_renderer\n",
        "!python3 setup.py install\n",
        "%cd ../AvatarCLIP\n",
        "%cd AvatarGen/AppearanceGen"
      ],
      "metadata": {
        "cellView": "form",
        "id": "3Y49xKSfe_ya",
        "colab": {
          "base_uri": "https://localhost:8080/"
        },
        "outputId": "39da076a-c752-4723-f3c6-ccdc0171cc26"
      },
      "execution_count": 3,
      "outputs": [
        {
          "output_type": "stream",
          "name": "stdout",
          "text": [
            "/content\n",
            "/content/neural_renderer\n",
            "running install\n",
            "running bdist_egg\n",
            "running egg_info\n",
            "writing neural_renderer_pytorch.egg-info/PKG-INFO\n",
            "writing dependency_links to neural_renderer_pytorch.egg-info/dependency_links.txt\n",
            "writing top-level names to neural_renderer_pytorch.egg-info/top_level.txt\n",
            "/usr/local/lib/python3.7/dist-packages/torch/utils/cpp_extension.py:352: UserWarning: Attempted to use ninja as the BuildExtension backend but we could not find ninja.. Falling back to using the slow distutils backend.\n",
            "  warnings.warn(msg.format('we could not find ninja.'))\n",
            "adding license file 'LICENSE'\n",
            "writing manifest file 'neural_renderer_pytorch.egg-info/SOURCES.txt'\n",
            "installing library code to build/bdist.linux-x86_64/egg\n",
            "running install_lib\n",
            "running build_py\n",
            "copying neural_renderer/perspective.py -> build/lib.linux-x86_64-3.7/neural_renderer\n",
            "running build_ext\n",
            "creating build/bdist.linux-x86_64/egg\n",
            "creating build/bdist.linux-x86_64/egg/neural_renderer\n",
            "copying build/lib.linux-x86_64-3.7/neural_renderer/look_at.py -> build/bdist.linux-x86_64/egg/neural_renderer\n",
            "copying build/lib.linux-x86_64-3.7/neural_renderer/get_points_from_angles.py -> build/bdist.linux-x86_64/egg/neural_renderer\n",
            "creating build/bdist.linux-x86_64/egg/neural_renderer/cuda\n",
            "copying build/lib.linux-x86_64-3.7/neural_renderer/cuda/create_texture_image.cpython-37m-x86_64-linux-gnu.so -> build/bdist.linux-x86_64/egg/neural_renderer/cuda\n",
            "copying build/lib.linux-x86_64-3.7/neural_renderer/cuda/rasterize.cpython-37m-x86_64-linux-gnu.so -> build/bdist.linux-x86_64/egg/neural_renderer/cuda\n",
            "copying build/lib.linux-x86_64-3.7/neural_renderer/cuda/load_textures.cpython-37m-x86_64-linux-gnu.so -> build/bdist.linux-x86_64/egg/neural_renderer/cuda\n",
            "copying build/lib.linux-x86_64-3.7/neural_renderer/cuda/__init__.py -> build/bdist.linux-x86_64/egg/neural_renderer/cuda\n",
            "copying build/lib.linux-x86_64-3.7/neural_renderer/load_obj.py -> build/bdist.linux-x86_64/egg/neural_renderer\n",
            "copying build/lib.linux-x86_64-3.7/neural_renderer/look.py -> build/bdist.linux-x86_64/egg/neural_renderer\n",
            "copying build/lib.linux-x86_64-3.7/neural_renderer/vertices_to_faces.py -> build/bdist.linux-x86_64/egg/neural_renderer\n",
            "copying build/lib.linux-x86_64-3.7/neural_renderer/lighting.py -> build/bdist.linux-x86_64/egg/neural_renderer\n",
            "copying build/lib.linux-x86_64-3.7/neural_renderer/perspective.py -> build/bdist.linux-x86_64/egg/neural_renderer\n",
            "copying build/lib.linux-x86_64-3.7/neural_renderer/save_obj.py -> build/bdist.linux-x86_64/egg/neural_renderer\n",
            "copying build/lib.linux-x86_64-3.7/neural_renderer/rasterize.py -> build/bdist.linux-x86_64/egg/neural_renderer\n",
            "copying build/lib.linux-x86_64-3.7/neural_renderer/mesh.py -> build/bdist.linux-x86_64/egg/neural_renderer\n",
            "copying build/lib.linux-x86_64-3.7/neural_renderer/renderer.py -> build/bdist.linux-x86_64/egg/neural_renderer\n",
            "copying build/lib.linux-x86_64-3.7/neural_renderer/projection.py -> build/bdist.linux-x86_64/egg/neural_renderer\n",
            "copying build/lib.linux-x86_64-3.7/neural_renderer/__init__.py -> build/bdist.linux-x86_64/egg/neural_renderer\n",
            "byte-compiling build/bdist.linux-x86_64/egg/neural_renderer/look_at.py to look_at.cpython-37.pyc\n",
            "byte-compiling build/bdist.linux-x86_64/egg/neural_renderer/get_points_from_angles.py to get_points_from_angles.cpython-37.pyc\n",
            "byte-compiling build/bdist.linux-x86_64/egg/neural_renderer/cuda/__init__.py to __init__.cpython-37.pyc\n",
            "byte-compiling build/bdist.linux-x86_64/egg/neural_renderer/load_obj.py to load_obj.cpython-37.pyc\n",
            "byte-compiling build/bdist.linux-x86_64/egg/neural_renderer/look.py to look.cpython-37.pyc\n",
            "byte-compiling build/bdist.linux-x86_64/egg/neural_renderer/vertices_to_faces.py to vertices_to_faces.cpython-37.pyc\n",
            "byte-compiling build/bdist.linux-x86_64/egg/neural_renderer/lighting.py to lighting.cpython-37.pyc\n",
            "byte-compiling build/bdist.linux-x86_64/egg/neural_renderer/perspective.py to perspective.cpython-37.pyc\n",
            "byte-compiling build/bdist.linux-x86_64/egg/neural_renderer/save_obj.py to save_obj.cpython-37.pyc\n",
            "byte-compiling build/bdist.linux-x86_64/egg/neural_renderer/rasterize.py to rasterize.cpython-37.pyc\n",
            "byte-compiling build/bdist.linux-x86_64/egg/neural_renderer/mesh.py to mesh.cpython-37.pyc\n",
            "byte-compiling build/bdist.linux-x86_64/egg/neural_renderer/renderer.py to renderer.cpython-37.pyc\n",
            "byte-compiling build/bdist.linux-x86_64/egg/neural_renderer/projection.py to projection.cpython-37.pyc\n",
            "byte-compiling build/bdist.linux-x86_64/egg/neural_renderer/__init__.py to __init__.cpython-37.pyc\n",
            "creating stub loader for neural_renderer/cuda/load_textures.cpython-37m-x86_64-linux-gnu.so\n",
            "creating stub loader for neural_renderer/cuda/rasterize.cpython-37m-x86_64-linux-gnu.so\n",
            "creating stub loader for neural_renderer/cuda/create_texture_image.cpython-37m-x86_64-linux-gnu.so\n",
            "byte-compiling build/bdist.linux-x86_64/egg/neural_renderer/cuda/load_textures.py to load_textures.cpython-37.pyc\n",
            "byte-compiling build/bdist.linux-x86_64/egg/neural_renderer/cuda/rasterize.py to rasterize.cpython-37.pyc\n",
            "byte-compiling build/bdist.linux-x86_64/egg/neural_renderer/cuda/create_texture_image.py to create_texture_image.cpython-37.pyc\n",
            "creating build/bdist.linux-x86_64/egg/EGG-INFO\n",
            "copying neural_renderer_pytorch.egg-info/PKG-INFO -> build/bdist.linux-x86_64/egg/EGG-INFO\n",
            "copying neural_renderer_pytorch.egg-info/SOURCES.txt -> build/bdist.linux-x86_64/egg/EGG-INFO\n",
            "copying neural_renderer_pytorch.egg-info/dependency_links.txt -> build/bdist.linux-x86_64/egg/EGG-INFO\n",
            "copying neural_renderer_pytorch.egg-info/top_level.txt -> build/bdist.linux-x86_64/egg/EGG-INFO\n",
            "writing build/bdist.linux-x86_64/egg/EGG-INFO/native_libs.txt\n",
            "zip_safe flag not set; analyzing archive contents...\n",
            "neural_renderer.cuda.__pycache__.create_texture_image.cpython-37: module references __file__\n",
            "neural_renderer.cuda.__pycache__.load_textures.cpython-37: module references __file__\n",
            "neural_renderer.cuda.__pycache__.rasterize.cpython-37: module references __file__\n",
            "creating 'dist/neural_renderer_pytorch-1.1.3-py3.7-linux-x86_64.egg' and adding 'build/bdist.linux-x86_64/egg' to it\n",
            "removing 'build/bdist.linux-x86_64/egg' (and everything under it)\n",
            "Processing neural_renderer_pytorch-1.1.3-py3.7-linux-x86_64.egg\n",
            "removing '/usr/local/lib/python3.7/dist-packages/neural_renderer_pytorch-1.1.3-py3.7-linux-x86_64.egg' (and everything under it)\n",
            "creating /usr/local/lib/python3.7/dist-packages/neural_renderer_pytorch-1.1.3-py3.7-linux-x86_64.egg\n",
            "Extracting neural_renderer_pytorch-1.1.3-py3.7-linux-x86_64.egg to /usr/local/lib/python3.7/dist-packages\n",
            "neural-renderer-pytorch 1.1.3 is already the active version in easy-install.pth\n",
            "\n",
            "Installed /usr/local/lib/python3.7/dist-packages/neural_renderer_pytorch-1.1.3-py3.7-linux-x86_64.egg\n",
            "Processing dependencies for neural-renderer-pytorch==1.1.3\n",
            "Finished processing dependencies for neural-renderer-pytorch==1.1.3\n",
            "/content/AvatarCLIP\n",
            "/content/AvatarCLIP/AvatarGen/AppearanceGen\n"
          ]
        }
      ]
    },
    {
      "cell_type": "code",
      "source": [
        "#####################################################################\n",
        "# This code block is for myself to quickly setup SMPL models.       #\n",
        "# Due to the license restriction, I cannot provide the SMPL models. #\n",
        "# Please register and download at https://smpl.is.tue.mpg.de/       #\n",
        "#####################################################################\n",
        "\n",
        "%cd /content/AvatarCLIP/AvatarGen/AppearanceGen\n",
        "from google.colab import drive\n",
        "drive.mount('/content/gdrive')\n",
        "!mkdir -p ../../smpl_models/smpl\n",
        "!cp /content/gdrive/MyDrive/AI/AvatarCLIP/smpl_models/smpl/models/basicmodel_neutral_lbs_10_207_0_v1.1.0.pkl ../../smpl_models/smpl/SMPL_NEUTRAL.pkl"
      ],
      "metadata": {
        "id": "kVrJ8514hVKJ",
        "colab": {
          "base_uri": "https://localhost:8080/"
        },
        "outputId": "241b061e-f4fa-40ed-fcda-1eeefa3d3ea2"
      },
      "execution_count": 5,
      "outputs": [
        {
          "output_type": "stream",
          "name": "stdout",
          "text": [
            "/content/AvatarCLIP/AvatarGen/AppearanceGen\n",
            "Drive already mounted at /content/gdrive; to attempt to forcibly remount, call drive.mount(\"/content/gdrive\", force_remount=True).\n"
          ]
        }
      ]
    },
    {
      "cell_type": "markdown",
      "source": [
        "# Important: Restart Runtime Before Proceeding (Menu => Runtime => Restart and run all)\n",
        "\n",
        "This is for the self compiled module (neural_renderer) to be activated."
      ],
      "metadata": {
        "id": "v7aVCe_GYa8T"
      }
    },
    {
      "cell_type": "code",
      "source": [
        "#@title Import Necessary Modules\n",
        "%cd /content/AvatarCLIP/AvatarGen/AppearanceGen\n",
        "import os\n",
        "import time\n",
        "import logging\n",
        "import argparse\n",
        "import random\n",
        "import numpy as np\n",
        "import cv2 as cv\n",
        "import trimesh\n",
        "import torch\n",
        "import torch.nn.functional as F\n",
        "from torchvision import transforms\n",
        "from torch.utils.tensorboard import SummaryWriter\n",
        "from shutil import copyfile\n",
        "from icecream import ic\n",
        "from tqdm import tqdm\n",
        "from pyhocon import ConfigFactory\n",
        "from models.dataset import Dataset\n",
        "from models.dataset import SMPL_Dataset\n",
        "from models.fields import RenderingNetwork, SDFNetwork, SingleVarianceNetwork, NeRF\n",
        "from models.renderer import NeuSRenderer\n",
        "from models.utils import lookat, random_eye, random_at, render_one_batch, batch_rodrigues\n",
        "from models.utils import sphere_coord, random_eye_normal, rgb2hsv, differentiable_histogram\n",
        "from models.utils import my_lbs, readOBJ\n",
        "import clip\n",
        "from smplx import build_layer\n",
        "import imageio\n",
        "\n",
        "to8b = lambda x : (255*np.clip(x,0,1)).astype(np.uint8)\n",
        "from main import Runner"
      ],
      "metadata": {
        "cellView": "form",
        "id": "kby5QtDF1pK0",
        "colab": {
          "base_uri": "https://localhost:8080/"
        },
        "outputId": "091da898-26bd-4fc9-9e96-540cecfea793"
      },
      "execution_count": 4,
      "outputs": [
        {
          "output_type": "stream",
          "name": "stdout",
          "text": [
            "/content/AvatarCLIP/AvatarGen/AppearanceGen\n"
          ]
        }
      ]
    },
    {
      "cell_type": "code",
      "source": [
        "#@title Input Appearance Description (e.g. Iron Man)\n",
        "AppearanceDescription = \"Freddy Mercury who was risen from the dead in a bathrobe\" #@param {type:\"string\"}\n",
        "\n",
        "torch.set_default_tensor_type('torch.cuda.FloatTensor')\n",
        "FORMAT = \"[%(filename)s:%(lineno)s - %(funcName)20s() ] %(message)s\"\n",
        "logging.basicConfig(level=logging.INFO, format=FORMAT)\n",
        "conf_path = 'confs/examples_small/example.conf'\n",
        "f = open(conf_path)\n",
        "conf_text = f.read()\n",
        "f.close()\n",
        "conf_text = conf_text.replace('{TOREPLACE}', AppearanceDescription)\n",
        "# print(conf_text)\n",
        "conf = ConfigFactory.parse_string(conf_text)\n",
        "print(\"Prompt: {}\".format(conf.get_string('clip.prompt')))\n",
        "print(\"Face Prompt: {}\".format(conf.get_string('clip.face_prompt')))\n",
        "print(\"Back Prompt: {}\".format(conf.get_string('clip.back_prompt')))"
      ],
      "metadata": {
        "colab": {
          "base_uri": "https://localhost:8080/"
        },
        "id": "jZECRMMz65bv",
        "outputId": "1af844b7-de19-452e-dc40-fe18207a0ca2",
        "cellView": "form"
      },
      "execution_count": 5,
      "outputs": [
        {
          "output_type": "stream",
          "name": "stdout",
          "text": [
            "Prompt: a 3D rendering of a Freddy Mercury who was risen from the dead in a bathrobe in unreal engine\n",
            "Face Prompt: a 3D rendering of the face of Freddy Mercury who was risen from the dead in a bathrobe in unreal engine\n",
            "Back Prompt: a 3D rendering of the back of Freddy Mercury who was risen from the dead in a bathrobe in unreal engine\n"
          ]
        }
      ]
    },
    {
      "cell_type": "code",
      "source": [
        "#@title Start the Generation!\n",
        "runner = Runner(conf_path, 'train_clip', 'smpl', False, True, conf)\n",
        "runner.init_clip()\n",
        "runner.init_smpl()\n",
        "runner.train_clip()"
      ],
      "metadata": {
        "cellView": "form",
        "id": "n0UfhfgMAhrl",
        "colab": {
          "base_uri": "https://localhost:8080/"
        },
        "outputId": "f6aba400-8c4c-4804-fb10-edc005abee5b"
      },
      "execution_count": 8,
      "outputs": [
        {
          "output_type": "stream",
          "name": "stdout",
          "text": [
            "Load data: Begin\n"
          ]
        },
        {
          "output_type": "stream",
          "name": "stderr",
          "text": [
            "[main.py:158 -             __init__() ] Load pretrain: ./pretrained_models/zero_beta_stand_pose_small.pth\n",
            "[main.py:619 -        load_pretrain() ] End\n",
            "  0%|                                               | 0.00/338M [00:00<?, ?iB/s]"
          ]
        },
        {
          "output_type": "stream",
          "name": "stdout",
          "text": [
            "Load data: End\n",
            "Use head height: 0.7\n"
          ]
        },
        {
          "output_type": "stream",
          "name": "stderr",
          "text": [
            "100%|████████████████████████████████████████| 338M/338M [00:01<00:00, 227MiB/s]\n"
          ]
        },
        {
          "output_type": "stream",
          "name": "stdout",
          "text": [
            "Prompt: a 3D rendering of a Freddy Mercury who was risen from the dead in a bathrobe in unreal engine\n",
            "Face Prompt: a 3D rendering of the face of Freddy Mercury who was risen from the dead in a bathrobe in unreal engine\n",
            "Back Prompt: a 3D rendering of the back of Freddy Mercury who was risen from the dead in a bathrobe in unreal engine\n"
          ]
        },
        {
          "output_type": "stream",
          "name": "stderr",
          "text": [
            "[utils.py:159 -    _init_num_threads() ] NumExpr defaulting to 2 threads.\n",
            "  0%|          | 99/30000 [00:55<4:18:29,  1.93it/s]"
          ]
        },
        {
          "output_type": "stream",
          "name": "stdout",
          "text": [
            "./exp/smpl/example\n",
            "iter:100 loss = 1.5992400646209717 lr=9.900000000000001e-05\n",
            "Validate: iter: 100, camera: 58\n"
          ]
        },
        {
          "output_type": "stream",
          "name": "stderr",
          "text": [
            "  1%|          | 199/30000 [01:49<4:13:29,  1.96it/s]"
          ]
        },
        {
          "output_type": "stream",
          "name": "stdout",
          "text": [
            "./exp/smpl/example\n",
            "iter:200 loss = 1.5324392318725586 lr=0.000199\n",
            "Validate: iter: 200, camera: 58\n"
          ]
        },
        {
          "output_type": "stream",
          "name": "stderr",
          "text": [
            "  1%|          | 299/30000 [02:43<4:12:51,  1.96it/s]"
          ]
        },
        {
          "output_type": "stream",
          "name": "stdout",
          "text": [
            "./exp/smpl/example\n",
            "iter:300 loss = 1.4875389337539673 lr=0.000299\n",
            "Validate: iter: 300, camera: 58\n"
          ]
        },
        {
          "output_type": "stream",
          "name": "stderr",
          "text": [
            "  1%|▏         | 399/30000 [03:37<4:13:07,  1.95it/s]"
          ]
        },
        {
          "output_type": "stream",
          "name": "stdout",
          "text": [
            "./exp/smpl/example\n",
            "iter:400 loss = 1.4827134609222412 lr=0.00039900000000000005\n",
            "Validate: iter: 400, camera: 58\n"
          ]
        },
        {
          "output_type": "stream",
          "name": "stderr",
          "text": [
            "  2%|▏         | 499/30000 [04:31<4:13:10,  1.94it/s]"
          ]
        },
        {
          "output_type": "stream",
          "name": "stdout",
          "text": [
            "./exp/smpl/example\n",
            "iter:500 loss = 1.4746859073638916 lr=0.000499\n",
            "Validate: iter: 500, camera: 58\n",
            "threshold: 0.0\n"
          ]
        },
        {
          "output_type": "stream",
          "name": "stderr",
          "text": [
            "[main.py:919 -        validate_mesh() ] End\n",
            "  2%|▏         | 599/30000 [05:37<4:09:00,  1.97it/s]"
          ]
        },
        {
          "output_type": "stream",
          "name": "stdout",
          "text": [
            "./exp/smpl/example\n",
            "iter:600 loss = 1.599006175994873 lr=0.0004999868005541672\n",
            "Validate: iter: 600, camera: 58\n"
          ]
        },
        {
          "output_type": "stream",
          "name": "stderr",
          "text": [
            "  2%|▏         | 699/30000 [06:30<4:09:04,  1.96it/s]"
          ]
        },
        {
          "output_type": "stream",
          "name": "stdout",
          "text": [
            "./exp/smpl/example\n",
            "iter:700 loss = 1.4889194965362549 lr=0.0004999466690610096\n",
            "Validate: iter: 700, camera: 58\n"
          ]
        },
        {
          "output_type": "stream",
          "name": "stderr",
          "text": [
            "  3%|▎         | 799/30000 [07:24<4:08:10,  1.96it/s]"
          ]
        },
        {
          "output_type": "stream",
          "name": "stdout",
          "text": [
            "./exp/smpl/example\n",
            "iter:800 loss = 1.4845398664474487 lr=0.0004998796087250853\n",
            "Validate: iter: 800, camera: 58\n"
          ]
        },
        {
          "output_type": "stream",
          "name": "stderr",
          "text": [
            "  3%|▎         | 899/30000 [08:18<4:08:49,  1.95it/s]"
          ]
        },
        {
          "output_type": "stream",
          "name": "stdout",
          "text": [
            "./exp/smpl/example\n",
            "iter:900 loss = 1.509191870689392 lr=0.0004997856271517113\n",
            "Validate: iter: 900, camera: 58\n"
          ]
        },
        {
          "output_type": "stream",
          "name": "stderr",
          "text": [
            "  3%|▎         | 999/30000 [09:13<4:07:45,  1.95it/s]"
          ]
        },
        {
          "output_type": "stream",
          "name": "stdout",
          "text": [
            "./exp/smpl/example\n",
            "iter:1000 loss = 1.4589974880218506 lr=0.0004996647349993445\n",
            "Validate: iter: 1000, camera: 58\n",
            "threshold: 0.0\n"
          ]
        },
        {
          "output_type": "stream",
          "name": "stderr",
          "text": [
            "[main.py:919 -        validate_mesh() ] End\n",
            "  4%|▎         | 1099/30000 [10:18<4:08:03,  1.94it/s]"
          ]
        },
        {
          "output_type": "stream",
          "name": "stdout",
          "text": [
            "./exp/smpl/example\n",
            "iter:1100 loss = 1.3721933364868164 lr=0.0004995169459783718\n",
            "Validate: iter: 1100, camera: 58\n"
          ]
        },
        {
          "output_type": "stream",
          "name": "stderr",
          "text": [
            "  4%|▍         | 1199/30000 [11:13<4:05:58,  1.95it/s]"
          ]
        },
        {
          "output_type": "stream",
          "name": "stdout",
          "text": [
            "./exp/smpl/example\n",
            "iter:1200 loss = 1.4509563446044922 lr=0.0004993422768495561\n",
            "Validate: iter: 1200, camera: 58\n"
          ]
        },
        {
          "output_type": "stream",
          "name": "stderr",
          "text": [
            "  4%|▍         | 1299/30000 [12:07<4:04:27,  1.96it/s]"
          ]
        },
        {
          "output_type": "stream",
          "name": "stdout",
          "text": [
            "./exp/smpl/example\n",
            "iter:1300 loss = 1.4169745445251465 lr=0.0004991407474221354\n",
            "Validate: iter: 1300, camera: 58\n"
          ]
        },
        {
          "output_type": "stream",
          "name": "stderr",
          "text": [
            "  5%|▍         | 1399/30000 [13:01<4:04:33,  1.95it/s]"
          ]
        },
        {
          "output_type": "stream",
          "name": "stdout",
          "text": [
            "./exp/smpl/example\n",
            "iter:1400 loss = 1.5074882507324219 lr=0.0004989123805515751\n",
            "Validate: iter: 1400, camera: 58\n"
          ]
        },
        {
          "output_type": "stream",
          "name": "stderr",
          "text": [
            "  5%|▍         | 1499/30000 [13:55<4:02:38,  1.96it/s]"
          ]
        },
        {
          "output_type": "stream",
          "name": "stdout",
          "text": [
            "./exp/smpl/example\n",
            "iter:1500 loss = 1.5157493352890015 lr=0.0004986572021369778\n",
            "Validate: iter: 1500, camera: 58\n",
            "threshold: 0.0\n"
          ]
        },
        {
          "output_type": "stream",
          "name": "stderr",
          "text": [
            "[main.py:919 -        validate_mesh() ] End\n",
            "  5%|▌         | 1599/30000 [15:00<3:57:38,  1.99it/s]"
          ]
        },
        {
          "output_type": "stream",
          "name": "stdout",
          "text": [
            "./exp/smpl/example\n",
            "iter:1600 loss = 1.6018085479736328 lr=0.0004983752411181447\n",
            "Validate: iter: 1600, camera: 58\n"
          ]
        },
        {
          "output_type": "stream",
          "name": "stderr",
          "text": [
            "  6%|▌         | 1699/30000 [15:54<3:58:37,  1.98it/s]"
          ]
        },
        {
          "output_type": "stream",
          "name": "stdout",
          "text": [
            "./exp/smpl/example\n",
            "iter:1700 loss = 1.5465431213378906 lr=0.0004980665294722939\n",
            "Validate: iter: 1700, camera: 58\n"
          ]
        },
        {
          "output_type": "stream",
          "name": "stderr",
          "text": [
            "  6%|▌         | 1799/30000 [16:47<3:57:08,  1.98it/s]"
          ]
        },
        {
          "output_type": "stream",
          "name": "stdout",
          "text": [
            "./exp/smpl/example\n",
            "iter:1800 loss = 1.4478023052215576 lr=0.000497731102210434\n",
            "Validate: iter: 1800, camera: 58\n"
          ]
        },
        {
          "output_type": "stream",
          "name": "stderr",
          "text": [
            "  6%|▋         | 1899/30000 [17:41<3:56:38,  1.98it/s]"
          ]
        },
        {
          "output_type": "stream",
          "name": "stdout",
          "text": [
            "./exp/smpl/example\n",
            "iter:1900 loss = 1.40626859664917 lr=0.0004973689973733934\n",
            "Validate: iter: 1900, camera: 58\n"
          ]
        },
        {
          "output_type": "stream",
          "name": "stderr",
          "text": [
            "  7%|▋         | 1999/30000 [18:34<3:59:52,  1.95it/s]"
          ]
        },
        {
          "output_type": "stream",
          "name": "stdout",
          "text": [
            "./exp/smpl/example\n",
            "iter:2000 loss = 1.373040795326233 lr=0.0004969802560275062\n",
            "Validate: iter: 2000, camera: 58\n",
            "threshold: 0.0\n"
          ]
        },
        {
          "output_type": "stream",
          "name": "stderr",
          "text": [
            "[main.py:919 -        validate_mesh() ] End\n",
            "  7%|▋         | 2099/30000 [19:40<3:54:54,  1.98it/s]"
          ]
        },
        {
          "output_type": "stream",
          "name": "stdout",
          "text": [
            "./exp/smpl/example\n",
            "iter:2100 loss = 1.3574010133743286 lr=0.0004965649222599545\n",
            "Validate: iter: 2100, camera: 58\n"
          ]
        },
        {
          "output_type": "stream",
          "name": "stderr",
          "text": [
            "  7%|▋         | 2199/30000 [20:34<3:57:51,  1.95it/s]"
          ]
        },
        {
          "output_type": "stream",
          "name": "stdout",
          "text": [
            "./exp/smpl/example\n",
            "iter:2200 loss = 1.403857707977295 lr=0.0004961230431737691\n",
            "Validate: iter: 2200, camera: 58\n"
          ]
        },
        {
          "output_type": "stream",
          "name": "stderr",
          "text": [
            "  8%|▊         | 2299/30000 [21:28<3:56:19,  1.95it/s]"
          ]
        },
        {
          "output_type": "stream",
          "name": "stdout",
          "text": [
            "./exp/smpl/example\n",
            "iter:2300 loss = 1.400299310684204 lr=0.0004956546688824869\n",
            "Validate: iter: 2300, camera: 58\n"
          ]
        },
        {
          "output_type": "stream",
          "name": "stderr",
          "text": [
            "  8%|▊         | 2399/30000 [22:22<3:54:02,  1.97it/s]"
          ]
        },
        {
          "output_type": "stream",
          "name": "stdout",
          "text": [
            "./exp/smpl/example\n",
            "iter:2400 loss = 1.3216419219970703 lr=0.0004951598525044679\n",
            "Validate: iter: 2400, camera: 58\n"
          ]
        },
        {
          "output_type": "stream",
          "name": "stderr",
          "text": [
            "  8%|▊         | 2499/30000 [23:16<3:55:17,  1.95it/s]"
          ]
        },
        {
          "output_type": "stream",
          "name": "stdout",
          "text": [
            "./exp/smpl/example\n",
            "iter:2500 loss = 1.386170506477356 lr=0.000494638650156871\n",
            "Validate: iter: 2500, camera: 58\n",
            "threshold: 0.0\n"
          ]
        },
        {
          "output_type": "stream",
          "name": "stderr",
          "text": [
            "[main.py:919 -        validate_mesh() ] End\n",
            "  9%|▊         | 2599/30000 [24:21<3:48:24,  2.00it/s]"
          ]
        },
        {
          "output_type": "stream",
          "name": "stdout",
          "text": [
            "./exp/smpl/example\n",
            "iter:2600 loss = 1.4892804622650146 lr=0.0004940911209492894\n",
            "Validate: iter: 2600, camera: 58\n"
          ]
        },
        {
          "output_type": "stream",
          "name": "stderr",
          "text": [
            "  9%|▉         | 2699/30000 [25:16<3:52:13,  1.96it/s]"
          ]
        },
        {
          "output_type": "stream",
          "name": "stdout",
          "text": [
            "./exp/smpl/example\n",
            "iter:2700 loss = 1.3454902172088623 lr=0.0004935173269770478\n",
            "Validate: iter: 2700, camera: 58\n"
          ]
        },
        {
          "output_type": "stream",
          "name": "stderr",
          "text": [
            "  9%|▉         | 2799/30000 [26:10<3:51:55,  1.95it/s]"
          ]
        },
        {
          "output_type": "stream",
          "name": "stdout",
          "text": [
            "./exp/smpl/example\n",
            "iter:2800 loss = 1.5556468963623047 lr=0.0004929173333141592\n",
            "Validate: iter: 2800, camera: 58\n"
          ]
        },
        {
          "output_type": "stream",
          "name": "stderr",
          "text": [
            " 10%|▉         | 2899/30000 [27:04<3:51:41,  1.95it/s]"
          ]
        },
        {
          "output_type": "stream",
          "name": "stdout",
          "text": [
            "./exp/smpl/example\n",
            "iter:2900 loss = 1.432643175125122 lr=0.0004922912080059454\n",
            "Validate: iter: 2900, camera: 58\n"
          ]
        },
        {
          "output_type": "stream",
          "name": "stderr",
          "text": [
            " 10%|▉         | 2999/30000 [27:58<3:49:53,  1.96it/s]"
          ]
        },
        {
          "output_type": "stream",
          "name": "stdout",
          "text": [
            "./exp/smpl/example\n",
            "iter:3000 loss = 1.4330437183380127 lr=0.0004916390220613198\n",
            "Validate: iter: 3000, camera: 58\n",
            "threshold: 0.0\n"
          ]
        },
        {
          "output_type": "stream",
          "name": "stderr",
          "text": [
            "[main.py:919 -        validate_mesh() ] End\n",
            " 10%|█         | 3099/30000 [29:03<3:45:36,  1.99it/s]"
          ]
        },
        {
          "output_type": "stream",
          "name": "stdout",
          "text": [
            "./exp/smpl/example\n",
            "iter:3100 loss = 1.5008859634399414 lr=0.0004909608494447345\n",
            "Validate: iter: 3100, camera: 58\n"
          ]
        },
        {
          "output_type": "stream",
          "name": "stderr",
          "text": [
            " 11%|█         | 3199/30000 [29:57<3:49:27,  1.95it/s]"
          ]
        },
        {
          "output_type": "stream",
          "name": "stdout",
          "text": [
            "./exp/smpl/example\n",
            "iter:3200 loss = 1.344617486000061 lr=0.0004902567670677917\n",
            "Validate: iter: 3200, camera: 58\n"
          ]
        },
        {
          "output_type": "stream",
          "name": "stderr",
          "text": [
            " 11%|█         | 3299/30000 [30:51<3:52:15,  1.92it/s]"
          ]
        },
        {
          "output_type": "stream",
          "name": "stdout",
          "text": [
            "./exp/smpl/example\n",
            "iter:3300 loss = 1.3903952836990356 lr=0.0004895268547805213\n",
            "Validate: iter: 3300, camera: 58\n"
          ]
        },
        {
          "output_type": "stream",
          "name": "stderr",
          "text": [
            " 11%|█▏        | 3399/30000 [31:45<3:45:30,  1.97it/s]"
          ]
        },
        {
          "output_type": "stream",
          "name": "stdout",
          "text": [
            "./exp/smpl/example\n",
            "iter:3400 loss = 1.356805682182312 lr=0.0004887711953623251\n",
            "Validate: iter: 3400, camera: 58\n"
          ]
        },
        {
          "output_type": "stream",
          "name": "stderr",
          "text": [
            " 12%|█▏        | 3499/30000 [32:39<3:47:23,  1.94it/s]"
          ]
        },
        {
          "output_type": "stream",
          "name": "stdout",
          "text": [
            "./exp/smpl/example\n",
            "iter:3500 loss = 1.3723297119140625 lr=0.00048798987451258857\n",
            "Validate: iter: 3500, camera: 58\n",
            "threshold: 0.0\n"
          ]
        },
        {
          "output_type": "stream",
          "name": "stderr",
          "text": [
            "[main.py:919 -        validate_mesh() ] End\n",
            " 12%|█▏        | 3599/30000 [33:44<3:39:24,  2.01it/s]"
          ]
        },
        {
          "output_type": "stream",
          "name": "stdout",
          "text": [
            "./exp/smpl/example\n",
            "iter:3600 loss = 1.291833758354187 lr=0.0004871829808409622\n",
            "Validate: iter: 3600, camera: 58\n"
          ]
        },
        {
          "output_type": "stream",
          "name": "stderr",
          "text": [
            " 12%|█▏        | 3699/30000 [34:39<3:44:12,  1.96it/s]"
          ]
        },
        {
          "output_type": "stream",
          "name": "stdout",
          "text": [
            "./exp/smpl/example\n",
            "iter:3700 loss = 1.3344676494598389 lr=0.0004863506058573117\n",
            "Validate: iter: 3700, camera: 58\n"
          ]
        },
        {
          "output_type": "stream",
          "name": "stderr",
          "text": [
            " 13%|█▎        | 3799/30000 [35:33<3:43:40,  1.95it/s]"
          ]
        },
        {
          "output_type": "stream",
          "name": "stdout",
          "text": [
            "./exp/smpl/example\n",
            "iter:3800 loss = 1.3251945972442627 lr=0.0004854928439613402\n",
            "Validate: iter: 3800, camera: 58\n"
          ]
        },
        {
          "output_type": "stream",
          "name": "stderr",
          "text": [
            " 13%|█▎        | 3899/30000 [36:27<3:42:34,  1.95it/s]"
          ]
        },
        {
          "output_type": "stream",
          "name": "stdout",
          "text": [
            "./exp/smpl/example\n",
            "iter:3900 loss = 1.6001927852630615 lr=0.00048460979243188215\n",
            "Validate: iter: 3900, camera: 58\n"
          ]
        },
        {
          "output_type": "stream",
          "name": "stderr",
          "text": [
            " 13%|█▎        | 3999/30000 [37:21<3:40:18,  1.97it/s]"
          ]
        },
        {
          "output_type": "stream",
          "name": "stdout",
          "text": [
            "./exp/smpl/example\n",
            "iter:4000 loss = 1.4579055309295654 lr=0.0004837015514158711\n",
            "Validate: iter: 4000, camera: 58\n",
            "threshold: 0.0\n"
          ]
        },
        {
          "output_type": "stream",
          "name": "stderr",
          "text": [
            "[main.py:919 -        validate_mesh() ] End\n",
            " 14%|█▎        | 4099/30000 [38:26<3:36:45,  1.99it/s]"
          ]
        },
        {
          "output_type": "stream",
          "name": "stdout",
          "text": [
            "./exp/smpl/example\n",
            "iter:4100 loss = 1.3357527256011963 lr=0.00048276822391698213\n",
            "Validate: iter: 4100, camera: 58\n"
          ]
        },
        {
          "output_type": "stream",
          "name": "stderr",
          "text": [
            " 14%|█▍        | 4199/30000 [39:20<3:39:43,  1.96it/s]"
          ]
        },
        {
          "output_type": "stream",
          "name": "stdout",
          "text": [
            "./exp/smpl/example\n",
            "iter:4200 loss = 1.3559091091156006 lr=0.0004818099157839497\n",
            "Validate: iter: 4200, camera: 58\n"
          ]
        },
        {
          "output_type": "stream",
          "name": "stderr",
          "text": [
            " 14%|█▍        | 4299/30000 [40:14<3:39:14,  1.95it/s]"
          ]
        },
        {
          "output_type": "stream",
          "name": "stdout",
          "text": [
            "./exp/smpl/example\n",
            "iter:4300 loss = 1.468960165977478 lr=0.0004808267356985639\n",
            "Validate: iter: 4300, camera: 58\n"
          ]
        },
        {
          "output_type": "stream",
          "name": "stderr",
          "text": [
            " 15%|█▍        | 4399/30000 [41:09<3:39:19,  1.95it/s]"
          ]
        },
        {
          "output_type": "stream",
          "name": "stdout",
          "text": [
            "./exp/smpl/example\n",
            "iter:4400 loss = 1.4706326723098755 lr=0.00047981879516334475\n",
            "Validate: iter: 4400, camera: 58\n"
          ]
        },
        {
          "output_type": "stream",
          "name": "stderr",
          "text": [
            " 15%|█▍        | 4499/30000 [42:03<3:37:52,  1.95it/s]"
          ]
        },
        {
          "output_type": "stream",
          "name": "stdout",
          "text": [
            "./exp/smpl/example\n",
            "iter:4500 loss = 1.4794212579727173 lr=0.0004787862084888964\n",
            "Validate: iter: 4500, camera: 58\n",
            "threshold: 0.0\n"
          ]
        },
        {
          "output_type": "stream",
          "name": "stderr",
          "text": [
            "[main.py:919 -        validate_mesh() ] End\n",
            " 15%|█▌        | 4599/30000 [43:08<3:32:18,  1.99it/s]"
          ]
        },
        {
          "output_type": "stream",
          "name": "stdout",
          "text": [
            "./exp/smpl/example\n",
            "iter:4600 loss = 1.490518569946289 lr=0.00047772909278094296\n",
            "Validate: iter: 4600, camera: 58\n"
          ]
        },
        {
          "output_type": "stream",
          "name": "stderr",
          "text": [
            " 16%|█▌        | 4699/30000 [44:02<3:45:39,  1.87it/s]"
          ]
        },
        {
          "output_type": "stream",
          "name": "stdout",
          "text": [
            "./exp/smpl/example\n",
            "iter:4700 loss = 1.575035810470581 lr=0.0004766475679270485\n",
            "Validate: iter: 4700, camera: 58\n"
          ]
        },
        {
          "output_type": "stream",
          "name": "stderr",
          "text": [
            " 16%|█▌        | 4799/30000 [44:56<3:36:19,  1.94it/s]"
          ]
        },
        {
          "output_type": "stream",
          "name": "stdout",
          "text": [
            "./exp/smpl/example\n",
            "iter:4800 loss = 1.3758952617645264 lr=0.00047554175658301966\n",
            "Validate: iter: 4800, camera: 58\n"
          ]
        },
        {
          "output_type": "stream",
          "name": "stderr",
          "text": [
            " 16%|█▋        | 4899/30000 [45:50<3:34:46,  1.95it/s]"
          ]
        },
        {
          "output_type": "stream",
          "name": "stdout",
          "text": [
            "./exp/smpl/example\n",
            "iter:4900 loss = 1.4161412715911865 lr=0.0004744117841589957\n",
            "Validate: iter: 4900, camera: 58\n"
          ]
        },
        {
          "output_type": "stream",
          "name": "stderr",
          "text": [
            " 17%|█▋        | 4999/30000 [46:44<3:34:03,  1.95it/s]"
          ]
        },
        {
          "output_type": "stream",
          "name": "stdout",
          "text": [
            "./exp/smpl/example\n",
            "iter:5000 loss = 1.3339492082595825 lr=0.0004732577788052254\n",
            "Validate: iter: 5000, camera: 58\n",
            "threshold: 0.0\n"
          ]
        },
        {
          "output_type": "stream",
          "name": "stderr",
          "text": [
            "[main.py:919 -        validate_mesh() ] End\n",
            " 17%|█▋        | 5099/30000 [47:50<3:28:55,  1.99it/s]"
          ]
        },
        {
          "output_type": "stream",
          "name": "stdout",
          "text": [
            "./exp/smpl/example\n",
            "iter:5100 loss = 1.3085017204284668 lr=0.00047207987139753375\n",
            "Validate: iter: 5100, camera: 58\n"
          ]
        },
        {
          "output_type": "stream",
          "name": "stderr",
          "text": [
            " 17%|█▋        | 5199/30000 [48:44<3:31:54,  1.95it/s]"
          ]
        },
        {
          "output_type": "stream",
          "name": "stdout",
          "text": [
            "./exp/smpl/example\n",
            "iter:5200 loss = 1.508446216583252 lr=0.0004708781955224795\n",
            "Validate: iter: 5200, camera: 58\n"
          ]
        },
        {
          "output_type": "stream",
          "name": "stderr",
          "text": [
            " 18%|█▊        | 5299/30000 [49:38<3:34:09,  1.92it/s]"
          ]
        },
        {
          "output_type": "stream",
          "name": "stdout",
          "text": [
            "./exp/smpl/example\n",
            "iter:5300 loss = 1.354318380355835 lr=0.0004696528874622047\n",
            "Validate: iter: 5300, camera: 58\n"
          ]
        },
        {
          "output_type": "stream",
          "name": "stderr",
          "text": [
            " 18%|█▊        | 5399/30000 [50:32<3:28:31,  1.97it/s]"
          ]
        },
        {
          "output_type": "stream",
          "name": "stdout",
          "text": [
            "./exp/smpl/example\n",
            "iter:5400 loss = 1.3077868223190308 lr=0.00046840408617897933\n",
            "Validate: iter: 5400, camera: 58\n"
          ]
        },
        {
          "output_type": "stream",
          "name": "stderr",
          "text": [
            " 18%|█▊        | 5499/30000 [51:26<3:26:34,  1.98it/s]"
          ]
        },
        {
          "output_type": "stream",
          "name": "stdout",
          "text": [
            "./exp/smpl/example\n",
            "iter:5500 loss = 1.5384764671325684 lr=0.00046713193329944096\n",
            "Validate: iter: 5500, camera: 58\n",
            "threshold: 0.0\n"
          ]
        },
        {
          "output_type": "stream",
          "name": "stderr",
          "text": [
            "[main.py:919 -        validate_mesh() ] End\n",
            " 19%|█▊        | 5599/30000 [52:30<3:32:48,  1.91it/s]"
          ]
        },
        {
          "output_type": "stream",
          "name": "stdout",
          "text": [
            "./exp/smpl/example\n",
            "iter:5600 loss = 1.4283931255340576 lr=0.0004658365730985337\n",
            "Validate: iter: 5600, camera: 58\n"
          ]
        },
        {
          "output_type": "stream",
          "name": "stderr",
          "text": [
            " 19%|█▉        | 5699/30000 [53:24<3:25:12,  1.97it/s]"
          ]
        },
        {
          "output_type": "stream",
          "name": "stdout",
          "text": [
            "./exp/smpl/example\n",
            "iter:5700 loss = 1.3809404373168945 lr=0.00046451815248314544\n",
            "Validate: iter: 5700, camera: 58\n"
          ]
        },
        {
          "output_type": "stream",
          "name": "stderr",
          "text": [
            " 19%|█▉        | 5799/30000 [54:18<3:24:57,  1.97it/s]"
          ]
        },
        {
          "output_type": "stream",
          "name": "stdout",
          "text": [
            "./exp/smpl/example\n",
            "iter:5800 loss = 1.594529390335083 lr=0.00046317682097544695\n",
            "Validate: iter: 5800, camera: 58\n"
          ]
        },
        {
          "output_type": "stream",
          "name": "stderr",
          "text": [
            " 20%|█▉        | 5899/30000 [55:12<3:24:47,  1.96it/s]"
          ]
        },
        {
          "output_type": "stream",
          "name": "stdout",
          "text": [
            "./exp/smpl/example\n",
            "iter:5900 loss = 1.5140643119812012 lr=0.0004618127306959352\n",
            "Validate: iter: 5900, camera: 58\n"
          ]
        },
        {
          "output_type": "stream",
          "name": "stderr",
          "text": [
            " 20%|█▉        | 5999/30000 [56:05<3:23:09,  1.97it/s]"
          ]
        },
        {
          "output_type": "stream",
          "name": "stdout",
          "text": [
            "./exp/smpl/example\n",
            "iter:6000 loss = 1.2687342166900635 lr=0.0004604260363461809\n",
            "Validate: iter: 6000, camera: 58\n",
            "threshold: 0.0\n"
          ]
        },
        {
          "output_type": "stream",
          "name": "stderr",
          "text": [
            "[main.py:919 -        validate_mesh() ] End\n",
            " 20%|██        | 6099/30000 [57:10<3:18:03,  2.01it/s]"
          ]
        },
        {
          "output_type": "stream",
          "name": "stdout",
          "text": [
            "./exp/smpl/example\n",
            "iter:6100 loss = 1.5105504989624023 lr=0.00045901689519128376\n",
            "Validate: iter: 6100, camera: 58\n"
          ]
        },
        {
          "output_type": "stream",
          "name": "stderr",
          "text": [
            " 21%|██        | 6199/30000 [58:04<3:22:01,  1.96it/s]"
          ]
        },
        {
          "output_type": "stream",
          "name": "stdout",
          "text": [
            "./exp/smpl/example\n",
            "iter:6200 loss = 1.4954780340194702 lr=0.00045758546704203747\n",
            "Validate: iter: 6200, camera: 58\n"
          ]
        },
        {
          "output_type": "stream",
          "name": "stderr",
          "text": [
            " 21%|██        | 6299/30000 [58:57<3:20:48,  1.97it/s]"
          ]
        },
        {
          "output_type": "stream",
          "name": "stdout",
          "text": [
            "./exp/smpl/example\n",
            "iter:6300 loss = 1.3615963459014893 lr=0.00045613191423680483\n",
            "Validate: iter: 6300, camera: 58\n"
          ]
        },
        {
          "output_type": "stream",
          "name": "stderr",
          "text": [
            " 21%|██▏       | 6399/30000 [59:51<3:20:17,  1.96it/s]"
          ]
        },
        {
          "output_type": "stream",
          "name": "stdout",
          "text": [
            "./exp/smpl/example\n",
            "iter:6400 loss = 1.4198620319366455 lr=0.0004546564016231077\n",
            "Validate: iter: 6400, camera: 58\n"
          ]
        },
        {
          "output_type": "stream",
          "name": "stderr",
          "text": [
            " 22%|██▏       | 6499/30000 [1:00:45<3:18:41,  1.97it/s]"
          ]
        },
        {
          "output_type": "stream",
          "name": "stdout",
          "text": [
            "./exp/smpl/example\n",
            "iter:6500 loss = 1.3795363903045654 lr=0.00045315909653893127\n",
            "Validate: iter: 6500, camera: 58\n",
            "threshold: 0.0\n"
          ]
        },
        {
          "output_type": "stream",
          "name": "stderr",
          "text": [
            "[main.py:919 -        validate_mesh() ] End\n",
            " 22%|██▏       | 6599/30000 [1:01:49<3:14:34,  2.00it/s]"
          ]
        },
        {
          "output_type": "stream",
          "name": "stdout",
          "text": [
            "./exp/smpl/example\n",
            "iter:6600 loss = 1.2456189393997192 lr=0.000451640168793746\n",
            "Validate: iter: 6600, camera: 58\n"
          ]
        },
        {
          "output_type": "stream",
          "name": "stderr",
          "text": [
            " 22%|██▏       | 6699/30000 [1:02:43<3:15:39,  1.98it/s]"
          ]
        },
        {
          "output_type": "stream",
          "name": "stdout",
          "text": [
            "./exp/smpl/example\n",
            "iter:6700 loss = 1.4729366302490234 lr=0.00045009979064925026\n",
            "Validate: iter: 6700, camera: 58\n"
          ]
        },
        {
          "output_type": "stream",
          "name": "stderr",
          "text": [
            " 23%|██▎       | 6799/30000 [1:03:37<3:16:22,  1.97it/s]"
          ]
        },
        {
          "output_type": "stream",
          "name": "stdout",
          "text": [
            "./exp/smpl/example\n",
            "iter:6800 loss = 1.443690538406372 lr=0.0004485381367998333\n",
            "Validate: iter: 6800, camera: 58\n"
          ]
        },
        {
          "output_type": "stream",
          "name": "stderr",
          "text": [
            " 23%|██▎       | 6899/30000 [1:04:31<3:15:27,  1.97it/s]"
          ]
        },
        {
          "output_type": "stream",
          "name": "stdout",
          "text": [
            "./exp/smpl/example\n",
            "iter:6900 loss = 1.5566965341567993 lr=0.00044695538435276356\n",
            "Validate: iter: 6900, camera: 58\n"
          ]
        },
        {
          "output_type": "stream",
          "name": "stderr",
          "text": [
            " 23%|██▎       | 6999/30000 [1:05:24<3:13:41,  1.98it/s]"
          ]
        },
        {
          "output_type": "stream",
          "name": "stdout",
          "text": [
            "./exp/smpl/example\n",
            "iter:7000 loss = 1.5206034183502197 lr=0.00044535171280810293\n",
            "Validate: iter: 7000, camera: 58\n",
            "threshold: 0.0\n"
          ]
        },
        {
          "output_type": "stream",
          "name": "stderr",
          "text": [
            "[main.py:919 -        validate_mesh() ] End\n",
            " 24%|██▎       | 7099/30000 [1:06:28<3:11:01,  2.00it/s]"
          ]
        },
        {
          "output_type": "stream",
          "name": "stdout",
          "text": [
            "./exp/smpl/example\n",
            "iter:7100 loss = 1.5131341218948364 lr=0.0004437273040383496\n",
            "Validate: iter: 7100, camera: 58\n"
          ]
        },
        {
          "output_type": "stream",
          "name": "stderr",
          "text": [
            " 24%|██▍       | 7199/30000 [1:07:22<3:12:55,  1.97it/s]"
          ]
        },
        {
          "output_type": "stream",
          "name": "stdout",
          "text": [
            "./exp/smpl/example\n",
            "iter:7200 loss = 1.4708315134048462 lr=0.0004420823422678117\n",
            "Validate: iter: 7200, camera: 58\n"
          ]
        },
        {
          "output_type": "stream",
          "name": "stderr",
          "text": [
            " 24%|██▍       | 7299/30000 [1:08:16<3:20:14,  1.89it/s]"
          ]
        },
        {
          "output_type": "stream",
          "name": "stdout",
          "text": [
            "./exp/smpl/example\n",
            "iter:7300 loss = 1.2900056838989258 lr=0.0004404170140517147\n",
            "Validate: iter: 7300, camera: 58\n"
          ]
        },
        {
          "output_type": "stream",
          "name": "stderr",
          "text": [
            " 25%|██▍       | 7399/30000 [1:09:10<3:10:32,  1.98it/s]"
          ]
        },
        {
          "output_type": "stream",
          "name": "stdout",
          "text": [
            "./exp/smpl/example\n",
            "iter:7400 loss = 1.462719440460205 lr=0.000438731508255044\n",
            "Validate: iter: 7400, camera: 58\n"
          ]
        },
        {
          "output_type": "stream",
          "name": "stderr",
          "text": [
            " 25%|██▍       | 7499/30000 [1:10:04<3:10:37,  1.97it/s]"
          ]
        },
        {
          "output_type": "stream",
          "name": "stdout",
          "text": [
            "./exp/smpl/example\n",
            "iter:7500 loss = 1.304467797279358 lr=0.00043702601603112584\n",
            "Validate: iter: 7500, camera: 58\n",
            "threshold: 0.0\n"
          ]
        },
        {
          "output_type": "stream",
          "name": "stderr",
          "text": [
            "[main.py:919 -        validate_mesh() ] End\n",
            " 25%|██▌       | 7599/30000 [1:11:08<3:05:23,  2.01it/s]"
          ]
        },
        {
          "output_type": "stream",
          "name": "stdout",
          "text": [
            "./exp/smpl/example\n",
            "iter:7600 loss = 1.3752696514129639 lr=0.00043530073079994845\n",
            "Validate: iter: 7600, camera: 58\n"
          ]
        },
        {
          "output_type": "stream",
          "name": "stderr",
          "text": [
            " 26%|██▌       | 7699/30000 [1:12:02<3:06:57,  1.99it/s]"
          ]
        },
        {
          "output_type": "stream",
          "name": "stdout",
          "text": [
            "./exp/smpl/example\n",
            "iter:7700 loss = 1.3636205196380615 lr=0.00043355584822622636\n",
            "Validate: iter: 7700, camera: 58\n"
          ]
        },
        {
          "output_type": "stream",
          "name": "stderr",
          "text": [
            " 26%|██▌       | 7799/30000 [1:12:56<3:07:19,  1.98it/s]"
          ]
        },
        {
          "output_type": "stream",
          "name": "stdout",
          "text": [
            "./exp/smpl/example\n",
            "iter:7800 loss = 1.421709656715393 lr=0.0004317915661972099\n",
            "Validate: iter: 7800, camera: 58\n"
          ]
        },
        {
          "output_type": "stream",
          "name": "stderr",
          "text": [
            " 26%|██▋       | 7899/30000 [1:13:49<3:06:51,  1.97it/s]"
          ]
        },
        {
          "output_type": "stream",
          "name": "stdout",
          "text": [
            "./exp/smpl/example\n",
            "iter:7900 loss = 1.266054391860962 lr=0.0004300080848002432\n",
            "Validate: iter: 7900, camera: 58\n"
          ]
        },
        {
          "output_type": "stream",
          "name": "stderr",
          "text": [
            " 27%|██▋       | 7999/30000 [1:14:43<3:10:48,  1.92it/s]"
          ]
        },
        {
          "output_type": "stream",
          "name": "stdout",
          "text": [
            "./exp/smpl/example\n",
            "iter:8000 loss = 1.4354898929595947 lr=0.0004282056063000719\n",
            "Validate: iter: 8000, camera: 58\n",
            "threshold: 0.0\n"
          ]
        },
        {
          "output_type": "stream",
          "name": "stderr",
          "text": [
            "[main.py:919 -        validate_mesh() ] End\n",
            " 27%|██▋       | 8099/30000 [1:15:48<3:01:54,  2.01it/s]"
          ]
        },
        {
          "output_type": "stream",
          "name": "stdout",
          "text": [
            "./exp/smpl/example\n",
            "iter:8100 loss = 1.3968349695205688 lr=0.00042638433511590435\n",
            "Validate: iter: 8100, camera: 58\n"
          ]
        },
        {
          "output_type": "stream",
          "name": "stderr",
          "text": [
            " 27%|██▋       | 8199/30000 [1:16:41<3:03:43,  1.98it/s]"
          ]
        },
        {
          "output_type": "stream",
          "name": "stdout",
          "text": [
            "./exp/smpl/example\n",
            "iter:8200 loss = 1.42952299118042 lr=0.0004245444777982285\n",
            "Validate: iter: 8200, camera: 58\n"
          ]
        },
        {
          "output_type": "stream",
          "name": "stderr",
          "text": [
            " 28%|██▊       | 8299/30000 [1:17:35<3:04:18,  1.96it/s]"
          ]
        },
        {
          "output_type": "stream",
          "name": "stdout",
          "text": [
            "./exp/smpl/example\n",
            "iter:8300 loss = 1.3931884765625 lr=0.000422686243005387\n",
            "Validate: iter: 8300, camera: 58\n"
          ]
        },
        {
          "output_type": "stream",
          "name": "stderr",
          "text": [
            " 28%|██▊       | 8399/30000 [1:18:29<3:02:37,  1.97it/s]"
          ]
        },
        {
          "output_type": "stream",
          "name": "stdout",
          "text": [
            "./exp/smpl/example\n",
            "iter:8400 loss = 1.4082248210906982 lr=0.00042080984147991295\n",
            "Validate: iter: 8400, camera: 58\n"
          ]
        },
        {
          "output_type": "stream",
          "name": "stderr",
          "text": [
            " 28%|██▊       | 8499/30000 [1:19:22<3:01:59,  1.97it/s]"
          ]
        },
        {
          "output_type": "stream",
          "name": "stdout",
          "text": [
            "./exp/smpl/example\n",
            "iter:8500 loss = 1.542264461517334 lr=0.0004189154860246303\n",
            "Validate: iter: 8500, camera: 58\n",
            "threshold: 0.0\n"
          ]
        },
        {
          "output_type": "stream",
          "name": "stderr",
          "text": [
            "[main.py:919 -        validate_mesh() ] End\n",
            " 29%|██▊       | 8599/30000 [1:20:27<2:58:06,  2.00it/s]"
          ]
        },
        {
          "output_type": "stream",
          "name": "stdout",
          "text": [
            "./exp/smpl/example\n",
            "iter:8600 loss = 1.4259331226348877 lr=0.0004170033914785188\n",
            "Validate: iter: 8600, camera: 58\n"
          ]
        },
        {
          "output_type": "stream",
          "name": "stderr",
          "text": [
            " 29%|██▉       | 8699/30000 [1:21:21<2:59:31,  1.98it/s]"
          ]
        },
        {
          "output_type": "stream",
          "name": "stdout",
          "text": [
            "./exp/smpl/example\n",
            "iter:8700 loss = 1.2980866432189941 lr=0.00041507377469235027\n",
            "Validate: iter: 8700, camera: 58\n"
          ]
        },
        {
          "output_type": "stream",
          "name": "stderr",
          "text": [
            " 29%|██▉       | 8799/30000 [1:22:14<3:02:56,  1.93it/s]"
          ]
        },
        {
          "output_type": "stream",
          "name": "stdout",
          "text": [
            "./exp/smpl/example\n",
            "iter:8800 loss = 1.366474986076355 lr=0.0004131268545040945\n",
            "Validate: iter: 8800, camera: 58\n"
          ]
        },
        {
          "output_type": "stream",
          "name": "stderr",
          "text": [
            " 30%|██▉       | 8899/30000 [1:23:08<3:00:15,  1.95it/s]"
          ]
        },
        {
          "output_type": "stream",
          "name": "stdout",
          "text": [
            "./exp/smpl/example\n",
            "iter:8900 loss = 1.2689017057418823 lr=0.0004111628517141015\n",
            "Validate: iter: 8900, camera: 58\n"
          ]
        },
        {
          "output_type": "stream",
          "name": "stderr",
          "text": [
            " 30%|██▉       | 8999/30000 [1:24:02<2:58:54,  1.96it/s]"
          ]
        },
        {
          "output_type": "stream",
          "name": "stdout",
          "text": [
            "./exp/smpl/example\n",
            "iter:9000 loss = 1.5081387758255005 lr=0.00040918198906006036\n",
            "Validate: iter: 9000, camera: 58\n",
            "threshold: 0.0\n"
          ]
        },
        {
          "output_type": "stream",
          "name": "stderr",
          "text": [
            "[main.py:919 -        validate_mesh() ] End\n",
            " 30%|███       | 9099/30000 [1:25:07<2:53:30,  2.01it/s]"
          ]
        },
        {
          "output_type": "stream",
          "name": "stdout",
          "text": [
            "./exp/smpl/example\n",
            "iter:9100 loss = 1.2980982065200806 lr=0.00040718449119173827\n",
            "Validate: iter: 9100, camera: 58\n"
          ]
        },
        {
          "output_type": "stream",
          "name": "stderr",
          "text": [
            " 31%|███       | 9199/30000 [1:26:01<2:56:23,  1.97it/s]"
          ]
        },
        {
          "output_type": "stream",
          "name": "stdout",
          "text": [
            "./exp/smpl/example\n",
            "iter:9200 loss = 1.3541113138198853 lr=0.0004051705846455035\n",
            "Validate: iter: 9200, camera: 58\n"
          ]
        },
        {
          "output_type": "stream",
          "name": "stderr",
          "text": [
            " 31%|███       | 9299/30000 [1:26:55<2:54:34,  1.98it/s]"
          ]
        },
        {
          "output_type": "stream",
          "name": "stdout",
          "text": [
            "./exp/smpl/example\n",
            "iter:9300 loss = 1.2289786338806152 lr=0.0004031404978186332\n",
            "Validate: iter: 9300, camera: 58\n"
          ]
        },
        {
          "output_type": "stream",
          "name": "stderr",
          "text": [
            " 31%|███▏      | 9399/30000 [1:27:49<2:55:11,  1.96it/s]"
          ]
        },
        {
          "output_type": "stream",
          "name": "stdout",
          "text": [
            "./exp/smpl/example\n",
            "iter:9400 loss = 1.3445417881011963 lr=0.00040109446094341143\n",
            "Validate: iter: 9400, camera: 58\n"
          ]
        },
        {
          "output_type": "stream",
          "name": "stderr",
          "text": [
            " 32%|███▏      | 9499/30000 [1:28:43<2:54:30,  1.96it/s]"
          ]
        },
        {
          "output_type": "stream",
          "name": "stdout",
          "text": [
            "./exp/smpl/example\n",
            "iter:9500 loss = 1.3062646389007568 lr=0.00039903270606101853\n",
            "Validate: iter: 9500, camera: 58\n",
            "threshold: 0.0\n"
          ]
        },
        {
          "output_type": "stream",
          "name": "stderr",
          "text": [
            "[main.py:919 -        validate_mesh() ] End\n",
            " 32%|███▏      | 9599/30000 [1:29:48<2:49:51,  2.00it/s]"
          ]
        },
        {
          "output_type": "stream",
          "name": "stdout",
          "text": [
            "./exp/smpl/example\n",
            "iter:9600 loss = 1.3880565166473389 lr=0.0003969554669952148\n",
            "Validate: iter: 9600, camera: 58\n"
          ]
        },
        {
          "output_type": "stream",
          "name": "stderr",
          "text": [
            " 32%|███▏      | 9699/30000 [1:30:42<2:52:09,  1.97it/s]"
          ]
        },
        {
          "output_type": "stream",
          "name": "stdout",
          "text": [
            "./exp/smpl/example\n",
            "iter:9700 loss = 1.5516002178192139 lr=0.00039486297932582275\n",
            "Validate: iter: 9700, camera: 58\n"
          ]
        },
        {
          "output_type": "stream",
          "name": "stderr",
          "text": [
            " 33%|███▎      | 9799/30000 [1:31:36<2:51:23,  1.96it/s]"
          ]
        },
        {
          "output_type": "stream",
          "name": "stdout",
          "text": [
            "./exp/smpl/example\n",
            "iter:9800 loss = 1.2867478132247925 lr=0.0003927554803620104\n",
            "Validate: iter: 9800, camera: 58\n"
          ]
        },
        {
          "output_type": "stream",
          "name": "stderr",
          "text": [
            " 33%|███▎      | 9899/30000 [1:32:29<2:49:54,  1.97it/s]"
          ]
        },
        {
          "output_type": "stream",
          "name": "stdout",
          "text": [
            "./exp/smpl/example\n",
            "iter:9900 loss = 1.3923438787460327 lr=0.0003906332091153775\n",
            "Validate: iter: 9900, camera: 58\n"
          ]
        },
        {
          "output_type": "stream",
          "name": "stderr",
          "text": [
            " 33%|███▎      | 9999/30000 [1:33:23<2:48:42,  1.98it/s]"
          ]
        },
        {
          "output_type": "stream",
          "name": "stdout",
          "text": [
            "./exp/smpl/example\n",
            "iter:10000 loss = 1.3814250230789185 lr=0.00038849640627284935\n",
            "Validate: iter: 10000, camera: 58\n",
            "threshold: 0.0\n"
          ]
        },
        {
          "output_type": "stream",
          "name": "stderr",
          "text": [
            "[main.py:919 -        validate_mesh() ] End\n",
            " 34%|███▎      | 10099/30000 [1:34:27<2:44:51,  2.01it/s]"
          ]
        },
        {
          "output_type": "stream",
          "name": "stdout",
          "text": [
            "./exp/smpl/example\n",
            "iter:10100 loss = 1.3296067714691162 lr=0.0003863453141693805\n",
            "Validate: iter: 10100, camera: 58\n"
          ]
        },
        {
          "output_type": "stream",
          "name": "stderr",
          "text": [
            " 34%|███▍      | 10199/30000 [1:35:21<2:47:45,  1.97it/s]"
          ]
        },
        {
          "output_type": "stream",
          "name": "stdout",
          "text": [
            "./exp/smpl/example\n",
            "iter:10200 loss = 1.4408899545669556 lr=0.0003841801767604718\n",
            "Validate: iter: 10200, camera: 58\n"
          ]
        },
        {
          "output_type": "stream",
          "name": "stderr",
          "text": [
            " 34%|███▍      | 10299/30000 [1:36:15<2:46:29,  1.97it/s]"
          ]
        },
        {
          "output_type": "stream",
          "name": "stdout",
          "text": [
            "./exp/smpl/example\n",
            "iter:10300 loss = 1.5034325122833252 lr=0.0003820012395945027\n",
            "Validate: iter: 10300, camera: 58\n"
          ]
        },
        {
          "output_type": "stream",
          "name": "stderr",
          "text": [
            " 35%|███▍      | 10399/30000 [1:37:08<2:46:03,  1.97it/s]"
          ]
        },
        {
          "output_type": "stream",
          "name": "stdout",
          "text": [
            "./exp/smpl/example\n",
            "iter:10400 loss = 1.3611679077148438 lr=0.0003798087497848844\n",
            "Validate: iter: 10400, camera: 58\n"
          ]
        },
        {
          "output_type": "stream",
          "name": "stderr",
          "text": [
            " 35%|███▍      | 10499/30000 [1:38:02<2:45:10,  1.97it/s]"
          ]
        },
        {
          "output_type": "stream",
          "name": "stdout",
          "text": [
            "./exp/smpl/example\n",
            "iter:10500 loss = 1.5263540744781494 lr=0.0003776029559820342\n",
            "Validate: iter: 10500, camera: 58\n",
            "threshold: 0.0\n"
          ]
        },
        {
          "output_type": "stream",
          "name": "stderr",
          "text": [
            "[main.py:919 -        validate_mesh() ] End\n",
            " 35%|███▌      | 10599/30000 [1:39:07<2:42:30,  1.99it/s]"
          ]
        },
        {
          "output_type": "stream",
          "name": "stdout",
          "text": [
            "./exp/smpl/example\n",
            "iter:10600 loss = 1.5197283029556274 lr=0.00037538410834517624\n",
            "Validate: iter: 10600, camera: 58\n"
          ]
        },
        {
          "output_type": "stream",
          "name": "stderr",
          "text": [
            " 36%|███▌      | 10699/30000 [1:40:00<2:43:07,  1.97it/s]"
          ]
        },
        {
          "output_type": "stream",
          "name": "stdout",
          "text": [
            "./exp/smpl/example\n",
            "iter:10700 loss = 1.5612945556640625 lr=0.00037315245851397074\n",
            "Validate: iter: 10700, camera: 58\n"
          ]
        },
        {
          "output_type": "stream",
          "name": "stderr",
          "text": [
            " 36%|███▌      | 10799/30000 [1:40:54<2:42:55,  1.96it/s]"
          ]
        },
        {
          "output_type": "stream",
          "name": "stdout",
          "text": [
            "./exp/smpl/example\n",
            "iter:10800 loss = 1.4202187061309814 lr=0.0003709082595799757\n",
            "Validate: iter: 10800, camera: 58\n"
          ]
        },
        {
          "output_type": "stream",
          "name": "stderr",
          "text": [
            " 36%|███▋      | 10899/30000 [1:41:48<2:41:11,  1.97it/s]"
          ]
        },
        {
          "output_type": "stream",
          "name": "stdout",
          "text": [
            "./exp/smpl/example\n",
            "iter:10900 loss = 1.4286913871765137 lr=0.0003686517660579437\n",
            "Validate: iter: 10900, camera: 58\n"
          ]
        },
        {
          "output_type": "stream",
          "name": "stderr",
          "text": [
            " 37%|███▋      | 10999/30000 [1:42:41<2:41:18,  1.96it/s]"
          ]
        },
        {
          "output_type": "stream",
          "name": "stdout",
          "text": [
            "./exp/smpl/example\n",
            "iter:11000 loss = 1.4612860679626465 lr=0.00036638323385695747\n",
            "Validate: iter: 11000, camera: 58\n",
            "threshold: 0.0\n"
          ]
        },
        {
          "output_type": "stream",
          "name": "stderr",
          "text": [
            "[main.py:919 -        validate_mesh() ] End\n",
            " 37%|███▋      | 11099/30000 [1:43:46<2:37:36,  2.00it/s]"
          ]
        },
        {
          "output_type": "stream",
          "name": "stdout",
          "text": [
            "./exp/smpl/example\n",
            "iter:11100 loss = 1.3714176416397095 lr=0.0003641029202514071\n",
            "Validate: iter: 11100, camera: 58\n"
          ]
        },
        {
          "output_type": "stream",
          "name": "stderr",
          "text": [
            " 37%|███▋      | 11199/30000 [1:44:40<2:38:41,  1.97it/s]"
          ]
        },
        {
          "output_type": "stream",
          "name": "stdout",
          "text": [
            "./exp/smpl/example\n",
            "iter:11200 loss = 1.4024550914764404 lr=0.0003618110838518123\n",
            "Validate: iter: 11200, camera: 58\n"
          ]
        },
        {
          "output_type": "stream",
          "name": "stderr",
          "text": [
            " 38%|███▊      | 11299/30000 [1:45:34<2:47:09,  1.86it/s]"
          ]
        },
        {
          "output_type": "stream",
          "name": "stdout",
          "text": [
            "./exp/smpl/example\n",
            "iter:11300 loss = 1.5392844676971436 lr=0.000359507984575494\n",
            "Validate: iter: 11300, camera: 58\n"
          ]
        },
        {
          "output_type": "stream",
          "name": "stderr",
          "text": [
            " 38%|███▊      | 11399/30000 [1:46:27<2:37:41,  1.97it/s]"
          ]
        },
        {
          "output_type": "stream",
          "name": "stdout",
          "text": [
            "./exp/smpl/example\n",
            "iter:11400 loss = 1.4052491188049316 lr=0.0003571938836170966\n",
            "Validate: iter: 11400, camera: 58\n"
          ]
        },
        {
          "output_type": "stream",
          "name": "stderr",
          "text": [
            " 38%|███▊      | 11499/30000 [1:47:21<2:36:17,  1.97it/s]"
          ]
        },
        {
          "output_type": "stream",
          "name": "stdout",
          "text": [
            "./exp/smpl/example\n",
            "iter:11500 loss = 1.4315546751022339 lr=0.00035486904341896597\n",
            "Validate: iter: 11500, camera: 58\n",
            "threshold: 0.0\n"
          ]
        },
        {
          "output_type": "stream",
          "name": "stderr",
          "text": [
            "[main.py:919 -        validate_mesh() ] End\n",
            " 39%|███▊      | 11599/30000 [1:48:26<2:33:34,  2.00it/s]"
          ]
        },
        {
          "output_type": "stream",
          "name": "stdout",
          "text": [
            "./exp/smpl/example\n",
            "iter:11600 loss = 1.3914070129394531 lr=0.00035253372764138593\n",
            "Validate: iter: 11600, camera: 58\n"
          ]
        },
        {
          "output_type": "stream",
          "name": "stderr",
          "text": [
            " 39%|███▉      | 11699/30000 [1:49:20<2:34:33,  1.97it/s]"
          ]
        },
        {
          "output_type": "stream",
          "name": "stdout",
          "text": [
            "./exp/smpl/example\n",
            "iter:11700 loss = 1.519761323928833 lr=0.00035018820113267646\n",
            "Validate: iter: 11700, camera: 58\n"
          ]
        },
        {
          "output_type": "stream",
          "name": "stderr",
          "text": [
            " 39%|███▉      | 11799/30000 [1:50:13<2:34:07,  1.97it/s]"
          ]
        },
        {
          "output_type": "stream",
          "name": "stdout",
          "text": [
            "./exp/smpl/example\n",
            "iter:11800 loss = 1.338916301727295 lr=0.00034783272989915724\n",
            "Validate: iter: 11800, camera: 58\n"
          ]
        },
        {
          "output_type": "stream",
          "name": "stderr",
          "text": [
            " 40%|███▉      | 11899/30000 [1:51:07<2:32:31,  1.98it/s]"
          ]
        },
        {
          "output_type": "stream",
          "name": "stdout",
          "text": [
            "./exp/smpl/example\n",
            "iter:11900 loss = 1.3275362253189087 lr=0.0003454675810749799\n",
            "Validate: iter: 11900, camera: 58\n"
          ]
        },
        {
          "output_type": "stream",
          "name": "stderr",
          "text": [
            " 40%|███▉      | 11999/30000 [1:52:01<2:31:49,  1.98it/s]"
          ]
        },
        {
          "output_type": "stream",
          "name": "stdout",
          "text": [
            "./exp/smpl/example\n",
            "iter:12000 loss = 1.3051795959472656 lr=0.0003430930228918322\n",
            "Validate: iter: 12000, camera: 58\n",
            "threshold: 0.0\n"
          ]
        },
        {
          "output_type": "stream",
          "name": "stderr",
          "text": [
            "[main.py:919 -        validate_mesh() ] End\n",
            " 40%|████      | 12099/30000 [1:53:06<2:28:41,  2.01it/s]"
          ]
        },
        {
          "output_type": "stream",
          "name": "stdout",
          "text": [
            "./exp/smpl/example\n",
            "iter:12100 loss = 1.4272494316101074 lr=0.00034070932464851805\n",
            "Validate: iter: 12100, camera: 58\n"
          ]
        },
        {
          "output_type": "stream",
          "name": "stderr",
          "text": [
            " 41%|████      | 12199/30000 [1:53:59<2:30:34,  1.97it/s]"
          ]
        },
        {
          "output_type": "stream",
          "name": "stdout",
          "text": [
            "./exp/smpl/example\n",
            "iter:12200 loss = 1.341637372970581 lr=0.00033831675668041604\n",
            "Validate: iter: 12200, camera: 58\n"
          ]
        },
        {
          "output_type": "stream",
          "name": "stderr",
          "text": [
            " 41%|████      | 12299/30000 [1:54:53<2:29:55,  1.97it/s]"
          ]
        },
        {
          "output_type": "stream",
          "name": "stdout",
          "text": [
            "./exp/smpl/example\n",
            "iter:12300 loss = 1.4828096628189087 lr=0.00033591559032882104\n",
            "Validate: iter: 12300, camera: 58\n"
          ]
        },
        {
          "output_type": "stream",
          "name": "stderr",
          "text": [
            " 41%|████▏     | 12399/30000 [1:55:46<2:29:22,  1.96it/s]"
          ]
        },
        {
          "output_type": "stream",
          "name": "stdout",
          "text": [
            "./exp/smpl/example\n",
            "iter:12400 loss = 1.3073832988739014 lr=0.0003335060979101709\n",
            "Validate: iter: 12400, camera: 58\n"
          ]
        },
        {
          "output_type": "stream",
          "name": "stderr",
          "text": [
            " 42%|████▏     | 12499/30000 [1:56:40<2:30:38,  1.94it/s]"
          ]
        },
        {
          "output_type": "stream",
          "name": "stdout",
          "text": [
            "./exp/smpl/example\n",
            "iter:12500 loss = 1.3735406398773193 lr=0.0003310885526851637\n",
            "Validate: iter: 12500, camera: 58\n",
            "threshold: 0.0\n"
          ]
        },
        {
          "output_type": "stream",
          "name": "stderr",
          "text": [
            "[main.py:919 -        validate_mesh() ] End\n",
            " 42%|████▏     | 12599/30000 [1:57:45<2:25:41,  1.99it/s]"
          ]
        },
        {
          "output_type": "stream",
          "name": "stdout",
          "text": [
            "./exp/smpl/example\n",
            "iter:12600 loss = 1.5488319396972656 lr=0.00032866322882776645\n",
            "Validate: iter: 12600, camera: 58\n"
          ]
        },
        {
          "output_type": "stream",
          "name": "stderr",
          "text": [
            " 42%|████▏     | 12699/30000 [1:58:39<2:27:17,  1.96it/s]"
          ]
        },
        {
          "output_type": "stream",
          "name": "stdout",
          "text": [
            "./exp/smpl/example\n",
            "iter:12700 loss = 1.4294201135635376 lr=0.00032623040139412155\n",
            "Validate: iter: 12700, camera: 58\n"
          ]
        },
        {
          "output_type": "stream",
          "name": "stderr",
          "text": [
            " 43%|████▎     | 12799/30000 [1:59:32<2:26:23,  1.96it/s]"
          ]
        },
        {
          "output_type": "stream",
          "name": "stdout",
          "text": [
            "./exp/smpl/example\n",
            "iter:12800 loss = 1.3483115434646606 lr=0.0003237903462913525\n",
            "Validate: iter: 12800, camera: 58\n"
          ]
        },
        {
          "output_type": "stream",
          "name": "stderr",
          "text": [
            " 43%|████▎     | 12899/30000 [2:00:26<2:25:21,  1.96it/s]"
          ]
        },
        {
          "output_type": "stream",
          "name": "stdout",
          "text": [
            "./exp/smpl/example\n",
            "iter:12900 loss = 1.4617630243301392 lr=0.0003213433402462732\n",
            "Validate: iter: 12900, camera: 58\n"
          ]
        },
        {
          "output_type": "stream",
          "name": "stderr",
          "text": [
            " 43%|████▎     | 12999/30000 [2:01:19<2:24:20,  1.96it/s]"
          ]
        },
        {
          "output_type": "stream",
          "name": "stdout",
          "text": [
            "./exp/smpl/example\n",
            "iter:13000 loss = 1.351289987564087 lr=0.00031888966077400457\n",
            "Validate: iter: 13000, camera: 58\n",
            "threshold: 0.0\n"
          ]
        },
        {
          "output_type": "stream",
          "name": "stderr",
          "text": [
            "[main.py:919 -        validate_mesh() ] End\n",
            " 44%|████▎     | 13099/30000 [2:02:25<2:19:47,  2.01it/s]"
          ]
        },
        {
          "output_type": "stream",
          "name": "stdout",
          "text": [
            "./exp/smpl/example\n",
            "iter:13100 loss = 1.3829246759414673 lr=0.00031642958614650087\n",
            "Validate: iter: 13100, camera: 58\n"
          ]
        },
        {
          "output_type": "stream",
          "name": "stderr",
          "text": [
            " 44%|████▍     | 13199/30000 [2:03:18<2:21:10,  1.98it/s]"
          ]
        },
        {
          "output_type": "stream",
          "name": "stdout",
          "text": [
            "./exp/smpl/example\n",
            "iter:13200 loss = 1.30385422706604 lr=0.0003139633953609919\n",
            "Validate: iter: 13200, camera: 58\n"
          ]
        },
        {
          "output_type": "stream",
          "name": "stderr",
          "text": [
            " 44%|████▍     | 13299/30000 [2:04:12<2:21:30,  1.97it/s]"
          ]
        },
        {
          "output_type": "stream",
          "name": "stdout",
          "text": [
            "./exp/smpl/example\n",
            "iter:13300 loss = 1.446599006652832 lr=0.00031149136810834107\n",
            "Validate: iter: 13300, camera: 58\n"
          ]
        },
        {
          "output_type": "stream",
          "name": "stderr",
          "text": [
            " 45%|████▍     | 13399/30000 [2:05:06<2:26:05,  1.89it/s]"
          ]
        },
        {
          "output_type": "stream",
          "name": "stdout",
          "text": [
            "./exp/smpl/example\n",
            "iter:13400 loss = 1.3148841857910156 lr=0.000309013784741326\n",
            "Validate: iter: 13400, camera: 58\n"
          ]
        },
        {
          "output_type": "stream",
          "name": "stderr",
          "text": [
            " 45%|████▍     | 13499/30000 [2:05:59<2:18:38,  1.98it/s]"
          ]
        },
        {
          "output_type": "stream",
          "name": "stdout",
          "text": [
            "./exp/smpl/example\n",
            "iter:13500 loss = 1.4314101934432983 lr=0.0003065309262428435\n",
            "Validate: iter: 13500, camera: 58\n",
            "threshold: 0.0\n"
          ]
        },
        {
          "output_type": "stream",
          "name": "stderr",
          "text": [
            "[main.py:919 -        validate_mesh() ] End\n",
            " 45%|████▌     | 13599/30000 [2:07:05<2:16:22,  2.00it/s]"
          ]
        },
        {
          "output_type": "stream",
          "name": "stdout",
          "text": [
            "./exp/smpl/example\n",
            "iter:13600 loss = 1.2979521751403809 lr=0.00030404307419404353\n",
            "Validate: iter: 13600, camera: 58\n"
          ]
        },
        {
          "output_type": "stream",
          "name": "stderr",
          "text": [
            " 46%|████▌     | 13699/30000 [2:07:58<2:17:42,  1.97it/s]"
          ]
        },
        {
          "output_type": "stream",
          "name": "stdout",
          "text": [
            "./exp/smpl/example\n",
            "iter:13700 loss = 1.3862581253051758 lr=0.00030155051074239503\n",
            "Validate: iter: 13700, camera: 58\n"
          ]
        },
        {
          "output_type": "stream",
          "name": "stderr",
          "text": [
            " 46%|████▌     | 13799/30000 [2:08:52<2:17:25,  1.96it/s]"
          ]
        },
        {
          "output_type": "stream",
          "name": "stdout",
          "text": [
            "./exp/smpl/example\n",
            "iter:13800 loss = 1.3092129230499268 lr=0.00029905351856968705\n",
            "Validate: iter: 13800, camera: 58\n"
          ]
        },
        {
          "output_type": "stream",
          "name": "stderr",
          "text": [
            " 46%|████▋     | 13899/30000 [2:09:45<2:15:49,  1.98it/s]"
          ]
        },
        {
          "output_type": "stream",
          "name": "stdout",
          "text": [
            "./exp/smpl/example\n",
            "iter:13900 loss = 1.3182871341705322 lr=0.00029655238085997057\n",
            "Validate: iter: 13900, camera: 58\n"
          ]
        },
        {
          "output_type": "stream",
          "name": "stderr",
          "text": [
            " 47%|████▋     | 13999/30000 [2:10:38<2:15:16,  1.97it/s]"
          ]
        },
        {
          "output_type": "stream",
          "name": "stdout",
          "text": [
            "./exp/smpl/example\n",
            "iter:14000 loss = 1.3622848987579346 lr=0.0002940473812674421\n",
            "Validate: iter: 14000, camera: 58\n",
            "threshold: 0.0\n"
          ]
        },
        {
          "output_type": "stream",
          "name": "stderr",
          "text": [
            "[main.py:919 -        validate_mesh() ] End\n",
            " 47%|████▋     | 14099/30000 [2:11:43<2:11:36,  2.01it/s]"
          ]
        },
        {
          "output_type": "stream",
          "name": "stdout",
          "text": [
            "./exp/smpl/example\n",
            "iter:14100 loss = 1.391533374786377 lr=0.0002915388038842746\n",
            "Validate: iter: 14100, camera: 58\n"
          ]
        },
        {
          "output_type": "stream",
          "name": "stderr",
          "text": [
            " 47%|████▋     | 14199/30000 [2:12:37<2:13:44,  1.97it/s]"
          ]
        },
        {
          "output_type": "stream",
          "name": "stdout",
          "text": [
            "./exp/smpl/example\n",
            "iter:14200 loss = 1.4397542476654053 lr=0.00028902693320839837\n",
            "Validate: iter: 14200, camera: 58\n"
          ]
        },
        {
          "output_type": "stream",
          "name": "stderr",
          "text": [
            " 48%|████▊     | 14299/30000 [2:13:31<2:13:03,  1.97it/s]"
          ]
        },
        {
          "output_type": "stream",
          "name": "stdout",
          "text": [
            "./exp/smpl/example\n",
            "iter:14300 loss = 1.496833324432373 lr=0.00028651205411123616\n",
            "Validate: iter: 14300, camera: 58\n"
          ]
        },
        {
          "output_type": "stream",
          "name": "stderr",
          "text": [
            " 48%|████▊     | 14399/30000 [2:14:24<2:12:13,  1.97it/s]"
          ]
        },
        {
          "output_type": "stream",
          "name": "stdout",
          "text": [
            "./exp/smpl/example\n",
            "iter:14400 loss = 1.4472218751907349 lr=0.00028399445180539646\n",
            "Validate: iter: 14400, camera: 58\n"
          ]
        },
        {
          "output_type": "stream",
          "name": "stderr",
          "text": [
            " 48%|████▊     | 14499/30000 [2:15:18<2:15:52,  1.90it/s]"
          ]
        },
        {
          "output_type": "stream",
          "name": "stdout",
          "text": [
            "./exp/smpl/example\n",
            "iter:14500 loss = 1.328652262687683 lr=0.0002814744118123264\n",
            "Validate: iter: 14500, camera: 58\n",
            "threshold: 0.0\n"
          ]
        },
        {
          "output_type": "stream",
          "name": "stderr",
          "text": [
            "[main.py:919 -        validate_mesh() ] End\n",
            " 49%|████▊     | 14599/30000 [2:16:23<2:07:31,  2.01it/s]"
          ]
        },
        {
          "output_type": "stream",
          "name": "stdout",
          "text": [
            "./exp/smpl/example\n",
            "iter:14600 loss = 1.279984474182129 lr=0.00027895221992993197\n",
            "Validate: iter: 14600, camera: 58\n"
          ]
        },
        {
          "output_type": "stream",
          "name": "stderr",
          "text": [
            " 49%|████▉     | 14699/30000 [2:17:17<2:08:51,  1.98it/s]"
          ]
        },
        {
          "output_type": "stream",
          "name": "stdout",
          "text": [
            "./exp/smpl/example\n",
            "iter:14700 loss = 1.3714144229888916 lr=0.00027642816220016465\n",
            "Validate: iter: 14700, camera: 58\n"
          ]
        },
        {
          "output_type": "stream",
          "name": "stderr",
          "text": [
            " 49%|████▉     | 14799/30000 [2:18:10<2:07:59,  1.98it/s]"
          ]
        },
        {
          "output_type": "stream",
          "name": "stdout",
          "text": [
            "./exp/smpl/example\n",
            "iter:14800 loss = 1.438391923904419 lr=0.000273902524876582\n",
            "Validate: iter: 14800, camera: 58\n"
          ]
        },
        {
          "output_type": "stream",
          "name": "stderr",
          "text": [
            " 50%|████▉     | 14899/30000 [2:19:04<2:08:04,  1.97it/s]"
          ]
        },
        {
          "output_type": "stream",
          "name": "stdout",
          "text": [
            "./exp/smpl/example\n",
            "iter:14900 loss = 1.4178714752197266 lr=0.0002713755943918834\n",
            "Validate: iter: 14900, camera: 58\n"
          ]
        },
        {
          "output_type": "stream",
          "name": "stderr",
          "text": [
            " 50%|████▉     | 14999/30000 [2:19:57<2:07:35,  1.96it/s]"
          ]
        },
        {
          "output_type": "stream",
          "name": "stdout",
          "text": [
            "./exp/smpl/example\n",
            "iter:15000 loss = 1.3228733539581299 lr=0.0002688476573254257\n",
            "Validate: iter: 15000, camera: 58\n",
            "threshold: 0.0\n"
          ]
        },
        {
          "output_type": "stream",
          "name": "stderr",
          "text": [
            "[main.py:919 -        validate_mesh() ] End\n",
            " 50%|█████     | 15099/30000 [2:21:02<2:03:42,  2.01it/s]"
          ]
        },
        {
          "output_type": "stream",
          "name": "stdout",
          "text": [
            "./exp/smpl/example\n",
            "iter:15100 loss = 1.5301909446716309 lr=0.00026631900037072217\n",
            "Validate: iter: 15100, camera: 58\n"
          ]
        },
        {
          "output_type": "stream",
          "name": "stderr",
          "text": [
            " 51%|█████     | 15199/30000 [2:21:56<2:05:39,  1.96it/s]"
          ]
        },
        {
          "output_type": "stream",
          "name": "stdout",
          "text": [
            "./exp/smpl/example\n",
            "iter:15200 loss = 1.4250072240829468 lr=0.00026378991030292885\n",
            "Validate: iter: 15200, camera: 58\n"
          ]
        },
        {
          "output_type": "stream",
          "name": "stderr",
          "text": [
            " 51%|█████     | 15299/30000 [2:22:49<2:05:23,  1.95it/s]"
          ]
        },
        {
          "output_type": "stream",
          "name": "stdout",
          "text": [
            "./exp/smpl/example\n",
            "iter:15300 loss = 1.469373345375061 lr=0.00026126067394632103\n",
            "Validate: iter: 15300, camera: 58\n"
          ]
        },
        {
          "output_type": "stream",
          "name": "stderr",
          "text": [
            " 51%|█████▏    | 15399/30000 [2:23:43<2:03:59,  1.96it/s]"
          ]
        },
        {
          "output_type": "stream",
          "name": "stdout",
          "text": [
            "./exp/smpl/example\n",
            "iter:15400 loss = 1.401909351348877 lr=0.00025873157814176455\n",
            "Validate: iter: 15400, camera: 58\n"
          ]
        },
        {
          "output_type": "stream",
          "name": "stderr",
          "text": [
            " 52%|█████▏    | 15499/30000 [2:24:36<2:03:54,  1.95it/s]"
          ]
        },
        {
          "output_type": "stream",
          "name": "stdout",
          "text": [
            "./exp/smpl/example\n",
            "iter:15500 loss = 1.521541953086853 lr=0.0002562029097141854\n",
            "Validate: iter: 15500, camera: 58\n",
            "threshold: 0.0\n"
          ]
        },
        {
          "output_type": "stream",
          "name": "stderr",
          "text": [
            "[main.py:919 -        validate_mesh() ] End\n",
            " 52%|█████▏    | 15599/30000 [2:25:41<2:02:10,  1.96it/s]"
          ]
        },
        {
          "output_type": "stream",
          "name": "stdout",
          "text": [
            "./exp/smpl/example\n",
            "iter:15600 loss = 1.3420138359069824 lr=0.00025367495544004073\n",
            "Validate: iter: 15600, camera: 58\n"
          ]
        },
        {
          "output_type": "stream",
          "name": "stderr",
          "text": [
            " 52%|█████▏    | 15699/30000 [2:26:35<2:01:16,  1.97it/s]"
          ]
        },
        {
          "output_type": "stream",
          "name": "stdout",
          "text": [
            "./exp/smpl/example\n",
            "iter:15700 loss = 1.6229029893875122 lr=0.0002511480020147952\n",
            "Validate: iter: 15700, camera: 58\n"
          ]
        },
        {
          "output_type": "stream",
          "name": "stderr",
          "text": [
            " 53%|█████▎    | 15799/30000 [2:27:29<2:00:13,  1.97it/s]"
          ]
        },
        {
          "output_type": "stream",
          "name": "stdout",
          "text": [
            "./exp/smpl/example\n",
            "iter:15800 loss = 1.3304647207260132 lr=0.00024862233602040756\n",
            "Validate: iter: 15800, camera: 58\n"
          ]
        },
        {
          "output_type": "stream",
          "name": "stderr",
          "text": [
            " 53%|█████▎    | 15899/30000 [2:28:22<1:59:51,  1.96it/s]"
          ]
        },
        {
          "output_type": "stream",
          "name": "stdout",
          "text": [
            "./exp/smpl/example\n",
            "iter:15900 loss = 1.4300458431243896 lr=0.0002460982438928286\n",
            "Validate: iter: 15900, camera: 58\n"
          ]
        },
        {
          "output_type": "stream",
          "name": "stderr",
          "text": [
            " 53%|█████▎    | 15999/30000 [2:29:16<1:58:11,  1.97it/s]"
          ]
        },
        {
          "output_type": "stream",
          "name": "stdout",
          "text": [
            "./exp/smpl/example\n",
            "iter:16000 loss = 1.5159156322479248 lr=0.000243576011889517\n",
            "Validate: iter: 16000, camera: 58\n",
            "threshold: 0.0\n"
          ]
        },
        {
          "output_type": "stream",
          "name": "stderr",
          "text": [
            "[main.py:919 -        validate_mesh() ] End\n",
            " 54%|█████▎    | 16099/30000 [2:30:20<1:55:12,  2.01it/s]"
          ]
        },
        {
          "output_type": "stream",
          "name": "stdout",
          "text": [
            "./exp/smpl/example\n",
            "iter:16100 loss = 1.4256725311279297 lr=0.00024105592605697438\n",
            "Validate: iter: 16100, camera: 58\n"
          ]
        },
        {
          "output_type": "stream",
          "name": "stderr",
          "text": [
            " 54%|█████▍    | 16199/30000 [2:31:14<1:57:36,  1.96it/s]"
          ]
        },
        {
          "output_type": "stream",
          "name": "stdout",
          "text": [
            "./exp/smpl/example\n",
            "iter:16200 loss = 1.3838169574737549 lr=0.00023853827219830524\n",
            "Validate: iter: 16200, camera: 58\n"
          ]
        },
        {
          "output_type": "stream",
          "name": "stderr",
          "text": [
            " 54%|█████▍    | 16299/30000 [2:32:08<1:56:42,  1.96it/s]"
          ]
        },
        {
          "output_type": "stream",
          "name": "stdout",
          "text": [
            "./exp/smpl/example\n",
            "iter:16300 loss = 1.5847676992416382 lr=0.00023602333584080354\n",
            "Validate: iter: 16300, camera: 58\n"
          ]
        },
        {
          "output_type": "stream",
          "name": "stderr",
          "text": [
            " 55%|█████▍    | 16399/30000 [2:33:02<1:57:04,  1.94it/s]"
          ]
        },
        {
          "output_type": "stream",
          "name": "stdout",
          "text": [
            "./exp/smpl/example\n",
            "iter:16400 loss = 1.4268076419830322 lr=0.0002335114022035715\n",
            "Validate: iter: 16400, camera: 58\n"
          ]
        },
        {
          "output_type": "stream",
          "name": "stderr",
          "text": [
            " 55%|█████▍    | 16499/30000 [2:33:55<1:53:35,  1.98it/s]"
          ]
        },
        {
          "output_type": "stream",
          "name": "stdout",
          "text": [
            "./exp/smpl/example\n",
            "iter:16500 loss = 1.4739084243774414 lr=0.0002310027561651723\n",
            "Validate: iter: 16500, camera: 58\n",
            "threshold: 0.0\n"
          ]
        },
        {
          "output_type": "stream",
          "name": "stderr",
          "text": [
            "[main.py:919 -        validate_mesh() ] End\n",
            " 55%|█████▌    | 16599/30000 [2:35:00<1:51:15,  2.01it/s]"
          ]
        },
        {
          "output_type": "stream",
          "name": "stdout",
          "text": [
            "./exp/smpl/example\n",
            "iter:16600 loss = 1.5371289253234863 lr=0.00022849768223132265\n",
            "Validate: iter: 16600, camera: 58\n"
          ]
        },
        {
          "output_type": "stream",
          "name": "stderr",
          "text": [
            " 56%|█████▌    | 16699/30000 [2:35:54<1:55:15,  1.92it/s]"
          ]
        },
        {
          "output_type": "stream",
          "name": "stdout",
          "text": [
            "./exp/smpl/example\n",
            "iter:16700 loss = 1.513387680053711 lr=0.00022599646450262637\n",
            "Validate: iter: 16700, camera: 58\n"
          ]
        },
        {
          "output_type": "stream",
          "name": "stderr",
          "text": [
            " 56%|█████▌    | 16799/30000 [2:36:48<1:53:01,  1.95it/s]"
          ]
        },
        {
          "output_type": "stream",
          "name": "stdout",
          "text": [
            "./exp/smpl/example\n",
            "iter:16800 loss = 1.2990577220916748 lr=0.0002234993866423551\n",
            "Validate: iter: 16800, camera: 58\n"
          ]
        },
        {
          "output_type": "stream",
          "name": "stderr",
          "text": [
            " 56%|█████▋    | 16899/30000 [2:37:41<1:52:08,  1.95it/s]"
          ]
        },
        {
          "output_type": "stream",
          "name": "stdout",
          "text": [
            "./exp/smpl/example\n",
            "iter:16900 loss = 1.2787601947784424 lr=0.0002210067318442773\n",
            "Validate: iter: 16900, camera: 58\n"
          ]
        },
        {
          "output_type": "stream",
          "name": "stderr",
          "text": [
            " 57%|█████▋    | 16999/30000 [2:38:36<1:49:10,  1.98it/s]"
          ]
        },
        {
          "output_type": "stream",
          "name": "stdout",
          "text": [
            "./exp/smpl/example\n",
            "iter:17000 loss = 1.2511882781982422 lr=0.00021851878280054204\n",
            "Validate: iter: 17000, camera: 58\n",
            "threshold: 0.0\n"
          ]
        },
        {
          "output_type": "stream",
          "name": "stderr",
          "text": [
            "[main.py:919 -        validate_mesh() ] End\n",
            " 57%|█████▋    | 17099/30000 [2:39:41<1:47:25,  2.00it/s]"
          ]
        },
        {
          "output_type": "stream",
          "name": "stdout",
          "text": [
            "./exp/smpl/example\n",
            "iter:17100 loss = 1.6104276180267334 lr=0.00021603582166961822\n",
            "Validate: iter: 17100, camera: 58\n"
          ]
        },
        {
          "output_type": "stream",
          "name": "stderr",
          "text": [
            " 57%|█████▋    | 17199/30000 [2:40:34<1:48:12,  1.97it/s]"
          ]
        },
        {
          "output_type": "stream",
          "name": "stdout",
          "text": [
            "./exp/smpl/example\n",
            "iter:17200 loss = 1.3444409370422363 lr=0.00021355813004429546\n",
            "Validate: iter: 17200, camera: 58\n"
          ]
        },
        {
          "output_type": "stream",
          "name": "stderr",
          "text": [
            " 58%|█████▊    | 17299/30000 [2:41:28<1:48:05,  1.96it/s]"
          ]
        },
        {
          "output_type": "stream",
          "name": "stdout",
          "text": [
            "./exp/smpl/example\n",
            "iter:17300 loss = 1.3822425603866577 lr=0.00021108598891974803\n",
            "Validate: iter: 17300, camera: 58\n"
          ]
        },
        {
          "output_type": "stream",
          "name": "stderr",
          "text": [
            " 58%|█████▊    | 17399/30000 [2:42:22<1:46:26,  1.97it/s]"
          ]
        },
        {
          "output_type": "stream",
          "name": "stdout",
          "text": [
            "./exp/smpl/example\n",
            "iter:17400 loss = 1.4461846351623535 lr=0.00020861967866166788\n",
            "Validate: iter: 17400, camera: 58\n"
          ]
        },
        {
          "output_type": "stream",
          "name": "stderr",
          "text": [
            " 58%|█████▊    | 17499/30000 [2:43:16<1:50:48,  1.88it/s]"
          ]
        },
        {
          "output_type": "stream",
          "name": "stdout",
          "text": [
            "./exp/smpl/example\n",
            "iter:17500 loss = 1.5353097915649414 lr=0.0002061594789744678\n",
            "Validate: iter: 17500, camera: 58\n",
            "threshold: 0.0\n"
          ]
        },
        {
          "output_type": "stream",
          "name": "stderr",
          "text": [
            "[main.py:919 -        validate_mesh() ] End\n",
            " 59%|█████▊    | 17599/30000 [2:44:20<1:44:25,  1.98it/s]"
          ]
        },
        {
          "output_type": "stream",
          "name": "stdout",
          "text": [
            "./exp/smpl/example\n",
            "iter:17600 loss = 1.3106379508972168 lr=0.00020370566886956056\n",
            "Validate: iter: 17600, camera: 58\n"
          ]
        },
        {
          "output_type": "stream",
          "name": "stderr",
          "text": [
            " 59%|█████▉    | 17699/30000 [2:45:14<1:44:01,  1.97it/s]"
          ]
        },
        {
          "output_type": "stream",
          "name": "stdout",
          "text": [
            "./exp/smpl/example\n",
            "iter:17700 loss = 1.4566529989242554 lr=0.00020125852663371562\n",
            "Validate: iter: 17700, camera: 58\n"
          ]
        },
        {
          "output_type": "stream",
          "name": "stderr",
          "text": [
            " 59%|█████▉    | 17799/30000 [2:46:08<1:43:02,  1.97it/s]"
          ]
        },
        {
          "output_type": "stream",
          "name": "stdout",
          "text": [
            "./exp/smpl/example\n",
            "iter:17800 loss = 1.2807111740112305 lr=0.0001988183297974991\n",
            "Validate: iter: 17800, camera: 58\n"
          ]
        },
        {
          "output_type": "stream",
          "name": "stderr",
          "text": [
            " 60%|█████▉    | 17899/30000 [2:47:01<1:42:45,  1.96it/s]"
          ]
        },
        {
          "output_type": "stream",
          "name": "stdout",
          "text": [
            "./exp/smpl/example\n",
            "iter:17900 loss = 1.311082124710083 lr=0.0001963853551037991\n",
            "Validate: iter: 17900, camera: 58\n"
          ]
        },
        {
          "output_type": "stream",
          "name": "stderr",
          "text": [
            " 60%|█████▉    | 17999/30000 [2:47:56<1:45:37,  1.89it/s]"
          ]
        },
        {
          "output_type": "stream",
          "name": "stdout",
          "text": [
            "./exp/smpl/example\n",
            "iter:18000 loss = 1.4197862148284912 lr=0.00019395987847643968\n",
            "Validate: iter: 18000, camera: 58\n",
            "threshold: 0.0\n"
          ]
        },
        {
          "output_type": "stream",
          "name": "stderr",
          "text": [
            "[main.py:919 -        validate_mesh() ] End\n",
            " 60%|██████    | 18099/30000 [2:49:00<1:39:42,  1.99it/s]"
          ]
        },
        {
          "output_type": "stream",
          "name": "stdout",
          "text": [
            "./exp/smpl/example\n",
            "iter:18100 loss = 1.4407541751861572 lr=0.00019154217498888902\n",
            "Validate: iter: 18100, camera: 58\n"
          ]
        },
        {
          "output_type": "stream",
          "name": "stderr",
          "text": [
            " 61%|██████    | 18199/30000 [2:49:54<1:40:25,  1.96it/s]"
          ]
        },
        {
          "output_type": "stream",
          "name": "stdout",
          "text": [
            "./exp/smpl/example\n",
            "iter:18200 loss = 1.3208798170089722 lr=0.0001891325188330627\n",
            "Validate: iter: 18200, camera: 58\n"
          ]
        },
        {
          "output_type": "stream",
          "name": "stderr",
          "text": [
            " 61%|██████    | 18299/30000 [2:50:48<1:39:33,  1.96it/s]"
          ]
        },
        {
          "output_type": "stream",
          "name": "stdout",
          "text": [
            "./exp/smpl/example\n",
            "iter:18300 loss = 1.4159209728240967 lr=0.00018673118328822825\n",
            "Validate: iter: 18300, camera: 58\n"
          ]
        },
        {
          "output_type": "stream",
          "name": "stderr",
          "text": [
            " 61%|██████▏   | 18399/30000 [2:51:42<1:38:17,  1.97it/s]"
          ]
        },
        {
          "output_type": "stream",
          "name": "stdout",
          "text": [
            "./exp/smpl/example\n",
            "iter:18400 loss = 1.5087908506393433 lr=0.00018433844069001165\n",
            "Validate: iter: 18400, camera: 58\n"
          ]
        },
        {
          "output_type": "stream",
          "name": "stderr",
          "text": [
            " 62%|██████▏   | 18499/30000 [2:52:36<1:37:21,  1.97it/s]"
          ]
        },
        {
          "output_type": "stream",
          "name": "stdout",
          "text": [
            "./exp/smpl/example\n",
            "iter:18500 loss = 1.3650259971618652 lr=0.00018195456239951266\n",
            "Validate: iter: 18500, camera: 58\n",
            "threshold: 0.0\n"
          ]
        },
        {
          "output_type": "stream",
          "name": "stderr",
          "text": [
            "[main.py:919 -        validate_mesh() ] End\n",
            " 62%|██████▏   | 18599/30000 [2:53:41<1:34:36,  2.01it/s]"
          ]
        },
        {
          "output_type": "stream",
          "name": "stdout",
          "text": [
            "./exp/smpl/example\n",
            "iter:18600 loss = 1.429525375366211 lr=0.00017957981877252902\n",
            "Validate: iter: 18600, camera: 58\n"
          ]
        },
        {
          "output_type": "stream",
          "name": "stderr",
          "text": [
            " 62%|██████▏   | 18699/30000 [2:54:34<1:35:39,  1.97it/s]"
          ]
        },
        {
          "output_type": "stream",
          "name": "stdout",
          "text": [
            "./exp/smpl/example\n",
            "iter:18700 loss = 1.3474321365356445 lr=0.00017721447912889587\n",
            "Validate: iter: 18700, camera: 58\n"
          ]
        },
        {
          "output_type": "stream",
          "name": "stderr",
          "text": [
            " 63%|██████▎   | 18799/30000 [2:55:28<1:34:36,  1.97it/s]"
          ]
        },
        {
          "output_type": "stream",
          "name": "stdout",
          "text": [
            "./exp/smpl/example\n",
            "iter:18800 loss = 1.2481212615966797 lr=0.0001748588117219418\n",
            "Validate: iter: 18800, camera: 58\n"
          ]
        },
        {
          "output_type": "stream",
          "name": "stderr",
          "text": [
            " 63%|██████▎   | 18899/30000 [2:56:22<1:40:04,  1.85it/s]"
          ]
        },
        {
          "output_type": "stream",
          "name": "stdout",
          "text": [
            "./exp/smpl/example\n",
            "iter:18900 loss = 1.2442877292633057 lr=0.0001725130837080664\n",
            "Validate: iter: 18900, camera: 58\n"
          ]
        },
        {
          "output_type": "stream",
          "name": "stderr",
          "text": [
            " 63%|██████▎   | 18999/30000 [2:57:16<1:33:20,  1.96it/s]"
          ]
        },
        {
          "output_type": "stream",
          "name": "stdout",
          "text": [
            "./exp/smpl/example\n",
            "iter:19000 loss = 1.2092070579528809 lr=0.00017017756111644214\n",
            "Validate: iter: 19000, camera: 58\n",
            "threshold: 0.0\n"
          ]
        },
        {
          "output_type": "stream",
          "name": "stderr",
          "text": [
            "[main.py:919 -        validate_mesh() ] End\n",
            " 64%|██████▎   | 19099/30000 [2:58:21<1:30:23,  2.01it/s]"
          ]
        },
        {
          "output_type": "stream",
          "name": "stdout",
          "text": [
            "./exp/smpl/example\n",
            "iter:19100 loss = 1.331763744354248 lr=0.00016785250881884387\n",
            "Validate: iter: 19100, camera: 58\n"
          ]
        },
        {
          "output_type": "stream",
          "name": "stderr",
          "text": [
            " 64%|██████▍   | 19199/30000 [2:59:14<1:31:37,  1.96it/s]"
          ]
        },
        {
          "output_type": "stream",
          "name": "stdout",
          "text": [
            "./exp/smpl/example\n",
            "iter:19200 loss = 1.4679603576660156 lr=0.00016553819049960945\n",
            "Validate: iter: 19200, camera: 58\n"
          ]
        },
        {
          "output_type": "stream",
          "name": "stderr",
          "text": [
            " 64%|██████▍   | 19299/30000 [3:00:08<1:31:05,  1.96it/s]"
          ]
        },
        {
          "output_type": "stream",
          "name": "stdout",
          "text": [
            "./exp/smpl/example\n",
            "iter:19300 loss = 1.241396427154541 lr=0.0001632348686257358\n",
            "Validate: iter: 19300, camera: 58\n"
          ]
        },
        {
          "output_type": "stream",
          "name": "stderr",
          "text": [
            " 65%|██████▍   | 19399/30000 [3:01:02<1:30:14,  1.96it/s]"
          ]
        },
        {
          "output_type": "stream",
          "name": "stdout",
          "text": [
            "./exp/smpl/example\n",
            "iter:19400 loss = 1.3233311176300049 lr=0.00016094280441711201\n",
            "Validate: iter: 19400, camera: 58\n"
          ]
        },
        {
          "output_type": "stream",
          "name": "stderr",
          "text": [
            " 65%|██████▍   | 19499/30000 [3:01:56<1:28:44,  1.97it/s]"
          ]
        },
        {
          "output_type": "stream",
          "name": "stdout",
          "text": [
            "./exp/smpl/example\n",
            "iter:19500 loss = 1.5309091806411743 lr=0.00015866225781689477\n",
            "Validate: iter: 19500, camera: 58\n",
            "threshold: 0.0\n"
          ]
        },
        {
          "output_type": "stream",
          "name": "stderr",
          "text": [
            "[main.py:919 -        validate_mesh() ] End\n",
            " 65%|██████▌   | 19599/30000 [3:03:00<1:26:43,  2.00it/s]"
          ]
        },
        {
          "output_type": "stream",
          "name": "stdout",
          "text": [
            "./exp/smpl/example\n",
            "iter:19600 loss = 1.2218410968780518 lr=0.000156393487462028\n",
            "Validate: iter: 19600, camera: 58\n"
          ]
        },
        {
          "output_type": "stream",
          "name": "stderr",
          "text": [
            " 66%|██████▌   | 19699/30000 [3:03:54<1:27:14,  1.97it/s]"
          ]
        },
        {
          "output_type": "stream",
          "name": "stdout",
          "text": [
            "./exp/smpl/example\n",
            "iter:19700 loss = 1.3405709266662598 lr=0.00015413675065391078\n",
            "Validate: iter: 19700, camera: 58\n"
          ]
        },
        {
          "output_type": "stream",
          "name": "stderr",
          "text": [
            " 66%|██████▌   | 19799/30000 [3:04:48<1:26:12,  1.97it/s]"
          ]
        },
        {
          "output_type": "stream",
          "name": "stdout",
          "text": [
            "./exp/smpl/example\n",
            "iter:19800 loss = 1.5017998218536377 lr=0.0001518923033292168\n",
            "Validate: iter: 19800, camera: 58\n"
          ]
        },
        {
          "output_type": "stream",
          "name": "stderr",
          "text": [
            " 66%|██████▋   | 19899/30000 [3:05:42<1:25:09,  1.98it/s]"
          ]
        },
        {
          "output_type": "stream",
          "name": "stdout",
          "text": [
            "./exp/smpl/example\n",
            "iter:19900 loss = 1.4118356704711914 lr=0.00014966040003086875\n",
            "Validate: iter: 19900, camera: 58\n"
          ]
        },
        {
          "output_type": "stream",
          "name": "stderr",
          "text": [
            " 67%|██████▋   | 19999/30000 [3:06:35<1:24:22,  1.98it/s]"
          ]
        },
        {
          "output_type": "stream",
          "name": "stdout",
          "text": [
            "./exp/smpl/example\n",
            "iter:20000 loss = 1.4052486419677734 lr=0.0001474412938791702\n",
            "Validate: iter: 20000, camera: 58\n",
            "threshold: 0.0\n"
          ]
        },
        {
          "output_type": "stream",
          "name": "stderr",
          "text": [
            "[main.py:919 -        validate_mesh() ] End\n",
            " 67%|██████▋   | 20099/30000 [3:07:40<1:22:06,  2.01it/s]"
          ]
        },
        {
          "output_type": "stream",
          "name": "stdout",
          "text": [
            "./exp/smpl/example\n",
            "iter:20100 loss = 1.2874886989593506 lr=0.00014523523654309985\n",
            "Validate: iter: 20100, camera: 58\n"
          ]
        },
        {
          "output_type": "stream",
          "name": "stderr",
          "text": [
            " 67%|██████▋   | 20199/30000 [3:08:33<1:22:40,  1.98it/s]"
          ]
        },
        {
          "output_type": "stream",
          "name": "stdout",
          "text": [
            "./exp/smpl/example\n",
            "iter:20200 loss = 1.4270598888397217 lr=0.00014304247821176884\n",
            "Validate: iter: 20200, camera: 58\n"
          ]
        },
        {
          "output_type": "stream",
          "name": "stderr",
          "text": [
            " 68%|██████▊   | 20299/30000 [3:09:27<1:22:06,  1.97it/s]"
          ]
        },
        {
          "output_type": "stream",
          "name": "stdout",
          "text": [
            "./exp/smpl/example\n",
            "iter:20300 loss = 1.3479645252227783 lr=0.00014086326756604768\n",
            "Validate: iter: 20300, camera: 58\n"
          ]
        },
        {
          "output_type": "stream",
          "name": "stderr",
          "text": [
            " 68%|██████▊   | 20399/30000 [3:10:21<1:21:30,  1.96it/s]"
          ]
        },
        {
          "output_type": "stream",
          "name": "stdout",
          "text": [
            "./exp/smpl/example\n",
            "iter:20400 loss = 1.3610637187957764 lr=0.00013869785175036286\n",
            "Validate: iter: 20400, camera: 58\n"
          ]
        },
        {
          "output_type": "stream",
          "name": "stderr",
          "text": [
            " 68%|██████▊   | 20499/30000 [3:11:14<1:20:40,  1.96it/s]"
          ]
        },
        {
          "output_type": "stream",
          "name": "stdout",
          "text": [
            "./exp/smpl/example\n",
            "iter:20500 loss = 1.3154428005218506 lr=0.00013654647634466809\n",
            "Validate: iter: 20500, camera: 58\n",
            "threshold: 0.0\n"
          ]
        },
        {
          "output_type": "stream",
          "name": "stderr",
          "text": [
            "[main.py:919 -        validate_mesh() ] End\n",
            " 69%|██████▊   | 20599/30000 [3:12:19<1:18:07,  2.01it/s]"
          ]
        },
        {
          "output_type": "stream",
          "name": "stdout",
          "text": [
            "./exp/smpl/example\n",
            "iter:20600 loss = 1.498089075088501 lr=0.0001344093853365935\n",
            "Validate: iter: 20600, camera: 58\n"
          ]
        },
        {
          "output_type": "stream",
          "name": "stderr",
          "text": [
            " 69%|██████▉   | 20699/30000 [3:13:13<1:19:13,  1.96it/s]"
          ]
        },
        {
          "output_type": "stream",
          "name": "stdout",
          "text": [
            "./exp/smpl/example\n",
            "iter:20700 loss = 1.4736227989196777 lr=0.00013228682109377437\n",
            "Validate: iter: 20700, camera: 58\n"
          ]
        },
        {
          "output_type": "stream",
          "name": "stderr",
          "text": [
            " 69%|██████▉   | 20799/30000 [3:14:07<1:18:17,  1.96it/s]"
          ]
        },
        {
          "output_type": "stream",
          "name": "stdout",
          "text": [
            "./exp/smpl/example\n",
            "iter:20800 loss = 1.2342863082885742 lr=0.00013017902433636502\n",
            "Validate: iter: 20800, camera: 58\n"
          ]
        },
        {
          "output_type": "stream",
          "name": "stderr",
          "text": [
            " 70%|██████▉   | 20899/30000 [3:15:01<1:17:41,  1.95it/s]"
          ]
        },
        {
          "output_type": "stream",
          "name": "stdout",
          "text": [
            "./exp/smpl/example\n",
            "iter:20900 loss = 1.2375726699829102 lr=0.00012808623410973775\n",
            "Validate: iter: 20900, camera: 58\n"
          ]
        },
        {
          "output_type": "stream",
          "name": "stderr",
          "text": [
            " 70%|██████▉   | 20999/30000 [3:15:55<1:16:12,  1.97it/s]"
          ]
        },
        {
          "output_type": "stream",
          "name": "stdout",
          "text": [
            "./exp/smpl/example\n",
            "iter:21000 loss = 1.5492210388183594 lr=0.00012600868775737348\n",
            "Validate: iter: 21000, camera: 58\n",
            "threshold: 0.0\n"
          ]
        },
        {
          "output_type": "stream",
          "name": "stderr",
          "text": [
            "[main.py:919 -        validate_mesh() ] End\n",
            " 70%|███████   | 21099/30000 [3:16:59<1:13:45,  2.01it/s]"
          ]
        },
        {
          "output_type": "stream",
          "name": "stdout",
          "text": [
            "./exp/smpl/example\n",
            "iter:21100 loss = 1.4355794191360474 lr=0.00012394662089394438\n",
            "Validate: iter: 21100, camera: 58\n"
          ]
        },
        {
          "output_type": "stream",
          "name": "stderr",
          "text": [
            " 71%|███████   | 21199/30000 [3:17:53<1:14:41,  1.96it/s]"
          ]
        },
        {
          "output_type": "stream",
          "name": "stdout",
          "text": [
            "./exp/smpl/example\n",
            "iter:21200 loss = 1.3809601068496704 lr=0.00012190026737859266\n",
            "Validate: iter: 21200, camera: 58\n"
          ]
        },
        {
          "output_type": "stream",
          "name": "stderr",
          "text": [
            " 71%|███████   | 21299/30000 [3:18:46<1:13:57,  1.96it/s]"
          ]
        },
        {
          "output_type": "stream",
          "name": "stdout",
          "text": [
            "./exp/smpl/example\n",
            "iter:21300 loss = 1.3941031694412231 lr=0.0001198698592884085\n",
            "Validate: iter: 21300, camera: 58\n"
          ]
        },
        {
          "output_type": "stream",
          "name": "stderr",
          "text": [
            " 71%|███████▏  | 21399/30000 [3:19:40<1:12:15,  1.98it/s]"
          ]
        },
        {
          "output_type": "stream",
          "name": "stdout",
          "text": [
            "./exp/smpl/example\n",
            "iter:21400 loss = 1.4239840507507324 lr=0.00011785562689211054\n",
            "Validate: iter: 21400, camera: 58\n"
          ]
        },
        {
          "output_type": "stream",
          "name": "stderr",
          "text": [
            " 72%|███████▏  | 21499/30000 [3:20:33<1:12:13,  1.96it/s]"
          ]
        },
        {
          "output_type": "stream",
          "name": "stdout",
          "text": [
            "./exp/smpl/example\n",
            "iter:21500 loss = 1.3704309463500977 lr=0.00011585779862393073\n",
            "Validate: iter: 21500, camera: 58\n",
            "threshold: 0.0\n"
          ]
        },
        {
          "output_type": "stream",
          "name": "stderr",
          "text": [
            "[main.py:919 -        validate_mesh() ] End\n",
            " 72%|███████▏  | 21599/30000 [3:21:38<1:09:32,  2.01it/s]"
          ]
        },
        {
          "output_type": "stream",
          "name": "stdout",
          "text": [
            "./exp/smpl/example\n",
            "iter:21600 loss = 1.4188756942749023 lr=0.00011387660105770798\n",
            "Validate: iter: 21600, camera: 58\n"
          ]
        },
        {
          "output_type": "stream",
          "name": "stderr",
          "text": [
            " 72%|███████▏  | 21699/30000 [3:22:32<1:11:58,  1.92it/s]"
          ]
        },
        {
          "output_type": "stream",
          "name": "stdout",
          "text": [
            "./exp/smpl/example\n",
            "iter:21700 loss = 1.3924648761749268 lr=0.0001119122588811918\n",
            "Validate: iter: 21700, camera: 58\n"
          ]
        },
        {
          "output_type": "stream",
          "name": "stderr",
          "text": [
            " 73%|███████▎  | 21799/30000 [3:23:26<1:09:19,  1.97it/s]"
          ]
        },
        {
          "output_type": "stream",
          "name": "stdout",
          "text": [
            "./exp/smpl/example\n",
            "iter:21800 loss = 1.3764888048171997 lr=0.0001099649948705612\n",
            "Validate: iter: 21800, camera: 58\n"
          ]
        },
        {
          "output_type": "stream",
          "name": "stderr",
          "text": [
            " 73%|███████▎  | 21899/30000 [3:24:19<1:08:37,  1.97it/s]"
          ]
        },
        {
          "output_type": "stream",
          "name": "stdout",
          "text": [
            "./exp/smpl/example\n",
            "iter:21900 loss = 1.3398337364196777 lr=0.000108035029865159\n",
            "Validate: iter: 21900, camera: 58\n"
          ]
        },
        {
          "output_type": "stream",
          "name": "stderr",
          "text": [
            " 73%|███████▎  | 21999/30000 [3:25:13<1:07:32,  1.97it/s]"
          ]
        },
        {
          "output_type": "stream",
          "name": "stdout",
          "text": [
            "./exp/smpl/example\n",
            "iter:22000 loss = 1.2438123226165771 lr=0.00010612258274244685\n",
            "Validate: iter: 22000, camera: 58\n",
            "threshold: 0.0\n"
          ]
        },
        {
          "output_type": "stream",
          "name": "stderr",
          "text": [
            "[main.py:919 -        validate_mesh() ] End\n",
            " 74%|███████▎  | 22099/30000 [3:26:18<1:05:29,  2.01it/s]"
          ]
        },
        {
          "output_type": "stream",
          "name": "stdout",
          "text": [
            "./exp/smpl/example\n",
            "iter:22100 loss = 1.4747624397277832 lr=0.00010422787039318185\n",
            "Validate: iter: 22100, camera: 58\n"
          ]
        },
        {
          "output_type": "stream",
          "name": "stderr",
          "text": [
            " 74%|███████▍  | 22199/30000 [3:27:11<1:05:36,  1.98it/s]"
          ]
        },
        {
          "output_type": "stream",
          "name": "stdout",
          "text": [
            "./exp/smpl/example\n",
            "iter:22200 loss = 1.2184691429138184 lr=0.00010235110769681965\n",
            "Validate: iter: 22200, camera: 58\n"
          ]
        },
        {
          "output_type": "stream",
          "name": "stderr",
          "text": [
            " 74%|███████▍  | 22299/30000 [3:28:05<1:05:28,  1.96it/s]"
          ]
        },
        {
          "output_type": "stream",
          "name": "stdout",
          "text": [
            "./exp/smpl/example\n",
            "iter:22300 loss = 1.5259140729904175 lr=0.00010049250749714412\n",
            "Validate: iter: 22300, camera: 58\n"
          ]
        },
        {
          "output_type": "stream",
          "name": "stderr",
          "text": [
            " 75%|███████▍  | 22399/30000 [3:28:58<1:04:04,  1.98it/s]"
          ]
        },
        {
          "output_type": "stream",
          "name": "stdout",
          "text": [
            "./exp/smpl/example\n",
            "iter:22400 loss = 1.389803409576416 lr=9.865228057812953e-05\n",
            "Validate: iter: 22400, camera: 58\n"
          ]
        },
        {
          "output_type": "stream",
          "name": "stderr",
          "text": [
            " 75%|███████▍  | 22499/30000 [3:29:52<1:03:23,  1.97it/s]"
          ]
        },
        {
          "output_type": "stream",
          "name": "stdout",
          "text": [
            "./exp/smpl/example\n",
            "iter:22500 loss = 1.3031699657440186 lr=9.683063564003484e-05\n",
            "Validate: iter: 22500, camera: 58\n",
            "threshold: 0.0\n"
          ]
        },
        {
          "output_type": "stream",
          "name": "stderr",
          "text": [
            "[main.py:919 -        validate_mesh() ] End\n",
            " 75%|███████▌  | 22599/30000 [3:30:57<1:01:14,  2.01it/s]"
          ]
        },
        {
          "output_type": "stream",
          "name": "stdout",
          "text": [
            "./exp/smpl/example\n",
            "iter:22600 loss = 1.4007751941680908 lr=9.502777927573553e-05\n",
            "Validate: iter: 22600, camera: 58\n"
          ]
        },
        {
          "output_type": "stream",
          "name": "stderr",
          "text": [
            " 76%|███████▌  | 22699/30000 [3:31:51<1:01:22,  1.98it/s]"
          ]
        },
        {
          "output_type": "stream",
          "name": "stdout",
          "text": [
            "./exp/smpl/example\n",
            "iter:22700 loss = 1.5347981452941895 lr=9.324391594729359e-05\n",
            "Validate: iter: 22700, camera: 58\n"
          ]
        },
        {
          "output_type": "stream",
          "name": "stderr",
          "text": [
            " 76%|███████▌  | 22799/30000 [3:32:44<1:00:59,  1.97it/s]"
          ]
        },
        {
          "output_type": "stream",
          "name": "stdout",
          "text": [
            "./exp/smpl/example\n",
            "iter:22800 loss = 1.3076655864715576 lr=9.147924796276952e-05\n",
            "Validate: iter: 22800, camera: 58\n"
          ]
        },
        {
          "output_type": "stream",
          "name": "stderr",
          "text": [
            " 76%|███████▋  | 22899/30000 [3:33:38<1:00:00,  1.97it/s]"
          ]
        },
        {
          "output_type": "stream",
          "name": "stdout",
          "text": [
            "./exp/smpl/example\n",
            "iter:22900 loss = 1.2455310821533203 lr=8.973397545327852e-05\n",
            "Validate: iter: 22900, camera: 58\n"
          ]
        },
        {
          "output_type": "stream",
          "name": "stderr",
          "text": [
            " 77%|███████▋  | 22999/30000 [3:34:32<59:10,  1.97it/s]"
          ]
        },
        {
          "output_type": "stream",
          "name": "stdout",
          "text": [
            "./exp/smpl/example\n",
            "iter:23000 loss = 1.2441163063049316 lr=8.800829635029378e-05\n",
            "Validate: iter: 23000, camera: 58\n",
            "threshold: 0.0\n"
          ]
        },
        {
          "output_type": "stream",
          "name": "stderr",
          "text": [
            "[main.py:919 -        validate_mesh() ] End\n",
            " 77%|███████▋  | 23099/30000 [3:35:36<57:37,  2.00it/s]"
          ]
        },
        {
          "output_type": "stream",
          "name": "stdout",
          "text": [
            "./exp/smpl/example\n",
            "iter:23100 loss = 1.2593445777893066 lr=8.630240636319882e-05\n",
            "Validate: iter: 23100, camera: 58\n"
          ]
        },
        {
          "output_type": "stream",
          "name": "stderr",
          "text": [
            " 77%|███████▋  | 23199/30000 [3:36:30<57:31,  1.97it/s]"
          ]
        },
        {
          "output_type": "stream",
          "name": "stdout",
          "text": [
            "./exp/smpl/example\n",
            "iter:23200 loss = 1.576519250869751 lr=8.461649895709213e-05\n",
            "Validate: iter: 23200, camera: 58\n"
          ]
        },
        {
          "output_type": "stream",
          "name": "stderr",
          "text": [
            " 78%|███████▊  | 23299/30000 [3:37:23<56:44,  1.97it/s]"
          ]
        },
        {
          "output_type": "stream",
          "name": "stdout",
          "text": [
            "./exp/smpl/example\n",
            "iter:23300 loss = 1.2271959781646729 lr=8.295076533084661e-05\n",
            "Validate: iter: 23300, camera: 58\n"
          ]
        },
        {
          "output_type": "stream",
          "name": "stderr",
          "text": [
            " 78%|███████▊  | 23399/30000 [3:38:17<55:57,  1.97it/s]"
          ]
        },
        {
          "output_type": "stream",
          "name": "stdout",
          "text": [
            "./exp/smpl/example\n",
            "iter:23400 loss = 1.2822169065475464 lr=8.130539439542503e-05\n",
            "Validate: iter: 23400, camera: 58\n"
          ]
        },
        {
          "output_type": "stream",
          "name": "stderr",
          "text": [
            " 78%|███████▊  | 23499/30000 [3:39:11<55:42,  1.95it/s]"
          ]
        },
        {
          "output_type": "stream",
          "name": "stdout",
          "text": [
            "./exp/smpl/example\n",
            "iter:23500 loss = 1.4865751266479492 lr=7.968057275245652e-05\n",
            "Validate: iter: 23500, camera: 58\n",
            "threshold: 0.0\n"
          ]
        },
        {
          "output_type": "stream",
          "name": "stderr",
          "text": [
            "[main.py:919 -        validate_mesh() ] End\n",
            " 79%|███████▊  | 23599/30000 [3:40:16<53:32,  1.99it/s]"
          ]
        },
        {
          "output_type": "stream",
          "name": "stdout",
          "text": [
            "./exp/smpl/example\n",
            "iter:23600 loss = 1.41184401512146 lr=7.80764846730731e-05\n",
            "Validate: iter: 23600, camera: 58\n"
          ]
        },
        {
          "output_type": "stream",
          "name": "stderr",
          "text": [
            " 79%|███████▉  | 23699/30000 [3:41:10<53:28,  1.96it/s]"
          ]
        },
        {
          "output_type": "stream",
          "name": "stdout",
          "text": [
            "./exp/smpl/example\n",
            "iter:23700 loss = 1.4221184253692627 lr=7.649331207701229e-05\n",
            "Validate: iter: 23700, camera: 58\n"
          ]
        },
        {
          "output_type": "stream",
          "name": "stderr",
          "text": [
            " 79%|███████▉  | 23799/30000 [3:42:03<52:24,  1.97it/s]"
          ]
        },
        {
          "output_type": "stream",
          "name": "stdout",
          "text": [
            "./exp/smpl/example\n",
            "iter:23800 loss = 1.3126177787780762 lr=7.493123451198488e-05\n",
            "Validate: iter: 23800, camera: 58\n"
          ]
        },
        {
          "output_type": "stream",
          "name": "stderr",
          "text": [
            " 80%|███████▉  | 23899/30000 [3:42:57<51:44,  1.97it/s]"
          ]
        },
        {
          "output_type": "stream",
          "name": "stdout",
          "text": [
            "./exp/smpl/example\n",
            "iter:23900 loss = 1.286670207977295 lr=7.339042913331318e-05\n",
            "Validate: iter: 23900, camera: 58\n"
          ]
        },
        {
          "output_type": "stream",
          "name": "stderr",
          "text": [
            " 80%|███████▉  | 23999/30000 [3:43:51<51:02,  1.96it/s]"
          ]
        },
        {
          "output_type": "stream",
          "name": "stdout",
          "text": [
            "./exp/smpl/example\n",
            "iter:24000 loss = 1.2863969802856445 lr=7.187107068383897e-05\n",
            "Validate: iter: 24000, camera: 58\n",
            "threshold: 0.0\n"
          ]
        },
        {
          "output_type": "stream",
          "name": "stderr",
          "text": [
            "[main.py:919 -        validate_mesh() ] End\n",
            " 80%|████████  | 24099/30000 [3:44:55<49:25,  1.99it/s]"
          ]
        },
        {
          "output_type": "stream",
          "name": "stdout",
          "text": [
            "./exp/smpl/example\n",
            "iter:24100 loss = 1.5582685470581055 lr=7.037333147410676e-05\n",
            "Validate: iter: 24100, camera: 58\n"
          ]
        },
        {
          "output_type": "stream",
          "name": "stderr",
          "text": [
            " 81%|████████  | 24199/30000 [3:45:49<49:05,  1.97it/s]"
          ]
        },
        {
          "output_type": "stream",
          "name": "stdout",
          "text": [
            "./exp/smpl/example\n",
            "iter:24200 loss = 1.3121740818023682 lr=6.889738136282131e-05\n",
            "Validate: iter: 24200, camera: 58\n"
          ]
        },
        {
          "output_type": "stream",
          "name": "stderr",
          "text": [
            " 81%|████████  | 24299/30000 [3:46:43<48:29,  1.96it/s]"
          ]
        },
        {
          "output_type": "stream",
          "name": "stdout",
          "text": [
            "./exp/smpl/example\n",
            "iter:24300 loss = 1.4807376861572266 lr=6.744338773758443e-05\n",
            "Validate: iter: 24300, camera: 58\n"
          ]
        },
        {
          "output_type": "stream",
          "name": "stderr",
          "text": [
            " 81%|████████▏ | 24399/30000 [3:47:36<47:39,  1.96it/s]"
          ]
        },
        {
          "output_type": "stream",
          "name": "stdout",
          "text": [
            "./exp/smpl/example\n",
            "iter:24400 loss = 1.3448505401611328 lr=6.601151549591126e-05\n",
            "Validate: iter: 24400, camera: 58\n"
          ]
        },
        {
          "output_type": "stream",
          "name": "stderr",
          "text": [
            " 82%|████████▏ | 24499/30000 [3:48:30<46:25,  1.97it/s]"
          ]
        },
        {
          "output_type": "stream",
          "name": "stdout",
          "text": [
            "./exp/smpl/example\n",
            "iter:24500 loss = 1.3598653078079224 lr=6.460192702652947e-05\n",
            "Validate: iter: 24500, camera: 58\n",
            "threshold: 0.0\n"
          ]
        },
        {
          "output_type": "stream",
          "name": "stderr",
          "text": [
            "[main.py:919 -        validate_mesh() ] End\n",
            " 82%|████████▏ | 24599/30000 [3:49:35<44:55,  2.00it/s]"
          ]
        },
        {
          "output_type": "stream",
          "name": "stdout",
          "text": [
            "./exp/smpl/example\n",
            "iter:24600 loss = 1.2969820499420166 lr=6.321478219096247e-05\n",
            "Validate: iter: 24600, camera: 58\n"
          ]
        },
        {
          "output_type": "stream",
          "name": "stderr",
          "text": [
            " 82%|████████▏ | 24699/30000 [3:50:29<44:51,  1.97it/s]"
          ]
        },
        {
          "output_type": "stream",
          "name": "stdout",
          "text": [
            "./exp/smpl/example\n",
            "iter:24700 loss = 1.3120343685150146 lr=6.18502383053997e-05\n",
            "Validate: iter: 24700, camera: 58\n"
          ]
        },
        {
          "output_type": "stream",
          "name": "stderr",
          "text": [
            " 83%|████████▎ | 24799/30000 [3:51:22<43:54,  1.97it/s]"
          ]
        },
        {
          "output_type": "stream",
          "name": "stdout",
          "text": [
            "./exp/smpl/example\n",
            "iter:24800 loss = 1.582430362701416 lr=6.050845012285531e-05\n",
            "Validate: iter: 24800, camera: 58\n"
          ]
        },
        {
          "output_type": "stream",
          "name": "stderr",
          "text": [
            " 83%|████████▎ | 24899/30000 [3:52:16<43:02,  1.98it/s]"
          ]
        },
        {
          "output_type": "stream",
          "name": "stdout",
          "text": [
            "./exp/smpl/example\n",
            "iter:24900 loss = 1.3307063579559326 lr=5.9189569815617744e-05\n",
            "Validate: iter: 24900, camera: 58\n"
          ]
        },
        {
          "output_type": "stream",
          "name": "stderr",
          "text": [
            " 83%|████████▎ | 24999/30000 [3:53:10<42:07,  1.98it/s]"
          ]
        },
        {
          "output_type": "stream",
          "name": "stdout",
          "text": [
            "./exp/smpl/example\n",
            "iter:25000 loss = 1.4119300842285156 lr=5.789374695799156e-05\n",
            "Validate: iter: 25000, camera: 58\n",
            "threshold: 0.0\n"
          ]
        },
        {
          "output_type": "stream",
          "name": "stderr",
          "text": [
            "[main.py:919 -        validate_mesh() ] End\n",
            " 84%|████████▎ | 25099/30000 [3:54:15<40:52,  2.00it/s]"
          ]
        },
        {
          "output_type": "stream",
          "name": "stdout",
          "text": [
            "./exp/smpl/example\n",
            "iter:25100 loss = 1.3553520441055298 lr=5.662112850933457e-05\n",
            "Validate: iter: 25100, camera: 58\n"
          ]
        },
        {
          "output_type": "stream",
          "name": "stderr",
          "text": [
            " 84%|████████▍ | 25199/30000 [3:55:09<40:38,  1.97it/s]"
          ]
        },
        {
          "output_type": "stream",
          "name": "stdout",
          "text": [
            "./exp/smpl/example\n",
            "iter:25200 loss = 1.2988193035125732 lr=5.537185879739095e-05\n",
            "Validate: iter: 25200, camera: 58\n"
          ]
        },
        {
          "output_type": "stream",
          "name": "stderr",
          "text": [
            " 84%|████████▍ | 25299/30000 [3:56:03<39:46,  1.97it/s]"
          ]
        },
        {
          "output_type": "stream",
          "name": "stdout",
          "text": [
            "./exp/smpl/example\n",
            "iter:25300 loss = 1.4981704950332642 lr=5.414607950192307e-05\n",
            "Validate: iter: 25300, camera: 58\n"
          ]
        },
        {
          "output_type": "stream",
          "name": "stderr",
          "text": [
            " 85%|████████▍ | 25399/30000 [3:56:57<38:51,  1.97it/s]"
          ]
        },
        {
          "output_type": "stream",
          "name": "stdout",
          "text": [
            "./exp/smpl/example\n",
            "iter:25400 loss = 1.3241167068481445 lr=5.2943929638643556e-05\n",
            "Validate: iter: 25400, camera: 58\n"
          ]
        },
        {
          "output_type": "stream",
          "name": "stderr",
          "text": [
            " 85%|████████▍ | 25499/30000 [3:57:50<38:11,  1.96it/s]"
          ]
        },
        {
          "output_type": "stream",
          "name": "stdout",
          "text": [
            "./exp/smpl/example\n",
            "iter:25500 loss = 1.2263190746307373 lr=5.1765545543449584e-05\n",
            "Validate: iter: 25500, camera: 58\n",
            "threshold: 0.0\n"
          ]
        },
        {
          "output_type": "stream",
          "name": "stderr",
          "text": [
            "[main.py:919 -        validate_mesh() ] End\n",
            " 85%|████████▌ | 25599/30000 [3:58:55<36:28,  2.01it/s]"
          ]
        },
        {
          "output_type": "stream",
          "name": "stdout",
          "text": [
            "./exp/smpl/example\n",
            "iter:25600 loss = 1.4479057788848877 lr=5.061106085696087e-05\n",
            "Validate: iter: 25600, camera: 58\n"
          ]
        },
        {
          "output_type": "stream",
          "name": "stderr",
          "text": [
            " 86%|████████▌ | 25699/30000 [3:59:49<36:20,  1.97it/s]"
          ]
        },
        {
          "output_type": "stream",
          "name": "stdout",
          "text": [
            "./exp/smpl/example\n",
            "iter:25700 loss = 1.2229821681976318 lr=4.948060650936371e-05\n",
            "Validate: iter: 25700, camera: 58\n"
          ]
        },
        {
          "output_type": "stream",
          "name": "stderr",
          "text": [
            " 86%|████████▌ | 25799/30000 [4:00:43<35:35,  1.97it/s]"
          ]
        },
        {
          "output_type": "stream",
          "name": "stdout",
          "text": [
            "./exp/smpl/example\n",
            "iter:25800 loss = 1.451499104499817 lr=4.837431070556189e-05\n",
            "Validate: iter: 25800, camera: 58\n"
          ]
        },
        {
          "output_type": "stream",
          "name": "stderr",
          "text": [
            " 86%|████████▋ | 25899/30000 [4:01:37<34:47,  1.96it/s]"
          ]
        },
        {
          "output_type": "stream",
          "name": "stdout",
          "text": [
            "./exp/smpl/example\n",
            "iter:25900 loss = 1.425216794013977 lr=4.7292298910637284e-05\n",
            "Validate: iter: 25900, camera: 58\n"
          ]
        },
        {
          "output_type": "stream",
          "name": "stderr",
          "text": [
            " 87%|████████▋ | 25999/30000 [4:02:31<34:17,  1.94it/s]"
          ]
        },
        {
          "output_type": "stream",
          "name": "stdout",
          "text": [
            "./exp/smpl/example\n",
            "iter:26000 loss = 1.2231287956237793 lr=4.623469383562058e-05\n",
            "Validate: iter: 26000, camera: 58\n",
            "threshold: 0.0\n"
          ]
        },
        {
          "output_type": "stream",
          "name": "stderr",
          "text": [
            "[main.py:919 -        validate_mesh() ] End\n",
            " 87%|████████▋ | 26099/30000 [4:03:36<32:28,  2.00it/s]"
          ]
        },
        {
          "output_type": "stream",
          "name": "stdout",
          "text": [
            "./exp/smpl/example\n",
            "iter:26100 loss = 1.2167097330093384 lr=4.520161542357466e-05\n",
            "Validate: iter: 26100, camera: 58\n"
          ]
        },
        {
          "output_type": "stream",
          "name": "stderr",
          "text": [
            " 87%|████████▋ | 26199/30000 [4:04:29<31:58,  1.98it/s]"
          ]
        },
        {
          "output_type": "stream",
          "name": "stdout",
          "text": [
            "./exp/smpl/example\n",
            "iter:26200 loss = 1.2908382415771484 lr=4.4193180835992084e-05\n",
            "Validate: iter: 26200, camera: 58\n"
          ]
        },
        {
          "output_type": "stream",
          "name": "stderr",
          "text": [
            " 88%|████████▊ | 26299/30000 [4:05:23<31:09,  1.98it/s]"
          ]
        },
        {
          "output_type": "stream",
          "name": "stdout",
          "text": [
            "./exp/smpl/example\n",
            "iter:26300 loss = 1.4726760387420654 lr=4.3209504439507376e-05\n",
            "Validate: iter: 26300, camera: 58\n"
          ]
        },
        {
          "output_type": "stream",
          "name": "stderr",
          "text": [
            " 88%|████████▊ | 26399/30000 [4:06:17<30:35,  1.96it/s]"
          ]
        },
        {
          "output_type": "stream",
          "name": "stdout",
          "text": [
            "./exp/smpl/example\n",
            "iter:26400 loss = 1.2006555795669556 lr=4.225069779292719e-05\n",
            "Validate: iter: 26400, camera: 58\n"
          ]
        },
        {
          "output_type": "stream",
          "name": "stderr",
          "text": [
            " 88%|████████▊ | 26499/30000 [4:07:11<29:38,  1.97it/s]"
          ]
        },
        {
          "output_type": "stream",
          "name": "stdout",
          "text": [
            "./exp/smpl/example\n",
            "iter:26500 loss = 1.3632147312164307 lr=4.13168696345779e-05\n",
            "Validate: iter: 26500, camera: 58\n",
            "threshold: 0.0\n"
          ]
        },
        {
          "output_type": "stream",
          "name": "stderr",
          "text": [
            "[main.py:919 -        validate_mesh() ] End\n",
            " 89%|████████▊ | 26599/30000 [4:08:15<28:24,  2.00it/s]"
          ]
        },
        {
          "output_type": "stream",
          "name": "stdout",
          "text": [
            "./exp/smpl/example\n",
            "iter:26600 loss = 1.502406120300293 lr=4.040812586997409e-05\n",
            "Validate: iter: 26600, camera: 58\n"
          ]
        },
        {
          "output_type": "stream",
          "name": "stderr",
          "text": [
            " 89%|████████▉ | 26699/30000 [4:09:09<28:06,  1.96it/s]"
          ]
        },
        {
          "output_type": "stream",
          "name": "stdout",
          "text": [
            "./exp/smpl/example\n",
            "iter:26700 loss = 1.2804429531097412 lr=3.952456955980741e-05\n",
            "Validate: iter: 26700, camera: 58\n"
          ]
        },
        {
          "output_type": "stream",
          "name": "stderr",
          "text": [
            " 89%|████████▉ | 26799/30000 [4:10:03<27:10,  1.96it/s]"
          ]
        },
        {
          "output_type": "stream",
          "name": "stdout",
          "text": [
            "./exp/smpl/example\n",
            "iter:26800 loss = 1.3067998886108398 lr=3.866630090825866e-05\n",
            "Validate: iter: 26800, camera: 58\n"
          ]
        },
        {
          "output_type": "stream",
          "name": "stderr",
          "text": [
            " 90%|████████▉ | 26899/30000 [4:10:57<26:17,  1.97it/s]"
          ]
        },
        {
          "output_type": "stream",
          "name": "stdout",
          "text": [
            "./exp/smpl/example\n",
            "iter:26900 loss = 1.460604190826416 lr=3.7833417251633515e-05\n",
            "Validate: iter: 26900, camera: 58\n"
          ]
        },
        {
          "output_type": "stream",
          "name": "stderr",
          "text": [
            " 90%|████████▉ | 26999/30000 [4:11:51<25:42,  1.95it/s]"
          ]
        },
        {
          "output_type": "stream",
          "name": "stdout",
          "text": [
            "./exp/smpl/example\n",
            "iter:27000 loss = 1.3693243265151978 lr=3.702601304732372e-05\n",
            "Validate: iter: 27000, camera: 58\n",
            "threshold: 0.0\n"
          ]
        },
        {
          "output_type": "stream",
          "name": "stderr",
          "text": [
            "[main.py:919 -        validate_mesh() ] End\n",
            " 90%|█████████ | 27099/30000 [4:12:55<24:10,  2.00it/s]"
          ]
        },
        {
          "output_type": "stream",
          "name": "stdout",
          "text": [
            "./exp/smpl/example\n",
            "iter:27100 loss = 1.2930901050567627 lr=3.624417986309456e-05\n",
            "Validate: iter: 27100, camera: 58\n"
          ]
        },
        {
          "output_type": "stream",
          "name": "stderr",
          "text": [
            " 91%|█████████ | 27199/30000 [4:13:49<23:50,  1.96it/s]"
          ]
        },
        {
          "output_type": "stream",
          "name": "stdout",
          "text": [
            "./exp/smpl/example\n",
            "iter:27200 loss = 1.3890941143035889 lr=3.54880063667003e-05\n",
            "Validate: iter: 27200, camera: 58\n"
          ]
        },
        {
          "output_type": "stream",
          "name": "stderr",
          "text": [
            " 91%|█████████ | 27299/30000 [4:14:43<24:03,  1.87it/s]"
          ]
        },
        {
          "output_type": "stream",
          "name": "stdout",
          "text": [
            "./exp/smpl/example\n",
            "iter:27300 loss = 1.3720605373382568 lr=3.475757831582812e-05\n",
            "Validate: iter: 27300, camera: 58\n"
          ]
        },
        {
          "output_type": "stream",
          "name": "stderr",
          "text": [
            " 91%|█████████▏| 27399/30000 [4:15:37<22:05,  1.96it/s]"
          ]
        },
        {
          "output_type": "stream",
          "name": "stdout",
          "text": [
            "./exp/smpl/example\n",
            "iter:27400 loss = 1.4197721481323242 lr=3.405297854837263e-05\n",
            "Validate: iter: 27400, camera: 58\n"
          ]
        },
        {
          "output_type": "stream",
          "name": "stderr",
          "text": [
            " 92%|█████████▏| 27499/30000 [4:16:30<21:14,  1.96it/s]"
          ]
        },
        {
          "output_type": "stream",
          "name": "stdout",
          "text": [
            "./exp/smpl/example\n",
            "iter:27500 loss = 1.190674901008606 lr=3.337428697304102e-05\n",
            "Validate: iter: 27500, camera: 58\n",
            "threshold: 0.0\n"
          ]
        },
        {
          "output_type": "stream",
          "name": "stderr",
          "text": [
            "[main.py:919 -        validate_mesh() ] End\n",
            " 92%|█████████▏| 27599/30000 [4:17:35<19:56,  2.01it/s]"
          ]
        },
        {
          "output_type": "stream",
          "name": "stdout",
          "text": [
            "./exp/smpl/example\n",
            "iter:27600 loss = 1.2605669498443604 lr=3.272158056029065e-05\n",
            "Validate: iter: 27600, camera: 58\n"
          ]
        },
        {
          "output_type": "stream",
          "name": "stderr",
          "text": [
            " 92%|█████████▏| 27699/30000 [4:18:29<19:36,  1.96it/s]"
          ]
        },
        {
          "output_type": "stream",
          "name": "stdout",
          "text": [
            "./exp/smpl/example\n",
            "iter:27700 loss = 1.2502192258834839 lr=3.2094933333599874e-05\n",
            "Validate: iter: 27700, camera: 58\n"
          ]
        },
        {
          "output_type": "stream",
          "name": "stderr",
          "text": [
            " 93%|█████████▎| 27799/30000 [4:19:23<18:41,  1.96it/s]"
          ]
        },
        {
          "output_type": "stream",
          "name": "stdout",
          "text": [
            "./exp/smpl/example\n",
            "iter:27800 loss = 1.3807928562164307 lr=3.149441636107295e-05\n",
            "Validate: iter: 27800, camera: 58\n"
          ]
        },
        {
          "output_type": "stream",
          "name": "stderr",
          "text": [
            " 93%|█████████▎| 27899/30000 [4:20:16<17:47,  1.97it/s]"
          ]
        },
        {
          "output_type": "stream",
          "name": "stdout",
          "text": [
            "./exp/smpl/example\n",
            "iter:27900 loss = 1.3102226257324219 lr=3.0920097747380254e-05\n",
            "Validate: iter: 27900, camera: 58\n"
          ]
        },
        {
          "output_type": "stream",
          "name": "stderr",
          "text": [
            " 93%|█████████▎| 27999/30000 [4:21:10<16:58,  1.97it/s]"
          ]
        },
        {
          "output_type": "stream",
          "name": "stdout",
          "text": [
            "./exp/smpl/example\n",
            "iter:28000 loss = 1.2628810405731201 lr=3.0372042626034555e-05\n",
            "Validate: iter: 28000, camera: 58\n",
            "threshold: 0.0\n"
          ]
        },
        {
          "output_type": "stream",
          "name": "stderr",
          "text": [
            "[main.py:919 -        validate_mesh() ] End\n",
            " 94%|█████████▎| 28099/30000 [4:22:14<15:45,  2.01it/s]"
          ]
        },
        {
          "output_type": "stream",
          "name": "stdout",
          "text": [
            "./exp/smpl/example\n",
            "iter:28100 loss = 1.4441428184509277 lr=2.9850313152004155e-05\n",
            "Validate: iter: 28100, camera: 58\n"
          ]
        },
        {
          "output_type": "stream",
          "name": "stderr",
          "text": [
            " 94%|█████████▍| 28199/30000 [4:23:08<15:13,  1.97it/s]"
          ]
        },
        {
          "output_type": "stream",
          "name": "stdout",
          "text": [
            "./exp/smpl/example\n",
            "iter:28200 loss = 1.3685846328735352 lr=2.9354968494663936e-05\n",
            "Validate: iter: 28200, camera: 58\n"
          ]
        },
        {
          "output_type": "stream",
          "name": "stderr",
          "text": [
            " 94%|█████████▍| 28299/30000 [4:24:02<14:22,  1.97it/s]"
          ]
        },
        {
          "output_type": "stream",
          "name": "stdout",
          "text": [
            "./exp/smpl/example\n",
            "iter:28300 loss = 1.2738584280014038 lr=2.8886064831084902e-05\n",
            "Validate: iter: 28300, camera: 58\n"
          ]
        },
        {
          "output_type": "stream",
          "name": "stderr",
          "text": [
            " 95%|█████████▍| 28399/30000 [4:24:56<13:32,  1.97it/s]"
          ]
        },
        {
          "output_type": "stream",
          "name": "stdout",
          "text": [
            "./exp/smpl/example\n",
            "iter:28400 loss = 1.5363194942474365 lr=2.8443655339663224e-05\n",
            "Validate: iter: 28400, camera: 58\n"
          ]
        },
        {
          "output_type": "stream",
          "name": "stderr",
          "text": [
            " 95%|█████████▍| 28499/30000 [4:25:50<12:45,  1.96it/s]"
          ]
        },
        {
          "output_type": "stream",
          "name": "stdout",
          "text": [
            "./exp/smpl/example\n",
            "iter:28500 loss = 1.240600824356079 lr=2.802779019408918e-05\n",
            "Validate: iter: 28500, camera: 58\n",
            "threshold: 0.0\n"
          ]
        },
        {
          "output_type": "stream",
          "name": "stderr",
          "text": [
            "[main.py:919 -        validate_mesh() ] End\n",
            " 95%|█████████▌| 28599/30000 [4:26:55<11:37,  2.01it/s]"
          ]
        },
        {
          "output_type": "stream",
          "name": "stdout",
          "text": [
            "./exp/smpl/example\n",
            "iter:28600 loss = 1.2389472723007202 lr=2.763851655765695e-05\n",
            "Validate: iter: 28600, camera: 58\n"
          ]
        },
        {
          "output_type": "stream",
          "name": "stderr",
          "text": [
            " 96%|█████████▌| 28699/30000 [4:27:48<10:55,  1.98it/s]"
          ]
        },
        {
          "output_type": "stream",
          "name": "stdout",
          "text": [
            "./exp/smpl/example\n",
            "iter:28700 loss = 1.3838751316070557 lr=2.7275878577915988e-05\n",
            "Validate: iter: 28700, camera: 58\n"
          ]
        },
        {
          "output_type": "stream",
          "name": "stderr",
          "text": [
            " 96%|█████████▌| 28799/30000 [4:28:42<10:08,  1.97it/s]"
          ]
        },
        {
          "output_type": "stream",
          "name": "stdout",
          "text": [
            "./exp/smpl/example\n",
            "iter:28800 loss = 1.4457205533981323 lr=2.6939917381664033e-05\n",
            "Validate: iter: 28800, camera: 58\n"
          ]
        },
        {
          "output_type": "stream",
          "name": "stderr",
          "text": [
            " 96%|█████████▋| 28899/30000 [4:29:36<09:15,  1.98it/s]"
          ]
        },
        {
          "output_type": "stream",
          "name": "stdout",
          "text": [
            "./exp/smpl/example\n",
            "iter:28900 loss = 1.427990198135376 lr=2.6630671070283002e-05\n",
            "Validate: iter: 28900, camera: 58\n"
          ]
        },
        {
          "output_type": "stream",
          "name": "stderr",
          "text": [
            " 97%|█████████▋| 28999/30000 [4:30:29<08:27,  1.97it/s]"
          ]
        },
        {
          "output_type": "stream",
          "name": "stdout",
          "text": [
            "./exp/smpl/example\n",
            "iter:29000 loss = 1.4616667032241821 lr=2.634817471541797e-05\n",
            "Validate: iter: 29000, camera: 58\n",
            "threshold: 0.0\n"
          ]
        },
        {
          "output_type": "stream",
          "name": "stderr",
          "text": [
            "[main.py:919 -        validate_mesh() ] End\n",
            " 97%|█████████▋| 29099/30000 [4:31:34<07:30,  2.00it/s]"
          ]
        },
        {
          "output_type": "stream",
          "name": "stdout",
          "text": [
            "./exp/smpl/example\n",
            "iter:29100 loss = 1.5056180953979492 lr=2.609246035499962e-05\n",
            "Validate: iter: 29100, camera: 58\n"
          ]
        },
        {
          "output_type": "stream",
          "name": "stderr",
          "text": [
            " 97%|█████████▋| 29199/30000 [4:32:28<06:46,  1.97it/s]"
          ]
        },
        {
          "output_type": "stream",
          "name": "stdout",
          "text": [
            "./exp/smpl/example\n",
            "iter:29200 loss = 1.2193654775619507 lr=2.5863556989610805e-05\n",
            "Validate: iter: 29200, camera: 58\n"
          ]
        },
        {
          "output_type": "stream",
          "name": "stderr",
          "text": [
            " 98%|█████████▊| 29299/30000 [4:33:21<05:55,  1.97it/s]"
          ]
        },
        {
          "output_type": "stream",
          "name": "stdout",
          "text": [
            "./exp/smpl/example\n",
            "iter:29300 loss = 1.3566431999206543 lr=2.5661490579197688e-05\n",
            "Validate: iter: 29300, camera: 58\n"
          ]
        },
        {
          "output_type": "stream",
          "name": "stderr",
          "text": [
            " 98%|█████████▊| 29399/30000 [4:34:16<05:13,  1.92it/s]"
          ]
        },
        {
          "output_type": "stream",
          "name": "stdout",
          "text": [
            "./exp/smpl/example\n",
            "iter:29400 loss = 1.3442068099975586 lr=2.5486284040125455e-05\n",
            "Validate: iter: 29400, camera: 58\n"
          ]
        },
        {
          "output_type": "stream",
          "name": "stderr",
          "text": [
            " 98%|█████████▊| 29499/30000 [4:35:09<04:14,  1.97it/s]"
          ]
        },
        {
          "output_type": "stream",
          "name": "stdout",
          "text": [
            "./exp/smpl/example\n",
            "iter:29500 loss = 1.2723040580749512 lr=2.5337957242579563e-05\n",
            "Validate: iter: 29500, camera: 58\n",
            "threshold: 0.0\n"
          ]
        },
        {
          "output_type": "stream",
          "name": "stderr",
          "text": [
            "[main.py:919 -        validate_mesh() ] End\n",
            " 99%|█████████▊| 29599/30000 [4:36:14<03:23,  1.97it/s]"
          ]
        },
        {
          "output_type": "stream",
          "name": "stdout",
          "text": [
            "./exp/smpl/example\n",
            "iter:29600 loss = 1.2421550750732422 lr=2.521652700831214e-05\n",
            "Validate: iter: 29600, camera: 58\n"
          ]
        },
        {
          "output_type": "stream",
          "name": "stderr",
          "text": [
            " 99%|█████████▉| 29699/30000 [4:37:08<02:33,  1.96it/s]"
          ]
        },
        {
          "output_type": "stream",
          "name": "stdout",
          "text": [
            "./exp/smpl/example\n",
            "iter:29700 loss = 1.2650752067565918 lr=2.512200710873425e-05\n",
            "Validate: iter: 29700, camera: 58\n"
          ]
        },
        {
          "output_type": "stream",
          "name": "stderr",
          "text": [
            " 99%|█████████▉| 29799/30000 [4:38:01<01:42,  1.96it/s]"
          ]
        },
        {
          "output_type": "stream",
          "name": "stdout",
          "text": [
            "./exp/smpl/example\n",
            "iter:29800 loss = 1.3094788789749146 lr=2.505440826335406e-05\n",
            "Validate: iter: 29800, camera: 58\n"
          ]
        },
        {
          "output_type": "stream",
          "name": "stderr",
          "text": [
            "100%|█████████▉| 29899/30000 [4:38:55<00:51,  1.96it/s]"
          ]
        },
        {
          "output_type": "stream",
          "name": "stdout",
          "text": [
            "./exp/smpl/example\n",
            "iter:29900 loss = 1.2528903484344482 lr=2.5013738138561198e-05\n",
            "Validate: iter: 29900, camera: 58\n"
          ]
        },
        {
          "output_type": "stream",
          "name": "stderr",
          "text": [
            "100%|█████████▉| 29999/30000 [4:39:49<00:00,  1.96it/s]"
          ]
        },
        {
          "output_type": "stream",
          "name": "stdout",
          "text": [
            "./exp/smpl/example\n",
            "iter:30000 loss = 1.3797194957733154 lr=2.500000134675727e-05\n",
            "Validate: iter: 30000, camera: 58\n",
            "threshold: 0.0\n"
          ]
        },
        {
          "output_type": "stream",
          "name": "stderr",
          "text": [
            "[main.py:919 -        validate_mesh() ] End\n",
            "100%|██████████| 30000/30000 [4:40:04<00:00,  1.79it/s]\n"
          ]
        }
      ]
    },
    {
      "cell_type": "code",
      "source": [
        "#@title Generate a Video of Optimization Process (RGB)\n",
        "\n",
        "import os\n",
        "from tqdm import tqdm\n",
        "import numpy as np\n",
        "from IPython import display\n",
        "from PIL import Image\n",
        "from base64 import b64encode\n",
        "\n",
        "image_folder = 'exp/smpl/example/validations_extra_fine'\n",
        "image_fname = os.listdir(image_folder)\n",
        "image_fname = sorted(image_fname)\n",
        "image_fname = [os.path.join(image_folder, f) for f in image_fname]\n",
        "\n",
        "init_frame = 1\n",
        "last_frame = len(image_fname)\n",
        "min_fps = 10\n",
        "max_fps = 60\n",
        "total_frames = last_frame - init_frame\n",
        "\n",
        "length = 15 #Desired time of the video in seconds\n",
        "\n",
        "frames = []\n",
        "for i in range(init_frame, last_frame): #\n",
        "    frames.append(Image.open(image_fname[i]))\n",
        "\n",
        "#fps = last_frame/10\n",
        "fps = np.clip(total_frames/length,min_fps,max_fps)\n",
        "\n",
        "from subprocess import Popen, PIPE\n",
        "p = Popen(['ffmpeg', '-y', '-f', 'image2pipe', '-vcodec', 'png', '-r', str(fps), '-i', '-', '-vcodec', 'libx264', '-r', str(fps), '-pix_fmt', 'yuv420p', '-crf', '17', '-preset', 'veryslow', 'video.mp4'], stdin=PIPE)\n",
        "for im in tqdm(frames):\n",
        "    im.save(p.stdin, 'PNG')\n",
        "p.stdin.close()\n",
        "p.wait()\n",
        "mp4 = open('video.mp4','rb').read()\n",
        "data_url = \"data:video/mp4;base64,\" + b64encode(mp4).decode()\n",
        "\n",
        "display.HTML(\"\"\"\n",
        "<video width=400 controls>\n",
        "      <source src=\"%s\" type=\"video/mp4\">\n",
        "</video>\n",
        "\"\"\" % data_url)"
      ],
      "metadata": {
        "id": "SIzybbXwG997",
        "colab": {
          "base_uri": "https://localhost:8080/",
          "height": 439
        },
        "outputId": "64ea47ff-2f2a-49c1-de68-06e0594d7fb9"
      },
      "execution_count": 9,
      "outputs": [
        {
          "output_type": "stream",
          "name": "stderr",
          "text": [
            "100%|██████████| 299/299 [00:03<00:00, 75.96it/s]\n"
          ]
        },
        {
          "output_type": "execute_result",
          "data": {
            "text/plain": [
              "<IPython.core.display.HTML object>"
            ],
            "text/html": [
              "\n",
              "<video width=400 controls>\n",
              "      <source src=\"data:video/mp4;base64,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\" type=\"video/mp4\">\n",
              "</video>\n"
            ]
          },
          "metadata": {},
          "execution_count": 9
        }
      ]
    },
    {
      "cell_type": "code",
      "source": [
        "#@title Generate a Video of Optimization Process (Normal)\n",
        "\n",
        "import os\n",
        "from tqdm import tqdm\n",
        "import numpy as np\n",
        "from IPython import display\n",
        "from PIL import Image\n",
        "from base64 import b64encode\n",
        "\n",
        "image_folder = 'exp/smpl/example/normals'\n",
        "image_fname = os.listdir(image_folder)\n",
        "image_fname = sorted(image_fname)\n",
        "image_fname = [os.path.join(image_folder, f) for f in image_fname]\n",
        "\n",
        "init_frame = 1\n",
        "last_frame = len(image_fname)\n",
        "min_fps = 10\n",
        "max_fps = 60\n",
        "total_frames = last_frame - init_frame\n",
        "\n",
        "length = 15 #Desired time of the video in seconds\n",
        "\n",
        "frames = []\n",
        "for i in range(init_frame, last_frame): #\n",
        "    frames.append(Image.open(image_fname[i]))\n",
        "\n",
        "#fps = last_frame/10\n",
        "fps = np.clip(total_frames/length,min_fps,max_fps)\n",
        "\n",
        "from subprocess import Popen, PIPE\n",
        "p = Popen(['ffmpeg', '-y', '-f', 'image2pipe', '-vcodec', 'png', '-r', str(fps), '-i', '-', '-vcodec', 'libx264', '-r', str(fps), '-pix_fmt', 'yuv420p', '-crf', '17', '-preset', 'veryslow', 'video_normal.mp4'], stdin=PIPE)\n",
        "for im in tqdm(frames):\n",
        "    im.save(p.stdin, 'PNG')\n",
        "p.stdin.close()\n",
        "p.wait()\n",
        "mp4 = open('video_normal.mp4','rb').read()\n",
        "data_url = \"data:video/mp4;base64,\" + b64encode(mp4).decode()\n",
        "\n",
        "display.HTML(\"\"\"\n",
        "<video width=400 controls>\n",
        "      <source src=\"%s\" type=\"video/mp4\">\n",
        "</video>\n",
        "\"\"\" % data_url)"
      ],
      "metadata": {
        "id": "KaKZ0fydYz_F",
        "outputId": "3815e00f-71b7-4fb2-ad56-f15782cbef4a",
        "colab": {
          "base_uri": "https://localhost:8080/",
          "height": 439
        }
      },
      "execution_count": 10,
      "outputs": [
        {
          "output_type": "stream",
          "name": "stderr",
          "text": [
            "100%|██████████| 299/299 [00:03<00:00, 95.79it/s] \n"
          ]
        },
        {
          "output_type": "execute_result",
          "data": {
            "text/plain": [
              "<IPython.core.display.HTML object>"
            ],
            "text/html": [
              "\n",
              "<video width=400 controls>\n",
              "      <source src=\"data:video/mp4;base64,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\" type=\"video/mp4\">\n",
              "</video>\n"
            ]
          },
          "metadata": {},
          "execution_count": 10
        }
      ]
    },
    {
      "cell_type": "markdown",
      "source": [
        "#### Finally, don't forget to download the extracted meshes at `AvatarCLIP/AvatarGen/AppearanceGen/exp/smpl/example/meshes/*.ply`"
      ],
      "metadata": {
        "id": "uUsebvU8QzFF"
      }
    },
    {
      "cell_type": "code",
      "source": [
        "#@title copy results to gdrive folder\n",
        "\n",
        "import os, shutil\n",
        "mesh_path = '/content/AvatarCLIP/AvatarGen/AppearanceGen/exp/smpl/example/'\n",
        "drive_mesh_path = os.path.join('/content/gdrive/MyDrive/AI/AvatarCLIP/generated_content/',AppearanceDescription.replace(' ','_'))\n",
        "# os.makedirs(drive_mesh_path, exist_ok=True)\n",
        "shutil.copytree(mesh_path, drive_mesh_path)\n",
        "# for i in os.listdir(mesh_path):\n",
        "#   _file = os.path.join(mesh_path,i)\n",
        "#   shutil.copy(_file,os.path.join(drive_mesh_path,i))"
      ],
      "metadata": {
        "id": "usIHJ-Qak5Ch",
        "outputId": "b00c4f12-00b4-4ceb-ee2e-ea2b90dcb503",
        "colab": {
          "base_uri": "https://localhost:8080/",
          "height": 53
        }
      },
      "execution_count": 11,
      "outputs": [
        {
          "output_type": "execute_result",
          "data": {
            "text/plain": [
              "'/content/gdrive/MyDrive/AI/AvatarCLIP/generated_content/Freddy_Mercury_who_was_risen_from_the_dead_in_a_bathrobe'"
            ],
            "application/vnd.google.colaboratory.intrinsic+json": {
              "type": "string"
            }
          },
          "metadata": {},
          "execution_count": 11
        }
      ]
    },
    {
      "cell_type": "markdown",
      "source": [
        "## convert to FBX"
      ],
      "metadata": {
        "id": "A_OalcHyr21s"
      }
    },
    {
      "cell_type": "code",
      "source": [
        "!pip install smplx[all] chumpy"
      ],
      "metadata": {
        "id": "zB6vzxgHr2ml",
        "outputId": "823bf99b-554d-4e07-ef42-60187fcb0bc7",
        "colab": {
          "base_uri": "https://localhost:8080/"
        }
      },
      "execution_count": 6,
      "outputs": [
        {
          "output_type": "stream",
          "name": "stdout",
          "text": [
            "Looking in indexes: https://pypi.org/simple, https://us-python.pkg.dev/colab-wheels/public/simple/\n",
            "Requirement already satisfied: smplx[all] in /usr/local/lib/python3.7/dist-packages (0.1.28)\n",
            "Requirement already satisfied: chumpy in /usr/local/lib/python3.7/dist-packages (0.70)\n",
            "Requirement already satisfied: six>=1.11.0 in /usr/local/lib/python3.7/dist-packages (from chumpy) (1.15.0)\n",
            "Requirement already satisfied: scipy>=0.13.0 in /usr/local/lib/python3.7/dist-packages (from chumpy) (1.7.0)\n",
            "Requirement already satisfied: numpy<1.23.0,>=1.16.5 in /usr/local/lib/python3.7/dist-packages (from scipy>=0.13.0->chumpy) (1.21.0)\n",
            "Requirement already satisfied: torch>=1.0.1.post2 in /usr/local/lib/python3.7/dist-packages (from smplx[all]) (1.7.1+cu101)\n",
            "Requirement already satisfied: shapely in /usr/local/lib/python3.7/dist-packages (from smplx[all]) (1.8.2)\n",
            "Requirement already satisfied: trimesh>=2.37.6 in /usr/local/lib/python3.7/dist-packages (from smplx[all]) (3.9.8)\n",
            "Requirement already satisfied: pyrender>=0.1.23 in /usr/local/lib/python3.7/dist-packages (from smplx[all]) (0.1.45)\n",
            "Requirement already satisfied: matplotlib in /usr/local/lib/python3.7/dist-packages (from smplx[all]) (3.2.2)\n",
            "Requirement already satisfied: open3d-python in /usr/local/lib/python3.7/dist-packages (from smplx[all]) (0.7.0.0)\n",
            "Requirement already satisfied: freetype-py in /usr/local/lib/python3.7/dist-packages (from pyrender>=0.1.23->smplx[all]) (2.3.0)\n",
            "Requirement already satisfied: imageio in /usr/local/lib/python3.7/dist-packages (from pyrender>=0.1.23->smplx[all]) (2.4.1)\n",
            "Requirement already satisfied: PyOpenGL==3.1.0 in /usr/local/lib/python3.7/dist-packages (from pyrender>=0.1.23->smplx[all]) (3.1.0)\n",
            "Requirement already satisfied: pyglet>=1.4.10 in /usr/local/lib/python3.7/dist-packages (from pyrender>=0.1.23->smplx[all]) (1.5.0)\n",
            "Requirement already satisfied: networkx in /usr/local/lib/python3.7/dist-packages (from pyrender>=0.1.23->smplx[all]) (2.6.3)\n",
            "Requirement already satisfied: Pillow in /usr/local/lib/python3.7/dist-packages (from pyrender>=0.1.23->smplx[all]) (7.1.2)\n",
            "Requirement already satisfied: future in /usr/local/lib/python3.7/dist-packages (from pyglet>=1.4.10->pyrender>=0.1.23->smplx[all]) (0.16.0)\n",
            "Requirement already satisfied: typing-extensions in /usr/local/lib/python3.7/dist-packages (from torch>=1.0.1.post2->smplx[all]) (4.1.1)\n",
            "Requirement already satisfied: setuptools in /usr/local/lib/python3.7/dist-packages (from trimesh>=2.37.6->smplx[all]) (57.4.0)\n",
            "Requirement already satisfied: cycler>=0.10 in /usr/local/lib/python3.7/dist-packages (from matplotlib->smplx[all]) (0.11.0)\n",
            "Requirement already satisfied: pyparsing!=2.0.4,!=2.1.2,!=2.1.6,>=2.0.1 in /usr/local/lib/python3.7/dist-packages (from matplotlib->smplx[all]) (3.0.9)\n",
            "Requirement already satisfied: kiwisolver>=1.0.1 in /usr/local/lib/python3.7/dist-packages (from matplotlib->smplx[all]) (1.4.3)\n",
            "Requirement already satisfied: python-dateutil>=2.1 in /usr/local/lib/python3.7/dist-packages (from matplotlib->smplx[all]) (2.8.2)\n",
            "Requirement already satisfied: ipywidgets in /usr/local/lib/python3.7/dist-packages (from open3d-python->smplx[all]) (7.7.0)\n",
            "Requirement already satisfied: notebook in /usr/local/lib/python3.7/dist-packages (from open3d-python->smplx[all]) (5.3.1)\n",
            "Requirement already satisfied: widgetsnbextension in /usr/local/lib/python3.7/dist-packages (from open3d-python->smplx[all]) (3.6.0)\n",
            "Requirement already satisfied: traitlets>=4.3.1 in /usr/local/lib/python3.7/dist-packages (from ipywidgets->open3d-python->smplx[all]) (5.1.1)\n",
            "Requirement already satisfied: ipykernel>=4.5.1 in /usr/local/lib/python3.7/dist-packages (from ipywidgets->open3d-python->smplx[all]) (4.10.1)\n",
            "Requirement already satisfied: jupyterlab-widgets>=1.0.0 in /usr/local/lib/python3.7/dist-packages (from ipywidgets->open3d-python->smplx[all]) (1.1.0)\n",
            "Requirement already satisfied: ipython-genutils~=0.2.0 in /usr/local/lib/python3.7/dist-packages (from ipywidgets->open3d-python->smplx[all]) (0.2.0)\n",
            "Requirement already satisfied: nbformat>=4.2.0 in /usr/local/lib/python3.7/dist-packages (from ipywidgets->open3d-python->smplx[all]) (5.4.0)\n",
            "Requirement already satisfied: ipython>=4.0.0 in /usr/local/lib/python3.7/dist-packages (from ipywidgets->open3d-python->smplx[all]) (5.5.0)\n",
            "Requirement already satisfied: jupyter-client in /usr/local/lib/python3.7/dist-packages (from ipykernel>=4.5.1->ipywidgets->open3d-python->smplx[all]) (5.3.5)\n",
            "Requirement already satisfied: tornado>=4.0 in /usr/local/lib/python3.7/dist-packages (from ipykernel>=4.5.1->ipywidgets->open3d-python->smplx[all]) (5.1.1)\n",
            "Requirement already satisfied: pickleshare in /usr/local/lib/python3.7/dist-packages (from ipython>=4.0.0->ipywidgets->open3d-python->smplx[all]) (0.7.5)\n",
            "Requirement already satisfied: pygments in /usr/local/lib/python3.7/dist-packages (from ipython>=4.0.0->ipywidgets->open3d-python->smplx[all]) (2.6.1)\n",
            "Requirement already satisfied: pexpect in /usr/local/lib/python3.7/dist-packages (from ipython>=4.0.0->ipywidgets->open3d-python->smplx[all]) (4.8.0)\n",
            "Requirement already satisfied: prompt-toolkit<2.0.0,>=1.0.4 in /usr/local/lib/python3.7/dist-packages (from ipython>=4.0.0->ipywidgets->open3d-python->smplx[all]) (1.0.18)\n",
            "Requirement already satisfied: decorator in /usr/local/lib/python3.7/dist-packages (from ipython>=4.0.0->ipywidgets->open3d-python->smplx[all]) (4.4.2)\n",
            "Requirement already satisfied: simplegeneric>0.8 in /usr/local/lib/python3.7/dist-packages (from ipython>=4.0.0->ipywidgets->open3d-python->smplx[all]) (0.8.1)\n",
            "Requirement already satisfied: fastjsonschema in /usr/local/lib/python3.7/dist-packages (from nbformat>=4.2.0->ipywidgets->open3d-python->smplx[all]) (2.15.3)\n",
            "Requirement already satisfied: jupyter-core in /usr/local/lib/python3.7/dist-packages (from nbformat>=4.2.0->ipywidgets->open3d-python->smplx[all]) (4.10.0)\n",
            "Requirement already satisfied: jsonschema>=2.6 in /usr/local/lib/python3.7/dist-packages (from nbformat>=4.2.0->ipywidgets->open3d-python->smplx[all]) (4.3.3)\n",
            "Requirement already satisfied: importlib-resources>=1.4.0 in /usr/local/lib/python3.7/dist-packages (from jsonschema>=2.6->nbformat>=4.2.0->ipywidgets->open3d-python->smplx[all]) (5.7.1)\n",
            "Requirement already satisfied: importlib-metadata in /usr/local/lib/python3.7/dist-packages (from jsonschema>=2.6->nbformat>=4.2.0->ipywidgets->open3d-python->smplx[all]) (4.11.4)\n",
            "Requirement already satisfied: attrs>=17.4.0 in /usr/local/lib/python3.7/dist-packages (from jsonschema>=2.6->nbformat>=4.2.0->ipywidgets->open3d-python->smplx[all]) (21.4.0)\n",
            "Requirement already satisfied: pyrsistent!=0.17.0,!=0.17.1,!=0.17.2,>=0.14.0 in /usr/local/lib/python3.7/dist-packages (from jsonschema>=2.6->nbformat>=4.2.0->ipywidgets->open3d-python->smplx[all]) (0.18.1)\n",
            "Requirement already satisfied: zipp>=3.1.0 in /usr/local/lib/python3.7/dist-packages (from importlib-resources>=1.4.0->jsonschema>=2.6->nbformat>=4.2.0->ipywidgets->open3d-python->smplx[all]) (3.8.0)\n",
            "Requirement already satisfied: wcwidth in /usr/local/lib/python3.7/dist-packages (from prompt-toolkit<2.0.0,>=1.0.4->ipython>=4.0.0->ipywidgets->open3d-python->smplx[all]) (0.2.5)\n",
            "Requirement already satisfied: nbconvert in /usr/local/lib/python3.7/dist-packages (from notebook->open3d-python->smplx[all]) (5.6.1)\n",
            "Requirement already satisfied: jinja2 in /usr/local/lib/python3.7/dist-packages (from notebook->open3d-python->smplx[all]) (2.11.3)\n",
            "Requirement already satisfied: Send2Trash in /usr/local/lib/python3.7/dist-packages (from notebook->open3d-python->smplx[all]) (1.8.0)\n",
            "Requirement already satisfied: terminado>=0.8.1 in /usr/local/lib/python3.7/dist-packages (from notebook->open3d-python->smplx[all]) (0.13.3)\n",
            "Requirement already satisfied: pyzmq>=13 in /usr/local/lib/python3.7/dist-packages (from jupyter-client->ipykernel>=4.5.1->ipywidgets->open3d-python->smplx[all]) (23.1.0)\n",
            "Requirement already satisfied: ptyprocess in /usr/local/lib/python3.7/dist-packages (from terminado>=0.8.1->notebook->open3d-python->smplx[all]) (0.7.0)\n",
            "Requirement already satisfied: MarkupSafe>=0.23 in /usr/local/lib/python3.7/dist-packages (from jinja2->notebook->open3d-python->smplx[all]) (2.0.1)\n",
            "Requirement already satisfied: mistune<2,>=0.8.1 in /usr/local/lib/python3.7/dist-packages (from nbconvert->notebook->open3d-python->smplx[all]) (0.8.4)\n",
            "Requirement already satisfied: bleach in /usr/local/lib/python3.7/dist-packages (from nbconvert->notebook->open3d-python->smplx[all]) (5.0.0)\n",
            "Requirement already satisfied: testpath in /usr/local/lib/python3.7/dist-packages (from nbconvert->notebook->open3d-python->smplx[all]) (0.6.0)\n",
            "Requirement already satisfied: defusedxml in /usr/local/lib/python3.7/dist-packages (from nbconvert->notebook->open3d-python->smplx[all]) (0.7.1)\n",
            "Requirement already satisfied: pandocfilters>=1.4.1 in /usr/local/lib/python3.7/dist-packages (from nbconvert->notebook->open3d-python->smplx[all]) (1.5.0)\n",
            "Requirement already satisfied: entrypoints>=0.2.2 in /usr/local/lib/python3.7/dist-packages (from nbconvert->notebook->open3d-python->smplx[all]) (0.4)\n",
            "Requirement already satisfied: webencodings in /usr/local/lib/python3.7/dist-packages (from bleach->nbconvert->notebook->open3d-python->smplx[all]) (0.5.1)\n"
          ]
        }
      ]
    },
    {
      "cell_type": "code",
      "source": [
        "# go to https://www.autodesk.com/developer-network/platform-technologies/fbx-sdk-2020-3 and download python bindings for linux + extract them\n",
        "!tar -xf /content/fbx202031_fbxpythonsdk_linux.tar.gz -C /content/"
      ],
      "metadata": {
        "id": "39nbMTS5r8-Q"
      },
      "execution_count": 33,
      "outputs": []
    },
    {
      "cell_type": "code",
      "source": [
        "!chmod ugo+x /content/fbx202031_fbxpythonsdk_linux"
      ],
      "metadata": {
        "id": "vtD_mHSpsKXq"
      },
      "execution_count": 34,
      "outputs": []
    },
    {
      "cell_type": "code",
      "source": [
        "fbx_path = \"/usr/FBX202031_FBXPYTHONSDK_LINUX\"\n",
        "os.makedirs(fbx_path, exist_ok=True)\n",
        "!/content/fbx202031_fbxpythonsdk_linux {fbx_path}"
      ],
      "metadata": {
        "id": "ZoEQZO1VsW6p",
        "outputId": "f582b96b-085f-4526-afe9-2e0be4193518",
        "colab": {
          "base_uri": "https://localhost:8080/"
        }
      },
      "execution_count": 36,
      "outputs": [
        {
          "output_type": "stream",
          "name": "stdout",
          "text": [
            "\n",
            "Autodesk\n",
            "LICENSE AND SERVICES AGREEMENT\n",
            "Autodesk� FBX� Python SDK 2020\n",
            "\n",
            "READ CAREFULLY:  AUTODESK LICENSES THE SOFTWARE \n",
            "AND OTHER LICENSED MATERIALS ONLY ON THE CONDITION THAT LICENSEE ACCEPTS ALL OF \n",
            "THE TERMS CONTAINED OR REFERENCED IN THIS AGREEMENT.\n",
            "By selecting the �I accept�\n",
            " button or other button or mechanism designed to acknowledge agreement to the te\n",
            "rms of an electronic copy of this Agreement, or by installing, downloading, acce\n",
            "ssing, or otherwise copying or using all or any portion of the Autodesk Material\n",
            "s, (i) you accept this Agreement on behalf of the entity for which you are autho\n",
            "rized to act (e.g., an employer) and acknowledge that such entity is legally bou\n",
            "nd by this Agreement (and you agree to act in a manner consistent with this Agre\n",
            "ement) or, if there is no such entity for which you are authorized to act, you a\n",
            "ccept this Agreement on behalf of yourself as an individual and acknowledge that\n",
            " you are legally bound by this Agreement, and (ii) you represent and warrant tha\n",
            "t you have the right, power and authority to act on behalf of and bind such enti\n",
            "ty (if any) or yourself.  You may not accept this Agreement on behalf of another\n",
            " entity unless you are an employee or other agent of such other entity with the \n",
            "right, power and authority to act on behalf of such other entity.\n",
            "If Licensee is\n",
            " unwilling to accept this Agreement, or you do not have the right, power and aut\n",
            "hority to act on behalf of and bind such entity or yourself as an individual (if\n",
            " there is no such entity), (a) DO NOT SELECT THE �I ACCEPT� BUTTON OR OTHERWISE \n",
            "CLICK ON ANY BUTTON OR OTHER MECHANISM DESIGNED TO ACKNOWLEDGE AGREEMENT, AND DO\n",
            " NOT INSTALL, DOWNLOAD, ACCESS, OR OTHERWISE COPY OR USE ALL OR ANY PORTION OF T\n",
            "HE AUTODESK MATERIALS; AND (b) WITHIN THIRTY (30) DAYS FROM THE DATE OF ACQUIRIN\n",
            "G THE AUTODESK MATERIALS, LICENSEE MAY RETURN THE AUTODESK MATERIALS (INCLUDING \n",
            "ANY COPIES) TO THE ENTITY FROM WHICH THEY WERE ACQUIRED FOR A REFUND OF THE APPL\n",
            "ICABLE LICENSE FEES PAID BY THE LICENSEE.  \n",
            "The words �Autodesk\", �Agreement� an\n",
            "d �Licensee� and other capitalized terms used in this Agreement are defined term\n",
            "s.  The definitions can be found in Exhibit A (if the terms are not defined in t\n",
            "he main body of the Agreement).\n",
            "1.\tLicense\n",
            "1.1\tLicense Grant.  Subject to and co\n",
            "nditioned on Licensee�s continuous compliance with this Agreement, Autodesk gran\n",
            "ts Licensee a nonexclusive, nonsublicensable, nontransferable, limited license t\n",
            "o Install and Access the Licensed SDK and User Documentation, in each case solel\n",
            "y (a) in the Territory, (b) within the scope of the License Type and Permitted N\n",
            "umber specified in the applicable License Identification, and (c) in accordance \n",
            "with the other terms of this Agreement, to:\n",
            "1.1.1������ (a)����use the SDK for d\n",
            "evelopment, research, internal, educational, or commercial purposes:\n",
            "           \n",
            "     (i) to create a software product with the capability to read and/or write a\n",
            "nd/or translate Licensee files, which software product links to the Library (�De\n",
            "veloped Software�); and/or\n",
            "                (ii) to modify the Sample Code(s) sol\n",
            "ely to create an object code version(s) (�Modified Code(s)�); and/or\n",
            "        (b)\n",
            "�����reproduce the Library to link to the Developed Software.\n",
            "1.1.2������(a)����\n",
            "�incorporate the executable version of the Developed Software into; and/or\n",
            "     \n",
            "   (b)�����incorporate the Modified Code(s) into; and/or\n",
            "        (c)�����link th\n",
            "e Library, in binary code form to;\n",
            "software products developed by Licensee (�Lic\n",
            "ensee Product(s)�) for Licensee�s Internal Business Needs.\n",
            "        1.1.3���repro\n",
            "duce, distribute and sublicense free of charge or for a fee Licensee Product(s) \n",
            "provided that Licensee must sublicense the Software, the Developed Software, the\n",
            " Library, the Sample Code(s) and the Modified Code(s) �as is�, without warranty \n",
            "of any kind.\n",
            "Various License Types are described in Exhibit B.  In any case wher\n",
            "e the License Identification does not specify a License Type or Permitted Number\n",
            " or Territory, or there is no License Identification, the License Type will, by \n",
            "default, be the Stand-alone (Individual) License and the Territory will be world\n",
            "wide, subject to the Export Control requirements herein.\n",
            "        1.1.4������ Lic\n",
            "ensee shall reproduce and apply any copyright or other proprietary rights notice\n",
            "s included on or embedded in the Software, or any part thereof, to any copies of\n",
            " the Software or any part thereof, or to the Developed Software, in any form.\n",
            "  \n",
            "      1.1.5������ Licensee shall place the following statement in the copyright \n",
            "area of either: (i) the end-user License and/or terms of use for the Developed S\n",
            "oftware; or (ii) the �About Box� or similar notice page of the Developed Softwar\n",
            "e; and Licensee shall also include the following statement in the copyright area\n",
            " of either: (a) the on-line documentation regarding the Developed Software; or (\n",
            "b) any other document related to Developed Software that contains copyright info\n",
            "rmation:\n",
            "�This software contains Autodesk� FBX� code developed by Autodesk, Inc.\n",
            " Copyright 2019 Autodesk, Inc. All rights, reserved. Such code is provided �as i\n",
            "s� and Autodesk, Inc. disclaims any and all warranties, whether express or impli\n",
            "ed, including without limitation the implied warranties of merchantability, fitn\n",
            "ess for a particular purpose or non-infringement of third party rights. In no ev\n",
            "ent shall Autodesk, Inc. be liable for any direct, indirect, incidental, special\n",
            ", exemplary, or consequential damages (including, but not limited to, procuremen\n",
            "t of substitute goods or services; loss of use, data, or profits; or business in\n",
            "terruption) however caused and on any theory of liability, whether in contract, \n",
            "strict liability, or tort (including negligence or otherwise) arising in any way\n",
            " out of such code.�\n",
            "1.2\tUpgrades and Previous Versions.  \n",
            "        1.2.1\tEffect o\n",
            "f Upgrades.  If Autodesk or a Reseller provides Licensee with an Upgrade to othe\n",
            "r Licensed Materials previously licensed to Licensee, the Licensed Materials pre\n",
            "viously licensed to Licensee and any other Autodesk Materials relating thereto w\n",
            "ill thereafter be deemed to be a �Previous Version.�  Except as set forth in Sec\n",
            "tion 1.2.2 (Exception for Relationship Program Licensees), the license grant and\n",
            " other rights with respect to any Previous Version will terminate one hundred tw\n",
            "enty (120) days after Installation of the Upgrade.  Within such one hundred twen\n",
            "ty (120) day period, except as set forth in Section 1.2.2 (Exception for Relatio\n",
            "nship Program Licensees), (a) Licensee must cease all use of any Previous Versio\n",
            "n and Uninstall all copies of the Previous Version, and (b) upon expiration of s\n",
            "uch period, such Previous Version will no longer constitute Licensed Materials b\n",
            "ut rather will be deemed to be Excluded Materials and Licensee will no longer ha\n",
            "ve a license for any such Previous Version.  At Autodesk�s request, Licensee agr\n",
            "ees to destroy or return to Autodesk or the Reseller from which they were acquir\n",
            "ed all copies of the Previous Version.  Autodesk reserves the right to require L\n",
            "icensee to show satisfactory proof that all copies of any Previous Version have \n",
            "been Uninstalled and, if so requested by Autodesk, destroyed or returned to Auto\n",
            "desk or the Reseller from which they were acquired.\n",
            "        1.2.2\tException for \n",
            "Relationship Program Licensees.  The termination of rights as to Previous Versio\n",
            "ns described in Section 1.2.1 (Effect of Upgrades) may not apply to Licensee if \n",
            "and to the extent (a) Licensee participates in a Relationship Program and the Re\n",
            "lationship Program Terms authorize Licensee to retain such Previous Versions or \n",
            "(b) otherwise authorized in writing by Autodesk.\n",
            "1.3\tAdditional Terms.  The Lice\n",
            "nsed Materials (or portions thereof) may be subject to terms (e.g., terms accomp\n",
            "anying such Licensed Materials or made available in connection with ordering, in\n",
            "stalling, downloading, accessing, using or copying such Licensed Materials) that\n",
            " are in addition to or different from the terms set forth in this Agreement, and\n",
            " Licensee agrees to comply with such terms.\n",
            "1.4\tOther Materials.  If Autodesk pr\n",
            "ovides or makes available to Licensee any additional materials associated with t\n",
            "he Licensed Materials, including any corrections, patches, service packs, update\n",
            "s or upgrades to, or new versions of, the Licensed Materials (including Upgrades\n",
            ") or any Supplemental Materials or User Documentation for the Licensed Materials\n",
            ", (a) such additional materials may include or be subject to other terms in addi\n",
            "tion to or different from the terms set forth in this Agreement (including, with\n",
            "out limitation, additional or different fees, license terms, or restrictions on \n",
            "use), and Licensee agrees to comply with such terms, or (b) if there are no othe\n",
            "r terms for such additional materials, they will (except as otherwise provided b\n",
            "y Section 1.2 (Upgrades and Previous Versions)) be subject to the same terms (in\n",
            "cluding, without limitation, the licenses, applicable License Type and Permitted\n",
            " Number, and other terms of this Agreement) as the Licensed Materials to which s\n",
            "uch additional materials apply.  In no event will the foregoing result in any ri\n",
            "ghts with respect to Excluded Materials.\n",
            "1.5\tAuthorized Users.  Licensee may per\n",
            "mit the Licensed Materials to be Installed and/or Accessed only by Licensee�s Pe\n",
            "rsonnel (except as otherwise designated in the applicable License Type), and any\n",
            " such Installation or Access will be subject to any other requirements imposed b\n",
            "y this Agreement and the applicable License Type and Permitted Number.  Licensee\n",
            " will be responsible for compliance with this Agreement by Licensee�s Personnel \n",
            "and any other persons who may have Access to the Autodesk Materials through Lice\n",
            "nsee (whether or not such Access is authorized by Autodesk or within the scope o\n",
            "f the applicable License Type and Permitted Number).\n",
            "1.6\tThird-Party Licensed Ma\n",
            "terials.  The Autodesk Materials may contain or be accompanied by third-party so\n",
            "ftware, data or other materials that are subject to and provided in accordance w\n",
            "ith terms that are in addition to or different from the terms set forth in this \n",
            "Agreement.  Such terms may be included or referenced in or with such third-party\n",
            " software, data or other materials (e.g., in the �About box�) or a web page spec\n",
            "ified by Autodesk (the URL for which may be obtained on Autodesk�s website or on\n",
            " request to Autodesk).  Licensee agrees to comply with such terms.  In addition,\n",
            " Licensee will take sole responsibility for obtaining and complying with any lic\n",
            "enses that may be necessary to use third-party software, data or other materials\n",
            " that Licensee uses or obtains for use in conjunction with the Licensed Material\n",
            "s.  Licensee acknowledges and agrees that Autodesk has no responsibility for, an\n",
            "d makes no representations or warranties regarding, such third-party software, d\n",
            "ata or other materials or Licensee�s use of such third-party software, data or o\n",
            "ther materials.\n",
            "1.7\tRelationship Programs.  Autodesk may offer to Licensee, and \n",
            "(if so) Licensee may participate in one (1) or more Relationship Programs applic\n",
            "able to the Licensed Materials licensed to Licensee under this Agreement (and su\n",
            "ch Relationship Programs may include rights in addition to or different from tho\n",
            "se set forth in this Agreement).  Any Relationship Programs are subject to Autod\n",
            "esk�s terms therefor, which terms are set forth in the applicable Relationship P\n",
            "rogram Terms.  Licensee agrees that if it requests, accepts, or makes use of any\n",
            " Relationship Program, Licensee will be bound by such terms, as they may be modi\n",
            "fied from time to time in accordance with the applicable Relationship Program Te\n",
            "rms (and such terms, as so modified from time to time, are a part of and incorpo\n",
            "rated by reference into this Agreement), and Licensee agrees to comply with such\n",
            " terms.  Licensee acknowledges that Autodesk may require a further acceptance of\n",
            " such terms as a condition to participation in a Relationship Program.\n",
            "1.8\tServi\n",
            "ces.  Autodesk may provide, and Licensee may elect to receive or benefit from, c\n",
            "ertain Services from time to time.  Any Services are subject to Autodesk�s terms\n",
            " therefor, which terms are set forth in the applicable Services Terms.  Licensee\n",
            " agrees that if it requests, accepts, or makes use of any Services, Licensee wil\n",
            "l be bound by such terms, as they may be modified from time to time in accordanc\n",
            "e with the applicable Services Terms (and such terms, as so modified from time t\n",
            "o time, are a part of and incorporated by reference into this Agreement), and Li\n",
            "censee agrees to comply with such terms.  Licensee acknowledges that Autodesk ma\n",
            "y require a further acceptance of such terms as a condition to providing Service\n",
            "s.\n",
            "1.9\tArchival Copy.  Licensee�s license under Section 1.1 (License Grant) incl\n",
            "udes the right to make a single archival copy of the Licensed Materials in the T\n",
            "erritory, provided that (a) the single-copy limitation will not apply to copies \n",
            "made as an incidental part of a routine backup of Licensee�s entire computer sys\n",
            "tem on which the Licensed Materials are Installed in accordance with this Agreem\n",
            "ent, where such backup includes the making of copies of substantially all other \n",
            "software on such computer system and (b) any archival copy may be Accessed or In\n",
            "stalled (other than on a backup storage medium from which the Licensed Materials\n",
            " cannot be Accessed) only when and for so long as the primary copy of the Licens\n",
            "ed Materials is inaccessible and inoperable.  Copies of the Licensed Materials t\n",
            "hat are Installed and are in excess of the Permitted Number at any time while th\n",
            "e primary copy of the Licensed Materials is also Accessible are not \"archival co\n",
            "pies\" as permitted under this Section 1.9 (Archival Copy).\n",
            "1.10\tNature of Licens\n",
            "es.  Licensee acknowledges and agrees that when Licensee acquires a license of L\n",
            "icensed Materials, (including through a Relationship Program or Services), Licen\n",
            "see�s acquisition is neither contingent on the delivery of any future features o\n",
            "r functionality nor subject to any public or other comments (oral, written or ot\n",
            "herwise) made by Autodesk regarding future features or functionality.\n",
            "1.11\tFeedb\n",
            "ack.\n",
            "Licensee hereby grants Autodesk, under all of Licensee�s intellectual prope\n",
            "rty and proprietary rights, the following worldwide, exclusive, transferable, pe\n",
            "rpetual, irrevocable, royalty-free, fully paid-up rights: (1) to make, have made\n",
            ", use, copy, modify, and create derivative works of the Feedback as part of or i\n",
            "n connection with any Autodesk product, technology, service, content, material, \n",
            "specification or documentation (including without limitation in connection with \n",
            "the marketing or sale thereof); (2) to publicly perform or display, import, broa\n",
            "dcast, transmit, distribute, license, offer to sell and sell, rent, lease or len\n",
            "d copies of the Feedback (and derivative works thereof and improvements thereon)\n",
            "; and (3) to sublicense to third parties the foregoing rights, including the rig\n",
            "ht to sublicense to further third parties.  �Feedback� shall mean all suggestion\n",
            "s, comments, input, ideas, reports, information or know-how (whether in oral or \n",
            "written form) provided by Licensee to Autodesk or an Autodesk affiliate in conne\n",
            "ction with Licensee�s evaluation of or use of the Licensed Materials.  Feedback \n",
            "does not include any artwork or sample content created by Licensee using the Lic\n",
            "ensed Materials.\n",
            "2.\tLicense Limitations; Prohibitions\n",
            "2.1\tLimitations and Exclus\n",
            "ions.\n",
            "        2.1.1\tNo License Granted; Unauthorized Activities.  The parties ac\n",
            "knowledge and agree that, notwithstanding anything to the contrary in this Agree\n",
            "ment, no license is granted (whether expressly, by implication or otherwise) und\n",
            "er this Agreement (and this Agreement expressly excludes any right) (a) to Exclu\n",
            "ded Materials, (b) to any Autodesk Materials that Licensee did not acquire lawfu\n",
            "lly or that Licensee acquired in violation of or in a manner inconsistent with t\n",
            "his Agreement, (c) for Installation of or Access to the Licensed Materials beyon\n",
            "d the applicable license term (whether a fixed term or Relationship Program peri\n",
            "od or term) or outside the scope of the applicable License Type or Permitted Num\n",
            "ber, (d) for Installation of the Licensed Materials on any Computer other than a\n",
            " Computer owned or leased, and controlled, by Licensee, unless otherwise authori\n",
            "zed in writing by Autodesk, (e) to distribute, rent, loan, lease, sell, sublicen\n",
            "se, transfer or otherwise provide all or any portion of the Autodesk Materials t\n",
            "o any person or entity except as expressly set forth in this Agreement or as exp\n",
            "ressly authorized in writing by Autodesk, (f) to provide or make available any f\n",
            "eatures or functionality of the Autodesk Materials to any person or entity (othe\n",
            "r than to and for Licensee itself for the purpose specified in the applicable Li\n",
            "cense Type), whether or not over a network and whether or not on a hosted basis,\n",
            " (g) except as otherwise expressly provided with respect to a specific License T\n",
            "ype, to Install or Access or allow the Installation of or Access to the Autodesk\n",
            " Materials over the Internet or other non-local network, including, without limi\n",
            "tation, use in connection with a wide area network (WAN), virtual private networ\n",
            "k (VPN), virtualization, Web hosting, time-sharing, service bureau, software as \n",
            "a service, cloud or other service or technology, (h) to remove, alter or obscure\n",
            " any proprietary notices, labels or marks in the Autodesk Materials, (i) to deco\n",
            "mpile, disassemble or otherwise reverse engineer the Autodesk Materials, or (j) \n",
            "to translate, adapt, arrange, or create derivative works based on, or otherwise \n",
            "modify the Autodesk Materials for any purpose.\n",
            "        2.1.2\tLicensed Materials \n",
            "as a Single Product.  The Licensed Materials are licensed to Licensee as a singl\n",
            "e product and the applicable components may not be separated for Installation or\n",
            " Access (and all such components must be Installed and Accessed on the same Comp\n",
            "uter except as authorized in writing by Autodesk).\n",
            "        2.1.3\tTerritory.  Exc\n",
            "ept as otherwise authorized in writing by Autodesk, the licenses granted in this\n",
            " Agreement are granted only for the Territory.  Nothing in this Agreement permit\n",
            "s Licensee (including, without limitation, Licensee�s Personnel, if any) to Inst\n",
            "all or Access the Licensed Materials outside of the Territory.\n",
            "        2.1.4\tEff\n",
            "ect of Unauthorized Use.  Licensee will not engage in, and will not permit or as\n",
            "sist any third party to engage in any of the uses or activities prohibited (or a\n",
            "ny uses or activities inconsistent with the limitations described) in this Secti\n",
            "on 2.1 (Limitations and Exclusions) (collectively, �Unauthorized Uses�).  Any su\n",
            "ch Unauthorized Use, and any Installation of or Access to the Licensed Materials\n",
            " provided under this Agreement, outside of the scope of the applicable license g\n",
            "rants (including, without limitation, outside the applicable License Type and/or\n",
            " Permitted Number) or otherwise not in accordance with this Agreement, constitut\n",
            "e or result in infringement of Autodesk�s intellectual property rights as well a\n",
            "s a breach of this Agreement.  Licensee will notify Autodesk promptly of any suc\n",
            "h Unauthorized Uses or other unauthorized Installation or Access.\n",
            "        2.1.5\t\n",
            "Use of Open Source Software by Licensee.� If Licensee uses any third party softw\n",
            "are (including free or Open Source Software), whether or not in conjunction with\n",
            " the Software, Licensee shall ensure that its use does not: (i) create, or purpo\n",
            "rt to create, obligations of Autodesk or any of its affiliates with respect to t\n",
            "he Software; (ii) grant, or purport to grant, to any third party any rights to o\n",
            "r immunities under Autodesk�s or any of its affiliates intellectual property rig\n",
            "hts; or (iii) cause the Software to be subject to any licensing terms other than\n",
            " those set forth in this Agreement.\n",
            "2.2\tCircumvention.  \n",
            "        2.2.1\tLicensee \n",
            "may not (i) utilize any equipment, device, software, or other means to (or desig\n",
            "ned to) circumvent or remove any form of technical protection used by Autodesk i\n",
            "n connection with the Autodesk Materials, or (ii) Install or Access the Autodesk\n",
            " Materials with any product code, authorization code, serial number, or other co\n",
            "py-protection device not supplied by Autodesk directly or through a Reseller.  W\n",
            "ithout limitation of the generality of the foregoing, Licensee may not utilize a\n",
            "ny equipment, device, software, or other means to (or designed to) circumvent or\n",
            " remove the Autodesk License Manager or any tool or technical protection measure\n",
            " provided or made available by Autodesk for managing, monitoring or controlling \n",
            "Installation of or Access to Autodesk Materials.\n",
            "        2.2.2\tLicensee may not \n",
            "utilize any equipment, device, software, or other means to (or designed to) circ\n",
            "umvent or remove any usage restrictions, or to enable functionality disabled by \n",
            "Autodesk, in connection with the Excluded Materials.  Licensee may not bypass or\n",
            " delete any functionality or technical limitations of the Autodesk Materials tha\n",
            "t (or that are designed to) prevent or inhibit the unauthorized copying of, Inst\n",
            "allation or Access to the Excluded Materials.\n",
            "3.\tAll Rights Reserved\n",
            "Autodesk an\n",
            "d its licensors retain title to and ownership of, and all other rights with resp\n",
            "ect to, the Autodesk Materials and all copies thereof, including, without limita\n",
            "tion, any related copyrights, trademarks, trade secrets, patents, and other inte\n",
            "llectual property rights.  Licensee has only the limited licenses granted with r\n",
            "espect to the Licensed Materials expressly set forth in this Agreement, and Lice\n",
            "nsee has no other rights, implied or otherwise.  Licensee acknowledges and agree\n",
            "s that the Autodesk Materials are licensed, not sold, and that rights to Install\n",
            " and Access the Licensed Materials are acquired only under the license from Auto\n",
            "desk.  The structure and organization of Software included in the Autodesk Mater\n",
            "ials, any source code or similar materials relating to such Software, any API In\n",
            "formation and Development Materials (both as described in Section 1.11 (APIs)), \n",
            "and any other Licensed Materials identified as confidential or proprietary are v\n",
            "aluable trade secrets of, and confidential and proprietary information of, Autod\n",
            "esk and its suppliers, and (a) may not be distributed, disclosed or otherwise pr\n",
            "ovided to third parties, and (b) may be used only internally and only in conjunc\n",
            "tion with and for Licensee�s own authorized internal use of the Licensed Materia\n",
            "ls.  \n",
            "4.\tPrivacy; Use of Information; Connectivity\n",
            "4.1\tPrivacy and Use of Inform\n",
            "ation.  Licensee acknowledges and agrees that Licensee (and third parties acting\n",
            " on Licensee�s behalf) may provide, and Autodesk and its Resellers (and third pa\n",
            "rties acting on behalf of Autodesk and its Resellers) may obtain, certain inform\n",
            "ation and data with respect to Licensee (including, without limitation, personal\n",
            " information) and Licensee�s business in connection with this Agreement, includi\n",
            "ng, without limitation, information and data provided to or obtained by Autodesk\n",
            " and its Resellers (or third parties acting on behalf of Autodesk and its Resell\n",
            "ers) through the Customer Information Form and otherwise, in connection with ord\n",
            "ering, registration, activation, updating, validating entitlement to, auditing, \n",
            "monitoring Installation of and Access to Autodesk Materials, Relationship Progra\n",
            "ms and Services and managing the relationship with Licensee.  Licensee hereby co\n",
            "nsents to Autodesk maintaining, using, storing and disclosing such information a\n",
            "nd data (including, without limitation, personal information, if any) in conform\n",
            "ity with Autodesk�s policies on privacy and data protection, as such policies ma\n",
            "y be updated from time to time, including without limitation Autodesk�s Privacy \n",
            "Statement, as currently located at http://usa.autodesk.com/privacy/.  Without li\n",
            "mitation of the generality of the foregoing, Licensee acknowledges and agrees th\n",
            "at: (a) Autodesk may from time to time prompt Licensee (and third parties acting\n",
            " on Licensee�s behalf) to provide express agreement to the terms of Autodesk�s P\n",
            "rivacy Statement and/or express agreement to specific uses of information and da\n",
            "ta (including, without limitation, personal information); (b) Autodesk may provi\n",
            "de information and data, including, without limitation, information and data abo\n",
            "ut Licensee�s use of Autodesk Materials, Relationship Programs, and Licensee�s s\n",
            "upport requests, to Autodesk subsidiaries and affiliates, Resellers and other th\n",
            "ird parties in connection with the provision, maintenance, administration or usa\n",
            "ge of Licensed Materials, Relationship Programs or Services or in connection wit\n",
            "h enforcement of any agreements relating to Licensed Materials, Relationship Pro\n",
            "grams or Services; and (c) Autodesk may make cross-border transfers of such info\n",
            "rmation and data, including to jurisdictions with privacy or data protection law\n",
            "s that are less protective of Licensee than the jurisdiction in which Licensee i\n",
            "s domiciled.  Licensee acknowledges and agrees that such policies may be changed\n",
            " from time to time by Autodesk and that, effective upon posting on Autodesk�s we\n",
            "bsite or other written notice from Autodesk, Licensee will be subject to such ch\n",
            "anges.  \n",
            "4.2\tConnectivity.  Certain Licensed Materials may facilitate or require\n",
            " Licensee�s access to and use of content and services that are hosted on website\n",
            "s maintained by Autodesk or by third parties.  In some cases, such content and s\n",
            "ervices may appear to be a feature or function within, or extension of, the Lice\n",
            "nsed Materials on Licensee�s Computer even though hosted on such websites.  Acce\n",
            "ssing such content or services and use of Licensed Materials may cause Licensee�\n",
            "s Computer, without additional notice, to connect automatically to the Internet \n",
            "(transitorily, intermittently or on a regular basis) and to communicate with an \n",
            "Autodesk or third-party website�for example, for purposes of providing Licensee \n",
            "with additional information, features and functionality or to validate that the \n",
            "Licensed Materials and/or content or services are being used as permitted under \n",
            "this Agreement or other applicable terms.  Such connectivity to Autodesk website\n",
            "s is governed by Autodesk�s policies on privacy and data protection described in\n",
            " this Section 4 (Privacy; Use of Information; Connectivity).  Such connectivity \n",
            "to websites of third parties is governed by the terms (including the disclaimers\n",
            " and notices) found on such sites or otherwise associated with the third-party c\n",
            "ontent or services.  Autodesk does not control, endorse, or accept responsibilit\n",
            "y for any such third-party content or services, and any dealings between License\n",
            "e and any third party in connection with such content or services, including, wi\n",
            "thout limitation, such third party�s privacy policies, use of personal informati\n",
            "on, delivery of and payment for goods and services, and any other terms associat\n",
            "ed with such dealings, are solely between Licensee and such third party.  Autode\n",
            "sk may at any time, for any reason, modify or discontinue the availability of an\n",
            "y third-party content or services. Access to and use of certain content and serv\n",
            "ices (whether of Autodesk or third parties) may require assent to separate terms\n",
            " and/or payment of additional fees.\n",
            "5.\tLimited Warranty and Disclaimers \n",
            "5.1\tLim\n",
            "ited Warranty.  Autodesk warrants that, as of the date on which the Licensed Mat\n",
            "erials are delivered to Licensee and for ninety (90) days thereafter or if the l\n",
            "icense term is shorter, such shorter period (�Warranty Period�), the Licensed Ma\n",
            "terials will provide the general features and functions described in the User Do\n",
            "cumentation portion of the Licensed Materials.  Autodesk's entire liability and \n",
            "Licensee�s exclusive remedy during the Warranty Period (�Limited Warranty�) will\n",
            " be, with the exception of any statutory warranty or remedy that cannot be exclu\n",
            "ded or limited under law, at Autodesk's option, (i) to attempt to correct or wor\n",
            "k around errors, if any, or (ii) to refund the license fees, if any, paid by Lic\n",
            "ensee and terminate this Agreement or the license specific to such Licensed Mate\n",
            "rials.  Such refund is subject to the return, during the Warranty Period, of the\n",
            " Autodesk Materials, with a copy of Licensee�s License Identification, to Licens\n",
            "ee�s local Autodesk office or the Reseller from which Licensee acquired the Auto\n",
            "desk Materials.  THE LIMITED WARRANTY SET FORTH IN THIS SECTION GIVES LICENSEE S\n",
            "PECIFIC LEGAL RIGHTS.  LICENSEE MAY HAVE ADDITIONAL LEGAL RIGHTS UNDER LAW WHICH\n",
            " VARY FROM JURISDICTION TO JURISDICTION.  AUTODESK DOES NOT SEEK TO LIMIT LICENS\n",
            "EE�S WARRANTY RIGHTS TO ANY EXTENT NOT PERMITTED BY LAW.\n",
            "5.2\tDisclaimer.  EXCEPT\n",
            " FOR THE EXPRESS LIMITED WARRANTY PROVIDED IN SECTION 5.1 (LIMITED WARRANTY), AN\n",
            "D TO THE MAXIMUM EXTENT PERMITTED BY APPLICABLE LAW, AUTODESK AND ITS SUPPLIERS \n",
            "MAKE, AND LICENSEE RECEIVES, NO WARRANTIES, REPRESENTATIONS, OR CONDITIONS OF AN\n",
            "Y KIND, EXPRESS OR IMPLIED (INCLUDING, WITHOUT LIMITATION, ANY IMPLIED WARRANTIE\n",
            "S OF MERCHANTABILITY, FITNESS FOR A PARTICULAR PURPOSE, OR NONINFRINGEMENT, OR W\n",
            "ARRANTIES OTHERWISE IMPLIED BY STATUTE OR FROM A COURSE OF DEALING OR USAGE OF T\n",
            "RADE) WITH RESPECT TO ANY AUTODESK MATERIALS, RELATIONSHIP PROGRAMS, OR SERVICES\n",
            " (PURSUANT TO A RELATIONSHIP PROGRAM OR OTHERWISE).  ANY STATEMENTS OR REPRESENT\n",
            "ATIONS ABOUT THE AUTODESK MATERIALS, RELATIONSHIP PROGRAMS OR SERVICES AND THEIR\n",
            " FEATURES OR FUNCTIONALITY IN THE LICENSED MATERIALS OR ANY COMMUNICATION WITH L\n",
            "ICENSEE ARE FOR INFORMATION PURPOSES ONLY, AND DO NOT CONSTITUTE A WARRANTY, REP\n",
            "RESENTATION, OR CONDITION.  WITHOUT LIMITING THE FOREGOING, AUTODESK DOES NOT WA\n",
            "RRANT:  (a) THAT THE OPERATION OR OUTPUT OF THE LICENSED MATERIALS OR SERVICES W\n",
            "ILL BE UNINTERRUPTED, ERROR-FREE, SECURE, ACCURATE, RELIABLE, OR COMPLETE, WHETH\n",
            "ER OR NOT UNDER A RELATIONSHIP PROGRAM OR SUPPORT BY AUTODESK OR ANY THIRD PARTY\n",
            "; (b) THAT ERRORS WILL BE CORRECTED BY AUTODESK OR ANY THIRD PARTY; OR (c) THAT \n",
            "AUTODESK OR ANY THIRD PARTY WILL RESOLVE ANY PARTICULAR SUPPORT REQUEST OR THAT \n",
            "SUCH RESOLUTION WILL MEET LICENSEE�S REQUIREMENTS OR EXPECTATIONS.  NOTHING IN T\n",
            "HE FOREGOING RESTRICTS THE EFFECT OF WARRANTIES OR CONDITIONS WHICH MAY BE IMPLI\n",
            "ED BY LAW WHICH CANNOT BE EXCLUDED, RESTRICTED OR MODIFIED NOTWITHSTANDING A CON\n",
            "TRACTUAL RESTRICTION TO THE CONTRARY. WITHOUT LIMITING THE FOREGOING, AUTODESK A\n",
            "ND ITS SUPPLIERS MAKE, AND LICENSEE RECEIVES, NO WARRANTIES THAT: (I) FUTURE VER\n",
            "SIONS OF THE SDK, LIBRARY AND/OR SAMPLE CODE(S), IF ANY, WILL CONTAIN FEATURES S\n",
            "IMILAR TO OR THE SAME AS THE SDK, LIBRARY AND/OR SAMPLE CODE(S), RESPECTIVELY OR\n",
            " WILL BE COMPATIBLE WITH THE SDK, LIBRARY AND/OR SAMPLE CODE(S), RESPECTIVELY; (\n",
            "II) THE SOFTWARE OR THE SDK, LIBRARY AND/OR SAMPLE CODE(S) WILL MEET LICENSEE RE\n",
            "QUIREMENTS; OR (III) OPERATION OF THE SDK, LIBRARY OR SAMPLE CODE(S) WILL BE UNI\n",
            "NTERRUPTED OR ERROR-FREE.\n",
            "6.\tWarnings\n",
            "6.1\tFunctionality Limitations.  The Licens\n",
            "ed Materials and Services (except for Licensed Materials designed for non-commer\n",
            "cial use, such as Autodesk Materials designed to be used for household or other \n",
            "consumer purposes or licensed only for purposes of educational or individual lea\n",
            "rning) are commercial professional tools intended to be used by trained professi\n",
            "onals only.  Particularly in the case of commercial professional use, the Licens\n",
            "ed Materials and Services are not a substitute for Licensee�s professional judgm\n",
            "ent or independent testing.  The Licensed Materials and Services are intended on\n",
            "ly to assist Licensee with its design, analysis, simulation, estimation, testing\n",
            " and/or other activities and are not a substitute for Licensee�s own independent\n",
            " design, analysis, simulation, estimation, testing, and/or other activities, inc\n",
            "luding those with respect to product stress, safety and utility.  Due to the lar\n",
            "ge variety of potential applications for the Licensed Materials and Services, th\n",
            "e Licensed Materials and Services have not been tested in all situations under w\n",
            "hich they may be used.  Autodesk will not be liable in any manner whatsoever for\n",
            " the results obtained through use of the Licensed Materials or Services.  Person\n",
            "s using the Licensed Materials or Services are responsible for the supervision, \n",
            "management, and control of the Licensed Materials and Services and the results o\n",
            "f using the Licensed Materials and Services.  This responsibility includes, with\n",
            "out limitation, the determination of appropriate uses for the Licensed Materials\n",
            " and Services and the selection of the Licensed Materials, Services and other co\n",
            "mputer programs and materials to help achieve intended results.  Persons using t\n",
            "he Licensed Materials or Services are also responsible for establishing the adeq\n",
            "uacy of independent procedures for testing the reliability, accuracy, completene\n",
            "ss, and other characteristics of any output of the Licensed Materials or Service\n",
            "s, including, without limitation, all items designed with the assistance of the \n",
            "Licensed Materials or Services.  Licensee further acknowledges and agrees that t\n",
            "he Licensed Materials form part of Licensee�s total unique hardware and software\n",
            " environment to deliver specific functionality, and that the Licensed Materials \n",
            "and Services provided by Autodesk may not achieve the results Licensee desires w\n",
            "ithin Licensee�s design, analysis, simulation, estimation, and/or testing constr\n",
            "aints.\n",
            "6.2\tActivation Codes and Security.\n",
            "6.2.1\tActivation Code Required for Ins\n",
            "tallation/Access and Continued Use.  Installation of and Access to the Licensed \n",
            "Materials require, and the continued use thereof may from time to time require, \n",
            "activation codes issued by Autodesk.  Registration may be required before an act\n",
            "ivation code is issued by Autodesk.  Licensee will provide Autodesk and its Rese\n",
            "ller with any information required for such registration and agrees that any inf\n",
            "ormation provided to Autodesk or its Reseller will be accurate and current.  Lic\n",
            "ensee will also maintain and update Licensee�s registration information, on an o\n",
            "ngoing basis, through customer data registration processes, including without li\n",
            "mitation the Customer Information Form, which may be provided by Autodesk.  Lice\n",
            "nsee acknowledges and agrees that Autodesk may use such information in accordanc\n",
            "e with its Privacy Statement (as described or referenced in Section 4 (Privacy; \n",
            "Use of Information; Connectivity)).\n",
            "6.2.2\tDisabling Access.  LICENSEE ACKNOWLEDG\n",
            "ES AND AGREES THAT INSTALLATION OF AND ACCESS TO LICENSED MATERIALS MAY BE DISAB\n",
            "LED BY THE ACTIVATION, SECURITY, AND TECHNICAL PROTECTION MECHANISMS IF LICENSEE\n",
            " TRIES TO TRANSFER ALL OR A PART OF THE LICENSED MATERIALS TO ANOTHER COMPUTER, \n",
            "IF LICENSEE TAMPERS WITH THE TECHNICAL PROTECTION MECHANISMS OR DATE-SETTING MEC\n",
            "HANISMS ON A COMPUTER OR IN THE LICENSED MATERIALS, IF LICENSEE USES THE LICENSE\n",
            "D MATERIALS PAST AN APPLICABLE RELATIONSHIP PROGRAM PERIOD OR FIXED TERM, OR IF \n",
            "LICENSEE UNDERTAKES CERTAIN OTHER ACTIONS THAT AFFECT THE SECURITY MODE OR UNDER\n",
            " OTHER CIRCUMSTANCES AND THAT, IN ANY SUCH EVENT, LICENSEE�S ACCESS TO LICENSEE�\n",
            "S WORK PRODUCT AND OTHER DATA MAY BE AFFECTED.  MORE INFORMATION IS CONTAINED IN\n",
            " THE APPLICABLE LICENSED MATERIALS OR AVAILABLE FROM AUTODESK ON REQUEST.\n",
            "6.2.3\t\n",
            "Effect of Activation Codes.  Licensee acknowledges and agrees that receipt of an\n",
            " activation code (whether or not provided to Licensee in error) will not constit\n",
            "ute evidence of or affect the scope of Licensee�s license rights.  Those rights \n",
            "will be only as set forth in this Agreement and the applicable License Identific\n",
            "ation.\n",
            "6.3\tAffected Data.  Work product and other data created with Licensed Mat\n",
            "erials made available under certain License Types, including licenses that limit\n",
            " the permitted purpose to educational purposes or personal learning purposes, ma\n",
            "y contain certain notices and limitations that make the work product and other d\n",
            "ata usable only in certain circumstances (e.g., only in the education field).  I\n",
            "n addition, if Licensee combines or links work product or other data created wit\n",
            "h such Licensed Materials with work product or other data otherwise created, the\n",
            "n such other work product or data may also be affected by these notices and limi\n",
            "tations.  Autodesk will have no responsibility or liability whatsoever if Licens\n",
            "ee combines or links work product or other data created with such Licensed Mater\n",
            "ials with work product or other data otherwise created.  In addition, Licensee w\n",
            "ill not remove, alter or obscure any such notices or limitations.\n",
            "7.\tLimitations\n",
            " of Liability\n",
            "7.1\tLimitation on Type and Amount of Liability.  IN NO EVENT WILL \n",
            "AUTODESK OR ITS SUPPLIERS HAVE ANY LIABILITY (DIRECTLY OR INDIRECTLY) FOR ANY IN\n",
            "CIDENTAL, SPECIAL, INDIRECT, CONSEQUENTIAL OR PUNITIVE DAMAGES; FOR LOSS OF PROF\n",
            "ITS, USE, REVENUE, OR DATA; OR FOR BUSINESS INTERRUPTION (REGARDLESS OF THE LEGA\n",
            "L THEORY FOR SEEKING SUCH DAMAGES OR OTHER LIABILITY).  IN ADDITION, THE LIABILI\n",
            "TY OF AUTODESK AND ITS SUPPLIERS ARISING OUT OF OR RELATING TO ANY AUTODESK MATE\n",
            "RIALS, RELATIONSHIP PROGRAMS OR SERVICES WILL NOT EXCEED THE AMOUNT PAID OR PAYA\n",
            "BLE BY LICENSEE FOR SUCH AUTODESK MATERIALS, RELATIONSHIP PROGRAMS, OR SERVICES,\n",
            " RESPECTIVELY.  \n",
            "7.2\tApplication of and Basis for Limitations.  THE LIMITATIONS \n",
            "OF LIABILITY IN THIS SECTION 7 (LIMITATIONS OF LIABILITY) WILL APPLY TO THE MAXI\n",
            "MUM EXTENT PERMITTED BY APPLICABLE LAW TO ANY DAMAGES OR OTHER LIABILITY, HOWEVE\n",
            "R CAUSED AND REGARDLESS OF THE THEORY OF LIABILITY, WHETHER DERIVED FROM CONTRAC\n",
            "T, TORT (INCLUDING, WITHOUT LIMITATION, NEGLIGENCE) OR OTHERWISE, EVEN IF AUTODE\n",
            "SK HAS BEEN ADVISED OF THE POSSIBILITY OF SUCH LIABILITY AND REGARDLESS OF WHETH\n",
            "ER THE LIMITED REMEDIES AVAILABLE HEREUNDER FAIL OF THEIR ESSENTIAL PURPOSE.  AL\n",
            "SO, LICENSEE AGREES THAT THE LICENSE, RELATIONSHIP PROGRAMS AND SERVICES FEES AN\n",
            "D OTHER FEES CHARGED BY AUTODESK AND PAID BY LICENSEE ARE BASED ON AND REFLECTIV\n",
            "E OF THE ALLOCATION OF RISK CONTEMPLATED BY THIS SECTION 7 (LIMITATIONS OF LIABI\n",
            "LITY) AND THAT THE LIABILITY LIMITATIONS IN THIS SECTION 7 (LIMITATIONS OF LIABI\n",
            "LITY) ARE AN ESSENTIAL ELEMENT OF THE AGREEMENT BETWEEN THE PARTIES.\n",
            "8.\tTerm and\n",
            " Termination\n",
            "8.1\tTerm; Termination or Suspension.  Each license under this Agree\n",
            "ment, with respect to each specific set of Licensed Materials covered by this Ag\n",
            "reement, will become effective as of the latest to occur of: (a) this Agreement \n",
            "becoming effective, (b) payment by Licensee of the applicable fees, excluding li\n",
            "censes (such as evaluation licenses) where no fees are required, (c) delivery of\n",
            " the specific Licensed Materials, and (d) in the case of Autodesk Materials prov\n",
            "ided in connection with a Relationship Program, upon commencement of the applica\n",
            "ble Relationship Program period or fixed term. Each of Autodesk or Licensee may \n",
            "terminate this Agreement, Licensee�s license as to Licensed Materials, Licensee�\n",
            "s Relationship Program, and/or the provision of Services relating to the License\n",
            "d Materials if the other party is in breach of this Agreement and fails to cure \n",
            "such breach within ten (10) days after written notice of the breach; however, if\n",
            " Licensee is in breach of Section 1 (License) or Section 2 (License Limitations;\n",
            " Prohibitions), Autodesk may terminate this Agreement, Licensee�s license as to \n",
            "Licensed Materials, Licensee�s Relationship Program, and/or the provision of Ser\n",
            "vices relating to the Licensed Materials immediately upon written notice of the \n",
            "breach.  In addition, Autodesk may, as an alternative to termination, suspend Li\n",
            "censee�s license as to the Licensed Materials, Licensee�s Relationship Program, \n",
            "the provision of Services relating to the Licensed Materials, and/or other Autod\n",
            "esk obligations or Licensee rights under this Agreement (or under other terms, i\n",
            "f any, relating to materials associated with the Licensed Materials), if License\n",
            "e fails to make a payment to Autodesk or a Reseller or otherwise fails to comply\n",
            " with the provisions of this Agreement or other terms relating to any such licen\n",
            "se, Relationship Program, Services, or other associated materials.  Autodesk may\n",
            " also terminate this Agreement if Licensee becomes subject to bankruptcy proceed\n",
            "ings, becomes insolvent, or makes an arrangement with Licensee�s creditors.  Thi\n",
            "s Agreement will terminate automatically without further notice or action by Aut\n",
            "odesk if Licensee goes into liquidation.  \n",
            "Licensee acknowledges and agrees that\n",
            " Autodesk may assign or sub-contract any of its rights or obligations under this\n",
            " Agreement.\n",
            "8.2\tEffect of Termination of Agreement or License.  Upon termination\n",
            " or expiration of this Agreement, the licenses granted hereunder will terminate.\n",
            "  Upon termination or expiration of any license granted to Licensee, Licensee mu\n",
            "st cease all use of Autodesk Materials to which such license applies, any Relati\n",
            "onship Program (including, without limitation, associated services), and any Ser\n",
            "vices and Uninstall all copies of the Autodesk Materials.  At Autodesk�s request\n",
            ", Licensee agrees to destroy or return to Autodesk or the Reseller from which th\n",
            "ey were acquired all Autodesk Materials.  Autodesk reserves the right to require\n",
            " Licensee to show satisfactory proof that all copies of the Autodesk Materials h\n",
            "ave been Uninstalled and, if so requested by Autodesk, destroyed or returned to \n",
            "Autodesk or the Reseller from which they were acquired.  If Licensee�s Relations\n",
            "hip Program is terminated or expires, but this Agreement and Licensee�s license \n",
            "to the Licensed Materials remains in effect, any rights of Licensee based on the\n",
            " Relationship Program (including, without limitation, rights with respect to Pre\n",
            "vious Versions) will terminate, and (unless otherwise authorized by the Relation\n",
            "ship Program Terms) Licensee must comply with the obligations of Section 1.2.1 (\n",
            "Effect of Upgrades) with respect to (including the obligations to cease use of, \n",
            "Uninstall and destroy or return) all copies of such Previous Versions.\n",
            "8.3\tSurvi\n",
            "val.  Sections 1.3 (Additional Terms), 1.4 (Other Materials), 1.5 (Authorized Us\n",
            "ers), 1.6 (Third-Party Licensed Materials), 1.11 (APIs), 2.1.1 (No License Grant\n",
            "ed;Unauthorized Activities), 2.1.4 (Effect of Unauthorized Use), 2.2 (Circumvent\n",
            "ion), 3 (All Rights Reserved), 4 (Privacy; Use of Information; Connectivity), 5.\n",
            "2 (Disclaimer), 6 (Warnings), 7 (Limitations of Liability), 8 (Term and Terminat\n",
            "ion), and 9 (General Provisions) and Exhibit A will survive any termination or e\n",
            "xpiration of this Agreement.\n",
            "9.\tGeneral Provisions\n",
            "9.1\tNotices.  Notices in conn\n",
            "ection with this Agreement by either party will be in writing and will be sent b\n",
            "y electronic mail, postal service, or a delivery service (such as UPS, FedEx or \n",
            "DHL), except that Licensee may not provide notice to Autodesk of an Autodesk bre\n",
            "ach or provide notice of termination of this Agreement by electronic mail.  Noti\n",
            "ces from Autodesk to Licensee will be effective (a) in the case of notices by em\n",
            "ail, one (1) day after sending to the email address provided to Autodesk, or (b)\n",
            " in the case of notices by mail or delivery service, five (5) days after sending\n",
            " by regular post or delivery service to the address provided to Autodesk.  Licen\n",
            "see hereby consents to service of process being effected on Licensee by register\n",
            "ed mail sent to the address set forth on Licensee�s Customer Information Form (o\n",
            "r, if no Customer Information Form has been provided, Licensee�s last address kn\n",
            "own by Autodesk) if so permitted by applicable law.  Notices from Licensee to Au\n",
            "todesk will be effective (a) in the case of notices by email, one (1) day after \n",
            "sending to (and receipt by Autodesk at) CopyrightAgent@autodesk.com, or (b) in t\n",
            "he case of notices by mail or delivery service, when received by Autodesk at Aut\n",
            "odesk, Inc., 111 McInnis Parkway, San Rafael, California 94903, USA, Attention: \n",
            "Copyright Agent.  If Licensee participates in a Relationship Program, either par\n",
            "ty may also provide notice as set forth in the Relationship Program Terms.\n",
            "9.2\tG\n",
            "overning Law and Jurisdiction.  This Agreement will be governed by and construed\n",
            " in accordance with the laws of (a) Switzerland if Licensee acquired the Autodes\n",
            "k Materials in a country in Europe, Africa or the Middle East, (b) Singapore if \n",
            "Licensee acquired the Autodesk Materials in a country in Asia, Oceania or the As\n",
            "ia-Pacific region, or (c) the State of California (and, to the extent controllin\n",
            "g, the federal laws of the United States) if Licensee acquired the Autodesk Mate\n",
            "rials in a country in the Americas (including the Caribbean) or any other countr\n",
            "y not specified in this Section 9.2 (Governing Law and Jurisdiction).  The laws \n",
            "of such jurisdictions shall govern without reference to the conflicts-of-laws ru\n",
            "les thereof.  The UN Convention on Contracts for the International Sale of Goods\n",
            " and the Uniform Computer Information Transaction Act shall not apply to (and ar\n",
            "e excluded from the laws governing) this Agreement.  In addition, each party agr\n",
            "ees that any claim, action or dispute arising under or relating to this Agreemen\n",
            "t will be brought exclusively in (and the parties will be subject to the exclusi\n",
            "ve jurisdiction of) the Superior Court of the State of California, County of Mar\n",
            "in, or the United States District Court for the Northern District of California \n",
            "in San Francisco, except that if Licensee has acquired the Autodesk Materials in\n",
            " (a) a country in Europe, Africa or the Middle East, any such claim or dispute w\n",
            "ill be brought exclusively in (and the parties will be subject to the exclusive \n",
            "jurisdiction of) the courts of Switzerland, or (b) a country in Asia, Oceania or\n",
            " the Asia-Pacific region, any such claim or dispute will be brought exclusively \n",
            "in (and the parties will be subject to the exclusive jurisdiction of) the courts\n",
            " of Singapore.  Nothing in the foregoing will prevent Autodesk from bringing an \n",
            "action for infringement of intellectual property rights in any country where suc\n",
            "h infringement is alleged to occur.\n",
            "9.3\tNo Assignment; Insolvency.  Licensee may\n",
            " not assign this Agreement or any rights hereunder (whether by purchase of stock\n",
            " or assets, merger, change of control, operation of law, or otherwise) without A\n",
            "utodesk's prior written consent, which may be withheld in Autodesk's sole and ab\n",
            "solute discretion, and any unauthorized purported assignment by Licensee will be\n",
            " void.  In the context of any bankruptcy or similar proceeding, Licensee acknowl\n",
            "edges and agrees this Agreement is and shall be treated as an executory contract\n",
            " that may not be assumed and/or assigned without Autodesk's prior written consen\n",
            "t, which consent may be withheld in Autodesk's sole and absolute discretion whet\n",
            "her pursuant to Section 365(c)(1) of Title 11 of the United States Code or any o\n",
            "ther applicable law respecting the treatment of executory contracts within bankr\n",
            "uptcy. Any assignment (regardless of how or on what basis the assignment may occ\n",
            "ur) will be conditioned on compliance with the following: at least thirty (30) d\n",
            "ays before assigning or agreeing to any assignment of rights under this Agreemen\n",
            "t (including transferring any copies of or right to use the Software), (a) Licen\n",
            "see must provide written notice to Autodesk, Uninstall all copies of the Softwar\n",
            "e, and (without limitation of the generality of Section 9.7 (Audits)) allow Auto\n",
            "desk or its designee to inspect the records, systems and facilities of (or opera\n",
            "ted for) Licensee and its subsidiaries and affiliates to verify (by any means av\n",
            "ailable to Autodesk, whether remotely or on premises) that all copies of the Sof\n",
            "tware have been Uninstalled, (b) the proposed assignee must agree to comply (and\n",
            " Licensee must ensure that the assignee will comply) with all of the obligations\n",
            " of this Agreement with respect to such Software, which agreement must provide t\n",
            "hat Autodesk is a third-party beneficiary of the assignee�s agreement, and the a\n",
            "ssignee must provide a copy of the agreement to Autodesk, and (c) Licensee and p\n",
            "roposed assignee must comply with all other transfer procedures identified by Au\n",
            "todesk.\n",
            "9.4\tAutodesk Subsidiaries and Affiliates.  Licensee acknowledges and agr\n",
            "ees that Autodesk may arrange to have its subsidiaries and affiliates engage in \n",
            "activities in connection with this Agreement, including, without limitation, del\n",
            "ivering Autodesk Materials and providing Relationship Programs and Services, pro\n",
            "vided that Autodesk (and not such subsidiaries and affiliates) will remain subje\n",
            "ct to the obligations of Autodesk under this Agreement.  Licensee also agrees th\n",
            "at Autodesk�s subsidiaries and affiliates may enforce (including taking actions \n",
            "for breach of) this Agreement.\n",
            "9.5\tExceptions to Prohibitions; Severability.  \n",
            "9\n",
            ".5.1\tExceptions to Prohibitions. The prohibitions contained in this Agreement wi\n",
            "ll not apply where and to the extent applicable law does not allow such prohibit\n",
            "ions to be enforced.  Licensee may have other rights under the laws of the state\n",
            " or country within the Territory where the Licensed Materials are acquired, and \n",
            "this Agreement does not change Licensee�s rights under the laws of such state or\n",
            " country if and to the extent the laws of such state or country do not permit th\n",
            "is Agreement to do so.  Licensee will bear the burden of proof to demonstrate th\n",
            "at applicable law does not allow (i) the enforcement of such prohibitions; or (i\n",
            "i) this Agreement to change particular rights in a state or country (and that Li\n",
            "censee has not exceeded the bounds of the unenforceable prohibitions and unchang\n",
            "eable rights).\n",
            "9.5.2\tSeverability. If and to the extent any provision of this Ag\n",
            "reement is held illegal, invalid, or unenforceable in whole or in part under app\n",
            "licable law, such provision or such portion thereof will be ineffective as to th\n",
            "e jurisdiction in which it is illegal, invalid, or unenforceable to the extent o\n",
            "f its illegality, invalidity, or unenforceability and will be deemed modified to\n",
            " the extent necessary to conform to applicable law so as to give the maximum eff\n",
            "ect to the intent of the parties.  The illegality, invalidity, or unenforceabili\n",
            "ty of such provision in that jurisdiction will not in any way affect the legalit\n",
            "y, validity, or enforceability of such provision or any other provision of this \n",
            "Agreement in any other jurisdiction.\n",
            "9.6\tNo Waiver.  No term or provision of thi\n",
            "s Agreement will be considered waived, and no breach excused, unless such waiver\n",
            " is in writing signed on behalf of the party against which the waiver is asserte\n",
            "d.  No waiver (whether express or implied) will constitute consent to, waiver of\n",
            ", or excuse of any other, different, or subsequent breach.\n",
            "9.7\tAudits.  Licensee\n",
            " agrees that Autodesk has the right to require an audit (electronic or otherwise\n",
            ") of the Autodesk Materials and the Installation thereof and Access thereto.  As\n",
            " part of any such audit, Autodesk or its authorized representative will have the\n",
            " right, on fifteen (15) days� prior notice to Licensee, to inspect Licensee�s re\n",
            "cords, systems and facilities, including machine IDs, serial numbers and related\n",
            " information, to verify that the use of any and all Autodesk Materials is in con\n",
            "formance with this Agreement.  Licensee will provide full cooperation to enable \n",
            "any such audit.  If Autodesk determines that Licensee�s use is not in conformity\n",
            " with the Agreement, Licensee will obtain immediately and pay for valid license(\n",
            "s) to bring Licensee�s use into compliance with this Agreement and other applica\n",
            "ble terms and pay the reasonable costs of the audit.  In addition to such paymen\n",
            "t rights, Autodesk reserves the right to seek any other remedies available at la\n",
            "w or in equity, whether under this Agreement or otherwise.\n",
            "9.8\tLanguage.  The En\n",
            "glish language version of this Agreement is legally binding in case of any incon\n",
            "sistencies between the English version and any translations.  If Licensee purcha\n",
            "sed the license for the Licensed Materials in Canada, Licensee agrees to the fol\n",
            "lowing: The parties hereto confirm that it is their wish that this Agreement, as\n",
            " well as other documents relating hereto, including notices, have been and shall\n",
            " be written in the English language only. Les parties ci-dessus confirment leur \n",
            "d�sir que cet accord ainsi que tous les documents, y compris tous avis qui s'y r\n",
            "attachent, soient r�dig�s en langue anglaise.\n",
            "9.9\tConstruction.  Ambiguities in \n",
            "this Agreement will not be construed against the drafter.\n",
            "9.10\tForce Majeure.  A\n",
            "utodesk will not be liable for any loss, damage or penalty resulting from delays\n",
            " or failures in performance resulting from acts of God, supplier delay or other \n",
            "causes beyond Autodesk's reasonable control.\n",
            "9.11\tU.S. Government Rights.  For U\n",
            ".S. Government procurements, all Autodesk Materials are deemed to be commercial \n",
            "computer software as defined in FAR 12.212 and subject to restricted rights as d\n",
            "efined in FAR Section 52.227-19 \"Commercial Computer Software - Restricted Right\n",
            "s\" and DFARS 227.7202, �Rights in Commercial Computer Software or Commercial Com\n",
            "puter Software Documentation�, as applicable, and any successor regulations. Any\n",
            " use, modification, reproduction release, performance, display or disclosure of \n",
            "the Autodesk Materials by the U.S. Government shall be solely in accordance with\n",
            " license rights and restrictions described herein.\n",
            "9.12\tExport Control.  License\n",
            "e acknowledges and agrees that the Autodesk Materials and Services (including an\n",
            "y data submitted by Licensee in connection with a Service and any Licensee-speci\n",
            "fic output generated by a Service) are subject to compliance with United States \n",
            "and other applicable country export control and trade sanctions laws, rules and \n",
            "regulations, including, without limitation the regulations promulgated by the U.\n",
            "S. Department of Commerce and the U.S. Department of the Treasury (collectively,\n",
            " \"Export Control Laws\").  Licensee represents, warrants and covenants that neith\n",
            "er Licensee nor Licensee�s Personnel (i) are a citizen or resident of, or locate\n",
            "d within, a nation that is subject to U.S. trade sanctions or other significant \n",
            "trade restrictions (including, without limitation, Cuba, Iran, Sudan, Syria and \n",
            "North Korea), (ii) are identified on any of the U.S. government restricted party\n",
            " lists (including, without limitation, the U.S. Treasury Department's List of Sp\n",
            "ecially Designated Nationals and Blocked Persons, the U.S. Department of Commerc\n",
            "e�s Denied Party List, Entity List and Unverified List and the U.S. Department o\n",
            "f State�s proliferation-related lists), (iii) will, unless otherwise authorized \n",
            "under the Export Control Laws, use Autodesk Materials or Services in any restric\n",
            "ted end use, including, without limitation, design, analysis, simulation, estima\n",
            "tion, testing, or other activities related to nuclear, chemical/biological weapo\n",
            "ns, rocket systems or unmanned air vehicles applications, or (iv) will use the A\n",
            "utodesk Materials or Services to disclose, transfer, download, export, or re-exp\n",
            "ort, directly or indirectly, any Licensee-specific output generated by the Autod\n",
            "esk Materials or Services, Licensee content, third party content, or any other c\n",
            "ontent or material to any country, entity, or party that is ineligible to receiv\n",
            "e such items under the Export Control Laws or other laws or regulations to which\n",
            " Licensee may be subject.  Licensee understands that the requirements and restri\n",
            "ctions of the Export Control Laws as applicable to Licensee may vary depending o\n",
            "n the Autodesk Materials or Services provided under this Agreement and may chang\n",
            "e over time.  Licensee shall be solely responsible for (i) determining the preci\n",
            "se controls applicable to the Autodesk Materials or Services, and (ii) complying\n",
            " with the Export Control Laws and monitoring any modifications to them.\n",
            "9.13\tEnt\n",
            "ire Agreement.  This Agreement and any other terms referenced in this Agreement \n",
            "(such as the Relationship Program Terms and the Services Terms) constitute the e\n",
            "ntire agreement between the parties (and merge and supersede any prior or contem\n",
            "poraneous agreements, discussions, communications, agreements, representations, \n",
            "warranties, advertising or understandings) with respect to the subject matter he\n",
            "reof, except that particular Autodesk Materials may be subject to additional or \n",
            "different terms associated with such Autodesk Materials.  The parties acknowledg\n",
            "e that, in entering into this Agreement, they are not relying on any agreements,\n",
            " discussions, communications, agreements, representations, warranties, advertisi\n",
            "ng or understandings other than as expressly set forth in this Agreement.  Licen\n",
            "see acknowledges and agrees that Autodesk may add to or change the Relationship \n",
            "Program Terms and the Services Terms from time to time, provided that Autodesk w\n",
            "ill provide written notice of the additions or changes (and may allow Licensee n\n",
            "ot to renew, may permit Licensee to terminate, and may offer other options with \n",
            "respect to Relationship Programs or Services) before the additions or changes ar\n",
            "e effective as to Licensee.  In the event of a conflict between this Agreement a\n",
            "nd any other terms of Autodesk (including, without limitation, the Relationship \n",
            "Program Terms, the Services Terms, or such additional or different terms), the o\n",
            "ther terms will apply.  Terms stipulated by Licensee in any communication by Lic\n",
            "ensee which purport to vary this Agreement or such other terms will be void and \n",
            "of no effect unless agreed in a writing signed by an authorized representative o\n",
            "f Autodesk.  Any other modifications to this Agreement will also be invalid unle\n",
            "ss agreed to in a writing signed by an authorized representative of Autodesk.\n",
            "10\n",
            ".\t\tAdditional Terms.\n",
            "This Section 10 (Additional Terms) applies to the following\n",
            " Software that may be included within the Licensed Materials: (i) Autodesk Maya;\n",
            " (ii) Autodesk Softimage; (iii) Autodesk 3ds Max; and (iv) Autodesk 3ds Max Desi\n",
            "gn.\n",
            "10.1\tRendering.\n",
            "10.1.1\tWith regard to the Rendering Software (defined below)\n",
            ", in addition to any other license granted in this Agreement, Licensee may allow\n",
            " the Rendering Software to be Installed or Accessed on a Networked Basis, solely\n",
            " for Licensee�s Internal Business Needs, specifically to render files created wi\n",
            "th the Software.  However, if the Rendering Software is mental ray, and the Soft\n",
            "ware is provided with a finite number of mental ray rendering nodes, then with r\n",
            "egard to mental ray the foregoing is restricted to that number of mental ray ren\n",
            "dering nodes.\n",
            "10.1.2\tWith regard to the mental ray Batch Software (defined below\n",
            "), in addition to any other license granted in this Agreement, Licensee may allo\n",
            "w the mental ray Batch Software to be Installed or Accessed on a Networked Basis\n",
            ", solely for Licensee�s Internal Business Needs, and used (i) specifically to re\n",
            "nder files created with the Software; or (ii) by the Rendering Software specific\n",
            "ally to render files created with the Software. The total number of CPUs used by\n",
            " the mental ray Batch Software cannot exceed the number specified in the License\n",
            " Identification.\n",
            "10.1.3\tWith regard to the mental ray Standalone (defined below)\n",
            ", Licensee may allow the mental ray Standalone to be Installed or Accessed, on a\n",
            " Networked Basis, solely on Computing Device(s) (defined below) solely for Licen\n",
            "see�s Internal Business Needs specifically to render files created with the Soft\n",
            "ware.  With regard to mental ray Standalone, any reference in the Agreement to C\n",
            "omputer is hereby deleted and �Computing Device(s)� substituted therefor.\n",
            "10.1.4\n",
            "\tWith regard to the mental ray Satellite (defined below) for each of Autodesk 3d\n",
            "s Max, Autodesk Maya and Autodesk Softimage Software each mental ray Satellite e\n",
            "xecutable(s) may run on one (1) or more host no more than four (4) client Comput\n",
            "ing Devices. With regard to mental ray Satellite, any reference in the Agreement\n",
            " to Computer is hereby deleted and �Computing Device(s)� substituted therefor.\n",
            "1\n",
            "0.1.5\tDefinitions.\n",
            "        (1)\t�mental ray Standalone� means the mental ray Stan\n",
            "dalone client/server executable, including the mental ray standard shader librar\n",
            "ies and utility programs, used specifically for rendering files created with the\n",
            " Software.\n",
            "        (2)\t�Rendering Software� means a subset of the Software used \n",
            "specifically for rendering files created with the Software.\n",
            "        (3)\t�mental \n",
            "ray Batch Software� means a subset of the Software used: (i) specifically for re\n",
            "ndering files created with the Software or (ii) by the Rendering Software specif\n",
            "ically for rendering files created with the Software.\n",
            "        (4)\t�mental ray Sa\n",
            "tellite� means the mental ray Satellite server executable, including the mental \n",
            "ray standard shader libraries.  mental ray Satellite is functionally equivalent \n",
            "to the mental ray Standalone server executable, used specifically for rendering \n",
            "files created with the Software except it is not able to read and write files in\n",
            " the complete mi2 format.\n",
            "        (5)\t�Computing Device� means (i) a single elec\n",
            "tronic assembly with a maximum of: (a) four (4) CPUs (regardless of the number o\n",
            "f cores in each CPU) each CPU having one or more microprocessors, (b) four (4) d\n",
            "iscrete GPU-based computing boards; or (ii) a software implementation of the sin\n",
            "gle electronic assembly, (a so-called 'virtual machine') described in (i) above,\n",
            " which single electronic assembly  accepts information in digital or similar for\n",
            "m and manipulates the information for a specific result based on a sequence of i\n",
            "nstructions.\n",
            "10.2\tExceptions.  \n",
            "10.2.1\tThis Section 10.2 (Exceptions) applies to\n",
            " the Autodesk Media & Entertainment 3D entertainment Software that may be includ\n",
            "ed within the Licensed Materials. Notwithstanding the provisions set forth in Se\n",
            "ction 2.1.1 (No License Granted; Unauthorized Activities) if: (i) the Redistribu\n",
            "table Component (defined below) operates with the Software and with Licensee App\n",
            "lication; and (ii) the Redistributable Component is linked to Licensee Applicati\n",
            "on; then Licensee may reproduce and distribute the Redistributable Component and\n",
            " Licensee Application together, subject to Licensee�s strict adherence to all of\n",
            " the following terms and conditions:\n",
            "        (a)\tthe class identifications for a\n",
            "ny classes of objects Licensee created shall be different from and clearly disti\n",
            "nguishable from the class identifications used by Autodesk;\n",
            "        (b)\tmodified\n",
            " Sample (defined below) code and any resulting binary files in Licensee Applicat\n",
            "ion are identified as developed by Licensee, and not by Autodesk;\n",
            "        (c)\tLi\n",
            "censee Application has Licensee�s copyright notice;\n",
            "        (d)\tany Modification\n",
            " (defined below), and resulting binary files, shall include the copyright notice\n",
            "s of Autodesk, Inc. as well as the following statement: \"This software contains \n",
            "copyrighted code owned by Autodesk, Inc. but has been modified and is not endors\n",
            "ed by Autodesk, Inc.\"  The language of the copyright notice and the statement sh\n",
            "all be in the same language as the Software language;\n",
            "        (e)\tdistribution i\n",
            "s strictly for not-for-profit purposes;\n",
            "        (f)\tdistribution is either in bi\n",
            "nary form or text form; \n",
            "        (g)\tdistribution is subject to a standard form \n",
            "of click-through end-user license agreement which license agreement, among other\n",
            " things:  (1) protects Autodesk's interests consistent with the terms of this Ag\n",
            "reement; and (2) prohibits the redistribution of the Redistributable Component;\n",
            "\n",
            "        (h)\tif the Redistributable Component operates with the Autodesk 3ds Max \n",
            "Software and/or Autodesk 3ds Max Design Software and with Licensee Application t\n",
            "hen prior to reproduction and distribution of the Redistributable Component and \n",
            "Licensee Application all MIDI files have been excluded from the Redistributable \n",
            "Component and Licensee Application; and \n",
            "        (i)\tLicensee agrees to defend, \n",
            "indemnify and hold harmless Autodesk and its subsidiaries and affiliates from an\n",
            "d against any and all damages, costs, losses, liabilities, expenses and settleme\n",
            "nt amounts incurred in connection with any suit, claim or action by any third pa\n",
            "rty alleging that the Redistributable Component and/or Licensee Application infr\n",
            "inges or misappropriates any patent, copyrights, moral rights, trademark, trade \n",
            "secret and design rights, whether registered or unregistered, and including any \n",
            "application for registration of any of the foregoing and all rights or forms of \n",
            "protections of a similar nature having equivalent or similar effect to any of th\n",
            "ese, which may subsist anywhere in the world, of such third party.\n",
            "10.2.2\tDefini\n",
            "tions.\n",
            "        (1)\t\"Licensee Application\" means, with regard to the Software, a \n",
            "Modification made by Licensee for designing, developing, and testing an applicat\n",
            "ion program made by Licensee.\n",
            "        (2)\t\"Modification\" means any: (i) addition\n",
            " to the substance of a Sample or any addition to the substance of the contents o\n",
            "f a file containing a Sample; (ii) any deletion from the structure of a Sample, \n",
            "or any deletion from the structure of the contents of a file containing a Sample\n",
            "; and/or (iii) any new file that contains any part of a Sample; all of which, in\n",
            " Autodesk�s sole discretion, ensures that the Sample is not the primary source o\n",
            "f value.\n",
            "        (3)\t\"Redistributable Component\" means the Sample(s) and/or a Mo\n",
            "dification.\n",
            "        (4)\t\"Sample(s)\" means sample source code, or individual anim\n",
            "ations, still images, and/or audio files contained in the Software, and located \n",
            "in the samples directory, the examples subdirectory, samples files or any simila\n",
            "r type directory or file.\n",
            "10.3\tAdditional Terms; Certain Softimage Materials.  T\n",
            "his Section 10.3 (Additional Terms; Certain Softimage Materials) applies to the \n",
            "following Software that may be included within the Licensed Materials: (i) Autod\n",
            "esk Softimage Mod Tool software; and (ii) Autodesk Softimage Mod Tool Pro softwa\n",
            "re.\n",
            "10.3.1\tAutodesk Softimage Mod Tool Software.  In the event the Software is A\n",
            "utodesk Softimage Mod Tool Software then the applicable Exhibit B License Type i\n",
            "s B. 4. (Educational Stand-alone (Individual) License).\n",
            "10.3.2\tAutodesk Softimag\n",
            "e Mod Tool Pro Software.  In the event the Software is Autodesk Softimage Mod To\n",
            "ol Pro Software, then the applicable Exhibit B License Type is B. 1. (Stand-alon\n",
            "e (Individual) License), however, Licensee�s Internal Business Needs are limited\n",
            " to the design, development and testing of an application program designed to fu\n",
            "nction with the Software for Licensee�s internal use in producing multimedia con\n",
            "tent in conjunction with Licensee�s valid XNA� Creators Club Online Premium Memb\n",
            "ership.\n",
            "11.\t\tAdditional Terms: Quantity Take Off. \n",
            "This Section 11 (Additional T\n",
            "erms; Quantity Take Off) applies to the Quantity Take Off Software that may be i\n",
            "ncluded within the Licensed Materials (�QTO Software�):\n",
            "11.1\tThe QTO Software is\n",
            " based in part on the work of the Independent JPEG Group.\n",
            "11.2\tPortions of the Q\n",
            "TO Software include Crystal Reports Runtime Software (�Runtime Software�) licens\n",
            "ed from Business Objects Software Ltd (�Business Objects�). Licensee�s use of th\n",
            "e Runtime Software is subject to the following terms:\n",
            "        (a)\tLicensee agree\n",
            "s not to alter disassemble, decompile, translate, adapt or reverse-engineer the \n",
            "Runtime Software or the report file (.RPT) format; \n",
            "        (b)\tLicensee agrees \n",
            "not to distribute the Runtime Software with any general-purpose report writing, \n",
            "data analysis or report delivery product or any other product that performs the \n",
            "same or similar functions as Business Objects� product offerings; \n",
            "        (c)\tL\n",
            "icensee agrees not to use the Runtime Software to create for distribution a prod\n",
            "uct that is generally competitive with Business Objects' product offerings; \n",
            "   \n",
            "     (d)\tLicensee agrees not to use the Runtime Software to create for distribut\n",
            "ion a product that converts the report file (.RPT) format to an alternative repo\n",
            "rt file format used by any general-purpose report writing, data analysis or repo\n",
            "rt delivery product that is not the property of Business Objects; and\n",
            "        (e\n",
            ")\tLicensee agrees not to use the Crystal Reports Software on a rental or timesha\n",
            "ring basis or to operate a service bureau facility for the benefit of third-part\n",
            "ies. \n",
            "11.3\tBUSINESS OBJECTS AND ITS SUPPLIERS DISCLAIM ALL WARRANTIES, EXPRESS O\n",
            "R IMPLIED, INCLUDING WITHOUT LIMITATION THE WARRANTIES OF MERCHANTABILITY, FITNE\n",
            "SS FOR A PARTICULAR PURPOSE, AND NONINFRINGEMENT OF THIRD PARTY RIGHTS. BUSINESS\n",
            " OBJECTS AND ITS SUPPLIERS SHALL HAVE NO LIABILITY WHATSOEVER UNDER THIS AGREEME\n",
            "NT OR IN CONNECTION WITH THE CRYSTAL REPORTS SOFTWARE.\n",
            "12.\tAutodesk download tec\n",
            "hnology may use the Akamai NetSession Interface, which may utilize a limited amo\n",
            "unt of your upload bandwidth and PC resources to connect you to a peered network\n",
            " and improve speed and reliability of Web content. The Akamai NetSession Interfa\n",
            "ce is secure client-side networking technology that harnesses the power of your \n",
            "computer to deliver software and media available on the Akamai network. Your Aka\n",
            "mai NetSession Interface works collectively with other Akamai NetSession Interfa\n",
            "ces, along with thousands of Akamai edge servers, and runs as a networking servi\n",
            "ce utilizing a limited amount of your computer's available resources. More infor\n",
            "mation about the Akamai NetSession Interface is available here: http://www.akama\n",
            "i.com/client. By clicking \"Accept\" and using the Autodesk download technology, y\n",
            "ou accept the Akamai License Agreement (http://www.akamai.com/eula) in addition \n",
            "to the Autodesk License and Service Agreement.\n",
            "\n",
            "Exhibit A\n",
            "Definitions\n",
            "1.\t�Access\n",
            "� or �Accessible� means, with respect to a computer program or other materials, \n",
            "(a) to use or execute the computer program or other materials or (b) to use or o\n",
            "therwise benefit from the features or functionality of the computer program or o\n",
            "ther materials.\n",
            "2.\t�Agreement� means this License and Services Agreement, includ\n",
            "ing all exhibits and schedules thereto, as the License and Services Agreement ma\n",
            "y be amended from time to time in accordance with the terms thereof.\n",
            "3.\t�Authori\n",
            "zed User� means any individual person who Installs or Accesses, or is authorized\n",
            " to Install or Access, any of the Licensed Materials.\n",
            "4.\t�Autodesk� means Autode\n",
            "sk, Inc., a Delaware corporation, except that if, Licensee acquires a license to\n",
            " the Autodesk Materials in (a) a country in Europe, Africa or the Middle East, �\n",
            "Autodesk� means Autodesk Development S�rl or (b) a country in Asia, Oceania or t\n",
            "he Asia-Pacific region, �Autodesk� means Autodesk Asia Pte Ltd.\n",
            "5.\t�Autodesk Lic\n",
            "ense Manager� means the tool known as Autodesk License Manager or any future Aut\n",
            "odesk tool for managing, monitoring or controlling Installation of or Access to \n",
            "Autodesk Materials.\n",
            "6.\t�Autodesk Materials� means any materials distributed or m\n",
            "ade available by Autodesk, directly or indirectly, including Software, Supplemen\n",
            "tal Materials, User Documentation and Excluded Materials (whether or not license\n",
            "d to Licensee).\n",
            "7.\t�Computer� means (i) a single electronic device, with one or \n",
            "more central processing units (CPUs), that accepts information in digital or sim\n",
            "ilar form and manipulates the information for a specific result based on a seque\n",
            "nce of instructions, or (ii) a software implementation of such a device (or so-c\n",
            "alled virtual machine).\n",
            "8.\t�Customer Information Form� means a form completed by\n",
            " or on behalf of Licensee and submitted to Autodesk or a Reseller, directly or i\n",
            "ndirectly, in connection with Licensee�s order for a license of Autodesk Materia\n",
            "ls, Relationship Program or Services.\n",
            "9.\t�Educational Licensee� means a Licensee\n",
            " who is also (a) a Qualified Educational Institution, (b) Faculty, (c) Student o\n",
            "r (d) Other Authorized Educational Licensee.  An Educational Licensee may be req\n",
            "uired to show proof of eligibility if requested by Autodesk.  Autodesk, in its s\n",
            "ole discretion, retains the right to determine the eligibility of an Educational\n",
            " Licensee. \n",
            "10. \t�Educational Purposes� means (i) in the case of a Qualified Edu\n",
            "cational Institution, Faculty or Other Authorized Educational Licensees, purpose\n",
            "s directly related to learning, teaching, training, research and development tha\n",
            "t are part of the instructional functions performed by a Qualified Educational I\n",
            "nstitution or Other Authorized Educational Licensee and (ii) in the case of Stud\n",
            "ents, purposes related to learning, training, research or development.  �Educati\n",
            "onal Purposes� does not include commercial, professional or any other for-profit\n",
            " purposes.\n",
            "11.\t�Evaluation Purposes� means purposes of evaluation and demonstrat\n",
            "ion of the capabilities of the Software or Supplemental Materials but excludes c\n",
            "ompetitive analysis and any commercial, professional, or other for-profit purpos\n",
            "es.\n",
            "12.\t�Excluded Materials� means any materials, including Software, Supplement\n",
            "al Materials or User Documentation (and including, without limitation, any compu\n",
            "ter programs, modules or components of a computer program, functionality or feat\n",
            "ures of a computer program, explanatory printed or electronic materials, content\n",
            " or other materials, if any), that may be provided or become available to Licens\n",
            "ee, by any means, or that are on any media delivered to Licensee, for which (a) \n",
            "Licensee does not have a License Identification, or (b) Licensee has not paid (a\n",
            "nd continued to pay) the applicable fees.  Licensee acknowledges that Excluded M\n",
            "aterials are included on media or via download for convenience of the licensing \n",
            "mechanism used by Autodesk, and inclusion does not in any way authorize, express\n",
            "ly or impliedly, a right to use such Excluded Materials.\n",
            "13.\t�Faculty� means an \n",
            "individual person who is an employee or independent contractor working for a Qua\n",
            "lified Educational Institution.\n",
            "14.\t�Install� and �Installation� means, with res\n",
            "pect to a computer program or other materials, to copy the program or other mate\n",
            "rials onto a hard disk or other storage medium.\n",
            "15.\t�License Identification� mea\n",
            "ns one or more designations by Autodesk that set forth the License Type (among o\n",
            "ther things) for Licensee�s license of the Licensed Materials.  The License Iden\n",
            "tification may be (a) located (i) in the Licensed Materials (e.g., in an �About�\n",
            " box, license information dialog box, or text file of Software), (ii) on or with\n",
            " Autodesk packaging, or (iii) in a written confirmation or other notice issued t\n",
            "o Licensee by Autodesk and transmitted via email, facsimile, physical delivery, \n",
            "or otherwise, or (b) obtained from Autodesk on request.  For clarification, Lice\n",
            "nse Identification does not include a designation, confirmation, packaging or ot\n",
            "her document provided by a Reseller or other third party.\n",
            "16.\t�License Type� mea\n",
            "ns a type of license specified by Autodesk for Autodesk Materials, including the\n",
            " types set forth in Exhibit B.  License Type includes the terms specified by Aut\n",
            "odesk for each type of license, including the applicable terms set forth in Exhi\n",
            "bit B.  License Type is determined by Autodesk and may be specified in the appli\n",
            "cable License Identification.\n",
            "17.\t�Licensed Materials� means Software, Supplemen\n",
            "tal Materials and User Documentation (a) downloaded by clicking on the �I accept\n",
            "� button or other button or mechanism associated with this Agreement or by other\n",
            "wise indicating assent to this Agreement, (b) delivered prepackaged with this Ag\n",
            "reement, or (c) otherwise accompanied by this Agreement, provided that (i) in th\n",
            "e case of Software, the Software is identified in an applicable License Identifi\n",
            "cation, and (ii) Licensee has paid (and continues to pay) the applicable fees.  \n",
            "Licensed Materials also includes Supplemental Materials and User Documentation t\n",
            "hat Autodesk provides or makes available to Licensee for use with Software licen\n",
            "sed under this Agreement if there are no separate terms for such materials speci\n",
            "fied by Autodesk.  Licensed Materials includes, without limitation, any error co\n",
            "rrections, patches, service packs, updates and upgrades to, and new versions of,\n",
            " the Licensed Materials that Autodesk provides or makes available to Licensee un\n",
            "der Licensee�s then-current license.  Licensee acknowledges that availability of\n",
            " Upgrades and new versions may be subject to additional fees and the Relationshi\n",
            "p Program Terms.  In addition, Licensed Materials includes, without limitation, \n",
            "any Previous Versions and other Autodesk Materials that Licensee receives or ret\n",
            "ains pursuant to the Relationship Program Terms, but only for so long as and to \n",
            "the extent expressly authorized by the Relationship Program Terms.  Notwithstand\n",
            "ing the foregoing (or any other provision of this Agreement), Licensed Materials\n",
            " in all cases excludes Excluded Materials.\n",
            "18.\t�Licensee� means (a) the company \n",
            "or other legal entity on behalf of which Autodesk Materials are acquired, if the\n",
            " Autodesk Materials are acquired on behalf of such an entity (e.g., by an employ\n",
            "ee, independent contractor, or other authorized representative), or (b) if there\n",
            " is no such entity, the individual who accepts this Agreement (e.g., by selectin\n",
            "g the �I accept� button or other button or mechanism associated with this Agreem\n",
            "ent or otherwise indicating assent to this Agreement, or by installing, download\n",
            "ing, accessing, or otherwise copying or using all or any portion of the Autodesk\n",
            " Materials).  For clarification, �Licensee� refers only to a single, specificall\n",
            "y identified legal entity or individual, and does not include any subsidiary or \n",
            "affiliate of any such legal entity or individual or any other related person.\n",
            "19\n",
            ".\t�Licensee�s Internal Business Needs� means, in reference to Licensed Materials\n",
            ", the use of such Licensed Materials (and the features and functionality thereof\n",
            ") by Licensee�s own Personnel to meet the internal requirements of Licensee�s bu\n",
            "siness in the ordinary course of such business, provided that Internal Business \n",
            "Needs will in no event include providing or making available such Licensed Mater\n",
            "ials (or the features or functionality thereof) to any third party.\n",
            "20.\t�Network\n",
            "ed Basis� means a computing environment that includes a Computer acting as a fil\n",
            "e server which allows the Licensed Materials Installed on such Computer to be up\n",
            "loaded and Installed to, and operated, viewed or otherwise Accessed from, other \n",
            "Computers through a local area network connection or through a VPN connection su\n",
            "bject to compliance with the VPN Requirements.\n",
            "21.\t�Open Source� means any softw\n",
            "are code that: (a) contains, or is derived in any manner, (in whole or in part),\n",
            " from any software that is distributed as free software, open source software, s\n",
            "hareware (e.g., Linux), or similar licensing or distribution models; and (b) is \n",
            "subject to any agreement with terms requiring that using, copying, modifying or \n",
            "redistributing the software requires that such software and/or the derivative wo\n",
            "rks of such software be: (i) disclosed and/or distributed in source code form; (\n",
            "ii) be licensed for the purpose of making derivative works; and/or (iii) be redi\n",
            "stributed free of charge; including, without limitation, software licensed or di\n",
            "stributed under any of the following licenses or distribution models, or license\n",
            "s or distribution models similar to, GNU�s General Public License (GPL) or Lesse\n",
            "r/Library GPL (LGPL).\n",
            "22.\t�Other Authorized Educational Licensee� means a Licens\n",
            "ee described at http://www.autodesk.com/educationterms or as otherwise authorize\n",
            "d in writing by Autodesk.\n",
            "23.\t�Permitted Number� means a maximum number (e.g., n\n",
            "umber of authorized users, number of concurrent users, number of computers, sess\n",
            "ions, etc.) applicable to a license of the Licensed Materials and to the License\n",
            " Type associated with such license.  Such number is determined by Autodesk and m\n",
            "ay be specified in the applicable License Identification.\n",
            "24.\t�Personal Learning\n",
            " Purposes� means (i) personal learning as a Student or (ii) in the case of a non\n",
            "-Student, personal learning, excluding (a) in-person or online classroom learnin\n",
            "g in any degree-granting or certificate granting program, and (b) learning relat\n",
            "ed to any commercial, professional or other for-profit purposes.\n",
            "25.\t�Personnel�\n",
            " means (a) Licensee�s individual employees and (b) individual persons who are in\n",
            "dependent contractors working on Licensee�s premises and who Install and Access \n",
            "the Licensed Materials only on and through Computers owned or leased and control\n",
            "led by Licensee.\n",
            "26.\t�Previous Versions� means, as to any then-current release o\n",
            "f Licensed Materials, a prior release of the Licensed Materials as to which such\n",
            " then-current release is a successor or substitute (as determined by Autodesk).\n",
            "\n",
            "27.\t�Qualified Educational Institution� means an educational institution which h\n",
            "as been accredited by an authorized governmental agency within its applicable lo\n",
            "cal, state, provincial, federal, or national government and has the primary purp\n",
            "ose of teaching its enrolled students. Examples, without limitation, of entities\n",
            " that are included and excluded from this definition are described at http://www\n",
            ".autodesk.com/educationterms. \n",
            "28.\t�Relationship Program� means (i) Subscription\n",
            " or (ii) a rental program offered generally by Autodesk pursuant to which Autode\n",
            "sk makes available Licensed Materials.\n",
            "29. \t�Relationship Program Terms� means t\n",
            "he terms for a Relationship Program set forth at http://usa.autodesk.com/company\n",
            "/legal-notices-trademarks/support-terms-and-conditions or any successor or suppl\n",
            "emental web page of Autodesk (the URL for which may be obtained on Autodesk�s we\n",
            "bsite or on request).\n",
            "30. \t�Reseller� means a distributor or reseller authorized\n",
            " directly or indirectly by Autodesk to distribute authentic Autodesk Materials t\n",
            "o Licensee.\n",
            "31.\t�Services� means services (including the results of services) pr\n",
            "ovided or made available by Autodesk, including, without limitation, support ser\n",
            "vices, storage, simulation and testing services, training and other benefits, bu\n",
            "t excluding services provided or made available as part of a Relationship Progra\n",
            "m.\n",
            "32.\t�Services Terms� means the terms for Services set forth at a location whe\n",
            "re a user may order or register for, or that is displayed in connection with ord\n",
            "ering or registering for, such Services (e.g., a web page) or, if there are no s\n",
            "uch terms, at http://usa.autodesk.com/company/legal-notices-trademarks/terms-of-\n",
            "service (if the Services are web services) or http://usa.autodesk.com/company/le\n",
            "gal-notices-trademarks/terms-of-use for all other Services) or any successor or \n",
            "supplemental web pages of Autodesk.\n",
            "33.\t�Software� means the Autodesk FBX SDK co\n",
            "mputer program, or a module or component of a computer program, including the so\n",
            "ftware development kit (�SDK�) distributed or made available by Autodesk.  The t\n",
            "erm �Software� may also refer to functions and features of a computer program.\n",
            "3\n",
            "4.\t�Stand-alone Basis� means (i) the Licensed Materials are Installed on a singl\n",
            "e Computer and (ii) the Licensed Materials cannot be Installed on, or operated, \n",
            "viewed or otherwise Accessed from or through any other Computer (e.g., through a\n",
            " network connection of any kind).\n",
            "35.\t�Student� means an individual person enrol\n",
            "led as a student at a Qualified Educational Institution. \n",
            "36.\t�Subscription� is \n",
            "the program offered generally by Autodesk under which Autodesk provides (among o\n",
            "ther things) updates and upgrades to, new versions of, and certain other support\n",
            ", services and training relating to Autodesk Materials.\n",
            "37.\t�Supplemental Materi\n",
            "als� means materials, other than Software and related User Documentation, that a\n",
            "re distributed or made available by Autodesk for use with Software.  Supplementa\n",
            "l Materials include, without limitation, (a) content, such as sample drawings an\n",
            "d designs, modules for drawings and designs, and representations of elements use\n",
            "d in drawings and designs (e.g., buildings, parts of buildings, fixtures, furnit\n",
            "ure, bridges, roads, characters, backgrounds, settings and animations), (b) back\n",
            "ground materials, such as building codes and descriptions of building practices,\n",
            " (c) tools for rendering the output of the Software, such as fonts, and (d) Deve\n",
            "lopment Materials, application programming interfaces (APIs), and other similar \n",
            "developer materials (including API Information).\n",
            "37\t�Territory� (a) means the co\n",
            "untry, countries or jurisdiction(s) specified in the License Identification, or \n",
            "(b) if there is no such License Identification, or no country or jurisdiction is\n",
            " specified in the License Identification, means the country in which Licensee ac\n",
            "quires a license to the Autodesk Materials.  If the License Identification speci\n",
            "fies, or Licensee acquires the Autodesk Materials in, a member country of the Eu\n",
            "ropean Union or the European Free Trade Association, Territory means all the cou\n",
            "ntries of the European Union and the European Free Trade Association.\n",
            "38.\t�Unins\n",
            "tall� means to remove or disable a copy of Autodesk Materials from a hard drive \n",
            "or other storage medium through any means or otherwise to destroy or make unusab\n",
            "le a copy of the Autodesk Materials.\n",
            "39.\t�Upgrade� means a full commercial versi\n",
            "on of Licensed Materials (a) which is a successor to or substitute for a qualify\n",
            "ing prior release (and may incorporate error corrections, patches, service packs\n",
            " and updates and upgrades to, and may enhance or add to the features or function\n",
            "ality of, the prior release) or different release of Licensed Materials, (b) is \n",
            "provided to a Licensee who has previously licensed the applicable qualifying pri\n",
            "or or different release from Autodesk and (c) for which Autodesk generally charg\n",
            "es a separate fee or makes available solely to customers under a Relationship Pr\n",
            "ogram.  Whether Autodesk Materials are an Upgrade may be specified in the applic\n",
            "able License Identification.  Whether Autodesk Materials are an Upgrade and whet\n",
            "her Licensee has met the qualifications to license particular Autodesk Materials\n",
            " as an Upgrade are determined by Autodesk.\n",
            "40.\t�User Documentation� means the ex\n",
            "planatory or instructional materials for Software or Supplemental Materials (inc\n",
            "luding materials regarding use of the Software or Supplemental Materials), wheth\n",
            "er in printed or electronic form, that Autodesk or a Reseller incorporates in th\n",
            "e Software or Supplemental Materials (or the packaging for the Software or Suppl\n",
            "emental Materials) or otherwise provides to its customers when or after such cus\n",
            "tomers license, acquire or Install the Software or Supplemental Materials.\n",
            "41.\t�\n",
            "VPN Requirements� means (i) the Licensed Materials are Accessed through a secure\n",
            " virtual private network (�VPN�); (ii) the maximum number of concurrent users Ac\n",
            "cessing the Licensed Materials (on a Networked Basis or through the VPN) does no\n",
            "t exceed the Permitted Number at any time; (iii) all copies of the Licensed Mate\n",
            "rials are Installed and Accessed exclusively in conjunction with the technical p\n",
            "rotection device (if any) supplied with the Licensed Materials; and (iv) the VPN\n",
            " connection is secure and complies with current industry standard encryption and\n",
            " protection mechanisms.\n",
            "\n",
            "\n",
            "Exhibit B\n",
            "License Types\n",
            "1.\tStand-alone (Individual) Li\n",
            "cense.  If the License Identification identifies the License Type as a �Stand-al\n",
            "one License� or as an �Individual License,\" Licensee may Install a single primar\n",
            "y copy of the specific release of the Licensed Materials designated in the appli\n",
            "cable License Identification on one (1) Computer, on a Stand-alone Basis, and pe\n",
            "rmit Access to such primary copy of the Licensed Materials solely by Licensee�s \n",
            "Personnel, and solely for Licensee�s Internal Business Needs.  Licensee may also\n",
            " Install a single additional copy of such Licensed Materials on one (1) addition\n",
            "al Computer, on a Stand-alone Basis; provided that (i) such additional copy of t\n",
            "he Licensed Materials is Accessed solely by the same person as the primary copy;\n",
            " (ii) such person is Licensee (if Licensee is an individual) or an employee of L\n",
            "icensee; (iii) such person Accesses the additional copy solely to perform work w\n",
            "hile away from that person�s usual work location and solely for Licensee�s Inter\n",
            "nal Business Needs; and (iv) the primary and additional copies are not Accessed \n",
            "at the same time.  Stand-alone (Individual) License is for a perpetual term, exc\n",
            "ept as otherwise provided in this Agreement.\n",
            "2.\tMulti-seat Stand-alone License. \n",
            " If the License Identification identifies the License Type as a �Multi-seat Stan\n",
            "d-alone License,\" Licensee may Install primary copies of the specific release of\n",
            " the Licensed Materials designated in the applicable License Identification on u\n",
            "p to the Permitted Number of Computers, on a Stand-alone Basis, and permit Acces\n",
            "s to such copies of the Licensed Materials solely by Licensee�s Personnel, and s\n",
            "olely for Licensee�s Internal Business Needs.  Licensee may also Install additio\n",
            "nal copies of such Licensed Materials on additional Computers in an amount up to\n",
            " the Permitted Number of Computers, on a Stand-alone Basis; provided that (i) ea\n",
            "ch additional copy of such Licensed Materials is Accessed solely by the same per\n",
            "son as the primary copy; (ii) such person is Licensee (if Licensee is an individ\n",
            "ual) or an employee of Licensee; (iii) such person Accesses the additional copy \n",
            "solely to perform work while away from that person�s usual work location and sol\n",
            "ely for Licensee�s Internal Business Needs; and (iv) the primary and additional \n",
            "copies are not Accessed at the same time.  Multi-seat Stand-alone License is for\n",
            " a perpetual term, except as otherwise provided in this Agreement.\n",
            "3.\tNetwork Li\n",
            "cense.  If the License Identification identifies the License Type for the Licens\n",
            "ed Materials as a �Network License,\" Licensee may Install copies of the specific\n",
            " release of the Licensed Materials designated in the applicable License Identifi\n",
            "cation on a Computer and permit Access to such Licensed Materials on multiple Co\n",
            "mputers, on a Networked Basis, solely by Licensee�s Personnel, solely for Licens\n",
            "ee�s Internal Business Needs, only so long as the maximum number of concurrent A\n",
            "uthorized Users does not exceed the Permitted Number of Authorized Users or othe\n",
            "r limits imposed by the Autodesk License Manager (if any).  Licensee may, at Lic\n",
            "ensee�s option, also Install the Licensed Materials on a Hot Backup Server; prov\n",
            "ided that Licensee may Access the Licensed Materials on the Hot Backup Server on\n",
            "ly during the time period when, and solely for as long as, the primary Installed\n",
            " copy of the Licensed Materials is inoperable and only subject to the same terms\n",
            " and conditions as are applicable to the primary Installed copy.  A �Hot Backup \n",
            "Server� means a file server Computer that has a second copy of the Software and \n",
            "Supplemental Materials Installed but that is not permitted to be Accessible exce\n",
            "pt when the primary Installed copy of the Software and Supplemental Materials ar\n",
            "e inoperable and only for so long as such primary Installed copy is inoperable. \n",
            " A Network License is for a perpetual term, except as otherwise provided in this\n",
            " Agreement.\n",
            "4.\tEducational Stand-alone (Individual) License.� If the License Ide\n",
            "ntification identifies the License Type as an �Educational Stand-alone (Individu\n",
            "al) License,� an Educational Licensee may Install a copy of the specific release\n",
            " of the Licensed Materials designated in the applicable License Identification o\n",
            "n one (1) Computer, subject to certain functional limitations described in Secti\n",
            "on 6.3 (Affected Data), on a Stand-alone Basis, and permit Access to such copy o\n",
            "f the Licensed Materials solely by an Educational Licensee solely for Educationa\n",
            "l Purposes.� An Educational Stand-alone (Individual) License is for a fixed term\n",
            " specified in the applicable License Identification or, if no such term is speci\n",
            "fied, the term is thirty-six (36) months from Installation or as otherwise autho\n",
            "rized in writing by Autodesk.\n",
            "5.\tEducational Multi-seat Stand-alone License.  If\n",
            " the License Identification identifies the License Type as an �Educational Multi\n",
            "-seat Stand-alone License,� an Educational Licensee may Install copies of the sp\n",
            "ecific release of the Licensed Materials designated in the applicable License Id\n",
            "entification on up to the Permitted Number of Computers, subject to certain func\n",
            "tional limitations described in Section 6.3 (Affected Data), on a Stand-alone Ba\n",
            "sis, and permit Access to such copies of the Licensed Materials solely by Educat\n",
            "ional Licensees solely for Educational Purposes.  An Educational Multi-seat Stan\n",
            "d-alone License is for a fixed term specified in the applicable License Identifi\n",
            "cation or, if no such term is specified, the term is thirty-six (36) months from\n",
            " Installation or as otherwise authorized in writing by Autodesk.\n",
            "6.\tEducational \n",
            "Network License.  If the License Identification identifies the License Type as a\n",
            "n �Educational Network License,� an Educational Licensee may Install copies of t\n",
            "he specific release of the Licensed Materials designated in the applicable Licen\n",
            "se Identification on a single file server Computer, subject to certain functiona\n",
            "l limitations described in Section 6.3 (Affected Data), and Access such Licensed\n",
            " Materials on multiple Computers on a Networked Basis, and permit Access to such\n",
            " copies of the Licensed Materials solely by Educational Licensees solely for Edu\n",
            "cational Purposes, only so long as the maximum number of concurrent Authorized U\n",
            "sers does not exceed the Permitted Number of Authorized Users.  An Educational N\n",
            "etwork License is for a fixed term specified in the applicable License Identific\n",
            "ation or, if no such term is specified, the term is thirty-six (36) months from \n",
            "Installation or as otherwise authorized in writing by Autodesk.\n",
            "7.\tPersonal Lear\n",
            "ning License.  If the License Identification identifies the License Type as a �P\n",
            "ersonal Learning License�, Licensee may Install a copy of the specific release o\n",
            "f the Licensed Materials designated in the applicable License Identification on \n",
            "one (1) Computer, subject to certain functional limitations described in Section\n",
            " 6.3 (Affected Data), on a Stand-alone Basis, and permit Access to such copy of \n",
            "the Licensed Materials solely by Licensee, as an individual, solely for Personal\n",
            " Learning Purposes and only at and from locations that are not labs or classroom\n",
            "s and are not operated for commercial, professional or for-profit purposes.  A P\n",
            "ersonal Learning License Stand-alone is for a fixed term specified in the applic\n",
            "able License Identification.  If no such term is specified, the term is thirteen\n",
            " (13) months from Installation.\n",
            "8.\tEvaluation/Demonstration/Trial.  If Autodesk \n",
            "identifies the License Type as a �demonstration�, �evaluation�, �trial,� �not fo\n",
            "r resale� or �NFR� version (each, an �Evaluation License�) in the applicable Lic\n",
            "ense Identification, Licensee may Install a copy of the specific release of the \n",
            "Licensed Materials designated in the applicable License Identification on one (1\n",
            ") Computer, subject to certain functional limitations described in Section 6.3 (\n",
            "Affected Data), on a Stand-alone Basis, and permit Access to such copy of the Li\n",
            "censed Materials, solely by Licensee�s Personnel, solely for Evaluation Purposes\n",
            ", only so long as the maximum number of concurrent Authorized Users does not exc\n",
            "eed one (1), and only from Licensee�s work location.  An Evaluation License is f\n",
            "or a fixed term specified in the applicable License Identification, or if no suc\n",
            "h term is specified, the term is thirty (30) days from Installation or as otherw\n",
            "ise authorized in writing by Autodesk.\n",
            "9.\tFixed Term/Limited Duration/Rental Lic\n",
            "ense.  If Autodesk identifies a license in the applicable License Identification\n",
            " as being for a specified period or limited duration or as having a fixed term o\n",
            "r as a rental license, Licensee�s right to Install and Access the Licensed Mater\n",
            "ials will continue only for the period, duration or term specified in the Licens\n",
            "e Identification.  Such Installation and Access will be in accordance with and s\n",
            "ubject to the applicable License Type and Permitted Number.  If Autodesk identif\n",
            "ies a license in the applicable License Identification as being for a specified \n",
            "period or limited duration, or as having a fixed term, or a rental license but n\n",
            "o period, duration or term is specified in the License Identification, the perio\n",
            "d, duration or term will be ninety (90) days from Installation (or the period sp\n",
            "ecified in Sections B.6 (Educational Network License), B.7 (Personal Learning Li\n",
            "cense) or B.8 (Evaluation/Demonstration/Trial) of this Exhibit B with respect to\n",
            " the licenses described in those sections).\n",
            "10.\tSession Specific Network License\n",
            ".  If the License Identification identifies the License Type as a \"Session Speci\n",
            "fic Network License\", Licensee may install one (1) copy of the specific release \n",
            "of the Licensed Materials designated in the applicable License Identification on\n",
            " a Computer and permit Access to such Licensed Materials from multiple Computers\n",
            " through a Supported Virtualization Application, on a Networked Basis, solely by\n",
            " Licensee's Personnel, solely for Licensee's Internal Business needs, only so lo\n",
            "ng as the maximum number of concurrent Sessions does not exceed the Permitted Nu\n",
            "mber or other limits imposed by the Autodesk License Manager tool (if any).  For\n",
            " purposes of this Session Specific Network License, (a) a �Session� is defined a\n",
            "s a single interactive information exchange between two Computers that are conne\n",
            "cted through a Supported Virtualization Application, and (b) �Supported Virtuali\n",
            "zation Application(s)� are those third party virtualization applications or meth\n",
            "ods that are specifically identified as supported by Autodesk in the User Docume\n",
            "ntation for the Licensed Materials.  With respect to the applicable Supported Vi\n",
            "rtualization Application, Licensee agrees to activate any available session trac\n",
            "king mechanism, not disable any such session tracking mechanism and to retain al\n",
            "l records generated by such session tracking mechanism.  A Session Specific Netw\n",
            "ork License is for a perpetual term, except as otherwise provided in this Agreem\n",
            "ent.\n",
            "\n",
            "\n",
            "\n",
            "\n",
            "\n",
            "\n",
            "\t\t\n",
            "\n",
            "\n",
            "\n",
            "To continue installing the software, you must agree\n",
            "to the terms of the software license agreement.\n",
            "\n",
            "Type \"yes\" to agree and continue the installation. Agree [yes/no] ? yes\n",
            "Starting Installation...\n",
            "\n",
            "Installation completed successfully.\n",
            "\n",
            "\n",
            "Do you want to read the ReadMe file [y/n] ? n\n"
          ]
        }
      ]
    },
    {
      "cell_type": "code",
      "source": [
        "def replace_text(file, search_text, replace_text):\n",
        "  fin = open(file, \"rt\")\n",
        "  data = fin.read()\n",
        "  data = data.replace(search_text, replace_text)\n",
        "  fin.close\n",
        "  fout = open(file, \"wt\")\n",
        "  fout.write(data)\n",
        "  fout.close()\n",
        "\n",
        "replace_text('/content/AvatarCLIP/Avatar2FBX/export_fbx.py','/path/to/fbxsdk/build/lib/Python37_x64','/usr/FBX202031_FBXPYTHONSDK_LINUX/lib/Python37_x64')\n",
        "replace_text('/content/AvatarCLIP/Avatar2FBX/utils/fbx_utils.py','/path/to/fbxsdk/build/lib/Python37_x64','/usr/FBX202031_FBXPYTHONSDK_LINUX/lib/Python37_x64')\n",
        "        "
      ],
      "metadata": {
        "id": "GCPfSbGIvQbm"
      },
      "execution_count": 38,
      "outputs": []
    },
    {
      "cell_type": "code",
      "source": [
        "# copy all generated meshes to Avatar2FBX/meshes"
      ],
      "metadata": {
        "id": "uajdmwfy2bL8"
      },
      "execution_count": 39,
      "outputs": []
    },
    {
      "cell_type": "code",
      "source": [
        "%cd /content/AvatarCLIP/Avatar2FBX/\n",
        "!python export_fbx.py "
      ],
      "metadata": {
        "id": "NCcrxvTo3M0b",
        "outputId": "699f4d41-7eb1-43e7-e7e6-7269068f2113",
        "colab": {
          "base_uri": "https://localhost:8080/"
        }
      },
      "execution_count": 41,
      "outputs": [
        {
          "output_type": "stream",
          "name": "stdout",
          "text": [
            "/content/AvatarCLIP/Avatar2FBX\n",
            "\n",
            "\n",
            "Parsing ply files...... (may take a while)\n",
            "\n",
            "  0% 0/61 [00:00<?, ?it/s]00028500.ply\n",
            "Reading PLY: [========================================] 100%\n",
            "  0% 0/61 [00:00<?, ?it/s]\n",
            "Traceback (most recent call last):\n",
            "  File \"export_fbx.py\", line 51, in <module>\n",
            "    ply_mesh = simplify_mesh(ply_mesh)\n",
            "  File \"/content/AvatarCLIP/Avatar2FBX/utils/ply_utils.py\", line 18, in simplify_mesh\n",
            "    mesh_smp = mesh_in.simplify_vertex_clustering(voxel_size=voxel_size, contraction=o3d.geometry.SimplificationContraction.Average)\n",
            "AttributeError: 'open3d.open3d.geometry.TriangleMesh' object has no attribute 'simplify_vertex_clustering'\n"
          ]
        }
      ]
    },
    {
      "cell_type": "code",
      "source": [
        ""
      ],
      "metadata": {
        "id": "wBdMokfj3VaW"
      },
      "execution_count": null,
      "outputs": []
    }
  ]
}