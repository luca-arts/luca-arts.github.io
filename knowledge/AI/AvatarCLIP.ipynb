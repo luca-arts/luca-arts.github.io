{
  "nbformat": 4,
  "nbformat_minor": 0,
  "metadata": {
    "colab": {
      "name": "AvatarCLIP.ipynb",
      "provenance": [],
      "collapsed_sections": [],
      "include_colab_link": true
    },
    "kernelspec": {
      "name": "python3",
      "display_name": "Python 3"
    },
    "language_info": {
      "name": "python"
    },
    "accelerator": "GPU"
  },
  "cells": [
    {
      "cell_type": "markdown",
      "metadata": {
        "id": "view-in-github",
        "colab_type": "text"
      },
      "source": [
        "<a href=\"https://colab.research.google.com/github/luca-arts/luca-arts.github.io/blob/main/knowledge/AI/AvatarCLIP.ipynb\" target=\"_parent\"><img src=\"https://colab.research.google.com/assets/colab-badge.svg\" alt=\"Open In Colab\"/></a>"
      ]
    },
    {
      "cell_type": "markdown",
      "source": [
        "# AvatarCLIP: Zero-Shot Text-Driven Generation and Animation of 3D Avatars\n",
        "\n",
        "Authored by Fangzhou Hong, Mingyuan Zhang, Liang Pan, Zhongang Cai, Lei Yang, Ziwei Liu\n",
        "\n",
        "This colab notebook provides a quick example of avatar shape sculpting and texture generation part described in our paper.\n",
        "\n",
        "For the coarse shape generation and motion generation, please refer to our official Github repo (https://github.com/hongfz16/AvatarCLIP).\n",
        "\n",
        "Please note that due to the GPU memory limitation, this demo cannot fully achieve the quality shown in the paper. To fit in the smaller GPU memory, we scale down the model, which harms its capacity. We also tune down the rendering resolution to reduce memory usage which will hurt the supervision from CLIP.\n",
        "\n",
        "For more information, feel free to visit our project page (https://hongfz16.github.io/projects/AvatarCLIP.html).\n",
        "\n",
        "The whole optimization process might take 4-10 hours depending on the machine you get allocated. Empirically, you can check the results after 10,000 iterations."
      ],
      "metadata": {
        "id": "WpMyzgQXY5kO"
      }
    },
    {
      "cell_type": "code",
      "execution_count": 1,
      "metadata": {
        "cellView": "form",
        "id": "PUkowKUqYy3s"
      },
      "outputs": [],
      "source": [
        "# @title Licensed under the MIT License\n",
        "\n",
        "# Copyright (c) 2021 Katherine Crowson\n",
        "\n",
        "# Permission is hereby granted, free of charge, to any person obtaining a copy\n",
        "# of this software and associated documentation files (the \"Software\"), to deal\n",
        "# in the Software without restriction, including without limitation the rights\n",
        "# to use, copy, modify, merge, publish, distribute, sublicense, and/or sell\n",
        "# copies of the Software, and to permit persons to whom the Software is\n",
        "# furnished to do so, subject to the following conditions:\n",
        "\n",
        "# The above copyright notice and this permission notice shall be included in\n",
        "# all copies or substantial portions of the Software.\n",
        "\n",
        "# THE SOFTWARE IS PROVIDED \"AS IS\", WITHOUT WARRANTY OF ANY KIND, EXPRESS OR\n",
        "# IMPLIED, INCLUDING BUT NOT LIMITED TO THE WARRANTIES OF MERCHANTABILITY,\n",
        "# FITNESS FOR A PARTICULAR PURPOSE AND NONINFRINGEMENT. IN NO EVENT SHALL THE\n",
        "# AUTHORS OR COPYRIGHT HOLDERS BE LIABLE FOR ANY CLAIM, DAMAGES OR OTHER\n",
        "# LIABILITY, WHETHER IN AN ACTION OF CONTRACT, TORT OR OTHERWISE, ARISING FROM,\n",
        "# OUT OF OR IN CONNECTION WITH THE SOFTWARE OR THE USE OR OTHER DEALINGS IN\n",
        "# THE SOFTWARE."
      ]
    },
    {
      "cell_type": "markdown",
      "source": [
        "## Setup SMPL Models\n",
        "\n",
        "Please register and download SMPL models here(https://smpl.is.tue.mpg.de/). Create folders under AvatarCLIP and put SMPL_NEUTRAL.pkl under the folder as follows.\n",
        "\n",
        "```\n",
        "./AvatarCLIP/\n",
        "├── ...\n",
        "└── smpl_models/\n",
        "    └── smpl/\n",
        "        └── SMPL_NEUTRAL.pkl\n",
        "```"
      ],
      "metadata": {
        "id": "gnP7fh6B_bd_"
      }
    },
    {
      "cell_type": "code",
      "source": [
        "# @title Setup the Environment: 1. Common Dependencies\n",
        "!nvidia-smi\n",
        "!git clone https://github.com/hongfz16/AvatarCLIP.git\n",
        "!pip install torch==1.7.1+cu101 torchvision==0.8.2+cu101 torchaudio==0.7.2 -f https://download.pytorch.org/whl/torch_stable.html\n",
        "!pip install -r AvatarCLIP/requirements.txt\n",
        "!git clone https://github.com/hongfz16/neural_renderer.git"
      ],
      "metadata": {
        "cellView": "form",
        "id": "dMsnmf-ObQPV",
        "colab": {
          "base_uri": "https://localhost:8080/"
        },
        "outputId": "c73b033b-e9fc-4c8b-d589-bc0316f1a63e"
      },
      "execution_count": 2,
      "outputs": [
        {
          "output_type": "stream",
          "name": "stdout",
          "text": [
            "Fri Jun 24 07:22:25 2022       \n",
            "+-----------------------------------------------------------------------------+\n",
            "| NVIDIA-SMI 460.32.03    Driver Version: 460.32.03    CUDA Version: 11.2     |\n",
            "|-------------------------------+----------------------+----------------------+\n",
            "| GPU  Name        Persistence-M| Bus-Id        Disp.A | Volatile Uncorr. ECC |\n",
            "| Fan  Temp  Perf  Pwr:Usage/Cap|         Memory-Usage | GPU-Util  Compute M. |\n",
            "|                               |                      |               MIG M. |\n",
            "|===============================+======================+======================|\n",
            "|   0  Tesla P100-PCIE...  Off  | 00000000:00:04.0 Off |                    0 |\n",
            "| N/A   36C    P0    27W / 250W |      0MiB / 16280MiB |      0%      Default |\n",
            "|                               |                      |                  N/A |\n",
            "+-------------------------------+----------------------+----------------------+\n",
            "                                                                               \n",
            "+-----------------------------------------------------------------------------+\n",
            "| Processes:                                                                  |\n",
            "|  GPU   GI   CI        PID   Type   Process name                  GPU Memory |\n",
            "|        ID   ID                                                   Usage      |\n",
            "|=============================================================================|\n",
            "|  No running processes found                                                 |\n",
            "+-----------------------------------------------------------------------------+\n",
            "fatal: destination path 'AvatarCLIP' already exists and is not an empty directory.\n",
            "Looking in indexes: https://pypi.org/simple, https://us-python.pkg.dev/colab-wheels/public/simple/\n",
            "Looking in links: https://download.pytorch.org/whl/torch_stable.html\n",
            "Requirement already satisfied: torch==1.7.1+cu101 in /usr/local/lib/python3.7/dist-packages (1.7.1+cu101)\n",
            "Requirement already satisfied: torchvision==0.8.2+cu101 in /usr/local/lib/python3.7/dist-packages (0.8.2+cu101)\n",
            "Requirement already satisfied: torchaudio==0.7.2 in /usr/local/lib/python3.7/dist-packages (0.7.2)\n",
            "Requirement already satisfied: typing-extensions in /usr/local/lib/python3.7/dist-packages (from torch==1.7.1+cu101) (4.1.1)\n",
            "Requirement already satisfied: numpy in /usr/local/lib/python3.7/dist-packages (from torch==1.7.1+cu101) (1.21.0)\n",
            "Requirement already satisfied: pillow>=4.1.1 in /usr/local/lib/python3.7/dist-packages (from torchvision==0.8.2+cu101) (7.1.2)\n",
            "Looking in indexes: https://pypi.org/simple, https://us-python.pkg.dev/colab-wheels/public/simple/\n",
            "Collecting git+https://github.com/openai/CLIP.git (from -r AvatarCLIP/requirements.txt (line 12))\n",
            "  Cloning https://github.com/openai/CLIP.git to /tmp/pip-req-build-41q_tm2d\n",
            "  Running command git clone -q https://github.com/openai/CLIP.git /tmp/pip-req-build-41q_tm2d\n",
            "Requirement already satisfied: trimesh==3.9.8 in /usr/local/lib/python3.7/dist-packages (from -r AvatarCLIP/requirements.txt (line 1)) (3.9.8)\n",
            "Requirement already satisfied: numpy==1.21.0 in /usr/local/lib/python3.7/dist-packages (from -r AvatarCLIP/requirements.txt (line 2)) (1.21.0)\n",
            "Requirement already satisfied: pyhocon==0.3.57 in /usr/local/lib/python3.7/dist-packages (from -r AvatarCLIP/requirements.txt (line 3)) (0.3.57)\n",
            "Requirement already satisfied: icecream==2.1.0 in /usr/local/lib/python3.7/dist-packages (from -r AvatarCLIP/requirements.txt (line 4)) (2.1.0)\n",
            "Requirement already satisfied: opencv_python==4.5.2.52 in /usr/local/lib/python3.7/dist-packages (from -r AvatarCLIP/requirements.txt (line 5)) (4.5.2.52)\n",
            "Requirement already satisfied: tqdm==4.50.2 in /usr/local/lib/python3.7/dist-packages (from -r AvatarCLIP/requirements.txt (line 6)) (4.50.2)\n",
            "Requirement already satisfied: scipy==1.7.0 in /usr/local/lib/python3.7/dist-packages (from -r AvatarCLIP/requirements.txt (line 7)) (1.7.0)\n",
            "Requirement already satisfied: PyMCubes==0.1.2 in /usr/local/lib/python3.7/dist-packages (from -r AvatarCLIP/requirements.txt (line 8)) (0.1.2)\n",
            "Requirement already satisfied: ftfy in /usr/local/lib/python3.7/dist-packages (from -r AvatarCLIP/requirements.txt (line 9)) (6.1.1)\n",
            "Requirement already satisfied: regex in /usr/local/lib/python3.7/dist-packages (from -r AvatarCLIP/requirements.txt (line 10)) (2022.6.2)\n",
            "Requirement already satisfied: smplx[all] in /usr/local/lib/python3.7/dist-packages (from -r AvatarCLIP/requirements.txt (line 13)) (0.1.28)\n",
            "Requirement already satisfied: chumpy in /usr/local/lib/python3.7/dist-packages (from -r AvatarCLIP/requirements.txt (line 14)) (0.70)\n",
            "Requirement already satisfied: torch in /usr/local/lib/python3.7/dist-packages (from clip==1.0->-r AvatarCLIP/requirements.txt (line 12)) (1.7.1+cu101)\n",
            "Requirement already satisfied: torchvision in /usr/local/lib/python3.7/dist-packages (from clip==1.0->-r AvatarCLIP/requirements.txt (line 12)) (0.8.2+cu101)\n",
            "Requirement already satisfied: setuptools in /usr/local/lib/python3.7/dist-packages (from trimesh==3.9.8->-r AvatarCLIP/requirements.txt (line 1)) (57.4.0)\n",
            "Requirement already satisfied: pyparsing>=2.0.3 in /usr/local/lib/python3.7/dist-packages (from pyhocon==0.3.57->-r AvatarCLIP/requirements.txt (line 3)) (3.0.9)\n",
            "Requirement already satisfied: executing>=0.3.1 in /usr/local/lib/python3.7/dist-packages (from icecream==2.1.0->-r AvatarCLIP/requirements.txt (line 4)) (0.8.3)\n",
            "Requirement already satisfied: pygments>=2.2.0 in /usr/local/lib/python3.7/dist-packages (from icecream==2.1.0->-r AvatarCLIP/requirements.txt (line 4)) (2.6.1)\n",
            "Requirement already satisfied: colorama>=0.3.9 in /usr/local/lib/python3.7/dist-packages (from icecream==2.1.0->-r AvatarCLIP/requirements.txt (line 4)) (0.4.5)\n",
            "Requirement already satisfied: asttokens>=2.0.1 in /usr/local/lib/python3.7/dist-packages (from icecream==2.1.0->-r AvatarCLIP/requirements.txt (line 4)) (2.0.5)\n",
            "Requirement already satisfied: six in /usr/local/lib/python3.7/dist-packages (from asttokens>=2.0.1->icecream==2.1.0->-r AvatarCLIP/requirements.txt (line 4)) (1.15.0)\n",
            "Requirement already satisfied: wcwidth>=0.2.5 in /usr/local/lib/python3.7/dist-packages (from ftfy->-r AvatarCLIP/requirements.txt (line 9)) (0.2.5)\n",
            "Requirement already satisfied: pyrender>=0.1.23 in /usr/local/lib/python3.7/dist-packages (from smplx[all]->-r AvatarCLIP/requirements.txt (line 13)) (0.1.45)\n",
            "Requirement already satisfied: shapely in /usr/local/lib/python3.7/dist-packages (from smplx[all]->-r AvatarCLIP/requirements.txt (line 13)) (1.8.2)\n",
            "Requirement already satisfied: matplotlib in /usr/local/lib/python3.7/dist-packages (from smplx[all]->-r AvatarCLIP/requirements.txt (line 13)) (3.2.2)\n",
            "Requirement already satisfied: open3d-python in /usr/local/lib/python3.7/dist-packages (from smplx[all]->-r AvatarCLIP/requirements.txt (line 13)) (0.7.0.0)\n",
            "Requirement already satisfied: networkx in /usr/local/lib/python3.7/dist-packages (from pyrender>=0.1.23->smplx[all]->-r AvatarCLIP/requirements.txt (line 13)) (2.6.3)\n",
            "Requirement already satisfied: freetype-py in /usr/local/lib/python3.7/dist-packages (from pyrender>=0.1.23->smplx[all]->-r AvatarCLIP/requirements.txt (line 13)) (2.3.0)\n",
            "Requirement already satisfied: Pillow in /usr/local/lib/python3.7/dist-packages (from pyrender>=0.1.23->smplx[all]->-r AvatarCLIP/requirements.txt (line 13)) (7.1.2)\n",
            "Requirement already satisfied: PyOpenGL==3.1.0 in /usr/local/lib/python3.7/dist-packages (from pyrender>=0.1.23->smplx[all]->-r AvatarCLIP/requirements.txt (line 13)) (3.1.0)\n",
            "Requirement already satisfied: imageio in /usr/local/lib/python3.7/dist-packages (from pyrender>=0.1.23->smplx[all]->-r AvatarCLIP/requirements.txt (line 13)) (2.4.1)\n",
            "Requirement already satisfied: pyglet>=1.4.10 in /usr/local/lib/python3.7/dist-packages (from pyrender>=0.1.23->smplx[all]->-r AvatarCLIP/requirements.txt (line 13)) (1.5.0)\n",
            "Requirement already satisfied: future in /usr/local/lib/python3.7/dist-packages (from pyglet>=1.4.10->pyrender>=0.1.23->smplx[all]->-r AvatarCLIP/requirements.txt (line 13)) (0.16.0)\n",
            "Requirement already satisfied: typing-extensions in /usr/local/lib/python3.7/dist-packages (from torch->clip==1.0->-r AvatarCLIP/requirements.txt (line 12)) (4.1.1)\n",
            "Requirement already satisfied: python-dateutil>=2.1 in /usr/local/lib/python3.7/dist-packages (from matplotlib->smplx[all]->-r AvatarCLIP/requirements.txt (line 13)) (2.8.2)\n",
            "Requirement already satisfied: kiwisolver>=1.0.1 in /usr/local/lib/python3.7/dist-packages (from matplotlib->smplx[all]->-r AvatarCLIP/requirements.txt (line 13)) (1.4.3)\n",
            "Requirement already satisfied: cycler>=0.10 in /usr/local/lib/python3.7/dist-packages (from matplotlib->smplx[all]->-r AvatarCLIP/requirements.txt (line 13)) (0.11.0)\n",
            "Requirement already satisfied: ipywidgets in /usr/local/lib/python3.7/dist-packages (from open3d-python->smplx[all]->-r AvatarCLIP/requirements.txt (line 13)) (7.7.0)\n",
            "Requirement already satisfied: notebook in /usr/local/lib/python3.7/dist-packages (from open3d-python->smplx[all]->-r AvatarCLIP/requirements.txt (line 13)) (5.3.1)\n",
            "Requirement already satisfied: widgetsnbextension in /usr/local/lib/python3.7/dist-packages (from open3d-python->smplx[all]->-r AvatarCLIP/requirements.txt (line 13)) (3.6.0)\n",
            "Requirement already satisfied: ipython-genutils~=0.2.0 in /usr/local/lib/python3.7/dist-packages (from ipywidgets->open3d-python->smplx[all]->-r AvatarCLIP/requirements.txt (line 13)) (0.2.0)\n",
            "Requirement already satisfied: ipython>=4.0.0 in /usr/local/lib/python3.7/dist-packages (from ipywidgets->open3d-python->smplx[all]->-r AvatarCLIP/requirements.txt (line 13)) (5.5.0)\n",
            "Requirement already satisfied: ipykernel>=4.5.1 in /usr/local/lib/python3.7/dist-packages (from ipywidgets->open3d-python->smplx[all]->-r AvatarCLIP/requirements.txt (line 13)) (4.10.1)\n",
            "Requirement already satisfied: jupyterlab-widgets>=1.0.0 in /usr/local/lib/python3.7/dist-packages (from ipywidgets->open3d-python->smplx[all]->-r AvatarCLIP/requirements.txt (line 13)) (1.1.0)\n",
            "Requirement already satisfied: traitlets>=4.3.1 in /usr/local/lib/python3.7/dist-packages (from ipywidgets->open3d-python->smplx[all]->-r AvatarCLIP/requirements.txt (line 13)) (5.1.1)\n",
            "Requirement already satisfied: nbformat>=4.2.0 in /usr/local/lib/python3.7/dist-packages (from ipywidgets->open3d-python->smplx[all]->-r AvatarCLIP/requirements.txt (line 13)) (5.4.0)\n",
            "Requirement already satisfied: tornado>=4.0 in /usr/local/lib/python3.7/dist-packages (from ipykernel>=4.5.1->ipywidgets->open3d-python->smplx[all]->-r AvatarCLIP/requirements.txt (line 13)) (5.1.1)\n",
            "Requirement already satisfied: jupyter-client in /usr/local/lib/python3.7/dist-packages (from ipykernel>=4.5.1->ipywidgets->open3d-python->smplx[all]->-r AvatarCLIP/requirements.txt (line 13)) (5.3.5)\n",
            "Requirement already satisfied: pexpect in /usr/local/lib/python3.7/dist-packages (from ipython>=4.0.0->ipywidgets->open3d-python->smplx[all]->-r AvatarCLIP/requirements.txt (line 13)) (4.8.0)\n",
            "Requirement already satisfied: pickleshare in /usr/local/lib/python3.7/dist-packages (from ipython>=4.0.0->ipywidgets->open3d-python->smplx[all]->-r AvatarCLIP/requirements.txt (line 13)) (0.7.5)\n",
            "Requirement already satisfied: simplegeneric>0.8 in /usr/local/lib/python3.7/dist-packages (from ipython>=4.0.0->ipywidgets->open3d-python->smplx[all]->-r AvatarCLIP/requirements.txt (line 13)) (0.8.1)\n",
            "Requirement already satisfied: prompt-toolkit<2.0.0,>=1.0.4 in /usr/local/lib/python3.7/dist-packages (from ipython>=4.0.0->ipywidgets->open3d-python->smplx[all]->-r AvatarCLIP/requirements.txt (line 13)) (1.0.18)\n",
            "Requirement already satisfied: decorator in /usr/local/lib/python3.7/dist-packages (from ipython>=4.0.0->ipywidgets->open3d-python->smplx[all]->-r AvatarCLIP/requirements.txt (line 13)) (4.4.2)\n",
            "Requirement already satisfied: fastjsonschema in /usr/local/lib/python3.7/dist-packages (from nbformat>=4.2.0->ipywidgets->open3d-python->smplx[all]->-r AvatarCLIP/requirements.txt (line 13)) (2.15.3)\n",
            "Requirement already satisfied: jupyter-core in /usr/local/lib/python3.7/dist-packages (from nbformat>=4.2.0->ipywidgets->open3d-python->smplx[all]->-r AvatarCLIP/requirements.txt (line 13)) (4.10.0)\n",
            "Requirement already satisfied: jsonschema>=2.6 in /usr/local/lib/python3.7/dist-packages (from nbformat>=4.2.0->ipywidgets->open3d-python->smplx[all]->-r AvatarCLIP/requirements.txt (line 13)) (4.3.3)\n",
            "Requirement already satisfied: importlib-resources>=1.4.0 in /usr/local/lib/python3.7/dist-packages (from jsonschema>=2.6->nbformat>=4.2.0->ipywidgets->open3d-python->smplx[all]->-r AvatarCLIP/requirements.txt (line 13)) (5.7.1)\n",
            "Requirement already satisfied: pyrsistent!=0.17.0,!=0.17.1,!=0.17.2,>=0.14.0 in /usr/local/lib/python3.7/dist-packages (from jsonschema>=2.6->nbformat>=4.2.0->ipywidgets->open3d-python->smplx[all]->-r AvatarCLIP/requirements.txt (line 13)) (0.18.1)\n",
            "Requirement already satisfied: attrs>=17.4.0 in /usr/local/lib/python3.7/dist-packages (from jsonschema>=2.6->nbformat>=4.2.0->ipywidgets->open3d-python->smplx[all]->-r AvatarCLIP/requirements.txt (line 13)) (21.4.0)\n",
            "Requirement already satisfied: importlib-metadata in /usr/local/lib/python3.7/dist-packages (from jsonschema>=2.6->nbformat>=4.2.0->ipywidgets->open3d-python->smplx[all]->-r AvatarCLIP/requirements.txt (line 13)) (4.11.4)\n",
            "Requirement already satisfied: zipp>=3.1.0 in /usr/local/lib/python3.7/dist-packages (from importlib-resources>=1.4.0->jsonschema>=2.6->nbformat>=4.2.0->ipywidgets->open3d-python->smplx[all]->-r AvatarCLIP/requirements.txt (line 13)) (3.8.0)\n",
            "Requirement already satisfied: jinja2 in /usr/local/lib/python3.7/dist-packages (from notebook->open3d-python->smplx[all]->-r AvatarCLIP/requirements.txt (line 13)) (2.11.3)\n",
            "Requirement already satisfied: nbconvert in /usr/local/lib/python3.7/dist-packages (from notebook->open3d-python->smplx[all]->-r AvatarCLIP/requirements.txt (line 13)) (5.6.1)\n",
            "Requirement already satisfied: terminado>=0.8.1 in /usr/local/lib/python3.7/dist-packages (from notebook->open3d-python->smplx[all]->-r AvatarCLIP/requirements.txt (line 13)) (0.13.3)\n",
            "Requirement already satisfied: Send2Trash in /usr/local/lib/python3.7/dist-packages (from notebook->open3d-python->smplx[all]->-r AvatarCLIP/requirements.txt (line 13)) (1.8.0)\n",
            "Requirement already satisfied: pyzmq>=13 in /usr/local/lib/python3.7/dist-packages (from jupyter-client->ipykernel>=4.5.1->ipywidgets->open3d-python->smplx[all]->-r AvatarCLIP/requirements.txt (line 13)) (23.1.0)\n",
            "Requirement already satisfied: ptyprocess in /usr/local/lib/python3.7/dist-packages (from terminado>=0.8.1->notebook->open3d-python->smplx[all]->-r AvatarCLIP/requirements.txt (line 13)) (0.7.0)\n",
            "Requirement already satisfied: MarkupSafe>=0.23 in /usr/local/lib/python3.7/dist-packages (from jinja2->notebook->open3d-python->smplx[all]->-r AvatarCLIP/requirements.txt (line 13)) (2.0.1)\n",
            "Requirement already satisfied: entrypoints>=0.2.2 in /usr/local/lib/python3.7/dist-packages (from nbconvert->notebook->open3d-python->smplx[all]->-r AvatarCLIP/requirements.txt (line 13)) (0.4)\n",
            "Requirement already satisfied: testpath in /usr/local/lib/python3.7/dist-packages (from nbconvert->notebook->open3d-python->smplx[all]->-r AvatarCLIP/requirements.txt (line 13)) (0.6.0)\n",
            "Requirement already satisfied: bleach in /usr/local/lib/python3.7/dist-packages (from nbconvert->notebook->open3d-python->smplx[all]->-r AvatarCLIP/requirements.txt (line 13)) (5.0.0)\n",
            "Requirement already satisfied: defusedxml in /usr/local/lib/python3.7/dist-packages (from nbconvert->notebook->open3d-python->smplx[all]->-r AvatarCLIP/requirements.txt (line 13)) (0.7.1)\n",
            "Requirement already satisfied: mistune<2,>=0.8.1 in /usr/local/lib/python3.7/dist-packages (from nbconvert->notebook->open3d-python->smplx[all]->-r AvatarCLIP/requirements.txt (line 13)) (0.8.4)\n",
            "Requirement already satisfied: pandocfilters>=1.4.1 in /usr/local/lib/python3.7/dist-packages (from nbconvert->notebook->open3d-python->smplx[all]->-r AvatarCLIP/requirements.txt (line 13)) (1.5.0)\n",
            "Requirement already satisfied: webencodings in /usr/local/lib/python3.7/dist-packages (from bleach->nbconvert->notebook->open3d-python->smplx[all]->-r AvatarCLIP/requirements.txt (line 13)) (0.5.1)\n",
            "fatal: destination path 'neural_renderer' already exists and is not an empty directory.\n"
          ]
        }
      ]
    },
    {
      "cell_type": "code",
      "source": [
        "# @title Setup the Environment: 2. Modify neural_renderer\n",
        "with open('neural_renderer/neural_renderer/perspective.py', 'r') as f:\n",
        "  lines = f.readlines()\n",
        "lines.insert(19, '    x[z<=0] = 0\\n')\n",
        "lines.insert(20, '    y[z<=0] = 0\\n')\n",
        "lines.insert(21, '    z[z<=0] = 0\\n')\n",
        "with open('neural_renderer/neural_renderer/perspective.py', 'w') as f:\n",
        "  for l in lines:\n",
        "    f.write(l)"
      ],
      "metadata": {
        "cellView": "form",
        "id": "2lQATO--fCpY"
      },
      "execution_count": 3,
      "outputs": []
    },
    {
      "cell_type": "code",
      "source": [
        "# @title Setup the Environment: 3. Compile neural_renderer\n",
        "%cd /content\n",
        "%cd neural_renderer\n",
        "!python3 setup.py install\n",
        "%cd ../AvatarCLIP\n",
        "%cd AvatarGen/AppearanceGen"
      ],
      "metadata": {
        "cellView": "form",
        "id": "3Y49xKSfe_ya",
        "colab": {
          "base_uri": "https://localhost:8080/"
        },
        "outputId": "fd496350-68eb-4ece-e042-b34a36046be2"
      },
      "execution_count": 4,
      "outputs": [
        {
          "output_type": "stream",
          "name": "stdout",
          "text": [
            "/content\n",
            "/content/neural_renderer\n",
            "running install\n",
            "running bdist_egg\n",
            "running egg_info\n",
            "writing neural_renderer_pytorch.egg-info/PKG-INFO\n",
            "writing dependency_links to neural_renderer_pytorch.egg-info/dependency_links.txt\n",
            "writing top-level names to neural_renderer_pytorch.egg-info/top_level.txt\n",
            "/usr/local/lib/python3.7/dist-packages/torch/utils/cpp_extension.py:352: UserWarning: Attempted to use ninja as the BuildExtension backend but we could not find ninja.. Falling back to using the slow distutils backend.\n",
            "  warnings.warn(msg.format('we could not find ninja.'))\n",
            "adding license file 'LICENSE'\n",
            "writing manifest file 'neural_renderer_pytorch.egg-info/SOURCES.txt'\n",
            "installing library code to build/bdist.linux-x86_64/egg\n",
            "running install_lib\n",
            "running build_py\n",
            "copying neural_renderer/perspective.py -> build/lib.linux-x86_64-3.7/neural_renderer\n",
            "running build_ext\n",
            "creating build/bdist.linux-x86_64/egg\n",
            "creating build/bdist.linux-x86_64/egg/neural_renderer\n",
            "copying build/lib.linux-x86_64-3.7/neural_renderer/look_at.py -> build/bdist.linux-x86_64/egg/neural_renderer\n",
            "copying build/lib.linux-x86_64-3.7/neural_renderer/load_obj.py -> build/bdist.linux-x86_64/egg/neural_renderer\n",
            "copying build/lib.linux-x86_64-3.7/neural_renderer/mesh.py -> build/bdist.linux-x86_64/egg/neural_renderer\n",
            "creating build/bdist.linux-x86_64/egg/neural_renderer/cuda\n",
            "copying build/lib.linux-x86_64-3.7/neural_renderer/cuda/__init__.py -> build/bdist.linux-x86_64/egg/neural_renderer/cuda\n",
            "copying build/lib.linux-x86_64-3.7/neural_renderer/cuda/create_texture_image.cpython-37m-x86_64-linux-gnu.so -> build/bdist.linux-x86_64/egg/neural_renderer/cuda\n",
            "copying build/lib.linux-x86_64-3.7/neural_renderer/cuda/load_textures.cpython-37m-x86_64-linux-gnu.so -> build/bdist.linux-x86_64/egg/neural_renderer/cuda\n",
            "copying build/lib.linux-x86_64-3.7/neural_renderer/cuda/rasterize.cpython-37m-x86_64-linux-gnu.so -> build/bdist.linux-x86_64/egg/neural_renderer/cuda\n",
            "copying build/lib.linux-x86_64-3.7/neural_renderer/__init__.py -> build/bdist.linux-x86_64/egg/neural_renderer\n",
            "copying build/lib.linux-x86_64-3.7/neural_renderer/perspective.py -> build/bdist.linux-x86_64/egg/neural_renderer\n",
            "copying build/lib.linux-x86_64-3.7/neural_renderer/look.py -> build/bdist.linux-x86_64/egg/neural_renderer\n",
            "copying build/lib.linux-x86_64-3.7/neural_renderer/projection.py -> build/bdist.linux-x86_64/egg/neural_renderer\n",
            "copying build/lib.linux-x86_64-3.7/neural_renderer/save_obj.py -> build/bdist.linux-x86_64/egg/neural_renderer\n",
            "copying build/lib.linux-x86_64-3.7/neural_renderer/rasterize.py -> build/bdist.linux-x86_64/egg/neural_renderer\n",
            "copying build/lib.linux-x86_64-3.7/neural_renderer/get_points_from_angles.py -> build/bdist.linux-x86_64/egg/neural_renderer\n",
            "copying build/lib.linux-x86_64-3.7/neural_renderer/vertices_to_faces.py -> build/bdist.linux-x86_64/egg/neural_renderer\n",
            "copying build/lib.linux-x86_64-3.7/neural_renderer/lighting.py -> build/bdist.linux-x86_64/egg/neural_renderer\n",
            "copying build/lib.linux-x86_64-3.7/neural_renderer/renderer.py -> build/bdist.linux-x86_64/egg/neural_renderer\n",
            "byte-compiling build/bdist.linux-x86_64/egg/neural_renderer/look_at.py to look_at.cpython-37.pyc\n",
            "byte-compiling build/bdist.linux-x86_64/egg/neural_renderer/load_obj.py to load_obj.cpython-37.pyc\n",
            "byte-compiling build/bdist.linux-x86_64/egg/neural_renderer/mesh.py to mesh.cpython-37.pyc\n",
            "byte-compiling build/bdist.linux-x86_64/egg/neural_renderer/cuda/__init__.py to __init__.cpython-37.pyc\n",
            "byte-compiling build/bdist.linux-x86_64/egg/neural_renderer/__init__.py to __init__.cpython-37.pyc\n",
            "byte-compiling build/bdist.linux-x86_64/egg/neural_renderer/perspective.py to perspective.cpython-37.pyc\n",
            "byte-compiling build/bdist.linux-x86_64/egg/neural_renderer/look.py to look.cpython-37.pyc\n",
            "byte-compiling build/bdist.linux-x86_64/egg/neural_renderer/projection.py to projection.cpython-37.pyc\n",
            "byte-compiling build/bdist.linux-x86_64/egg/neural_renderer/save_obj.py to save_obj.cpython-37.pyc\n",
            "byte-compiling build/bdist.linux-x86_64/egg/neural_renderer/rasterize.py to rasterize.cpython-37.pyc\n",
            "byte-compiling build/bdist.linux-x86_64/egg/neural_renderer/get_points_from_angles.py to get_points_from_angles.cpython-37.pyc\n",
            "byte-compiling build/bdist.linux-x86_64/egg/neural_renderer/vertices_to_faces.py to vertices_to_faces.cpython-37.pyc\n",
            "byte-compiling build/bdist.linux-x86_64/egg/neural_renderer/lighting.py to lighting.cpython-37.pyc\n",
            "byte-compiling build/bdist.linux-x86_64/egg/neural_renderer/renderer.py to renderer.cpython-37.pyc\n",
            "creating stub loader for neural_renderer/cuda/load_textures.cpython-37m-x86_64-linux-gnu.so\n",
            "creating stub loader for neural_renderer/cuda/rasterize.cpython-37m-x86_64-linux-gnu.so\n",
            "creating stub loader for neural_renderer/cuda/create_texture_image.cpython-37m-x86_64-linux-gnu.so\n",
            "byte-compiling build/bdist.linux-x86_64/egg/neural_renderer/cuda/load_textures.py to load_textures.cpython-37.pyc\n",
            "byte-compiling build/bdist.linux-x86_64/egg/neural_renderer/cuda/rasterize.py to rasterize.cpython-37.pyc\n",
            "byte-compiling build/bdist.linux-x86_64/egg/neural_renderer/cuda/create_texture_image.py to create_texture_image.cpython-37.pyc\n",
            "creating build/bdist.linux-x86_64/egg/EGG-INFO\n",
            "copying neural_renderer_pytorch.egg-info/PKG-INFO -> build/bdist.linux-x86_64/egg/EGG-INFO\n",
            "copying neural_renderer_pytorch.egg-info/SOURCES.txt -> build/bdist.linux-x86_64/egg/EGG-INFO\n",
            "copying neural_renderer_pytorch.egg-info/dependency_links.txt -> build/bdist.linux-x86_64/egg/EGG-INFO\n",
            "copying neural_renderer_pytorch.egg-info/top_level.txt -> build/bdist.linux-x86_64/egg/EGG-INFO\n",
            "writing build/bdist.linux-x86_64/egg/EGG-INFO/native_libs.txt\n",
            "zip_safe flag not set; analyzing archive contents...\n",
            "neural_renderer.cuda.__pycache__.create_texture_image.cpython-37: module references __file__\n",
            "neural_renderer.cuda.__pycache__.load_textures.cpython-37: module references __file__\n",
            "neural_renderer.cuda.__pycache__.rasterize.cpython-37: module references __file__\n",
            "creating 'dist/neural_renderer_pytorch-1.1.3-py3.7-linux-x86_64.egg' and adding 'build/bdist.linux-x86_64/egg' to it\n",
            "removing 'build/bdist.linux-x86_64/egg' (and everything under it)\n",
            "Processing neural_renderer_pytorch-1.1.3-py3.7-linux-x86_64.egg\n",
            "removing '/usr/local/lib/python3.7/dist-packages/neural_renderer_pytorch-1.1.3-py3.7-linux-x86_64.egg' (and everything under it)\n",
            "creating /usr/local/lib/python3.7/dist-packages/neural_renderer_pytorch-1.1.3-py3.7-linux-x86_64.egg\n",
            "Extracting neural_renderer_pytorch-1.1.3-py3.7-linux-x86_64.egg to /usr/local/lib/python3.7/dist-packages\n",
            "neural-renderer-pytorch 1.1.3 is already the active version in easy-install.pth\n",
            "\n",
            "Installed /usr/local/lib/python3.7/dist-packages/neural_renderer_pytorch-1.1.3-py3.7-linux-x86_64.egg\n",
            "Processing dependencies for neural-renderer-pytorch==1.1.3\n",
            "Finished processing dependencies for neural-renderer-pytorch==1.1.3\n",
            "/content/AvatarCLIP\n",
            "/content/AvatarCLIP/AvatarGen/AppearanceGen\n"
          ]
        }
      ]
    },
    {
      "cell_type": "code",
      "source": [
        "#####################################################################\n",
        "# This code block is for myself to quickly setup SMPL models.       #\n",
        "# Due to the license restriction, I cannot provide the SMPL models. #\n",
        "# Please register and download at https://smpl.is.tue.mpg.de/       #\n",
        "#####################################################################\n",
        "\n",
        "%cd /content/AvatarCLIP/AvatarGen/AppearanceGen\n",
        "from google.colab import drive\n",
        "drive.mount('/content/gdrive')\n",
        "!mkdir -p ../../smpl_models/smpl\n",
        "!cp /content/gdrive/MyDrive/AI/AvatarCLIP/smpl_models/smpl/models/basicmodel_neutral_lbs_10_207_0_v1.1.0.pkl ../../smpl_models/smpl/SMPL_NEUTRAL.pkl"
      ],
      "metadata": {
        "id": "kVrJ8514hVKJ",
        "colab": {
          "base_uri": "https://localhost:8080/"
        },
        "outputId": "e128761b-ef32-4aea-c4a3-7f80db7094d8"
      },
      "execution_count": 19,
      "outputs": [
        {
          "output_type": "stream",
          "name": "stdout",
          "text": [
            "/content/AvatarCLIP/AvatarGen/AppearanceGen\n",
            "Drive already mounted at /content/gdrive; to attempt to forcibly remount, call drive.mount(\"/content/gdrive\", force_remount=True).\n"
          ]
        }
      ]
    },
    {
      "cell_type": "markdown",
      "source": [
        "# Important: Restart Runtime Before Proceeding (Menu => Runtime => Restart and run all)\n",
        "\n",
        "This is for the self compiled module (neural_renderer) to be activated."
      ],
      "metadata": {
        "id": "v7aVCe_GYa8T"
      }
    },
    {
      "cell_type": "code",
      "source": [
        "#@title Import Necessary Modules\n",
        "%cd /content/AvatarCLIP/AvatarGen/AppearanceGen\n",
        "import os\n",
        "import time\n",
        "import logging\n",
        "import argparse\n",
        "import random\n",
        "import numpy as np\n",
        "import cv2 as cv\n",
        "import trimesh\n",
        "import torch\n",
        "import torch.nn.functional as F\n",
        "from torchvision import transforms\n",
        "from torch.utils.tensorboard import SummaryWriter\n",
        "from shutil import copyfile\n",
        "from icecream import ic\n",
        "from tqdm import tqdm\n",
        "from pyhocon import ConfigFactory\n",
        "from models.dataset import Dataset\n",
        "from models.dataset import SMPL_Dataset\n",
        "from models.fields import RenderingNetwork, SDFNetwork, SingleVarianceNetwork, NeRF\n",
        "from models.renderer import NeuSRenderer\n",
        "from models.utils import lookat, random_eye, random_at, render_one_batch, batch_rodrigues\n",
        "from models.utils import sphere_coord, random_eye_normal, rgb2hsv, differentiable_histogram\n",
        "from models.utils import my_lbs, readOBJ\n",
        "import clip\n",
        "from smplx import build_layer\n",
        "import imageio\n",
        "\n",
        "to8b = lambda x : (255*np.clip(x,0,1)).astype(np.uint8)\n",
        "from main import Runner"
      ],
      "metadata": {
        "cellView": "form",
        "id": "kby5QtDF1pK0",
        "colab": {
          "base_uri": "https://localhost:8080/"
        },
        "outputId": "4d7af86a-82dd-470d-aa63-9c6303dc0596"
      },
      "execution_count": 20,
      "outputs": [
        {
          "output_type": "stream",
          "name": "stdout",
          "text": [
            "/content/AvatarCLIP/AvatarGen/AppearanceGen\n"
          ]
        }
      ]
    },
    {
      "cell_type": "code",
      "source": [
        "#@title Input Appearance Description (e.g. Iron Man)\n",
        "AppearanceDescription = \"Abraham Lincoln in an iron man suit\" #@param {type:\"string\"}\n",
        "\n",
        "torch.set_default_tensor_type('torch.cuda.FloatTensor')\n",
        "FORMAT = \"[%(filename)s:%(lineno)s - %(funcName)20s() ] %(message)s\"\n",
        "logging.basicConfig(level=logging.INFO, format=FORMAT)\n",
        "conf_path = 'confs/examples_small/example.conf'\n",
        "f = open(conf_path)\n",
        "conf_text = f.read()\n",
        "f.close()\n",
        "conf_text = conf_text.replace('{TOREPLACE}', AppearanceDescription)\n",
        "# print(conf_text)\n",
        "conf = ConfigFactory.parse_string(conf_text)\n",
        "print(\"Prompt: {}\".format(conf.get_string('clip.prompt')))\n",
        "print(\"Face Prompt: {}\".format(conf.get_string('clip.face_prompt')))\n",
        "print(\"Back Prompt: {}\".format(conf.get_string('clip.back_prompt')))"
      ],
      "metadata": {
        "colab": {
          "base_uri": "https://localhost:8080/"
        },
        "id": "jZECRMMz65bv",
        "outputId": "07810839-001c-4660-d3a4-369706b0aa40",
        "cellView": "form"
      },
      "execution_count": 21,
      "outputs": [
        {
          "output_type": "stream",
          "name": "stdout",
          "text": [
            "Prompt: a 3D rendering of a Abraham Lincoln in an iron man suit in unreal engine\n",
            "Face Prompt: a 3D rendering of the face of Abraham Lincoln in an iron man suit in unreal engine\n",
            "Back Prompt: a 3D rendering of the back of Abraham Lincoln in an iron man suit in unreal engine\n"
          ]
        }
      ]
    },
    {
      "cell_type": "code",
      "source": [
        "#@title Start the Generation!\n",
        "runner = Runner(conf_path, 'train_clip', 'smpl', False, True, conf)\n",
        "runner.init_clip()\n",
        "runner.init_smpl()\n",
        "runner.train_clip()"
      ],
      "metadata": {
        "cellView": "form",
        "id": "n0UfhfgMAhrl",
        "colab": {
          "base_uri": "https://localhost:8080/",
          "height": 1000
        },
        "outputId": "7b5af94b-fe93-443a-efaa-ce6b787f73b9"
      },
      "execution_count": 22,
      "outputs": [
        {
          "output_type": "stream",
          "name": "stdout",
          "text": [
            "Load data: Begin\n"
          ]
        },
        {
          "output_type": "stream",
          "name": "stderr",
          "text": [
            "[main.py:158 -             __init__() ] Load pretrain: ./pretrained_models/zero_beta_stand_pose_small.pth\n",
            "[main.py:619 -        load_pretrain() ] End\n"
          ]
        },
        {
          "output_type": "stream",
          "name": "stdout",
          "text": [
            "Load data: End\n",
            "Use head height: 0.7\n",
            "Prompt: a 3D rendering of a Abraham Lincoln in an iron man suit in unreal engine\n",
            "Face Prompt: a 3D rendering of the face of Abraham Lincoln in an iron man suit in unreal engine\n",
            "Back Prompt: a 3D rendering of the back of Abraham Lincoln in an iron man suit in unreal engine\n"
          ]
        },
        {
          "output_type": "stream",
          "name": "stderr",
          "text": [
            "[utils.py:159 -    _init_num_threads() ] NumExpr defaulting to 2 threads.\n",
            "  0%|          | 99/30000 [00:53<4:10:28,  1.99it/s]"
          ]
        },
        {
          "output_type": "stream",
          "name": "stdout",
          "text": [
            "./exp/smpl/example\n",
            "iter:100 loss = 1.6894892454147339 lr=9.900000000000001e-05\n",
            "Validate: iter: 100, camera: 58\n"
          ]
        },
        {
          "output_type": "stream",
          "name": "stderr",
          "text": [
            "  1%|          | 199/30000 [01:46<4:09:46,  1.99it/s]"
          ]
        },
        {
          "output_type": "stream",
          "name": "stdout",
          "text": [
            "./exp/smpl/example\n",
            "iter:200 loss = 1.5641006231307983 lr=0.000199\n",
            "Validate: iter: 200, camera: 58\n"
          ]
        },
        {
          "output_type": "stream",
          "name": "stderr",
          "text": [
            "  1%|          | 299/30000 [02:39<4:06:04,  2.01it/s]"
          ]
        },
        {
          "output_type": "stream",
          "name": "stdout",
          "text": [
            "./exp/smpl/example\n",
            "iter:300 loss = 1.6056618690490723 lr=0.000299\n",
            "Validate: iter: 300, camera: 58\n"
          ]
        },
        {
          "output_type": "stream",
          "name": "stderr",
          "text": [
            "  1%|▏         | 399/30000 [03:32<4:04:37,  2.02it/s]"
          ]
        },
        {
          "output_type": "stream",
          "name": "stdout",
          "text": [
            "./exp/smpl/example\n",
            "iter:400 loss = 1.6418418884277344 lr=0.00039900000000000005\n",
            "Validate: iter: 400, camera: 58\n"
          ]
        },
        {
          "output_type": "stream",
          "name": "stderr",
          "text": [
            "  2%|▏         | 499/30000 [04:24<4:05:22,  2.00it/s]"
          ]
        },
        {
          "output_type": "stream",
          "name": "stdout",
          "text": [
            "./exp/smpl/example\n",
            "iter:500 loss = 1.568016529083252 lr=0.000499\n",
            "Validate: iter: 500, camera: 58\n",
            "threshold: 0.0\n"
          ]
        },
        {
          "output_type": "stream",
          "name": "stderr",
          "text": [
            "[main.py:919 -        validate_mesh() ] End\n",
            "  2%|▏         | 599/30000 [05:29<4:05:07,  2.00it/s]"
          ]
        },
        {
          "output_type": "stream",
          "name": "stdout",
          "text": [
            "./exp/smpl/example\n",
            "iter:600 loss = 1.5020204782485962 lr=0.0004999868005541672\n",
            "Validate: iter: 600, camera: 58\n"
          ]
        },
        {
          "output_type": "stream",
          "name": "stderr",
          "text": [
            "  2%|▏         | 699/30000 [06:21<4:05:48,  1.99it/s]"
          ]
        },
        {
          "output_type": "stream",
          "name": "stdout",
          "text": [
            "./exp/smpl/example\n",
            "iter:700 loss = 1.5600651502609253 lr=0.0004999466690610096\n",
            "Validate: iter: 700, camera: 58\n"
          ]
        },
        {
          "output_type": "stream",
          "name": "stderr",
          "text": [
            "  3%|▎         | 799/30000 [07:14<4:02:05,  2.01it/s]"
          ]
        },
        {
          "output_type": "stream",
          "name": "stdout",
          "text": [
            "./exp/smpl/example\n",
            "iter:800 loss = 1.4096791744232178 lr=0.0004998796087250853\n",
            "Validate: iter: 800, camera: 58\n"
          ]
        },
        {
          "output_type": "stream",
          "name": "stderr",
          "text": [
            "  3%|▎         | 899/30000 [08:07<4:02:56,  2.00it/s]"
          ]
        },
        {
          "output_type": "stream",
          "name": "stdout",
          "text": [
            "./exp/smpl/example\n",
            "iter:900 loss = 1.455467700958252 lr=0.0004997856271517113\n",
            "Validate: iter: 900, camera: 58\n"
          ]
        },
        {
          "output_type": "stream",
          "name": "stderr",
          "text": [
            "  3%|▎         | 999/30000 [08:59<4:01:34,  2.00it/s]"
          ]
        },
        {
          "output_type": "stream",
          "name": "stdout",
          "text": [
            "./exp/smpl/example\n",
            "iter:1000 loss = 1.6284136772155762 lr=0.0004996647349993445\n",
            "Validate: iter: 1000, camera: 58\n",
            "threshold: 0.0\n"
          ]
        },
        {
          "output_type": "stream",
          "name": "stderr",
          "text": [
            "[main.py:919 -        validate_mesh() ] End\n",
            "  4%|▎         | 1099/30000 [10:05<4:00:29,  2.00it/s]"
          ]
        },
        {
          "output_type": "stream",
          "name": "stdout",
          "text": [
            "./exp/smpl/example\n",
            "iter:1100 loss = 1.4597346782684326 lr=0.0004995169459783718\n",
            "Validate: iter: 1100, camera: 58\n"
          ]
        },
        {
          "output_type": "stream",
          "name": "stderr",
          "text": [
            "  4%|▍         | 1199/30000 [10:57<3:59:24,  2.00it/s]"
          ]
        },
        {
          "output_type": "stream",
          "name": "stdout",
          "text": [
            "./exp/smpl/example\n",
            "iter:1200 loss = 1.629713535308838 lr=0.0004993422768495561\n",
            "Validate: iter: 1200, camera: 58\n"
          ]
        },
        {
          "output_type": "stream",
          "name": "stderr",
          "text": [
            "  4%|▍         | 1299/30000 [11:50<4:03:03,  1.97it/s]"
          ]
        },
        {
          "output_type": "stream",
          "name": "stdout",
          "text": [
            "./exp/smpl/example\n",
            "iter:1300 loss = 1.4814889430999756 lr=0.0004991407474221354\n",
            "Validate: iter: 1300, camera: 58\n"
          ]
        },
        {
          "output_type": "stream",
          "name": "stderr",
          "text": [
            "  5%|▍         | 1399/30000 [12:43<3:56:21,  2.02it/s]"
          ]
        },
        {
          "output_type": "stream",
          "name": "stdout",
          "text": [
            "./exp/smpl/example\n",
            "iter:1400 loss = 1.6037273406982422 lr=0.0004989123805515751\n",
            "Validate: iter: 1400, camera: 58\n"
          ]
        },
        {
          "output_type": "stream",
          "name": "stderr",
          "text": [
            "  5%|▍         | 1499/30000 [13:36<4:03:49,  1.95it/s]"
          ]
        },
        {
          "output_type": "stream",
          "name": "stdout",
          "text": [
            "./exp/smpl/example\n",
            "iter:1500 loss = 1.405983567237854 lr=0.0004986572021369778\n",
            "Validate: iter: 1500, camera: 58\n",
            "threshold: 0.0\n"
          ]
        },
        {
          "output_type": "stream",
          "name": "stderr",
          "text": [
            "[main.py:919 -        validate_mesh() ] End\n",
            "  5%|▌         | 1599/30000 [14:40<3:55:10,  2.01it/s]"
          ]
        },
        {
          "output_type": "stream",
          "name": "stdout",
          "text": [
            "./exp/smpl/example\n",
            "iter:1600 loss = 1.5831586122512817 lr=0.0004983752411181447\n",
            "Validate: iter: 1600, camera: 58\n"
          ]
        },
        {
          "output_type": "stream",
          "name": "stderr",
          "text": [
            "  6%|▌         | 1699/30000 [15:33<3:57:54,  1.98it/s]"
          ]
        },
        {
          "output_type": "stream",
          "name": "stdout",
          "text": [
            "./exp/smpl/example\n",
            "iter:1700 loss = 1.5130152702331543 lr=0.0004980665294722939\n",
            "Validate: iter: 1700, camera: 58\n"
          ]
        },
        {
          "output_type": "stream",
          "name": "stderr",
          "text": [
            "  6%|▌         | 1799/30000 [16:26<3:55:43,  1.99it/s]"
          ]
        },
        {
          "output_type": "stream",
          "name": "stdout",
          "text": [
            "./exp/smpl/example\n",
            "iter:1800 loss = 1.4093512296676636 lr=0.000497731102210434\n",
            "Validate: iter: 1800, camera: 58\n"
          ]
        },
        {
          "output_type": "stream",
          "name": "stderr",
          "text": [
            "  6%|▋         | 1899/30000 [17:18<3:55:32,  1.99it/s]"
          ]
        },
        {
          "output_type": "stream",
          "name": "stdout",
          "text": [
            "./exp/smpl/example\n",
            "iter:1900 loss = 1.4775409698486328 lr=0.0004973689973733934\n",
            "Validate: iter: 1900, camera: 58\n"
          ]
        },
        {
          "output_type": "stream",
          "name": "stderr",
          "text": [
            "  7%|▋         | 1999/30000 [18:11<3:52:11,  2.01it/s]"
          ]
        },
        {
          "output_type": "stream",
          "name": "stdout",
          "text": [
            "./exp/smpl/example\n",
            "iter:2000 loss = 1.4835330247879028 lr=0.0004969802560275062\n",
            "Validate: iter: 2000, camera: 58\n",
            "threshold: 0.0\n"
          ]
        },
        {
          "output_type": "stream",
          "name": "stderr",
          "text": [
            "[main.py:919 -        validate_mesh() ] End\n",
            "  7%|▋         | 2099/30000 [19:17<3:51:46,  2.01it/s]"
          ]
        },
        {
          "output_type": "stream",
          "name": "stdout",
          "text": [
            "./exp/smpl/example\n",
            "iter:2100 loss = 1.552230715751648 lr=0.0004965649222599545\n",
            "Validate: iter: 2100, camera: 58\n"
          ]
        },
        {
          "output_type": "stream",
          "name": "stderr",
          "text": [
            "  7%|▋         | 2199/30000 [20:09<3:49:55,  2.02it/s]"
          ]
        },
        {
          "output_type": "stream",
          "name": "stdout",
          "text": [
            "./exp/smpl/example\n",
            "iter:2200 loss = 1.5403928756713867 lr=0.0004961230431737691\n",
            "Validate: iter: 2200, camera: 58\n"
          ]
        },
        {
          "output_type": "stream",
          "name": "stderr",
          "text": [
            "  8%|▊         | 2299/30000 [21:02<3:49:43,  2.01it/s]"
          ]
        },
        {
          "output_type": "stream",
          "name": "stdout",
          "text": [
            "./exp/smpl/example\n",
            "iter:2300 loss = 1.5925664901733398 lr=0.0004956546688824869\n",
            "Validate: iter: 2300, camera: 58\n"
          ]
        },
        {
          "output_type": "stream",
          "name": "stderr",
          "text": [
            "  8%|▊         | 2399/30000 [21:54<3:49:13,  2.01it/s]"
          ]
        },
        {
          "output_type": "stream",
          "name": "stdout",
          "text": [
            "./exp/smpl/example\n",
            "iter:2400 loss = 1.5280368328094482 lr=0.0004951598525044679\n",
            "Validate: iter: 2400, camera: 58\n"
          ]
        },
        {
          "output_type": "stream",
          "name": "stderr",
          "text": [
            "  8%|▊         | 2499/30000 [22:47<3:58:18,  1.92it/s]"
          ]
        },
        {
          "output_type": "stream",
          "name": "stdout",
          "text": [
            "./exp/smpl/example\n",
            "iter:2500 loss = 1.3557276725769043 lr=0.000494638650156871\n",
            "Validate: iter: 2500, camera: 58\n",
            "threshold: 0.0\n"
          ]
        },
        {
          "output_type": "stream",
          "name": "stderr",
          "text": [
            "[main.py:919 -        validate_mesh() ] End\n",
            "  9%|▊         | 2599/30000 [23:52<3:46:36,  2.02it/s]"
          ]
        },
        {
          "output_type": "stream",
          "name": "stdout",
          "text": [
            "./exp/smpl/example\n",
            "iter:2600 loss = 1.644822597503662 lr=0.0004940911209492894\n",
            "Validate: iter: 2600, camera: 58\n"
          ]
        },
        {
          "output_type": "stream",
          "name": "stderr",
          "text": [
            "  9%|▉         | 2699/30000 [24:45<3:46:56,  2.01it/s]"
          ]
        },
        {
          "output_type": "stream",
          "name": "stdout",
          "text": [
            "./exp/smpl/example\n",
            "iter:2700 loss = 1.4298405647277832 lr=0.0004935173269770478\n",
            "Validate: iter: 2700, camera: 58\n"
          ]
        },
        {
          "output_type": "stream",
          "name": "stderr",
          "text": [
            "  9%|▉         | 2799/30000 [25:38<3:45:42,  2.01it/s]"
          ]
        },
        {
          "output_type": "stream",
          "name": "stdout",
          "text": [
            "./exp/smpl/example\n",
            "iter:2800 loss = 1.5540287494659424 lr=0.0004929173333141592\n",
            "Validate: iter: 2800, camera: 58\n"
          ]
        },
        {
          "output_type": "stream",
          "name": "stderr",
          "text": [
            " 10%|▉         | 2899/30000 [26:31<3:44:46,  2.01it/s]"
          ]
        },
        {
          "output_type": "stream",
          "name": "stdout",
          "text": [
            "./exp/smpl/example\n",
            "iter:2900 loss = 1.5349488258361816 lr=0.0004922912080059454\n",
            "Validate: iter: 2900, camera: 58\n"
          ]
        },
        {
          "output_type": "stream",
          "name": "stderr",
          "text": [
            " 10%|▉         | 2999/30000 [27:23<3:43:52,  2.01it/s]"
          ]
        },
        {
          "output_type": "stream",
          "name": "stdout",
          "text": [
            "./exp/smpl/example\n",
            "iter:3000 loss = 1.5074241161346436 lr=0.0004916390220613198\n",
            "Validate: iter: 3000, camera: 58\n",
            "threshold: 0.0\n"
          ]
        },
        {
          "output_type": "stream",
          "name": "stderr",
          "text": [
            "[main.py:919 -        validate_mesh() ] End\n",
            " 10%|█         | 3099/30000 [28:29<3:42:36,  2.01it/s]"
          ]
        },
        {
          "output_type": "stream",
          "name": "stdout",
          "text": [
            "./exp/smpl/example\n",
            "iter:3100 loss = 1.429672360420227 lr=0.0004909608494447345\n",
            "Validate: iter: 3100, camera: 58\n"
          ]
        },
        {
          "output_type": "stream",
          "name": "stderr",
          "text": [
            " 11%|█         | 3199/30000 [29:21<3:42:50,  2.00it/s]"
          ]
        },
        {
          "output_type": "stream",
          "name": "stdout",
          "text": [
            "./exp/smpl/example\n",
            "iter:3200 loss = 1.6761785745620728 lr=0.0004902567670677917\n",
            "Validate: iter: 3200, camera: 58\n"
          ]
        },
        {
          "output_type": "stream",
          "name": "stderr",
          "text": [
            " 11%|█         | 3299/30000 [30:14<3:41:28,  2.01it/s]"
          ]
        },
        {
          "output_type": "stream",
          "name": "stdout",
          "text": [
            "./exp/smpl/example\n",
            "iter:3300 loss = 1.3901387453079224 lr=0.0004895268547805213\n",
            "Validate: iter: 3300, camera: 58\n"
          ]
        },
        {
          "output_type": "stream",
          "name": "stderr",
          "text": [
            " 11%|█▏        | 3399/30000 [31:06<3:39:59,  2.02it/s]"
          ]
        },
        {
          "output_type": "stream",
          "name": "stdout",
          "text": [
            "./exp/smpl/example\n",
            "iter:3400 loss = 1.3692278861999512 lr=0.0004887711953623251\n",
            "Validate: iter: 3400, camera: 58\n"
          ]
        },
        {
          "output_type": "stream",
          "name": "stderr",
          "text": [
            " 12%|█▏        | 3499/30000 [31:59<3:39:37,  2.01it/s]"
          ]
        },
        {
          "output_type": "stream",
          "name": "stdout",
          "text": [
            "./exp/smpl/example\n",
            "iter:3500 loss = 1.5283894538879395 lr=0.00048798987451258857\n",
            "Validate: iter: 3500, camera: 58\n",
            "threshold: 0.0\n"
          ]
        },
        {
          "output_type": "stream",
          "name": "stderr",
          "text": [
            "[main.py:919 -        validate_mesh() ] End\n",
            " 12%|█▏        | 3599/30000 [33:04<3:38:13,  2.02it/s]"
          ]
        },
        {
          "output_type": "stream",
          "name": "stdout",
          "text": [
            "./exp/smpl/example\n",
            "iter:3600 loss = 1.5119949579238892 lr=0.0004871829808409622\n",
            "Validate: iter: 3600, camera: 58\n"
          ]
        },
        {
          "output_type": "stream",
          "name": "stderr",
          "text": [
            " 12%|█▏        | 3699/30000 [33:56<3:38:05,  2.01it/s]"
          ]
        },
        {
          "output_type": "stream",
          "name": "stdout",
          "text": [
            "./exp/smpl/example\n",
            "iter:3700 loss = 1.4353275299072266 lr=0.0004863506058573117\n",
            "Validate: iter: 3700, camera: 58\n"
          ]
        },
        {
          "output_type": "stream",
          "name": "stderr",
          "text": [
            " 13%|█▎        | 3799/30000 [34:48<3:39:12,  1.99it/s]"
          ]
        },
        {
          "output_type": "stream",
          "name": "stdout",
          "text": [
            "./exp/smpl/example\n",
            "iter:3800 loss = 1.360499620437622 lr=0.0004854928439613402\n",
            "Validate: iter: 3800, camera: 58\n"
          ]
        },
        {
          "output_type": "stream",
          "name": "stderr",
          "text": [
            " 13%|█▎        | 3899/30000 [35:41<3:36:23,  2.01it/s]"
          ]
        },
        {
          "output_type": "stream",
          "name": "stdout",
          "text": [
            "./exp/smpl/example\n",
            "iter:3900 loss = 1.5452816486358643 lr=0.00048460979243188215\n",
            "Validate: iter: 3900, camera: 58\n"
          ]
        },
        {
          "output_type": "stream",
          "name": "stderr",
          "text": [
            " 13%|█▎        | 3999/30000 [36:34<3:35:07,  2.01it/s]"
          ]
        },
        {
          "output_type": "stream",
          "name": "stdout",
          "text": [
            "./exp/smpl/example\n",
            "iter:4000 loss = 1.4138742685317993 lr=0.0004837015514158711\n",
            "Validate: iter: 4000, camera: 58\n",
            "threshold: 0.0\n"
          ]
        },
        {
          "output_type": "stream",
          "name": "stderr",
          "text": [
            "[main.py:919 -        validate_mesh() ] End\n",
            " 14%|█▎        | 4099/30000 [37:39<3:35:14,  2.01it/s]"
          ]
        },
        {
          "output_type": "stream",
          "name": "stdout",
          "text": [
            "./exp/smpl/example\n",
            "iter:4100 loss = 1.3908822536468506 lr=0.00048276822391698213\n",
            "Validate: iter: 4100, camera: 58\n"
          ]
        },
        {
          "output_type": "stream",
          "name": "stderr",
          "text": [
            " 14%|█▍        | 4199/30000 [38:32<3:33:25,  2.01it/s]"
          ]
        },
        {
          "output_type": "stream",
          "name": "stdout",
          "text": [
            "./exp/smpl/example\n",
            "iter:4200 loss = 1.3688342571258545 lr=0.0004818099157839497\n",
            "Validate: iter: 4200, camera: 58\n"
          ]
        },
        {
          "output_type": "stream",
          "name": "stderr",
          "text": [
            " 14%|█▍        | 4299/30000 [39:24<3:33:09,  2.01it/s]"
          ]
        },
        {
          "output_type": "stream",
          "name": "stdout",
          "text": [
            "./exp/smpl/example\n",
            "iter:4300 loss = 1.4965219497680664 lr=0.0004808267356985639\n",
            "Validate: iter: 4300, camera: 58\n"
          ]
        },
        {
          "output_type": "stream",
          "name": "stderr",
          "text": [
            " 15%|█▍        | 4399/30000 [40:17<3:32:46,  2.01it/s]"
          ]
        },
        {
          "output_type": "stream",
          "name": "stdout",
          "text": [
            "./exp/smpl/example\n",
            "iter:4400 loss = 1.4902782440185547 lr=0.00047981879516334475\n",
            "Validate: iter: 4400, camera: 58\n"
          ]
        },
        {
          "output_type": "stream",
          "name": "stderr",
          "text": [
            " 15%|█▍        | 4499/30000 [41:09<3:30:49,  2.02it/s]"
          ]
        },
        {
          "output_type": "stream",
          "name": "stdout",
          "text": [
            "./exp/smpl/example\n",
            "iter:4500 loss = 1.6234288215637207 lr=0.0004787862084888964\n",
            "Validate: iter: 4500, camera: 58\n",
            "threshold: 0.0\n"
          ]
        },
        {
          "output_type": "stream",
          "name": "stderr",
          "text": [
            "[main.py:919 -        validate_mesh() ] End\n",
            " 15%|█▌        | 4599/30000 [42:14<3:31:11,  2.00it/s]"
          ]
        },
        {
          "output_type": "stream",
          "name": "stdout",
          "text": [
            "./exp/smpl/example\n",
            "iter:4600 loss = 1.4742774963378906 lr=0.00047772909278094296\n",
            "Validate: iter: 4600, camera: 58\n"
          ]
        },
        {
          "output_type": "stream",
          "name": "stderr",
          "text": [
            " 16%|█▌        | 4699/30000 [43:06<3:28:52,  2.02it/s]"
          ]
        },
        {
          "output_type": "stream",
          "name": "stdout",
          "text": [
            "./exp/smpl/example\n",
            "iter:4700 loss = 1.381442904472351 lr=0.0004766475679270485\n",
            "Validate: iter: 4700, camera: 58\n"
          ]
        },
        {
          "output_type": "stream",
          "name": "stderr",
          "text": [
            " 16%|█▌        | 4799/30000 [43:59<3:28:45,  2.01it/s]"
          ]
        },
        {
          "output_type": "stream",
          "name": "stdout",
          "text": [
            "./exp/smpl/example\n",
            "iter:4800 loss = 1.4713892936706543 lr=0.00047554175658301966\n",
            "Validate: iter: 4800, camera: 58\n"
          ]
        },
        {
          "output_type": "stream",
          "name": "stderr",
          "text": [
            " 16%|█▋        | 4899/30000 [44:52<3:28:12,  2.01it/s]"
          ]
        },
        {
          "output_type": "stream",
          "name": "stdout",
          "text": [
            "./exp/smpl/example\n",
            "iter:4900 loss = 1.5595488548278809 lr=0.0004744117841589957\n",
            "Validate: iter: 4900, camera: 58\n"
          ]
        },
        {
          "output_type": "stream",
          "name": "stderr",
          "text": [
            " 17%|█▋        | 4999/30000 [45:44<3:28:18,  2.00it/s]"
          ]
        },
        {
          "output_type": "stream",
          "name": "stdout",
          "text": [
            "./exp/smpl/example\n",
            "iter:5000 loss = 1.394119143486023 lr=0.0004732577788052254\n",
            "Validate: iter: 5000, camera: 58\n",
            "threshold: 0.0\n"
          ]
        },
        {
          "output_type": "stream",
          "name": "stderr",
          "text": [
            "[main.py:919 -        validate_mesh() ] End\n",
            " 17%|█▋        | 5099/30000 [46:49<3:34:53,  1.93it/s]"
          ]
        },
        {
          "output_type": "stream",
          "name": "stdout",
          "text": [
            "./exp/smpl/example\n",
            "iter:5100 loss = 1.3550900220870972 lr=0.00047207987139753375\n",
            "Validate: iter: 5100, camera: 58\n"
          ]
        },
        {
          "output_type": "stream",
          "name": "stderr",
          "text": [
            " 17%|█▋        | 5199/30000 [47:42<3:26:34,  2.00it/s]"
          ]
        },
        {
          "output_type": "stream",
          "name": "stdout",
          "text": [
            "./exp/smpl/example\n",
            "iter:5200 loss = 1.3505222797393799 lr=0.0004708781955224795\n",
            "Validate: iter: 5200, camera: 58\n"
          ]
        },
        {
          "output_type": "stream",
          "name": "stderr",
          "text": [
            " 18%|█▊        | 5299/30000 [48:35<3:25:05,  2.01it/s]"
          ]
        },
        {
          "output_type": "stream",
          "name": "stdout",
          "text": [
            "./exp/smpl/example\n",
            "iter:5300 loss = 1.3732750415802002 lr=0.0004696528874622047\n",
            "Validate: iter: 5300, camera: 58\n"
          ]
        },
        {
          "output_type": "stream",
          "name": "stderr",
          "text": [
            " 18%|█▊        | 5399/30000 [49:28<3:25:51,  1.99it/s]"
          ]
        },
        {
          "output_type": "stream",
          "name": "stdout",
          "text": [
            "./exp/smpl/example\n",
            "iter:5400 loss = 1.5091230869293213 lr=0.00046840408617897933\n",
            "Validate: iter: 5400, camera: 58\n"
          ]
        },
        {
          "output_type": "stream",
          "name": "stderr",
          "text": [
            " 18%|█▊        | 5499/30000 [50:20<3:23:06,  2.01it/s]"
          ]
        },
        {
          "output_type": "stream",
          "name": "stdout",
          "text": [
            "./exp/smpl/example\n",
            "iter:5500 loss = 1.5254366397857666 lr=0.00046713193329944096\n",
            "Validate: iter: 5500, camera: 58\n",
            "threshold: 0.0\n"
          ]
        },
        {
          "output_type": "stream",
          "name": "stderr",
          "text": [
            "[main.py:919 -        validate_mesh() ] End\n",
            " 19%|█▊        | 5599/30000 [51:25<3:22:42,  2.01it/s]"
          ]
        },
        {
          "output_type": "stream",
          "name": "stdout",
          "text": [
            "./exp/smpl/example\n",
            "iter:5600 loss = 1.6640006303787231 lr=0.0004658365730985337\n",
            "Validate: iter: 5600, camera: 58\n"
          ]
        },
        {
          "output_type": "stream",
          "name": "stderr",
          "text": [
            " 19%|█▉        | 5699/30000 [52:18<3:20:20,  2.02it/s]"
          ]
        },
        {
          "output_type": "stream",
          "name": "stdout",
          "text": [
            "./exp/smpl/example\n",
            "iter:5700 loss = 1.3760783672332764 lr=0.00046451815248314544\n",
            "Validate: iter: 5700, camera: 58\n"
          ]
        },
        {
          "output_type": "stream",
          "name": "stderr",
          "text": [
            " 19%|█▉        | 5799/30000 [53:11<3:20:35,  2.01it/s]"
          ]
        },
        {
          "output_type": "stream",
          "name": "stdout",
          "text": [
            "./exp/smpl/example\n",
            "iter:5800 loss = 1.4932496547698975 lr=0.00046317682097544695\n",
            "Validate: iter: 5800, camera: 58\n"
          ]
        },
        {
          "output_type": "stream",
          "name": "stderr",
          "text": [
            " 20%|█▉        | 5899/30000 [54:03<3:20:54,  2.00it/s]"
          ]
        },
        {
          "output_type": "stream",
          "name": "stdout",
          "text": [
            "./exp/smpl/example\n",
            "iter:5900 loss = 1.3654897212982178 lr=0.0004618127306959352\n",
            "Validate: iter: 5900, camera: 58\n"
          ]
        },
        {
          "output_type": "stream",
          "name": "stderr",
          "text": [
            " 20%|█▉        | 5999/30000 [54:56<3:17:50,  2.02it/s]"
          ]
        },
        {
          "output_type": "stream",
          "name": "stdout",
          "text": [
            "./exp/smpl/example\n",
            "iter:6000 loss = 1.3412222862243652 lr=0.0004604260363461809\n",
            "Validate: iter: 6000, camera: 58\n",
            "threshold: 0.0\n"
          ]
        },
        {
          "output_type": "stream",
          "name": "stderr",
          "text": [
            "[main.py:919 -        validate_mesh() ] End\n",
            " 20%|██        | 6099/30000 [56:01<3:19:28,  2.00it/s]"
          ]
        },
        {
          "output_type": "stream",
          "name": "stdout",
          "text": [
            "./exp/smpl/example\n",
            "iter:6100 loss = 1.3487541675567627 lr=0.00045901689519128376\n",
            "Validate: iter: 6100, camera: 58\n"
          ]
        },
        {
          "output_type": "stream",
          "name": "stderr",
          "text": [
            " 21%|██        | 6199/30000 [56:53<3:16:49,  2.02it/s]"
          ]
        },
        {
          "output_type": "stream",
          "name": "stdout",
          "text": [
            "./exp/smpl/example\n",
            "iter:6200 loss = 1.3243846893310547 lr=0.00045758546704203747\n",
            "Validate: iter: 6200, camera: 58\n"
          ]
        },
        {
          "output_type": "stream",
          "name": "stderr",
          "text": [
            " 21%|██        | 6299/30000 [57:46<3:17:20,  2.00it/s]"
          ]
        },
        {
          "output_type": "stream",
          "name": "stdout",
          "text": [
            "./exp/smpl/example\n",
            "iter:6300 loss = 1.4654124975204468 lr=0.00045613191423680483\n",
            "Validate: iter: 6300, camera: 58\n"
          ]
        },
        {
          "output_type": "stream",
          "name": "stderr",
          "text": [
            " 21%|██▏       | 6399/30000 [58:39<3:16:17,  2.00it/s]"
          ]
        },
        {
          "output_type": "stream",
          "name": "stdout",
          "text": [
            "./exp/smpl/example\n",
            "iter:6400 loss = 1.4839587211608887 lr=0.0004546564016231077\n",
            "Validate: iter: 6400, camera: 58\n"
          ]
        },
        {
          "output_type": "stream",
          "name": "stderr",
          "text": [
            " 22%|██▏       | 6499/30000 [59:32<3:15:38,  2.00it/s]"
          ]
        },
        {
          "output_type": "stream",
          "name": "stdout",
          "text": [
            "./exp/smpl/example\n",
            "iter:6500 loss = 1.3203121423721313 lr=0.00045315909653893127\n",
            "Validate: iter: 6500, camera: 58\n",
            "threshold: 0.0\n"
          ]
        },
        {
          "output_type": "stream",
          "name": "stderr",
          "text": [
            "[main.py:919 -        validate_mesh() ] End\n",
            " 22%|██▏       | 6599/30000 [1:00:37<3:13:47,  2.01it/s]"
          ]
        },
        {
          "output_type": "stream",
          "name": "stdout",
          "text": [
            "./exp/smpl/example\n",
            "iter:6600 loss = 1.43604576587677 lr=0.000451640168793746\n",
            "Validate: iter: 6600, camera: 58\n"
          ]
        },
        {
          "output_type": "stream",
          "name": "stderr",
          "text": [
            " 22%|██▏       | 6699/30000 [1:01:30<3:16:33,  1.98it/s]"
          ]
        },
        {
          "output_type": "stream",
          "name": "stdout",
          "text": [
            "./exp/smpl/example\n",
            "iter:6700 loss = 1.4357070922851562 lr=0.00045009979064925026\n",
            "Validate: iter: 6700, camera: 58\n"
          ]
        },
        {
          "output_type": "stream",
          "name": "stderr",
          "text": [
            " 23%|██▎       | 6799/30000 [1:02:22<3:12:57,  2.00it/s]"
          ]
        },
        {
          "output_type": "stream",
          "name": "stdout",
          "text": [
            "./exp/smpl/example\n",
            "iter:6800 loss = 1.4401744604110718 lr=0.0004485381367998333\n",
            "Validate: iter: 6800, camera: 58\n"
          ]
        },
        {
          "output_type": "stream",
          "name": "stderr",
          "text": [
            " 23%|██▎       | 6899/30000 [1:03:15<3:10:26,  2.02it/s]"
          ]
        },
        {
          "output_type": "stream",
          "name": "stdout",
          "text": [
            "./exp/smpl/example\n",
            "iter:6900 loss = 1.3951852321624756 lr=0.00044695538435276356\n",
            "Validate: iter: 6900, camera: 58\n"
          ]
        },
        {
          "output_type": "stream",
          "name": "stderr",
          "text": [
            " 23%|██▎       | 6999/30000 [1:04:08<3:10:29,  2.01it/s]"
          ]
        },
        {
          "output_type": "stream",
          "name": "stdout",
          "text": [
            "./exp/smpl/example\n",
            "iter:7000 loss = 1.4396944046020508 lr=0.00044535171280810293\n",
            "Validate: iter: 7000, camera: 58\n",
            "threshold: 0.0\n"
          ]
        },
        {
          "output_type": "stream",
          "name": "stderr",
          "text": [
            "[main.py:919 -        validate_mesh() ] End\n",
            " 24%|██▎       | 7099/30000 [1:05:13<3:10:12,  2.01it/s]"
          ]
        },
        {
          "output_type": "stream",
          "name": "stdout",
          "text": [
            "./exp/smpl/example\n",
            "iter:7100 loss = 1.3543701171875 lr=0.0004437273040383496\n",
            "Validate: iter: 7100, camera: 58\n"
          ]
        },
        {
          "output_type": "stream",
          "name": "stderr",
          "text": [
            " 24%|██▍       | 7199/30000 [1:06:06<3:08:51,  2.01it/s]"
          ]
        },
        {
          "output_type": "stream",
          "name": "stdout",
          "text": [
            "./exp/smpl/example\n",
            "iter:7200 loss = 1.3146053552627563 lr=0.0004420823422678117\n",
            "Validate: iter: 7200, camera: 58\n"
          ]
        },
        {
          "output_type": "stream",
          "name": "stderr",
          "text": [
            " 24%|██▍       | 7299/30000 [1:06:58<3:08:29,  2.01it/s]"
          ]
        },
        {
          "output_type": "stream",
          "name": "stdout",
          "text": [
            "./exp/smpl/example\n",
            "iter:7300 loss = 1.3344447612762451 lr=0.0004404170140517147\n",
            "Validate: iter: 7300, camera: 58\n"
          ]
        },
        {
          "output_type": "stream",
          "name": "stderr",
          "text": [
            " 25%|██▍       | 7399/30000 [1:07:51<3:08:09,  2.00it/s]"
          ]
        },
        {
          "output_type": "stream",
          "name": "stdout",
          "text": [
            "./exp/smpl/example\n",
            "iter:7400 loss = 1.3405698537826538 lr=0.000438731508255044\n",
            "Validate: iter: 7400, camera: 58\n"
          ]
        },
        {
          "output_type": "stream",
          "name": "stderr",
          "text": [
            " 25%|██▍       | 7499/30000 [1:08:44<3:07:50,  2.00it/s]"
          ]
        },
        {
          "output_type": "stream",
          "name": "stdout",
          "text": [
            "./exp/smpl/example\n",
            "iter:7500 loss = 1.3253562450408936 lr=0.00043702601603112584\n",
            "Validate: iter: 7500, camera: 58\n",
            "threshold: 0.0\n"
          ]
        },
        {
          "output_type": "stream",
          "name": "stderr",
          "text": [
            "[main.py:919 -        validate_mesh() ] End\n",
            " 25%|██▌       | 7599/30000 [1:09:48<3:04:46,  2.02it/s]"
          ]
        },
        {
          "output_type": "stream",
          "name": "stdout",
          "text": [
            "./exp/smpl/example\n",
            "iter:7600 loss = 1.53579580783844 lr=0.00043530073079994845\n",
            "Validate: iter: 7600, camera: 58\n"
          ]
        },
        {
          "output_type": "stream",
          "name": "stderr",
          "text": [
            " 26%|██▌       | 7699/30000 [1:10:41<3:03:23,  2.03it/s]"
          ]
        },
        {
          "output_type": "stream",
          "name": "stdout",
          "text": [
            "./exp/smpl/example\n",
            "iter:7700 loss = 1.3646581172943115 lr=0.00043355584822622636\n",
            "Validate: iter: 7700, camera: 58\n"
          ]
        },
        {
          "output_type": "stream",
          "name": "stderr",
          "text": [
            " 26%|██▌       | 7799/30000 [1:11:33<3:05:20,  2.00it/s]"
          ]
        },
        {
          "output_type": "stream",
          "name": "stdout",
          "text": [
            "./exp/smpl/example\n",
            "iter:7800 loss = 1.492087960243225 lr=0.0004317915661972099\n",
            "Validate: iter: 7800, camera: 58\n"
          ]
        },
        {
          "output_type": "stream",
          "name": "stderr",
          "text": [
            " 26%|██▋       | 7899/30000 [1:12:26<3:03:33,  2.01it/s]"
          ]
        },
        {
          "output_type": "stream",
          "name": "stdout",
          "text": [
            "./exp/smpl/example\n",
            "iter:7900 loss = 1.461294412612915 lr=0.0004300080848002432\n",
            "Validate: iter: 7900, camera: 58\n"
          ]
        },
        {
          "output_type": "stream",
          "name": "stderr",
          "text": [
            " 27%|██▋       | 7999/30000 [1:13:18<3:02:19,  2.01it/s]"
          ]
        },
        {
          "output_type": "stream",
          "name": "stdout",
          "text": [
            "./exp/smpl/example\n",
            "iter:8000 loss = 1.3202522993087769 lr=0.0004282056063000719\n",
            "Validate: iter: 8000, camera: 58\n",
            "threshold: 0.0\n"
          ]
        },
        {
          "output_type": "stream",
          "name": "stderr",
          "text": [
            "[main.py:919 -        validate_mesh() ] End\n",
            " 27%|██▋       | 8099/30000 [1:14:23<3:02:28,  2.00it/s]"
          ]
        },
        {
          "output_type": "stream",
          "name": "stdout",
          "text": [
            "./exp/smpl/example\n",
            "iter:8100 loss = 1.5564002990722656 lr=0.00042638433511590435\n",
            "Validate: iter: 8100, camera: 58\n"
          ]
        },
        {
          "output_type": "stream",
          "name": "stderr",
          "text": [
            " 27%|██▋       | 8199/30000 [1:15:16<3:00:08,  2.02it/s]"
          ]
        },
        {
          "output_type": "stream",
          "name": "stdout",
          "text": [
            "./exp/smpl/example\n",
            "iter:8200 loss = 1.5018929243087769 lr=0.0004245444777982285\n",
            "Validate: iter: 8200, camera: 58\n"
          ]
        },
        {
          "output_type": "stream",
          "name": "stderr",
          "text": [
            " 28%|██▊       | 8299/30000 [1:16:08<2:59:45,  2.01it/s]"
          ]
        },
        {
          "output_type": "stream",
          "name": "stdout",
          "text": [
            "./exp/smpl/example\n",
            "iter:8300 loss = 1.5105289220809937 lr=0.000422686243005387\n",
            "Validate: iter: 8300, camera: 58\n"
          ]
        },
        {
          "output_type": "stream",
          "name": "stderr",
          "text": [
            " 28%|██▊       | 8399/30000 [1:17:01<2:58:52,  2.01it/s]"
          ]
        },
        {
          "output_type": "stream",
          "name": "stdout",
          "text": [
            "./exp/smpl/example\n",
            "iter:8400 loss = 1.5271682739257812 lr=0.00042080984147991295\n",
            "Validate: iter: 8400, camera: 58\n"
          ]
        },
        {
          "output_type": "stream",
          "name": "stderr",
          "text": [
            " 28%|██▊       | 8499/30000 [1:17:53<2:58:28,  2.01it/s]"
          ]
        },
        {
          "output_type": "stream",
          "name": "stdout",
          "text": [
            "./exp/smpl/example\n",
            "iter:8500 loss = 1.5176069736480713 lr=0.0004189154860246303\n",
            "Validate: iter: 8500, camera: 58\n",
            "threshold: 0.0\n"
          ]
        },
        {
          "output_type": "stream",
          "name": "stderr",
          "text": [
            "[main.py:919 -        validate_mesh() ] End\n",
            " 29%|██▊       | 8599/30000 [1:18:58<2:57:49,  2.01it/s]"
          ]
        },
        {
          "output_type": "stream",
          "name": "stdout",
          "text": [
            "./exp/smpl/example\n",
            "iter:8600 loss = 1.5594216585159302 lr=0.0004170033914785188\n",
            "Validate: iter: 8600, camera: 58\n"
          ]
        },
        {
          "output_type": "stream",
          "name": "stderr",
          "text": [
            " 29%|██▉       | 8699/30000 [1:19:51<2:56:40,  2.01it/s]"
          ]
        },
        {
          "output_type": "stream",
          "name": "stdout",
          "text": [
            "./exp/smpl/example\n",
            "iter:8700 loss = 1.500617265701294 lr=0.00041507377469235027\n",
            "Validate: iter: 8700, camera: 58\n"
          ]
        },
        {
          "output_type": "stream",
          "name": "stderr",
          "text": [
            " 29%|██▉       | 8799/30000 [1:20:43<2:55:17,  2.02it/s]"
          ]
        },
        {
          "output_type": "stream",
          "name": "stdout",
          "text": [
            "./exp/smpl/example\n",
            "iter:8800 loss = 1.438549280166626 lr=0.0004131268545040945\n",
            "Validate: iter: 8800, camera: 58\n"
          ]
        },
        {
          "output_type": "stream",
          "name": "stderr",
          "text": [
            " 30%|██▉       | 8899/30000 [1:21:36<2:54:26,  2.02it/s]"
          ]
        },
        {
          "output_type": "stream",
          "name": "stdout",
          "text": [
            "./exp/smpl/example\n",
            "iter:8900 loss = 1.3183022737503052 lr=0.0004111628517141015\n",
            "Validate: iter: 8900, camera: 58\n"
          ]
        },
        {
          "output_type": "stream",
          "name": "stderr",
          "text": [
            " 30%|██▉       | 8999/30000 [1:22:28<2:52:55,  2.02it/s]"
          ]
        },
        {
          "output_type": "stream",
          "name": "stdout",
          "text": [
            "./exp/smpl/example\n",
            "iter:9000 loss = 1.5726490020751953 lr=0.00040918198906006036\n",
            "Validate: iter: 9000, camera: 58\n",
            "threshold: 0.0\n"
          ]
        },
        {
          "output_type": "stream",
          "name": "stderr",
          "text": [
            "[main.py:919 -        validate_mesh() ] End\n",
            " 30%|███       | 9099/30000 [1:23:33<2:52:34,  2.02it/s]"
          ]
        },
        {
          "output_type": "stream",
          "name": "stdout",
          "text": [
            "./exp/smpl/example\n",
            "iter:9100 loss = 1.368092656135559 lr=0.00040718449119173827\n",
            "Validate: iter: 9100, camera: 58\n"
          ]
        },
        {
          "output_type": "stream",
          "name": "stderr",
          "text": [
            " 31%|███       | 9199/30000 [1:24:26<2:51:48,  2.02it/s]"
          ]
        },
        {
          "output_type": "stream",
          "name": "stdout",
          "text": [
            "./exp/smpl/example\n",
            "iter:9200 loss = 1.4024813175201416 lr=0.0004051705846455035\n",
            "Validate: iter: 9200, camera: 58\n"
          ]
        },
        {
          "output_type": "stream",
          "name": "stderr",
          "text": [
            " 31%|███       | 9299/30000 [1:25:18<2:52:19,  2.00it/s]"
          ]
        },
        {
          "output_type": "stream",
          "name": "stdout",
          "text": [
            "./exp/smpl/example\n",
            "iter:9300 loss = 1.372128963470459 lr=0.0004031404978186332\n",
            "Validate: iter: 9300, camera: 58\n"
          ]
        },
        {
          "output_type": "stream",
          "name": "stderr",
          "text": [
            " 31%|███▏      | 9399/30000 [1:26:11<2:59:24,  1.91it/s]"
          ]
        },
        {
          "output_type": "stream",
          "name": "stdout",
          "text": [
            "./exp/smpl/example\n",
            "iter:9400 loss = 1.3081331253051758 lr=0.00040109446094341143\n",
            "Validate: iter: 9400, camera: 58\n"
          ]
        },
        {
          "output_type": "stream",
          "name": "stderr",
          "text": [
            " 32%|███▏      | 9499/30000 [1:27:03<2:49:33,  2.02it/s]"
          ]
        },
        {
          "output_type": "stream",
          "name": "stdout",
          "text": [
            "./exp/smpl/example\n",
            "iter:9500 loss = 1.4266769886016846 lr=0.00039903270606101853\n",
            "Validate: iter: 9500, camera: 58\n",
            "threshold: 0.0\n"
          ]
        },
        {
          "output_type": "stream",
          "name": "stderr",
          "text": [
            "[main.py:919 -        validate_mesh() ] End\n",
            " 32%|███▏      | 9599/30000 [1:28:09<2:48:37,  2.02it/s]"
          ]
        },
        {
          "output_type": "stream",
          "name": "stdout",
          "text": [
            "./exp/smpl/example\n",
            "iter:9600 loss = 1.5869817733764648 lr=0.0003969554669952148\n",
            "Validate: iter: 9600, camera: 58\n"
          ]
        },
        {
          "output_type": "stream",
          "name": "stderr",
          "text": [
            " 32%|███▏      | 9699/30000 [1:29:01<2:48:44,  2.01it/s]"
          ]
        },
        {
          "output_type": "stream",
          "name": "stdout",
          "text": [
            "./exp/smpl/example\n",
            "iter:9700 loss = 1.584914207458496 lr=0.00039486297932582275\n",
            "Validate: iter: 9700, camera: 58\n"
          ]
        },
        {
          "output_type": "stream",
          "name": "stderr",
          "text": [
            " 33%|███▎      | 9799/30000 [1:29:53<2:46:25,  2.02it/s]"
          ]
        },
        {
          "output_type": "stream",
          "name": "stdout",
          "text": [
            "./exp/smpl/example\n",
            "iter:9800 loss = 1.6134754419326782 lr=0.0003927554803620104\n",
            "Validate: iter: 9800, camera: 58\n"
          ]
        },
        {
          "output_type": "stream",
          "name": "stderr",
          "text": [
            " 33%|███▎      | 9899/30000 [1:30:46<2:46:55,  2.01it/s]"
          ]
        },
        {
          "output_type": "stream",
          "name": "stdout",
          "text": [
            "./exp/smpl/example\n",
            "iter:9900 loss = 1.4060802459716797 lr=0.0003906332091153775\n",
            "Validate: iter: 9900, camera: 58\n"
          ]
        },
        {
          "output_type": "stream",
          "name": "stderr",
          "text": [
            " 33%|███▎      | 9999/30000 [1:31:38<2:45:25,  2.02it/s]"
          ]
        },
        {
          "output_type": "stream",
          "name": "stdout",
          "text": [
            "./exp/smpl/example\n",
            "iter:10000 loss = 1.4680631160736084 lr=0.00038849640627284935\n",
            "Validate: iter: 10000, camera: 58\n",
            "threshold: 0.0\n"
          ]
        },
        {
          "output_type": "stream",
          "name": "stderr",
          "text": [
            "[main.py:919 -        validate_mesh() ] End\n",
            " 34%|███▎      | 10099/30000 [1:32:43<2:44:03,  2.02it/s]"
          ]
        },
        {
          "output_type": "stream",
          "name": "stdout",
          "text": [
            "./exp/smpl/example\n",
            "iter:10100 loss = 1.2929669618606567 lr=0.0003863453141693805\n",
            "Validate: iter: 10100, camera: 58\n"
          ]
        },
        {
          "output_type": "stream",
          "name": "stderr",
          "text": [
            " 34%|███▍      | 10199/30000 [1:33:36<2:42:59,  2.02it/s]"
          ]
        },
        {
          "output_type": "stream",
          "name": "stdout",
          "text": [
            "./exp/smpl/example\n",
            "iter:10200 loss = 1.5126674175262451 lr=0.0003841801767604718\n",
            "Validate: iter: 10200, camera: 58\n"
          ]
        },
        {
          "output_type": "stream",
          "name": "stderr",
          "text": [
            " 34%|███▍      | 10299/30000 [1:34:28<2:42:16,  2.02it/s]"
          ]
        },
        {
          "output_type": "stream",
          "name": "stdout",
          "text": [
            "./exp/smpl/example\n",
            "iter:10300 loss = 1.2821329832077026 lr=0.0003820012395945027\n",
            "Validate: iter: 10300, camera: 58\n"
          ]
        },
        {
          "output_type": "stream",
          "name": "stderr",
          "text": [
            " 35%|███▍      | 10399/30000 [1:35:20<2:41:04,  2.03it/s]"
          ]
        },
        {
          "output_type": "stream",
          "name": "stdout",
          "text": [
            "./exp/smpl/example\n",
            "iter:10400 loss = 1.3134722709655762 lr=0.0003798087497848844\n",
            "Validate: iter: 10400, camera: 58\n"
          ]
        },
        {
          "output_type": "stream",
          "name": "stderr",
          "text": [
            " 35%|███▍      | 10499/30000 [1:36:12<2:41:19,  2.01it/s]"
          ]
        },
        {
          "output_type": "stream",
          "name": "stdout",
          "text": [
            "./exp/smpl/example\n",
            "iter:10500 loss = 1.3482670783996582 lr=0.0003776029559820342\n",
            "Validate: iter: 10500, camera: 58\n",
            "threshold: 0.0\n"
          ]
        },
        {
          "output_type": "stream",
          "name": "stderr",
          "text": [
            "[main.py:919 -        validate_mesh() ] End\n",
            " 35%|███▌      | 10599/30000 [1:37:17<2:40:02,  2.02it/s]"
          ]
        },
        {
          "output_type": "stream",
          "name": "stdout",
          "text": [
            "./exp/smpl/example\n",
            "iter:10600 loss = 1.4349162578582764 lr=0.00037538410834517624\n",
            "Validate: iter: 10600, camera: 58\n"
          ]
        },
        {
          "output_type": "stream",
          "name": "stderr",
          "text": [
            " 36%|███▌      | 10699/30000 [1:38:10<2:39:53,  2.01it/s]"
          ]
        },
        {
          "output_type": "stream",
          "name": "stdout",
          "text": [
            "./exp/smpl/example\n",
            "iter:10700 loss = 1.4370942115783691 lr=0.00037315245851397074\n",
            "Validate: iter: 10700, camera: 58\n"
          ]
        },
        {
          "output_type": "stream",
          "name": "stderr",
          "text": [
            " 36%|███▌      | 10799/30000 [1:39:03<2:38:27,  2.02it/s]"
          ]
        },
        {
          "output_type": "stream",
          "name": "stdout",
          "text": [
            "./exp/smpl/example\n",
            "iter:10800 loss = 1.349431037902832 lr=0.0003709082595799757\n",
            "Validate: iter: 10800, camera: 58\n"
          ]
        },
        {
          "output_type": "stream",
          "name": "stderr",
          "text": [
            " 36%|███▋      | 10899/30000 [1:39:56<2:40:19,  1.99it/s]"
          ]
        },
        {
          "output_type": "stream",
          "name": "stdout",
          "text": [
            "./exp/smpl/example\n",
            "iter:10900 loss = 1.4060927629470825 lr=0.0003686517660579437\n",
            "Validate: iter: 10900, camera: 58\n"
          ]
        },
        {
          "output_type": "stream",
          "name": "stderr",
          "text": [
            " 37%|███▋      | 10999/30000 [1:40:48<2:38:26,  2.00it/s]"
          ]
        },
        {
          "output_type": "stream",
          "name": "stdout",
          "text": [
            "./exp/smpl/example\n",
            "iter:11000 loss = 1.5316286087036133 lr=0.00036638323385695747\n",
            "Validate: iter: 11000, camera: 58\n",
            "threshold: 0.0\n"
          ]
        },
        {
          "output_type": "stream",
          "name": "stderr",
          "text": [
            "[main.py:919 -        validate_mesh() ] End\n",
            " 37%|███▋      | 11099/30000 [1:41:54<2:35:44,  2.02it/s]"
          ]
        },
        {
          "output_type": "stream",
          "name": "stdout",
          "text": [
            "./exp/smpl/example\n",
            "iter:11100 loss = 1.4159789085388184 lr=0.0003641029202514071\n",
            "Validate: iter: 11100, camera: 58\n"
          ]
        },
        {
          "output_type": "stream",
          "name": "stderr",
          "text": [
            " 37%|███▋      | 11199/30000 [1:42:47<2:36:34,  2.00it/s]"
          ]
        },
        {
          "output_type": "stream",
          "name": "stdout",
          "text": [
            "./exp/smpl/example\n",
            "iter:11200 loss = 1.319896936416626 lr=0.0003618110838518123\n",
            "Validate: iter: 11200, camera: 58\n"
          ]
        },
        {
          "output_type": "stream",
          "name": "stderr",
          "text": [
            " 38%|███▊      | 11299/30000 [1:43:40<2:34:42,  2.01it/s]"
          ]
        },
        {
          "output_type": "stream",
          "name": "stdout",
          "text": [
            "./exp/smpl/example\n",
            "iter:11300 loss = 1.376663327217102 lr=0.000359507984575494\n",
            "Validate: iter: 11300, camera: 58\n"
          ]
        },
        {
          "output_type": "stream",
          "name": "stderr",
          "text": [
            " 38%|███▊      | 11399/30000 [1:44:32<2:34:07,  2.01it/s]"
          ]
        },
        {
          "output_type": "stream",
          "name": "stdout",
          "text": [
            "./exp/smpl/example\n",
            "iter:11400 loss = 1.4959899187088013 lr=0.0003571938836170966\n",
            "Validate: iter: 11400, camera: 58\n"
          ]
        },
        {
          "output_type": "stream",
          "name": "stderr",
          "text": [
            " 38%|███▊      | 11499/30000 [1:45:25<2:32:59,  2.02it/s]"
          ]
        },
        {
          "output_type": "stream",
          "name": "stdout",
          "text": [
            "./exp/smpl/example\n",
            "iter:11500 loss = 1.2721099853515625 lr=0.00035486904341896597\n",
            "Validate: iter: 11500, camera: 58\n",
            "threshold: 0.0\n"
          ]
        },
        {
          "output_type": "stream",
          "name": "stderr",
          "text": [
            "[main.py:919 -        validate_mesh() ] End\n",
            " 39%|███▊      | 11599/30000 [1:46:30<2:34:06,  1.99it/s]"
          ]
        },
        {
          "output_type": "stream",
          "name": "stdout",
          "text": [
            "./exp/smpl/example\n",
            "iter:11600 loss = 1.3849083185195923 lr=0.00035253372764138593\n",
            "Validate: iter: 11600, camera: 58\n"
          ]
        },
        {
          "output_type": "stream",
          "name": "stderr",
          "text": [
            " 39%|███▉      | 11699/30000 [1:47:23<2:31:56,  2.01it/s]"
          ]
        },
        {
          "output_type": "stream",
          "name": "stdout",
          "text": [
            "./exp/smpl/example\n",
            "iter:11700 loss = 1.35832941532135 lr=0.00035018820113267646\n",
            "Validate: iter: 11700, camera: 58\n"
          ]
        },
        {
          "output_type": "stream",
          "name": "stderr",
          "text": [
            " 39%|███▉      | 11799/30000 [1:48:16<2:32:33,  1.99it/s]"
          ]
        },
        {
          "output_type": "stream",
          "name": "stdout",
          "text": [
            "./exp/smpl/example\n",
            "iter:11800 loss = 1.5068528652191162 lr=0.00034783272989915724\n",
            "Validate: iter: 11800, camera: 58\n"
          ]
        },
        {
          "output_type": "stream",
          "name": "stderr",
          "text": [
            " 40%|███▉      | 11899/30000 [1:49:08<2:30:39,  2.00it/s]"
          ]
        },
        {
          "output_type": "stream",
          "name": "stdout",
          "text": [
            "./exp/smpl/example\n",
            "iter:11900 loss = 1.4526057243347168 lr=0.0003454675810749799\n",
            "Validate: iter: 11900, camera: 58\n"
          ]
        },
        {
          "output_type": "stream",
          "name": "stderr",
          "text": [
            " 40%|███▉      | 11999/30000 [1:50:02<2:30:16,  2.00it/s]"
          ]
        },
        {
          "output_type": "stream",
          "name": "stdout",
          "text": [
            "./exp/smpl/example\n",
            "iter:12000 loss = 1.4768481254577637 lr=0.0003430930228918322\n",
            "Validate: iter: 12000, camera: 58\n",
            "threshold: 0.0\n"
          ]
        },
        {
          "output_type": "stream",
          "name": "stderr",
          "text": [
            "[main.py:919 -        validate_mesh() ] End\n",
            " 40%|████      | 12099/30000 [1:51:08<2:30:01,  1.99it/s]"
          ]
        },
        {
          "output_type": "stream",
          "name": "stdout",
          "text": [
            "./exp/smpl/example\n",
            "iter:12100 loss = 1.4869251251220703 lr=0.00034070932464851805\n",
            "Validate: iter: 12100, camera: 58\n"
          ]
        },
        {
          "output_type": "stream",
          "name": "stderr",
          "text": [
            " 41%|████      | 12199/30000 [1:52:01<2:28:40,  2.00it/s]"
          ]
        },
        {
          "output_type": "stream",
          "name": "stdout",
          "text": [
            "./exp/smpl/example\n",
            "iter:12200 loss = 1.3899706602096558 lr=0.00033831675668041604\n",
            "Validate: iter: 12200, camera: 58\n"
          ]
        },
        {
          "output_type": "stream",
          "name": "stderr",
          "text": [
            " 41%|████      | 12299/30000 [1:52:54<2:27:40,  2.00it/s]"
          ]
        },
        {
          "output_type": "stream",
          "name": "stdout",
          "text": [
            "./exp/smpl/example\n",
            "iter:12300 loss = 1.4539542198181152 lr=0.00033591559032882104\n",
            "Validate: iter: 12300, camera: 58\n"
          ]
        },
        {
          "output_type": "stream",
          "name": "stderr",
          "text": [
            " 41%|████▏     | 12399/30000 [1:53:47<2:28:00,  1.98it/s]"
          ]
        },
        {
          "output_type": "stream",
          "name": "stdout",
          "text": [
            "./exp/smpl/example\n",
            "iter:12400 loss = 1.3341898918151855 lr=0.0003335060979101709\n",
            "Validate: iter: 12400, camera: 58\n"
          ]
        },
        {
          "output_type": "stream",
          "name": "stderr",
          "text": [
            " 42%|████▏     | 12499/30000 [1:54:40<2:28:04,  1.97it/s]"
          ]
        },
        {
          "output_type": "stream",
          "name": "stdout",
          "text": [
            "./exp/smpl/example\n",
            "iter:12500 loss = 1.4367051124572754 lr=0.0003310885526851637\n",
            "Validate: iter: 12500, camera: 58\n",
            "threshold: 0.0\n"
          ]
        },
        {
          "output_type": "stream",
          "name": "stderr",
          "text": [
            "[main.py:919 -        validate_mesh() ] End\n",
            " 42%|████▏     | 12599/30000 [1:55:45<2:24:34,  2.01it/s]"
          ]
        },
        {
          "output_type": "stream",
          "name": "stdout",
          "text": [
            "./exp/smpl/example\n",
            "iter:12600 loss = 1.591173768043518 lr=0.00032866322882776645\n",
            "Validate: iter: 12600, camera: 58\n"
          ]
        },
        {
          "output_type": "stream",
          "name": "stderr",
          "text": [
            " 42%|████▏     | 12699/30000 [1:56:39<2:24:21,  2.00it/s]"
          ]
        },
        {
          "output_type": "stream",
          "name": "stdout",
          "text": [
            "./exp/smpl/example\n",
            "iter:12700 loss = 1.3232076168060303 lr=0.00032623040139412155\n",
            "Validate: iter: 12700, camera: 58\n"
          ]
        },
        {
          "output_type": "stream",
          "name": "stderr",
          "text": [
            " 43%|████▎     | 12799/30000 [1:57:31<2:22:28,  2.01it/s]"
          ]
        },
        {
          "output_type": "stream",
          "name": "stdout",
          "text": [
            "./exp/smpl/example\n",
            "iter:12800 loss = 1.282169222831726 lr=0.0003237903462913525\n",
            "Validate: iter: 12800, camera: 58\n"
          ]
        },
        {
          "output_type": "stream",
          "name": "stderr",
          "text": [
            " 43%|████▎     | 12899/30000 [1:58:24<2:23:14,  1.99it/s]"
          ]
        },
        {
          "output_type": "stream",
          "name": "stdout",
          "text": [
            "./exp/smpl/example\n",
            "iter:12900 loss = 1.4887497425079346 lr=0.0003213433402462732\n",
            "Validate: iter: 12900, camera: 58\n"
          ]
        },
        {
          "output_type": "stream",
          "name": "stderr",
          "text": [
            " 43%|████▎     | 12999/30000 [1:59:17<2:21:21,  2.00it/s]"
          ]
        },
        {
          "output_type": "stream",
          "name": "stdout",
          "text": [
            "./exp/smpl/example\n",
            "iter:13000 loss = 1.2945526838302612 lr=0.00031888966077400457\n",
            "Validate: iter: 13000, camera: 58\n",
            "threshold: 0.0\n"
          ]
        },
        {
          "output_type": "stream",
          "name": "stderr",
          "text": [
            "[main.py:919 -        validate_mesh() ] End\n",
            " 44%|████▎     | 13099/30000 [2:00:23<2:20:39,  2.00it/s]"
          ]
        },
        {
          "output_type": "stream",
          "name": "stdout",
          "text": [
            "./exp/smpl/example\n",
            "iter:13100 loss = 1.2513824701309204 lr=0.00031642958614650087\n",
            "Validate: iter: 13100, camera: 58\n"
          ]
        },
        {
          "output_type": "stream",
          "name": "stderr",
          "text": [
            " 44%|████▍     | 13199/30000 [2:01:17<2:21:04,  1.98it/s]"
          ]
        },
        {
          "output_type": "stream",
          "name": "stdout",
          "text": [
            "./exp/smpl/example\n",
            "iter:13200 loss = 1.5108952522277832 lr=0.0003139633953609919\n",
            "Validate: iter: 13200, camera: 58\n"
          ]
        },
        {
          "output_type": "stream",
          "name": "stderr",
          "text": [
            " 44%|████▍     | 13299/30000 [2:02:10<2:20:58,  1.97it/s]"
          ]
        },
        {
          "output_type": "stream",
          "name": "stdout",
          "text": [
            "./exp/smpl/example\n",
            "iter:13300 loss = 1.4886327981948853 lr=0.00031149136810834107\n",
            "Validate: iter: 13300, camera: 58\n"
          ]
        },
        {
          "output_type": "stream",
          "name": "stderr",
          "text": [
            " 45%|████▍     | 13399/30000 [2:03:03<2:18:23,  2.00it/s]"
          ]
        },
        {
          "output_type": "stream",
          "name": "stdout",
          "text": [
            "./exp/smpl/example\n",
            "iter:13400 loss = 1.3779571056365967 lr=0.000309013784741326\n",
            "Validate: iter: 13400, camera: 58\n"
          ]
        },
        {
          "output_type": "stream",
          "name": "stderr",
          "text": [
            " 45%|████▍     | 13499/30000 [2:03:56<2:18:57,  1.98it/s]"
          ]
        },
        {
          "output_type": "stream",
          "name": "stdout",
          "text": [
            "./exp/smpl/example\n",
            "iter:13500 loss = 1.582092523574829 lr=0.0003065309262428435\n",
            "Validate: iter: 13500, camera: 58\n",
            "threshold: 0.0\n"
          ]
        },
        {
          "output_type": "stream",
          "name": "stderr",
          "text": [
            "[main.py:919 -        validate_mesh() ] End\n",
            " 45%|████▌     | 13599/30000 [2:05:01<2:17:19,  1.99it/s]"
          ]
        },
        {
          "output_type": "stream",
          "name": "stdout",
          "text": [
            "./exp/smpl/example\n",
            "iter:13600 loss = 1.5222562551498413 lr=0.00030404307419404353\n",
            "Validate: iter: 13600, camera: 58\n"
          ]
        },
        {
          "output_type": "stream",
          "name": "stderr",
          "text": [
            " 46%|████▌     | 13699/30000 [2:05:54<2:16:55,  1.98it/s]"
          ]
        },
        {
          "output_type": "stream",
          "name": "stdout",
          "text": [
            "./exp/smpl/example\n",
            "iter:13700 loss = 1.515669584274292 lr=0.00030155051074239503\n",
            "Validate: iter: 13700, camera: 58\n"
          ]
        },
        {
          "output_type": "stream",
          "name": "stderr",
          "text": [
            " 46%|████▌     | 13799/30000 [2:06:47<2:16:34,  1.98it/s]"
          ]
        },
        {
          "output_type": "stream",
          "name": "stdout",
          "text": [
            "./exp/smpl/example\n",
            "iter:13800 loss = 1.3050825595855713 lr=0.00029905351856968705\n",
            "Validate: iter: 13800, camera: 58\n"
          ]
        },
        {
          "output_type": "stream",
          "name": "stderr",
          "text": [
            " 46%|████▋     | 13899/30000 [2:07:40<2:14:42,  1.99it/s]"
          ]
        },
        {
          "output_type": "stream",
          "name": "stdout",
          "text": [
            "./exp/smpl/example\n",
            "iter:13900 loss = 1.3528070449829102 lr=0.00029655238085997057\n",
            "Validate: iter: 13900, camera: 58\n"
          ]
        },
        {
          "output_type": "stream",
          "name": "stderr",
          "text": [
            " 47%|████▋     | 13999/30000 [2:08:33<2:14:19,  1.99it/s]"
          ]
        },
        {
          "output_type": "stream",
          "name": "stdout",
          "text": [
            "./exp/smpl/example\n",
            "iter:14000 loss = 1.6270183324813843 lr=0.0002940473812674421\n",
            "Validate: iter: 14000, camera: 58\n",
            "threshold: 0.0\n"
          ]
        },
        {
          "output_type": "stream",
          "name": "stderr",
          "text": [
            "[main.py:919 -        validate_mesh() ] End\n",
            " 47%|████▋     | 14099/30000 [2:09:39<2:13:02,  1.99it/s]"
          ]
        },
        {
          "output_type": "stream",
          "name": "stdout",
          "text": [
            "./exp/smpl/example\n",
            "iter:14100 loss = 1.511299967765808 lr=0.0002915388038842746\n",
            "Validate: iter: 14100, camera: 58\n"
          ]
        },
        {
          "output_type": "stream",
          "name": "stderr",
          "text": [
            " 47%|████▋     | 14199/30000 [2:10:32<2:11:34,  2.00it/s]"
          ]
        },
        {
          "output_type": "stream",
          "name": "stdout",
          "text": [
            "./exp/smpl/example\n",
            "iter:14200 loss = 1.6757986545562744 lr=0.00028902693320839837\n",
            "Validate: iter: 14200, camera: 58\n"
          ]
        },
        {
          "output_type": "stream",
          "name": "stderr",
          "text": [
            " 48%|████▊     | 14299/30000 [2:11:25<2:10:43,  2.00it/s]"
          ]
        },
        {
          "output_type": "stream",
          "name": "stdout",
          "text": [
            "./exp/smpl/example\n",
            "iter:14300 loss = 1.356020212173462 lr=0.00028651205411123616\n",
            "Validate: iter: 14300, camera: 58\n"
          ]
        },
        {
          "output_type": "stream",
          "name": "stderr",
          "text": [
            " 48%|████▊     | 14399/30000 [2:12:19<2:11:36,  1.98it/s]"
          ]
        },
        {
          "output_type": "stream",
          "name": "stdout",
          "text": [
            "./exp/smpl/example\n",
            "iter:14400 loss = 1.444509506225586 lr=0.00028399445180539646\n",
            "Validate: iter: 14400, camera: 58\n"
          ]
        },
        {
          "output_type": "stream",
          "name": "stderr",
          "text": [
            " 48%|████▊     | 14499/30000 [2:13:12<2:09:28,  2.00it/s]"
          ]
        },
        {
          "output_type": "stream",
          "name": "stdout",
          "text": [
            "./exp/smpl/example\n",
            "iter:14500 loss = 1.3126049041748047 lr=0.0002814744118123264\n",
            "Validate: iter: 14500, camera: 58\n",
            "threshold: 0.0\n"
          ]
        },
        {
          "output_type": "stream",
          "name": "stderr",
          "text": [
            "[main.py:919 -        validate_mesh() ] End\n",
            " 49%|████▊     | 14599/30000 [2:14:17<2:09:42,  1.98it/s]"
          ]
        },
        {
          "output_type": "stream",
          "name": "stdout",
          "text": [
            "./exp/smpl/example\n",
            "iter:14600 loss = 1.590466022491455 lr=0.00027895221992993197\n",
            "Validate: iter: 14600, camera: 58\n"
          ]
        },
        {
          "output_type": "stream",
          "name": "stderr",
          "text": [
            " 49%|████▉     | 14699/30000 [2:15:11<2:07:55,  1.99it/s]"
          ]
        },
        {
          "output_type": "stream",
          "name": "stdout",
          "text": [
            "./exp/smpl/example\n",
            "iter:14700 loss = 1.3151904344558716 lr=0.00027642816220016465\n",
            "Validate: iter: 14700, camera: 58\n"
          ]
        },
        {
          "output_type": "stream",
          "name": "stderr",
          "text": [
            " 49%|████▉     | 14799/30000 [2:16:04<2:06:47,  2.00it/s]"
          ]
        },
        {
          "output_type": "stream",
          "name": "stdout",
          "text": [
            "./exp/smpl/example\n",
            "iter:14800 loss = 1.3628771305084229 lr=0.000273902524876582\n",
            "Validate: iter: 14800, camera: 58\n"
          ]
        },
        {
          "output_type": "stream",
          "name": "stderr",
          "text": [
            " 50%|████▉     | 14899/30000 [2:16:56<2:06:31,  1.99it/s]"
          ]
        },
        {
          "output_type": "stream",
          "name": "stdout",
          "text": [
            "./exp/smpl/example\n",
            "iter:14900 loss = 1.2878108024597168 lr=0.0002713755943918834\n",
            "Validate: iter: 14900, camera: 58\n"
          ]
        },
        {
          "output_type": "stream",
          "name": "stderr",
          "text": [
            " 50%|████▉     | 14999/30000 [2:17:49<2:04:56,  2.00it/s]"
          ]
        },
        {
          "output_type": "stream",
          "name": "stdout",
          "text": [
            "./exp/smpl/example\n",
            "iter:15000 loss = 1.385981559753418 lr=0.0002688476573254257\n",
            "Validate: iter: 15000, camera: 58\n",
            "threshold: 0.0\n"
          ]
        },
        {
          "output_type": "stream",
          "name": "stderr",
          "text": [
            "[main.py:919 -        validate_mesh() ] End\n",
            " 50%|█████     | 15099/30000 [2:18:55<2:04:02,  2.00it/s]"
          ]
        },
        {
          "output_type": "stream",
          "name": "stdout",
          "text": [
            "./exp/smpl/example\n",
            "iter:15100 loss = 1.4797368049621582 lr=0.00026631900037072217\n",
            "Validate: iter: 15100, camera: 58\n"
          ]
        },
        {
          "output_type": "stream",
          "name": "stderr",
          "text": [
            " 51%|█████     | 15199/30000 [2:19:48<2:04:50,  1.98it/s]"
          ]
        },
        {
          "output_type": "stream",
          "name": "stdout",
          "text": [
            "./exp/smpl/example\n",
            "iter:15200 loss = 1.3662729263305664 lr=0.00026378991030292885\n",
            "Validate: iter: 15200, camera: 58\n"
          ]
        },
        {
          "output_type": "stream",
          "name": "stderr",
          "text": [
            " 51%|█████     | 15299/30000 [2:20:41<2:04:04,  1.97it/s]"
          ]
        },
        {
          "output_type": "stream",
          "name": "stdout",
          "text": [
            "./exp/smpl/example\n",
            "iter:15300 loss = 1.3413976430892944 lr=0.00026126067394632103\n",
            "Validate: iter: 15300, camera: 58\n"
          ]
        },
        {
          "output_type": "stream",
          "name": "stderr",
          "text": [
            " 51%|█████▏    | 15399/30000 [2:21:34<2:02:42,  1.98it/s]"
          ]
        },
        {
          "output_type": "stream",
          "name": "stdout",
          "text": [
            "./exp/smpl/example\n",
            "iter:15400 loss = 1.2295777797698975 lr=0.00025873157814176455\n",
            "Validate: iter: 15400, camera: 58\n"
          ]
        },
        {
          "output_type": "stream",
          "name": "stderr",
          "text": [
            " 52%|█████▏    | 15499/30000 [2:22:27<2:00:58,  2.00it/s]"
          ]
        },
        {
          "output_type": "stream",
          "name": "stdout",
          "text": [
            "./exp/smpl/example\n",
            "iter:15500 loss = 1.482532262802124 lr=0.0002562029097141854\n",
            "Validate: iter: 15500, camera: 58\n",
            "threshold: 0.0\n"
          ]
        },
        {
          "output_type": "stream",
          "name": "stderr",
          "text": [
            "[main.py:919 -        validate_mesh() ] End\n",
            " 52%|█████▏    | 15599/30000 [2:23:33<2:00:12,  2.00it/s]"
          ]
        },
        {
          "output_type": "stream",
          "name": "stdout",
          "text": [
            "./exp/smpl/example\n",
            "iter:15600 loss = 1.6083223819732666 lr=0.00025367495544004073\n",
            "Validate: iter: 15600, camera: 58\n"
          ]
        },
        {
          "output_type": "stream",
          "name": "stderr",
          "text": [
            " 52%|█████▏    | 15699/30000 [2:24:26<1:59:14,  2.00it/s]"
          ]
        },
        {
          "output_type": "stream",
          "name": "stdout",
          "text": [
            "./exp/smpl/example\n",
            "iter:15700 loss = 1.295975685119629 lr=0.0002511480020147952\n",
            "Validate: iter: 15700, camera: 58\n"
          ]
        },
        {
          "output_type": "stream",
          "name": "stderr",
          "text": [
            " 53%|█████▎    | 15799/30000 [2:25:19<1:58:57,  1.99it/s]"
          ]
        },
        {
          "output_type": "stream",
          "name": "stdout",
          "text": [
            "./exp/smpl/example\n",
            "iter:15800 loss = 1.518214225769043 lr=0.00024862233602040756\n",
            "Validate: iter: 15800, camera: 58\n"
          ]
        },
        {
          "output_type": "stream",
          "name": "stderr",
          "text": [
            " 53%|█████▎    | 15899/30000 [2:26:12<2:05:07,  1.88it/s]"
          ]
        },
        {
          "output_type": "stream",
          "name": "stdout",
          "text": [
            "./exp/smpl/example\n",
            "iter:15900 loss = 1.2535078525543213 lr=0.0002460982438928286\n",
            "Validate: iter: 15900, camera: 58\n"
          ]
        },
        {
          "output_type": "stream",
          "name": "stderr",
          "text": [
            " 53%|█████▎    | 15999/30000 [2:27:05<1:57:28,  1.99it/s]"
          ]
        },
        {
          "output_type": "stream",
          "name": "stdout",
          "text": [
            "./exp/smpl/example\n",
            "iter:16000 loss = 1.2997395992279053 lr=0.000243576011889517\n",
            "Validate: iter: 16000, camera: 58\n",
            "threshold: 0.0\n"
          ]
        },
        {
          "output_type": "stream",
          "name": "stderr",
          "text": [
            "[main.py:919 -        validate_mesh() ] End\n",
            " 54%|█████▎    | 16099/30000 [2:28:10<1:55:53,  2.00it/s]"
          ]
        },
        {
          "output_type": "stream",
          "name": "stdout",
          "text": [
            "./exp/smpl/example\n",
            "iter:16100 loss = 1.3396042585372925 lr=0.00024105592605697438\n",
            "Validate: iter: 16100, camera: 58\n"
          ]
        },
        {
          "output_type": "stream",
          "name": "stderr",
          "text": [
            " 54%|█████▍    | 16199/30000 [2:29:04<1:54:38,  2.01it/s]"
          ]
        },
        {
          "output_type": "stream",
          "name": "stdout",
          "text": [
            "./exp/smpl/example\n",
            "iter:16200 loss = 1.3574705123901367 lr=0.00023853827219830524\n",
            "Validate: iter: 16200, camera: 58\n"
          ]
        },
        {
          "output_type": "stream",
          "name": "stderr",
          "text": [
            " 54%|█████▍    | 16299/30000 [2:29:57<1:54:26,  2.00it/s]"
          ]
        },
        {
          "output_type": "stream",
          "name": "stdout",
          "text": [
            "./exp/smpl/example\n",
            "iter:16300 loss = 1.5072331428527832 lr=0.00023602333584080354\n",
            "Validate: iter: 16300, camera: 58\n"
          ]
        },
        {
          "output_type": "stream",
          "name": "stderr",
          "text": [
            " 55%|█████▍    | 16399/30000 [2:30:50<1:53:24,  2.00it/s]"
          ]
        },
        {
          "output_type": "stream",
          "name": "stdout",
          "text": [
            "./exp/smpl/example\n",
            "iter:16400 loss = 1.4506360292434692 lr=0.0002335114022035715\n",
            "Validate: iter: 16400, camera: 58\n"
          ]
        },
        {
          "output_type": "stream",
          "name": "stderr",
          "text": [
            " 55%|█████▍    | 16499/30000 [2:31:43<1:52:33,  2.00it/s]"
          ]
        },
        {
          "output_type": "stream",
          "name": "stdout",
          "text": [
            "./exp/smpl/example\n",
            "iter:16500 loss = 1.4754328727722168 lr=0.0002310027561651723\n",
            "Validate: iter: 16500, camera: 58\n",
            "threshold: 0.0\n"
          ]
        },
        {
          "output_type": "stream",
          "name": "stderr",
          "text": [
            "[main.py:919 -        validate_mesh() ] End\n",
            " 55%|█████▌    | 16599/30000 [2:32:49<1:53:38,  1.97it/s]"
          ]
        },
        {
          "output_type": "stream",
          "name": "stdout",
          "text": [
            "./exp/smpl/example\n",
            "iter:16600 loss = 1.2452340126037598 lr=0.00022849768223132265\n",
            "Validate: iter: 16600, camera: 58\n"
          ]
        },
        {
          "output_type": "stream",
          "name": "stderr",
          "text": [
            " 56%|█████▌    | 16699/30000 [2:33:42<1:51:54,  1.98it/s]"
          ]
        },
        {
          "output_type": "stream",
          "name": "stdout",
          "text": [
            "./exp/smpl/example\n",
            "iter:16700 loss = 1.4759814739227295 lr=0.00022599646450262637\n",
            "Validate: iter: 16700, camera: 58\n"
          ]
        },
        {
          "output_type": "stream",
          "name": "stderr",
          "text": [
            " 56%|█████▌    | 16799/30000 [2:34:35<1:50:07,  2.00it/s]"
          ]
        },
        {
          "output_type": "stream",
          "name": "stdout",
          "text": [
            "./exp/smpl/example\n",
            "iter:16800 loss = 1.2543128728866577 lr=0.0002234993866423551\n",
            "Validate: iter: 16800, camera: 58\n"
          ]
        },
        {
          "output_type": "stream",
          "name": "stderr",
          "text": [
            " 56%|█████▋    | 16899/30000 [2:35:28<1:49:33,  1.99it/s]"
          ]
        },
        {
          "output_type": "stream",
          "name": "stdout",
          "text": [
            "./exp/smpl/example\n",
            "iter:16900 loss = 1.3133985996246338 lr=0.0002210067318442773\n",
            "Validate: iter: 16900, camera: 58\n"
          ]
        },
        {
          "output_type": "stream",
          "name": "stderr",
          "text": [
            " 57%|█████▋    | 16999/30000 [2:36:22<1:48:44,  1.99it/s]"
          ]
        },
        {
          "output_type": "stream",
          "name": "stdout",
          "text": [
            "./exp/smpl/example\n",
            "iter:17000 loss = 1.299316644668579 lr=0.00021851878280054204\n",
            "Validate: iter: 17000, camera: 58\n",
            "threshold: 0.0\n"
          ]
        },
        {
          "output_type": "stream",
          "name": "stderr",
          "text": [
            "[main.py:919 -        validate_mesh() ] End\n",
            " 57%|█████▋    | 17099/30000 [2:37:27<1:48:54,  1.97it/s]"
          ]
        },
        {
          "output_type": "stream",
          "name": "stdout",
          "text": [
            "./exp/smpl/example\n",
            "iter:17100 loss = 1.3196525573730469 lr=0.00021603582166961822\n",
            "Validate: iter: 17100, camera: 58\n"
          ]
        },
        {
          "output_type": "stream",
          "name": "stderr",
          "text": [
            " 57%|█████▋    | 17199/30000 [2:38:21<1:48:22,  1.97it/s]"
          ]
        },
        {
          "output_type": "stream",
          "name": "stdout",
          "text": [
            "./exp/smpl/example\n",
            "iter:17200 loss = 1.513683795928955 lr=0.00021355813004429546\n",
            "Validate: iter: 17200, camera: 58\n"
          ]
        },
        {
          "output_type": "stream",
          "name": "stderr",
          "text": [
            " 58%|█████▊    | 17299/30000 [2:39:14<1:46:10,  1.99it/s]"
          ]
        },
        {
          "output_type": "stream",
          "name": "stdout",
          "text": [
            "./exp/smpl/example\n",
            "iter:17300 loss = 1.4215996265411377 lr=0.00021108598891974803\n",
            "Validate: iter: 17300, camera: 58\n"
          ]
        },
        {
          "output_type": "stream",
          "name": "stderr",
          "text": [
            " 58%|█████▊    | 17399/30000 [2:40:07<1:45:37,  1.99it/s]"
          ]
        },
        {
          "output_type": "stream",
          "name": "stdout",
          "text": [
            "./exp/smpl/example\n",
            "iter:17400 loss = 1.6229901313781738 lr=0.00020861967866166788\n",
            "Validate: iter: 17400, camera: 58\n"
          ]
        },
        {
          "output_type": "stream",
          "name": "stderr",
          "text": [
            " 58%|█████▊    | 17499/30000 [2:41:00<1:44:40,  1.99it/s]"
          ]
        },
        {
          "output_type": "stream",
          "name": "stdout",
          "text": [
            "./exp/smpl/example\n",
            "iter:17500 loss = 1.2654515504837036 lr=0.0002061594789744678\n",
            "Validate: iter: 17500, camera: 58\n",
            "threshold: 0.0\n"
          ]
        },
        {
          "output_type": "stream",
          "name": "stderr",
          "text": [
            "[main.py:919 -        validate_mesh() ] End\n",
            " 59%|█████▊    | 17599/30000 [2:42:06<1:43:21,  2.00it/s]"
          ]
        },
        {
          "output_type": "stream",
          "name": "stdout",
          "text": [
            "./exp/smpl/example\n",
            "iter:17600 loss = 1.500037670135498 lr=0.00020370566886956056\n",
            "Validate: iter: 17600, camera: 58\n"
          ]
        },
        {
          "output_type": "stream",
          "name": "stderr",
          "text": [
            " 59%|█████▉    | 17699/30000 [2:43:00<1:42:47,  1.99it/s]"
          ]
        },
        {
          "output_type": "stream",
          "name": "stdout",
          "text": [
            "./exp/smpl/example\n",
            "iter:17700 loss = 1.446597695350647 lr=0.00020125852663371562\n",
            "Validate: iter: 17700, camera: 58\n"
          ]
        },
        {
          "output_type": "stream",
          "name": "stderr",
          "text": [
            " 59%|█████▉    | 17799/30000 [2:43:53<1:43:22,  1.97it/s]"
          ]
        },
        {
          "output_type": "stream",
          "name": "stdout",
          "text": [
            "./exp/smpl/example\n",
            "iter:17800 loss = 1.2774995565414429 lr=0.0001988183297974991\n",
            "Validate: iter: 17800, camera: 58\n"
          ]
        },
        {
          "output_type": "stream",
          "name": "stderr",
          "text": [
            " 60%|█████▉    | 17899/30000 [2:44:46<1:41:31,  1.99it/s]"
          ]
        },
        {
          "output_type": "stream",
          "name": "stdout",
          "text": [
            "./exp/smpl/example\n",
            "iter:17900 loss = 1.5618069171905518 lr=0.0001963853551037991\n",
            "Validate: iter: 17900, camera: 58\n"
          ]
        },
        {
          "output_type": "stream",
          "name": "stderr",
          "text": [
            " 60%|█████▉    | 17999/30000 [2:45:39<1:40:48,  1.98it/s]"
          ]
        },
        {
          "output_type": "stream",
          "name": "stdout",
          "text": [
            "./exp/smpl/example\n",
            "iter:18000 loss = 1.4604953527450562 lr=0.00019395987847643968\n",
            "Validate: iter: 18000, camera: 58\n",
            "threshold: 0.0\n"
          ]
        },
        {
          "output_type": "stream",
          "name": "stderr",
          "text": [
            "[main.py:919 -        validate_mesh() ] End\n",
            " 60%|██████    | 18099/30000 [2:46:44<1:39:36,  1.99it/s]"
          ]
        },
        {
          "output_type": "stream",
          "name": "stdout",
          "text": [
            "./exp/smpl/example\n",
            "iter:18100 loss = 1.3187720775604248 lr=0.00019154217498888902\n",
            "Validate: iter: 18100, camera: 58\n"
          ]
        },
        {
          "output_type": "stream",
          "name": "stderr",
          "text": [
            " 61%|██████    | 18199/30000 [2:47:37<1:39:37,  1.97it/s]"
          ]
        },
        {
          "output_type": "stream",
          "name": "stdout",
          "text": [
            "./exp/smpl/example\n",
            "iter:18200 loss = 1.3326318264007568 lr=0.0001891325188330627\n",
            "Validate: iter: 18200, camera: 58\n"
          ]
        },
        {
          "output_type": "stream",
          "name": "stderr",
          "text": [
            " 61%|██████    | 18299/30000 [2:48:31<1:37:43,  2.00it/s]"
          ]
        },
        {
          "output_type": "stream",
          "name": "stdout",
          "text": [
            "./exp/smpl/example\n",
            "iter:18300 loss = 1.2453842163085938 lr=0.00018673118328822825\n",
            "Validate: iter: 18300, camera: 58\n"
          ]
        },
        {
          "output_type": "stream",
          "name": "stderr",
          "text": [
            " 61%|██████▏   | 18399/30000 [2:49:24<1:36:35,  2.00it/s]"
          ]
        },
        {
          "output_type": "stream",
          "name": "stdout",
          "text": [
            "./exp/smpl/example\n",
            "iter:18400 loss = 1.2475355863571167 lr=0.00018433844069001165\n",
            "Validate: iter: 18400, camera: 58\n"
          ]
        },
        {
          "output_type": "stream",
          "name": "stderr",
          "text": [
            " 62%|██████▏   | 18499/30000 [2:50:16<1:36:07,  1.99it/s]"
          ]
        },
        {
          "output_type": "stream",
          "name": "stdout",
          "text": [
            "./exp/smpl/example\n",
            "iter:18500 loss = 1.598573923110962 lr=0.00018195456239951266\n",
            "Validate: iter: 18500, camera: 58\n",
            "threshold: 0.0\n"
          ]
        },
        {
          "output_type": "stream",
          "name": "stderr",
          "text": [
            "[main.py:919 -        validate_mesh() ] End\n",
            " 62%|██████▏   | 18599/30000 [2:51:22<1:35:08,  2.00it/s]"
          ]
        },
        {
          "output_type": "stream",
          "name": "stdout",
          "text": [
            "./exp/smpl/example\n",
            "iter:18600 loss = 1.5005533695220947 lr=0.00017957981877252902\n",
            "Validate: iter: 18600, camera: 58\n"
          ]
        },
        {
          "output_type": "stream",
          "name": "stderr",
          "text": [
            " 62%|██████▏   | 18699/30000 [2:52:16<1:34:02,  2.00it/s]"
          ]
        },
        {
          "output_type": "stream",
          "name": "stdout",
          "text": [
            "./exp/smpl/example\n",
            "iter:18700 loss = 1.5445377826690674 lr=0.00017721447912889587\n",
            "Validate: iter: 18700, camera: 58\n"
          ]
        },
        {
          "output_type": "stream",
          "name": "stderr",
          "text": [
            " 63%|██████▎   | 18799/30000 [2:53:08<1:32:57,  2.01it/s]"
          ]
        },
        {
          "output_type": "stream",
          "name": "stdout",
          "text": [
            "./exp/smpl/example\n",
            "iter:18800 loss = 1.5597208738327026 lr=0.0001748588117219418\n",
            "Validate: iter: 18800, camera: 58\n"
          ]
        },
        {
          "output_type": "stream",
          "name": "stderr",
          "text": [
            " 63%|██████▎   | 18899/30000 [2:54:01<1:32:35,  2.00it/s]"
          ]
        },
        {
          "output_type": "stream",
          "name": "stdout",
          "text": [
            "./exp/smpl/example\n",
            "iter:18900 loss = 1.25244140625 lr=0.0001725130837080664\n",
            "Validate: iter: 18900, camera: 58\n"
          ]
        },
        {
          "output_type": "stream",
          "name": "stderr",
          "text": [
            " 63%|██████▎   | 18999/30000 [2:54:54<1:31:29,  2.00it/s]"
          ]
        },
        {
          "output_type": "stream",
          "name": "stdout",
          "text": [
            "./exp/smpl/example\n",
            "iter:19000 loss = 1.3738964796066284 lr=0.00017017756111644214\n",
            "Validate: iter: 19000, camera: 58\n",
            "threshold: 0.0\n"
          ]
        },
        {
          "output_type": "stream",
          "name": "stderr",
          "text": [
            "[main.py:919 -        validate_mesh() ] End\n",
            " 64%|██████▎   | 19099/30000 [2:56:01<1:30:44,  2.00it/s]"
          ]
        },
        {
          "output_type": "stream",
          "name": "stdout",
          "text": [
            "./exp/smpl/example\n",
            "iter:19100 loss = 1.2382442951202393 lr=0.00016785250881884387\n",
            "Validate: iter: 19100, camera: 58\n"
          ]
        },
        {
          "output_type": "stream",
          "name": "stderr",
          "text": [
            " 64%|██████▍   | 19199/30000 [2:56:54<1:30:16,  1.99it/s]"
          ]
        },
        {
          "output_type": "stream",
          "name": "stdout",
          "text": [
            "./exp/smpl/example\n",
            "iter:19200 loss = 1.4506710767745972 lr=0.00016553819049960945\n",
            "Validate: iter: 19200, camera: 58\n"
          ]
        },
        {
          "output_type": "stream",
          "name": "stderr",
          "text": [
            " 64%|██████▍   | 19299/30000 [2:57:47<1:29:39,  1.99it/s]"
          ]
        },
        {
          "output_type": "stream",
          "name": "stdout",
          "text": [
            "./exp/smpl/example\n",
            "iter:19300 loss = 1.4032483100891113 lr=0.0001632348686257358\n",
            "Validate: iter: 19300, camera: 58\n"
          ]
        },
        {
          "output_type": "stream",
          "name": "stderr",
          "text": [
            " 65%|██████▍   | 19399/30000 [2:58:40<1:28:34,  1.99it/s]"
          ]
        },
        {
          "output_type": "stream",
          "name": "stdout",
          "text": [
            "./exp/smpl/example\n",
            "iter:19400 loss = 1.3883506059646606 lr=0.00016094280441711201\n",
            "Validate: iter: 19400, camera: 58\n"
          ]
        },
        {
          "output_type": "stream",
          "name": "stderr",
          "text": [
            " 65%|██████▍   | 19499/30000 [2:59:33<1:28:34,  1.98it/s]"
          ]
        },
        {
          "output_type": "stream",
          "name": "stdout",
          "text": [
            "./exp/smpl/example\n",
            "iter:19500 loss = 1.237414836883545 lr=0.00015866225781689477\n",
            "Validate: iter: 19500, camera: 58\n",
            "threshold: 0.0\n"
          ]
        },
        {
          "output_type": "stream",
          "name": "stderr",
          "text": [
            "[main.py:919 -        validate_mesh() ] End\n",
            " 65%|██████▌   | 19599/30000 [3:00:39<1:26:54,  1.99it/s]"
          ]
        },
        {
          "output_type": "stream",
          "name": "stdout",
          "text": [
            "./exp/smpl/example\n",
            "iter:19600 loss = 1.347359299659729 lr=0.000156393487462028\n",
            "Validate: iter: 19600, camera: 58\n"
          ]
        },
        {
          "output_type": "stream",
          "name": "stderr",
          "text": [
            " 66%|██████▌   | 19699/30000 [3:01:32<1:26:05,  1.99it/s]"
          ]
        },
        {
          "output_type": "stream",
          "name": "stdout",
          "text": [
            "./exp/smpl/example\n",
            "iter:19700 loss = 1.3378326892852783 lr=0.00015413675065391078\n",
            "Validate: iter: 19700, camera: 58\n"
          ]
        },
        {
          "output_type": "stream",
          "name": "stderr",
          "text": [
            " 66%|██████▌   | 19799/30000 [3:02:25<1:24:47,  2.01it/s]"
          ]
        },
        {
          "output_type": "stream",
          "name": "stdout",
          "text": [
            "./exp/smpl/example\n",
            "iter:19800 loss = 1.2914929389953613 lr=0.0001518923033292168\n",
            "Validate: iter: 19800, camera: 58\n"
          ]
        },
        {
          "output_type": "stream",
          "name": "stderr",
          "text": [
            " 66%|██████▋   | 19899/30000 [3:03:18<1:26:26,  1.95it/s]"
          ]
        },
        {
          "output_type": "stream",
          "name": "stdout",
          "text": [
            "./exp/smpl/example\n",
            "iter:19900 loss = 1.3505059480667114 lr=0.00014966040003086875\n",
            "Validate: iter: 19900, camera: 58\n"
          ]
        },
        {
          "output_type": "stream",
          "name": "stderr",
          "text": [
            " 67%|██████▋   | 19999/30000 [3:04:11<1:23:30,  2.00it/s]"
          ]
        },
        {
          "output_type": "stream",
          "name": "stdout",
          "text": [
            "./exp/smpl/example\n",
            "iter:20000 loss = 1.2957426309585571 lr=0.0001474412938791702\n",
            "Validate: iter: 20000, camera: 58\n",
            "threshold: 0.0\n"
          ]
        },
        {
          "output_type": "stream",
          "name": "stderr",
          "text": [
            "[main.py:919 -        validate_mesh() ] End\n",
            " 67%|██████▋   | 20099/30000 [3:05:17<1:22:47,  1.99it/s]"
          ]
        },
        {
          "output_type": "stream",
          "name": "stdout",
          "text": [
            "./exp/smpl/example\n",
            "iter:20100 loss = 1.4580702781677246 lr=0.00014523523654309985\n",
            "Validate: iter: 20100, camera: 58\n"
          ]
        },
        {
          "output_type": "stream",
          "name": "stderr",
          "text": [
            " 67%|██████▋   | 20199/30000 [3:06:10<1:21:36,  2.00it/s]"
          ]
        },
        {
          "output_type": "stream",
          "name": "stdout",
          "text": [
            "./exp/smpl/example\n",
            "iter:20200 loss = 1.307995080947876 lr=0.00014304247821176884\n",
            "Validate: iter: 20200, camera: 58\n"
          ]
        },
        {
          "output_type": "stream",
          "name": "stderr",
          "text": [
            " 68%|██████▊   | 20299/30000 [3:07:03<1:21:09,  1.99it/s]"
          ]
        },
        {
          "output_type": "stream",
          "name": "stdout",
          "text": [
            "./exp/smpl/example\n",
            "iter:20300 loss = 1.3104407787322998 lr=0.00014086326756604768\n",
            "Validate: iter: 20300, camera: 58\n"
          ]
        },
        {
          "output_type": "stream",
          "name": "stderr",
          "text": [
            " 68%|██████▊   | 20399/30000 [3:07:56<1:20:27,  1.99it/s]"
          ]
        },
        {
          "output_type": "stream",
          "name": "stdout",
          "text": [
            "./exp/smpl/example\n",
            "iter:20400 loss = 1.367619276046753 lr=0.00013869785175036286\n",
            "Validate: iter: 20400, camera: 58\n"
          ]
        },
        {
          "output_type": "stream",
          "name": "stderr",
          "text": [
            " 68%|██████▊   | 20483/30000 [3:08:42<1:27:40,  1.81it/s]\n"
          ]
        },
        {
          "output_type": "error",
          "ename": "KeyboardInterrupt",
          "evalue": "ignored",
          "traceback": [
            "\u001b[0;31m---------------------------------------------------------------------------\u001b[0m",
            "\u001b[0;31mKeyboardInterrupt\u001b[0m                         Traceback (most recent call last)",
            "\u001b[0;32m<ipython-input-22-bcf6f8d1179b>\u001b[0m in \u001b[0;36m<module>\u001b[0;34m()\u001b[0m\n\u001b[1;32m      3\u001b[0m \u001b[0mrunner\u001b[0m\u001b[0;34m.\u001b[0m\u001b[0minit_clip\u001b[0m\u001b[0;34m(\u001b[0m\u001b[0;34m)\u001b[0m\u001b[0;34m\u001b[0m\u001b[0;34m\u001b[0m\u001b[0m\n\u001b[1;32m      4\u001b[0m \u001b[0mrunner\u001b[0m\u001b[0;34m.\u001b[0m\u001b[0minit_smpl\u001b[0m\u001b[0;34m(\u001b[0m\u001b[0;34m)\u001b[0m\u001b[0;34m\u001b[0m\u001b[0;34m\u001b[0m\u001b[0m\n\u001b[0;32m----> 5\u001b[0;31m \u001b[0mrunner\u001b[0m\u001b[0;34m.\u001b[0m\u001b[0mtrain_clip\u001b[0m\u001b[0;34m(\u001b[0m\u001b[0;34m)\u001b[0m\u001b[0;34m\u001b[0m\u001b[0;34m\u001b[0m\u001b[0m\n\u001b[0m",
            "\u001b[0;32m/content/AvatarCLIP/AvatarGen/AppearanceGen/main.py\u001b[0m in \u001b[0;36mtrain_clip\u001b[0;34m(self)\u001b[0m\n\u001b[1;32m    540\u001b[0m             \u001b[0mself\u001b[0m\u001b[0;34m.\u001b[0m\u001b[0miter_step\u001b[0m \u001b[0;34m+=\u001b[0m \u001b[0;36m1\u001b[0m\u001b[0;34m\u001b[0m\u001b[0;34m\u001b[0m\u001b[0m\n\u001b[1;32m    541\u001b[0m \u001b[0;34m\u001b[0m\u001b[0m\n\u001b[0;32m--> 542\u001b[0;31m             \u001b[0mself\u001b[0m\u001b[0;34m.\u001b[0m\u001b[0mwriter\u001b[0m\u001b[0;34m.\u001b[0m\u001b[0madd_scalar\u001b[0m\u001b[0;34m(\u001b[0m\u001b[0;34m'Loss/loss'\u001b[0m\u001b[0;34m,\u001b[0m \u001b[0mloss\u001b[0m\u001b[0;34m,\u001b[0m \u001b[0mself\u001b[0m\u001b[0;34m.\u001b[0m\u001b[0miter_step\u001b[0m\u001b[0;34m)\u001b[0m\u001b[0;34m\u001b[0m\u001b[0;34m\u001b[0m\u001b[0m\n\u001b[0m\u001b[1;32m    543\u001b[0m             \u001b[0mself\u001b[0m\u001b[0;34m.\u001b[0m\u001b[0mwriter\u001b[0m\u001b[0;34m.\u001b[0m\u001b[0madd_scalar\u001b[0m\u001b[0;34m(\u001b[0m\u001b[0;34m'Loss/color_loss'\u001b[0m\u001b[0;34m,\u001b[0m \u001b[0mcolor_fine_loss\u001b[0m\u001b[0;34m,\u001b[0m \u001b[0mself\u001b[0m\u001b[0;34m.\u001b[0m\u001b[0miter_step\u001b[0m\u001b[0;34m)\u001b[0m\u001b[0;34m\u001b[0m\u001b[0;34m\u001b[0m\u001b[0m\n\u001b[1;32m    544\u001b[0m             \u001b[0mself\u001b[0m\u001b[0;34m.\u001b[0m\u001b[0mwriter\u001b[0m\u001b[0;34m.\u001b[0m\u001b[0madd_scalar\u001b[0m\u001b[0;34m(\u001b[0m\u001b[0;34m'Loss/eikonal_loss'\u001b[0m\u001b[0;34m,\u001b[0m \u001b[0meikonal_loss\u001b[0m\u001b[0;34m,\u001b[0m \u001b[0mself\u001b[0m\u001b[0;34m.\u001b[0m\u001b[0miter_step\u001b[0m\u001b[0;34m)\u001b[0m\u001b[0;34m\u001b[0m\u001b[0;34m\u001b[0m\u001b[0m\n",
            "\u001b[0;32m/usr/local/lib/python3.7/dist-packages/torch/utils/tensorboard/writer.py\u001b[0m in \u001b[0;36madd_scalar\u001b[0;34m(self, tag, scalar_value, global_step, walltime)\u001b[0m\n\u001b[1;32m    344\u001b[0m             \u001b[0mscalar_value\u001b[0m \u001b[0;34m=\u001b[0m \u001b[0mworkspace\u001b[0m\u001b[0;34m.\u001b[0m\u001b[0mFetchBlob\u001b[0m\u001b[0;34m(\u001b[0m\u001b[0mscalar_value\u001b[0m\u001b[0;34m)\u001b[0m\u001b[0;34m\u001b[0m\u001b[0;34m\u001b[0m\u001b[0m\n\u001b[1;32m    345\u001b[0m         self._get_file_writer().add_summary(\n\u001b[0;32m--> 346\u001b[0;31m             scalar(tag, scalar_value), global_step, walltime)\n\u001b[0m\u001b[1;32m    347\u001b[0m \u001b[0;34m\u001b[0m\u001b[0m\n\u001b[1;32m    348\u001b[0m     \u001b[0;32mdef\u001b[0m \u001b[0madd_scalars\u001b[0m\u001b[0;34m(\u001b[0m\u001b[0mself\u001b[0m\u001b[0;34m,\u001b[0m \u001b[0mmain_tag\u001b[0m\u001b[0;34m,\u001b[0m \u001b[0mtag_scalar_dict\u001b[0m\u001b[0;34m,\u001b[0m \u001b[0mglobal_step\u001b[0m\u001b[0;34m=\u001b[0m\u001b[0;32mNone\u001b[0m\u001b[0;34m,\u001b[0m \u001b[0mwalltime\u001b[0m\u001b[0;34m=\u001b[0m\u001b[0;32mNone\u001b[0m\u001b[0;34m)\u001b[0m\u001b[0;34m:\u001b[0m\u001b[0;34m\u001b[0m\u001b[0;34m\u001b[0m\u001b[0m\n",
            "\u001b[0;32m/usr/local/lib/python3.7/dist-packages/torch/utils/tensorboard/summary.py\u001b[0m in \u001b[0;36mscalar\u001b[0;34m(name, scalar, collections)\u001b[0m\n\u001b[1;32m    245\u001b[0m       \u001b[0mValueError\u001b[0m\u001b[0;34m:\u001b[0m \u001b[0mIf\u001b[0m \u001b[0mtensor\u001b[0m \u001b[0mhas\u001b[0m \u001b[0mthe\u001b[0m \u001b[0mwrong\u001b[0m \u001b[0mshape\u001b[0m \u001b[0;32mor\u001b[0m \u001b[0mtype\u001b[0m\u001b[0;34m.\u001b[0m\u001b[0;34m\u001b[0m\u001b[0;34m\u001b[0m\u001b[0m\n\u001b[1;32m    246\u001b[0m     \"\"\"\n\u001b[0;32m--> 247\u001b[0;31m     \u001b[0mscalar\u001b[0m \u001b[0;34m=\u001b[0m \u001b[0mmake_np\u001b[0m\u001b[0;34m(\u001b[0m\u001b[0mscalar\u001b[0m\u001b[0;34m)\u001b[0m\u001b[0;34m\u001b[0m\u001b[0;34m\u001b[0m\u001b[0m\n\u001b[0m\u001b[1;32m    248\u001b[0m     \u001b[0;32massert\u001b[0m\u001b[0;34m(\u001b[0m\u001b[0mscalar\u001b[0m\u001b[0;34m.\u001b[0m\u001b[0msqueeze\u001b[0m\u001b[0;34m(\u001b[0m\u001b[0;34m)\u001b[0m\u001b[0;34m.\u001b[0m\u001b[0mndim\u001b[0m \u001b[0;34m==\u001b[0m \u001b[0;36m0\u001b[0m\u001b[0;34m)\u001b[0m\u001b[0;34m,\u001b[0m \u001b[0;34m'scalar should be 0D'\u001b[0m\u001b[0;34m\u001b[0m\u001b[0;34m\u001b[0m\u001b[0m\n\u001b[1;32m    249\u001b[0m     \u001b[0mscalar\u001b[0m \u001b[0;34m=\u001b[0m \u001b[0mfloat\u001b[0m\u001b[0;34m(\u001b[0m\u001b[0mscalar\u001b[0m\u001b[0;34m)\u001b[0m\u001b[0;34m\u001b[0m\u001b[0;34m\u001b[0m\u001b[0m\n",
            "\u001b[0;32m/usr/local/lib/python3.7/dist-packages/torch/utils/tensorboard/_convert_np.py\u001b[0m in \u001b[0;36mmake_np\u001b[0;34m(x)\u001b[0m\n\u001b[1;32m     22\u001b[0m         \u001b[0;32mreturn\u001b[0m \u001b[0mnp\u001b[0m\u001b[0;34m.\u001b[0m\u001b[0marray\u001b[0m\u001b[0;34m(\u001b[0m\u001b[0;34m[\u001b[0m\u001b[0mx\u001b[0m\u001b[0;34m]\u001b[0m\u001b[0;34m)\u001b[0m\u001b[0;34m\u001b[0m\u001b[0;34m\u001b[0m\u001b[0m\n\u001b[1;32m     23\u001b[0m     \u001b[0;32mif\u001b[0m \u001b[0misinstance\u001b[0m\u001b[0;34m(\u001b[0m\u001b[0mx\u001b[0m\u001b[0;34m,\u001b[0m \u001b[0mtorch\u001b[0m\u001b[0;34m.\u001b[0m\u001b[0mTensor\u001b[0m\u001b[0;34m)\u001b[0m\u001b[0;34m:\u001b[0m\u001b[0;34m\u001b[0m\u001b[0;34m\u001b[0m\u001b[0m\n\u001b[0;32m---> 24\u001b[0;31m         \u001b[0;32mreturn\u001b[0m \u001b[0m_prepare_pytorch\u001b[0m\u001b[0;34m(\u001b[0m\u001b[0mx\u001b[0m\u001b[0;34m)\u001b[0m\u001b[0;34m\u001b[0m\u001b[0;34m\u001b[0m\u001b[0m\n\u001b[0m\u001b[1;32m     25\u001b[0m     raise NotImplementedError(\n\u001b[1;32m     26\u001b[0m         'Got {}, but numpy array, torch tensor, or caffe2 blob name are expected.'.format(type(x)))\n",
            "\u001b[0;32m/usr/local/lib/python3.7/dist-packages/torch/utils/tensorboard/_convert_np.py\u001b[0m in \u001b[0;36m_prepare_pytorch\u001b[0;34m(x)\u001b[0m\n\u001b[1;32m     30\u001b[0m     \u001b[0;32mif\u001b[0m \u001b[0misinstance\u001b[0m\u001b[0;34m(\u001b[0m\u001b[0mx\u001b[0m\u001b[0;34m,\u001b[0m \u001b[0mtorch\u001b[0m\u001b[0;34m.\u001b[0m\u001b[0mautograd\u001b[0m\u001b[0;34m.\u001b[0m\u001b[0mVariable\u001b[0m\u001b[0;34m)\u001b[0m\u001b[0;34m:\u001b[0m\u001b[0;34m\u001b[0m\u001b[0;34m\u001b[0m\u001b[0m\n\u001b[1;32m     31\u001b[0m         \u001b[0mx\u001b[0m \u001b[0;34m=\u001b[0m \u001b[0mx\u001b[0m\u001b[0;34m.\u001b[0m\u001b[0mdata\u001b[0m\u001b[0;34m\u001b[0m\u001b[0;34m\u001b[0m\u001b[0m\n\u001b[0;32m---> 32\u001b[0;31m     \u001b[0mx\u001b[0m \u001b[0;34m=\u001b[0m \u001b[0mx\u001b[0m\u001b[0;34m.\u001b[0m\u001b[0mcpu\u001b[0m\u001b[0;34m(\u001b[0m\u001b[0;34m)\u001b[0m\u001b[0;34m.\u001b[0m\u001b[0mnumpy\u001b[0m\u001b[0;34m(\u001b[0m\u001b[0;34m)\u001b[0m\u001b[0;34m\u001b[0m\u001b[0;34m\u001b[0m\u001b[0m\n\u001b[0m\u001b[1;32m     33\u001b[0m     \u001b[0;32mreturn\u001b[0m \u001b[0mx\u001b[0m\u001b[0;34m\u001b[0m\u001b[0;34m\u001b[0m\u001b[0m\n\u001b[1;32m     34\u001b[0m \u001b[0;34m\u001b[0m\u001b[0m\n",
            "\u001b[0;31mKeyboardInterrupt\u001b[0m: "
          ]
        }
      ]
    },
    {
      "cell_type": "code",
      "source": [
        "#@title Generate a Video of Optimization Process (RGB)\n",
        "\n",
        "import os\n",
        "from tqdm import tqdm\n",
        "import numpy as np\n",
        "from IPython import display\n",
        "from PIL import Image\n",
        "from base64 import b64encode\n",
        "\n",
        "image_folder = 'exp/smpl/example/validations_extra_fine'\n",
        "image_fname = os.listdir(image_folder)\n",
        "image_fname = sorted(image_fname)\n",
        "image_fname = [os.path.join(image_folder, f) for f in image_fname]\n",
        "\n",
        "init_frame = 1\n",
        "last_frame = len(image_fname)\n",
        "min_fps = 10\n",
        "max_fps = 60\n",
        "total_frames = last_frame - init_frame\n",
        "\n",
        "length = 15 #Desired time of the video in seconds\n",
        "\n",
        "frames = []\n",
        "for i in range(init_frame, last_frame): #\n",
        "    frames.append(Image.open(image_fname[i]))\n",
        "\n",
        "#fps = last_frame/10\n",
        "fps = np.clip(total_frames/length,min_fps,max_fps)\n",
        "\n",
        "from subprocess import Popen, PIPE\n",
        "p = Popen(['ffmpeg', '-y', '-f', 'image2pipe', '-vcodec', 'png', '-r', str(fps), '-i', '-', '-vcodec', 'libx264', '-r', str(fps), '-pix_fmt', 'yuv420p', '-crf', '17', '-preset', 'veryslow', 'video.mp4'], stdin=PIPE)\n",
        "for im in tqdm(frames):\n",
        "    im.save(p.stdin, 'PNG')\n",
        "p.stdin.close()\n",
        "p.wait()\n",
        "mp4 = open('video.mp4','rb').read()\n",
        "data_url = \"data:video/mp4;base64,\" + b64encode(mp4).decode()\n",
        "\n",
        "display.HTML(\"\"\"\n",
        "<video width=400 controls>\n",
        "      <source src=\"%s\" type=\"video/mp4\">\n",
        "</video>\n",
        "\"\"\" % data_url)"
      ],
      "metadata": {
        "id": "SIzybbXwG997",
        "colab": {
          "base_uri": "https://localhost:8080/",
          "height": 439
        },
        "outputId": "43f935b3-01cd-4b88-d66d-ac1d77dbccc0"
      },
      "execution_count": 23,
      "outputs": [
        {
          "output_type": "stream",
          "name": "stderr",
          "text": [
            "100%|██████████| 203/203 [00:02<00:00, 70.22it/s]\n"
          ]
        },
        {
          "output_type": "execute_result",
          "data": {
            "text/plain": [
              "<IPython.core.display.HTML object>"
            ],
            "text/html": [
              "\n",
              "<video width=400 controls>\n",
              "      <source src=\"data:video/mp4;base64,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\" type=\"video/mp4\">\n",
              "</video>\n"
            ]
          },
          "metadata": {},
          "execution_count": 23
        }
      ]
    },
    {
      "cell_type": "code",
      "source": [
        "#@title Generate a Video of Optimization Process (Normal)\n",
        "\n",
        "import os\n",
        "from tqdm import tqdm\n",
        "import numpy as np\n",
        "from IPython import display\n",
        "from PIL import Image\n",
        "from base64 import b64encode\n",
        "\n",
        "image_folder = 'exp/smpl/example/normals'\n",
        "image_fname = os.listdir(image_folder)\n",
        "image_fname = sorted(image_fname)\n",
        "image_fname = [os.path.join(image_folder, f) for f in image_fname]\n",
        "\n",
        "init_frame = 1\n",
        "last_frame = len(image_fname)\n",
        "min_fps = 10\n",
        "max_fps = 60\n",
        "total_frames = last_frame - init_frame\n",
        "\n",
        "length = 15 #Desired time of the video in seconds\n",
        "\n",
        "frames = []\n",
        "for i in range(init_frame, last_frame): #\n",
        "    frames.append(Image.open(image_fname[i]))\n",
        "\n",
        "#fps = last_frame/10\n",
        "fps = np.clip(total_frames/length,min_fps,max_fps)\n",
        "\n",
        "from subprocess import Popen, PIPE\n",
        "p = Popen(['ffmpeg', '-y', '-f', 'image2pipe', '-vcodec', 'png', '-r', str(fps), '-i', '-', '-vcodec', 'libx264', '-r', str(fps), '-pix_fmt', 'yuv420p', '-crf', '17', '-preset', 'veryslow', 'video_normal.mp4'], stdin=PIPE)\n",
        "for im in tqdm(frames):\n",
        "    im.save(p.stdin, 'PNG')\n",
        "p.stdin.close()\n",
        "p.wait()\n",
        "mp4 = open('video_normal.mp4','rb').read()\n",
        "data_url = \"data:video/mp4;base64,\" + b64encode(mp4).decode()\n",
        "\n",
        "display.HTML(\"\"\"\n",
        "<video width=400 controls>\n",
        "      <source src=\"%s\" type=\"video/mp4\">\n",
        "</video>\n",
        "\"\"\" % data_url)"
      ],
      "metadata": {
        "id": "KaKZ0fydYz_F"
      },
      "execution_count": null,
      "outputs": []
    },
    {
      "cell_type": "markdown",
      "source": [
        "#### Finally, don't forget to download the extracted meshes at `AvatarCLIP/AvatarGen/AppearanceGen/exp/smpl/example/meshes/*.ply`"
      ],
      "metadata": {
        "id": "uUsebvU8QzFF"
      }
    },
    {
      "cell_type": "code",
      "source": [
        "#@title copy results to gdrive folder\n",
        "\n",
        "import os, shutil\n",
        "mesh_path = '/content/AvatarCLIP/AvatarGen/AppearanceGen/exp/smpl/example/'\n",
        "drive_mesh_path = os.path.join('/content/gdrive/MyDrive/AI/AvatarCLIP/generated_content/',AppearanceDescription.replace(' ','_'))\n",
        "# os.makedirs(drive_mesh_path, exist_ok=True)\n",
        "shutil.copytree(mesh_path, drive_mesh_path)\n",
        "# for i in os.listdir(mesh_path):\n",
        "#   _file = os.path.join(mesh_path,i)\n",
        "#   shutil.copy(_file,os.path.join(drive_mesh_path,i))"
      ],
      "metadata": {
        "id": "usIHJ-Qak5Ch",
        "outputId": "51213e3d-264a-4b1d-c0f1-b523aec5f71d",
        "colab": {
          "base_uri": "https://localhost:8080/",
          "height": 35
        }
      },
      "execution_count": 27,
      "outputs": [
        {
          "output_type": "execute_result",
          "data": {
            "text/plain": [
              "'/content/gdrive/MyDrive/AI/AvatarCLIP/generated_content/Abraham_Lincoln_in_an_iron_man_suit'"
            ],
            "application/vnd.google.colaboratory.intrinsic+json": {
              "type": "string"
            }
          },
          "metadata": {},
          "execution_count": 27
        }
      ]
    },
    {
      "cell_type": "code",
      "source": [
        ""
      ],
      "metadata": {
        "id": "1cxa6bbGTjYO"
      },
      "execution_count": null,
      "outputs": []
    }
  ]
}